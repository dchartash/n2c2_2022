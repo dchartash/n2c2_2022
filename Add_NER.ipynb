{
 "cells": [
  {
   "cell_type": "code",
   "execution_count": 6,
   "id": "061ae83a-4420-4ff8-b649-4fb070720f37",
   "metadata": {},
   "outputs": [],
   "source": [
    "import spacy\n",
    "import os\n",
    "\n",
    "from preprocessing.cleaning_utils import *"
   ]
  },
  {
   "cell_type": "code",
   "execution_count": 12,
   "id": "21fb2913-4342-4017-82b9-b2916c91b056",
   "metadata": {},
   "outputs": [],
   "source": [
    "from datasets import load_dataset\n",
    "from datasets import Value, ClassLabel, Features, DatasetDict\n",
    "from datasets import load_metric\n"
   ]
  },
  {
   "cell_type": "code",
   "execution_count": 2,
   "id": "11aeb427-562a-4cab-932e-e091e73c1304",
   "metadata": {},
   "outputs": [],
   "source": [
    "assessment_model_f = \"/home/vs428/Documents/prodigy/assessment_model/model-best\"\n",
    "plan_model_f = \"/home/vs428/Documents/prodigy/plan_subsection_model/model-best\""
   ]
  },
  {
   "cell_type": "code",
   "execution_count": 4,
   "id": "bc51d974-0836-4d19-9d3e-6db6c8090e0b",
   "metadata": {},
   "outputs": [],
   "source": [
    "nlp_plan = spacy.load(plan_model_f, exclude=\"parser\")\n",
    "nlp_assess = spacy.load(assessment_model_f, exclude=\"parser\")\n",
    "# nlp_orig = spacy.load(\"en_core_web_trf\")\n",
    "# nlp.add_pipe(\"parser\", source=nlp_orig, after=\"transformer\")\n",
    "# nlp.add_pipe(\"tagger\", source=nlp_orig, after=\"parser\")\n",
    "\n"
   ]
  },
  {
   "cell_type": "code",
   "execution_count": 193,
   "id": "08be5e2f-067c-45d6-9a17-98922c983745",
   "metadata": {},
   "outputs": [
    {
     "name": "stderr",
     "output_type": "stream",
     "text": [
      "Some weights of BertForSequenceClassification were not initialized from the model checkpoint at cambridgeltl/SapBERT-from-PubMedBERT-fulltext and are newly initialized: ['classifier.bias', 'classifier.weight']\n",
      "You should probably TRAIN this model on a down-stream task to be able to use it for predictions and inference.\n"
     ]
    }
   ],
   "source": [
    "tokenizer = AutoTokenizer.from_pretrained(\"cambridgeltl/SapBERT-from-PubMedBERT-fulltext\")\n",
    "model = AutoModelForSequenceClassification.from_pretrained(\"cambridgeltl/SapBERT-from-PubMedBERT-fulltext\", num_labels=4)\n"
   ]
  },
  {
   "cell_type": "code",
   "execution_count": 13,
   "id": "3b5fb71e-b7b5-47af-810b-9b33843204f2",
   "metadata": {},
   "outputs": [
    {
     "name": "stderr",
     "output_type": "stream",
     "text": [
      "Using custom data configuration default-b1948d86214b7517\n",
      "Reusing dataset csv (/home/vs428/.cache/huggingface/datasets/csv/default-b1948d86214b7517/0.0.0/51cce309a08df9c4d82ffd9363bbe090bf173197fc01a71b034e8594995a1a58)\n"
     ]
    },
    {
     "data": {
      "application/vnd.jupyter.widget-view+json": {
       "model_id": "b84f692345cd4013858c04793170de5e",
       "version_major": 2,
       "version_minor": 0
      },
      "text/plain": [
       "  0%|          | 0/2 [00:00<?, ?it/s]"
      ]
     },
     "metadata": {},
     "output_type": "display_data"
    }
   ],
   "source": [
    "\n",
    "# Read MIMIC notes\n",
    "# notes = pd.read_csv(cfg.data.mimic_data_dir + \"NOTEEVENTS.csv\")\n",
    "\n",
    "# create hf Dataset\n",
    "classes = ['Not Relevant', 'Neither', 'Indirect', 'Direct']\n",
    "\n",
    "# instead we will use the raw text for now\n",
    "features = Features({\n",
    "    'ROW ID':Value(\"int64\"),\n",
    "    'HADM ID':Value(\"int64\"),\n",
    "    'Assessment':Value(\"string\"),\n",
    "    'Plan Subsection':Value(\"string\"),\n",
    "    \"Relation\":Value(\"string\")\n",
    "}) \n",
    "\n",
    "dataset = load_dataset(\"csv\", data_files={\n",
    "                            \"train\":\"/home/vs428/project/n2c2/2022/Data/train.csv\",\n",
    "                            \"valid\":\"/home/vs428/project/n2c2/2022/Data/dev.csv\",\n",
    "                        },\n",
    "                       features=features)\n"
   ]
  },
  {
   "cell_type": "code",
   "execution_count": null,
   "id": "17b9e9cb-3dbe-4fdc-9a43-a4b7716faa54",
   "metadata": {},
   "outputs": [],
   "source": [
    "test = ['51 yr old F with a history of 3V CAD, confirmed on C. cath during this\\n   admission, EF of 40%, who is transferred to CCU for monitoring of\\n   recurrent chest pain. Plan for CABG today to revascularize due to\\n   3-vessel disease.',\n",
    "       'Patient is a 58 year old male with history of atrial fibrillation on\\n   coumadin, hyperlipidemia, hypertension, peripheral vascular disease,\\n   s/p CVA who presented to [**Hospital3 847**] on [**2185-3-2**] with heart\\n   failure exacerbation and atrial fibrillation with RVR, transferred due\\n   to difficulty with diuresis [**2-7**] hypotension.']"
   ]
  },
  {
   "cell_type": "code",
   "execution_count": null,
   "id": "f61a684a-3525-4b51-9e1f-7994a25df3ff",
   "metadata": {},
   "outputs": [],
   "source": [
    "N = 1"
   ]
  },
  {
   "cell_type": "code",
   "execution_count": 48,
   "id": "7273d8ec-b96f-4587-8ac6-4beb32b7fee5",
   "metadata": {},
   "outputs": [
    {
     "name": "stdout",
     "output_type": "stream",
     "text": [
      "Patient is a 58 year old male with history of atrial fibrillation on\n",
      "   coumadin, hyperlipidemia, hypertension, peripheral vascular disease,\n",
      "   s/p CVA who presented to [**Hospital3 847**] on [**2185-3-2**] with heart\n",
      "   failure exacerbation and atrial fibrillation with RVR, transferred due\n",
      "   to difficulty with diuresis [**2-7**] hypotension.\n"
     ]
    }
   ],
   "source": [
    "print(test[N])"
   ]
  },
  {
   "cell_type": "code",
   "execution_count": 49,
   "id": "8aaa59a1-81e6-4c8c-9ad1-53b8d2cb8584",
   "metadata": {},
   "outputs": [
    {
     "name": "stderr",
     "output_type": "stream",
     "text": [
      "/gpfs/ysm/project/rtaylor/vs428/conda_envs/n2c2_env/lib/python3.9/site-packages/spacy/pipeline/lemmatizer.py:211: UserWarning: [W108] The rule-based lemmatizer did not find POS annotation for one or more tokens. Check that your pipeline includes components that assign token.pos, typically 'tagger'+'attribute_ruler' or 'morphologizer'.\n",
      "  warnings.warn(Warnings.W108)\n"
     ]
    }
   ],
   "source": [
    "doc = nlp_assess(test[N])"
   ]
  },
  {
   "cell_type": "code",
   "execution_count": 50,
   "id": "6b0f9511-65cb-4e15-91c5-bd0f0f1f6b81",
   "metadata": {},
   "outputs": [],
   "source": [
    "doc.ents"
   ]
  },
  {
   "cell_type": "code",
   "execution_count": null,
   "id": "bbf88421-49ab-428c-b8f3-fc0105a17238",
   "metadata": {},
   "outputs": [],
   "source": []
  },
  {
   "cell_type": "code",
   "execution_count": 85,
   "id": "1f8e5a67-d0af-4edf-833e-a094d8f392d8",
   "metadata": {},
   "outputs": [],
   "source": [
    "dataset['train'] = dataset['train'].shard(num_shards=1000, index=0)\n",
    "dataset['valid'] = dataset['train'].shard(num_shards=100, index=0)\n"
   ]
  },
  {
   "cell_type": "code",
   "execution_count": 64,
   "id": "99d66d00-8297-4fb1-b439-d2aa1e34c22d",
   "metadata": {},
   "outputs": [
    {
     "name": "stdout",
     "output_type": "stream",
     "text": [
      "atrial fibrillation 46 65 7482963781161052880 secondary_problem\n",
      "hyperlipidemia 82 96 7482963781161052880 secondary_problem\n",
      "hypertension 98 110 7482963781161052880 secondary_problem\n",
      "peripheral vascular disease 112 139 7482963781161052880 secondary_problem\n",
      "CVA 148 151 7482963781161052880 secondary_problem\n",
      "heart\n",
      "   failure exacerbation 212 241 8591029796264612076 primary_problem\n",
      "atrial fibrillation with RVR 246 274 8591029796264612076 primary_problem\n",
      "diuresis 314 322 3545868656138680645 primary_sign\n",
      "hypotension 333 344 3545868656138680645 primary_sign\n"
     ]
    }
   ],
   "source": [
    "for ent in doc.ents:\n",
    "    print(ent.text, ent.start_char, ent.end_char, ent.label, ent.label_)"
   ]
  },
  {
   "cell_type": "code",
   "execution_count": 134,
   "id": "67d79ea1-274c-4d50-a552-4c2430f2c98f",
   "metadata": {},
   "outputs": [],
   "source": []
  },
  {
   "cell_type": "code",
   "execution_count": 135,
   "id": "1a432463-9086-4c91-8fea-3d83f879ae57",
   "metadata": {},
   "outputs": [],
   "source": [
    "from functools import partial"
   ]
  },
  {
   "cell_type": "code",
   "execution_count": 166,
   "id": "8566d8f9-a474-41ba-a45c-ec020eef9c36",
   "metadata": {},
   "outputs": [
    {
     "data": {
      "application/vnd.jupyter.widget-view+json": {
       "model_id": "089a1d1328094335a15c18acc3f62c0b",
       "version_major": 2,
       "version_minor": 0
      },
      "text/plain": [
       "  0%|          | 0/1 [00:00<?, ?ex/s]"
      ]
     },
     "metadata": {},
     "output_type": "display_data"
    },
    {
     "name": "stderr",
     "output_type": "stream",
     "text": [
      "/gpfs/ysm/project/rtaylor/vs428/conda_envs/n2c2_env/lib/python3.9/site-packages/spacy/pipeline/lemmatizer.py:211: UserWarning: [W108] The rule-based lemmatizer did not find POS annotation for one or more tokens. Check that your pipeline includes components that assign token.pos, typically 'tagger'+'attribute_ruler' or 'morphologizer'.\n",
      "  warnings.warn(Warnings.W108)\n"
     ]
    }
   ],
   "source": [
    "test = dataset['valid'].map(partial(add_ner_plan, nlp=nlp_plan))"
   ]
  },
  {
   "cell_type": "code",
   "execution_count": 170,
   "id": "071a3a8f-9728-47c8-9adb-569dd5fcc047",
   "metadata": {},
   "outputs": [
    {
     "data": {
      "text/plain": [
       "('51 yr old F with a history of 3V CAD, confirmed on C. cath during this\\n   admission, EF of 40%, who is transferred to CCU for monitoring of\\n   recurrent chest pain. Plan for CABG today to revascularize due to\\n   3-vessel disease.',\n",
       " '# CORONARIES: Patient with 3 vessel disease on cath. Previously found\\n   to be the case in [**2174**], but had been treated medically. On the floor,\\n   patient with <problem>recurrent chest pain</problem> and <event_related_to_problem>EKG changes</event_related_to_problem>, <complication_related_to_problem>concerning for\\n   further ischemia</complication_related_to_problem>. Chest pain has been controlled on nitro gtt. Patient\\n   in CCU for monitoring; <event_related_to_problem>plan for CABG today</event_related_to_problem>.\\n   - continue <event_related_to_problem>nitro gtt</event_related_to_problem>\\n   - if has further CP, would uptitrate nitro, and contact [**Name2 (NI) 9339**] and\\n   attending for potential balloon pump vs. urgent CABG\\n   - appreciate CT [**Doctor First Name 91**] recs\\n   - continue [**Last Name (LF) **], [**First Name3 (LF) 119**], ACE-i, simvastatin')"
      ]
     },
     "execution_count": 170,
     "metadata": {},
     "output_type": "execute_result"
    }
   ],
   "source": [
    "test[0]['Assessment'], test[0]['Plan Subsection']"
   ]
  },
  {
   "cell_type": "markdown",
   "id": "08905009-4fd3-4e3d-9463-3a9ff180a267",
   "metadata": {},
   "source": [
    "# Test Tokenizer after adding entity tags"
   ]
  },
  {
   "cell_type": "code",
   "execution_count": 148,
   "id": "b006f3b1-243e-4e2f-888c-b520c83aa769",
   "metadata": {},
   "outputs": [
    {
     "name": "stderr",
     "output_type": "stream",
     "text": [
      "Some weights of BertForSequenceClassification were not initialized from the model checkpoint at cambridgeltl/SapBERT-from-PubMedBERT-fulltext and are newly initialized: ['classifier.bias', 'classifier.weight']\n",
      "You should probably TRAIN this model on a down-stream task to be able to use it for predictions and inference.\n"
     ]
    }
   ],
   "source": [
    "tokenizer = AutoTokenizer.from_pretrained(\"cambridgeltl/SapBERT-from-PubMedBERT-fulltext\")\n",
    "model = AutoModelForSequenceClassification.from_pretrained(\"cambridgeltl/SapBERT-from-PubMedBERT-fulltext\", num_labels=4)"
   ]
  },
  {
   "cell_type": "code",
   "execution_count": 183,
   "id": "b425976a-f7af-4050-ad6e-ad5a55927d57",
   "metadata": {},
   "outputs": [
    {
     "data": {
      "text/plain": [
       "PreTrainedTokenizerFast(name_or_path='cambridgeltl/SapBERT-from-PubMedBERT-fulltext', vocab_size=30522, model_max_len=1000000000000000019884624838656, is_fast=True, padding_side='right', truncation_side='right', special_tokens={'unk_token': '[UNK]', 'sep_token': '[SEP]', 'pad_token': '[PAD]', 'cls_token': '[CLS]', 'mask_token': '[MASK]'})"
      ]
     },
     "execution_count": 183,
     "metadata": {},
     "output_type": "execute_result"
    }
   ],
   "source": [
    "tokenizer"
   ]
  },
  {
   "cell_type": "code",
   "execution_count": 195,
   "id": "d71197c4-e1d7-4165-b5a9-a56d2a073370",
   "metadata": {},
   "outputs": [],
   "source": [
    "spans = [x for x in nlp_plan.get_pipe(\"ner\").labels if x.islower()] + [x for x in nlp_assess.get_pipe(\"ner\").labels if x.islower()]"
   ]
  },
  {
   "cell_type": "code",
   "execution_count": 196,
   "id": "04a3f8b6-3edc-4615-a553-9dc8ace54c68",
   "metadata": {},
   "outputs": [],
   "source": [
    "tokens = []\n",
    "for span in spans:\n",
    "    tokens.append(\"<\" + span + \">\")\n",
    "    tokens.append(\"</\" + span + \">\")    "
   ]
  },
  {
   "cell_type": "code",
   "execution_count": 197,
   "id": "051ff463-b2e6-4828-b65a-b7dfbd903824",
   "metadata": {},
   "outputs": [],
   "source": [
    "from tokenizers import AddedToken\n",
    "tokens = [AddedToken(token) for token in tokens]"
   ]
  },
  {
   "cell_type": "code",
   "execution_count": 198,
   "id": "8905b29d-bbd3-4c46-a741-52d48be10d56",
   "metadata": {},
   "outputs": [],
   "source": [
    "x = tokenizer.add_tokens(tokens)"
   ]
  },
  {
   "cell_type": "code",
   "execution_count": 199,
   "id": "97cc1a04-4a37-409a-bdda-d582f27b2672",
   "metadata": {},
   "outputs": [
    {
     "data": {
      "text/plain": [
       "16"
      ]
     },
     "execution_count": 199,
     "metadata": {},
     "output_type": "execute_result"
    }
   ],
   "source": [
    "x"
   ]
  },
  {
   "cell_type": "code",
   "execution_count": null,
   "id": "965fbca5-7274-4765-9479-027722bccbf9",
   "metadata": {},
   "outputs": [
    {
     "data": {
      "text/plain": [
       "Embedding(30538, 768)"
      ]
     },
     "execution_count": 200,
     "metadata": {},
     "output_type": "execute_result"
    }
   ],
   "source": [
    "model.resize_token_embeddings(len(tokenizer))"
   ]
  },
  {
   "cell_type": "code",
   "execution_count": 205,
   "id": "7d1128b5-0371-49f4-84fe-23d24f345dce",
   "metadata": {},
   "outputs": [
    {
     "data": {
      "text/plain": [
       "('[CLS] # coronaries : patient with 3 vessel disease on cath. previously found to be the case in [ * * 2174 * * ], but had been treated medically. on the floor, patient with <problem> recurrent chest pain </problem> and <event_related_to_problem> ekg changes </event_related_to_problem>, <complication_related_to_problem> concerning for further ischemia </complication_related_to_problem>. chest pain has been controlled on nitro gtt. patient in ccu for monitoring ; <event_related_to_problem> plan for cabg today </event_related_to_problem>. - continue <event_related_to_problem> nitro gtt </event_related_to_problem> - if has further cp, would uptitrate nitro, and contact [ * * name2 ( ni ) 9339 * * ] and attending for potential balloon pump vs. urgent cabg - appreciate ct [ * * doctor first name 91 * * ] recs - continue [ * * last name ( lf ) * * ], [ * * first name3 ( lf ) 119 * * ], ace - i, simvastatin [SEP]',\n",
       " {'input_ids': [2, 7, 5548, 5816, 30, 2774, 1956, 23, 8072, 2573, 1990, 6258, 18, 3024, 2435, 1942, 1998, 1920, 3087, 1922, 37, 14, 14, 18209, 1006, 14, 14, 39, 16, 2308, 2430, 2252, 2868, 19971, 18, 1990, 1920, 13363, 16, 2774, 1956, 30528, 7457, 8475, 3594, 30529, 1930, 30524, 20529, 1029, 2840, 30525, 16, 30522, 8679, 1958, 2520, 7716, 30523, 18, 8475, 3594, 2258, 2252, 4642, 1990, 8686, 24122, 18, 2774, 1922, 4928, 1032, 1958, 5378, 31, 30524, 4720, 1958, 18583, 13290, 30525, 18, 17, 9085, 30524, 8686, 24122, 30525, 17, 2647, 2258, 2520, 4244, 16, 2962, 2353, 2572, 5524, 2057, 8686, 16, 1930, 5217, 37, 14, 14, 9533, 1028, 12, 7781, 13, 6156, 6021, 14, 14, 39, 1930, 12633, 1958, 2889, 13819, 8912, 3201, 18, 15210, 18583, 17, 23302, 3369, 37, 14, 14, 11622, 2561, 9533, 6550, 14, 14, 39, 2090, 1036, 17, 9085, 37, 14, 14, 4691, 9533, 12, 11048, 13, 14, 14, 39, 16, 37, 14, 14, 2561, 9533, 1010, 12, 11048, 13, 11022, 14, 14, 39, 16, 8298, 17, 51, 16, 21555, 3], 'token_type_ids': [0, 0, 0, 0, 0, 0, 0, 0, 0, 0, 0, 0, 0, 0, 0, 0, 0, 0, 0, 0, 0, 0, 0, 0, 0, 0, 0, 0, 0, 0, 0, 0, 0, 0, 0, 0, 0, 0, 0, 0, 0, 0, 0, 0, 0, 0, 0, 0, 0, 0, 0, 0, 0, 0, 0, 0, 0, 0, 0, 0, 0, 0, 0, 0, 0, 0, 0, 0, 0, 0, 0, 0, 0, 0, 0, 0, 0, 0, 0, 0, 0, 0, 0, 0, 0, 0, 0, 0, 0, 0, 0, 0, 0, 0, 0, 0, 0, 0, 0, 0, 0, 0, 0, 0, 0, 0, 0, 0, 0, 0, 0, 0, 0, 0, 0, 0, 0, 0, 0, 0, 0, 0, 0, 0, 0, 0, 0, 0, 0, 0, 0, 0, 0, 0, 0, 0, 0, 0, 0, 0, 0, 0, 0, 0, 0, 0, 0, 0, 0, 0, 0, 0, 0, 0, 0, 0, 0, 0, 0, 0, 0, 0, 0, 0, 0, 0, 0, 0, 0, 0, 0, 0, 0, 0, 0, 0], 'attention_mask': [1, 1, 1, 1, 1, 1, 1, 1, 1, 1, 1, 1, 1, 1, 1, 1, 1, 1, 1, 1, 1, 1, 1, 1, 1, 1, 1, 1, 1, 1, 1, 1, 1, 1, 1, 1, 1, 1, 1, 1, 1, 1, 1, 1, 1, 1, 1, 1, 1, 1, 1, 1, 1, 1, 1, 1, 1, 1, 1, 1, 1, 1, 1, 1, 1, 1, 1, 1, 1, 1, 1, 1, 1, 1, 1, 1, 1, 1, 1, 1, 1, 1, 1, 1, 1, 1, 1, 1, 1, 1, 1, 1, 1, 1, 1, 1, 1, 1, 1, 1, 1, 1, 1, 1, 1, 1, 1, 1, 1, 1, 1, 1, 1, 1, 1, 1, 1, 1, 1, 1, 1, 1, 1, 1, 1, 1, 1, 1, 1, 1, 1, 1, 1, 1, 1, 1, 1, 1, 1, 1, 1, 1, 1, 1, 1, 1, 1, 1, 1, 1, 1, 1, 1, 1, 1, 1, 1, 1, 1, 1, 1, 1, 1, 1, 1, 1, 1, 1, 1, 1, 1, 1, 1, 1, 1, 1]})"
      ]
     },
     "execution_count": 205,
     "metadata": {},
     "output_type": "execute_result"
    }
   ],
   "source": [
    "tokenizer.decode(tokenizer(test[0]['Plan Subsection'])['input_ids']), tokenizer(test[0]['Plan Subsection'])"
   ]
  },
  {
   "cell_type": "code",
   "execution_count": 207,
   "id": "201d0952-b962-4bf1-9f80-9934310c20e7",
   "metadata": {},
   "outputs": [
    {
     "data": {
      "text/plain": [
       "3594"
      ]
     },
     "execution_count": 207,
     "metadata": {},
     "output_type": "execute_result"
    }
   ],
   "source": [
    "tokenizer.convert_tokens_to_ids(\"pain\")"
   ]
  },
  {
   "cell_type": "code",
   "execution_count": 22,
   "id": "6e93497e-6a44-45bf-bd8d-d460ff7f94b9",
   "metadata": {},
   "outputs": [],
   "source": [
    "import re \n",
    "\n",
    "def remove_mimic_deid(example):\n",
    "    \n",
    "    example['Assessment'] = re.sub(r\"\\[\\*\\*.*?\\*\\*\\]\", \"\", example['Assessment'])\n",
    "    example['Plan Subsection'] = re.sub(r\"\\[\\*\\*.*?\\*\\*\\]\", \"\", example['Plan Subsection'])    \n",
    "    \n",
    "    return example"
   ]
  },
  {
   "cell_type": "code",
   "execution_count": 23,
   "id": "76550ac5-7f23-4137-b2ac-bc28bbdfc89f",
   "metadata": {},
   "outputs": [
    {
     "data": {
      "application/vnd.jupyter.widget-view+json": {
       "model_id": "dd353323dda8400ea00d0e24ab4b976a",
       "version_major": 2,
       "version_minor": 0
      },
      "text/plain": [
       "  0%|          | 0/4633 [00:00<?, ?ex/s]"
      ]
     },
     "metadata": {},
     "output_type": "display_data"
    },
    {
     "data": {
      "application/vnd.jupyter.widget-view+json": {
       "model_id": "1e8ad753593f4c02a69d4157e42c4991",
       "version_major": 2,
       "version_minor": 0
      },
      "text/plain": [
       "  0%|          | 0/597 [00:00<?, ?ex/s]"
      ]
     },
     "metadata": {},
     "output_type": "display_data"
    }
   ],
   "source": [
    "out = dataset.map(remove_mimic_deid)"
   ]
  },
  {
   "cell_type": "code",
   "execution_count": 24,
   "id": "66e3f949-4222-4a98-ba47-0b8a571a5073",
   "metadata": {},
   "outputs": [
    {
     "data": {
      "text/plain": [
       "('Patient is a 58 year old male with history of atrial fibrillation on\\n   coumadin, hyperlipidemia, hypertension, peripheral vascular disease,\\n   s/p CVA who presented to  on  with heart\\n   failure exacerbation and atrial fibrillation with RVR, transferred due\\n   to difficulty with diuresis  hypotension.',\n",
       " 'Patient is a 58 year old male with history of atrial fibrillation on\\n   coumadin, hyperlipidemia, hypertension, peripheral vascular disease,\\n   s/p CVA who presented to [**Hospital3 847**] on [**2185-3-2**] with heart\\n   failure exacerbation and atrial fibrillation with RVR, transferred due\\n   to difficulty with diuresis [**2-7**] hypotension.')"
      ]
     },
     "execution_count": 24,
     "metadata": {},
     "output_type": "execute_result"
    }
   ],
   "source": [
    "out['train'][123]['Assessment'], dataset['train'][123]['Assessment']"
   ]
  },
  {
   "cell_type": "code",
   "execution_count": null,
   "id": "155f51c1-fbdf-4fc2-bd6c-07ed09fd9821",
   "metadata": {},
   "outputs": [],
   "source": []
  }
 ],
 "metadata": {
  "kernelspec": {
   "display_name": "Python 3 (ipykernel)",
   "language": "python",
   "name": "python3"
  },
  "language_info": {
   "codemirror_mode": {
    "name": "ipython",
    "version": 3
   },
   "file_extension": ".py",
   "mimetype": "text/x-python",
   "name": "python",
   "nbconvert_exporter": "python",
   "pygments_lexer": "ipython3",
   "version": "3.9.13"
  }
 },
 "nbformat": 4,
 "nbformat_minor": 5
}
