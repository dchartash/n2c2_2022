{
 "cells": [
  {
   "cell_type": "markdown",
   "id": "6102b929-294d-4c9a-8227-cc6b5251bf3c",
   "metadata": {},
   "source": [
    "# Imports "
   ]
  },
  {
   "cell_type": "code",
   "execution_count": 1,
   "id": "ac8ca2c5-e3b2-4d40-87ae-2eb6e103e3bd",
   "metadata": {},
   "outputs": [],
   "source": [
    "%load_ext autoreload\n",
    "%autoreload 2"
   ]
  },
  {
   "cell_type": "code",
   "execution_count": 2,
   "id": "645a8ac4-eb82-46cd-9471-7df878c52b64",
   "metadata": {},
   "outputs": [],
   "source": [
    "import pandas as pd\n",
    "import numpy as np\n",
    "\n",
    "from datasets import load_dataset\n",
    "from datasets import Value, ClassLabel, Features, DatasetDict\n",
    "\n",
    "\n",
    "import transformers\n",
    "from transformers import AutoTokenizer\n",
    "import torch"
   ]
  },
  {
   "cell_type": "code",
   "execution_count": 3,
   "id": "04de05cf-1667-4761-8a82-b857e045c1da",
   "metadata": {},
   "outputs": [
    {
     "data": {
      "text/plain": [
       "device(type='cuda')"
      ]
     },
     "execution_count": 3,
     "metadata": {},
     "output_type": "execute_result"
    }
   ],
   "source": [
    "device = torch.device(\"cuda\") if torch.cuda.is_available() else torch.device(\"cpu\")\n",
    "device"
   ]
  },
  {
   "cell_type": "code",
   "execution_count": 4,
   "id": "e29a11f0-3249-4c4f-abbf-f2b3a83420bb",
   "metadata": {},
   "outputs": [],
   "source": [
    "from preprocessing.cleaning_utils import *"
   ]
  },
  {
   "cell_type": "markdown",
   "id": "3581be17-71a5-404f-b7fd-b5bbf8d913fa",
   "metadata": {},
   "source": [
    "# Read in Data"
   ]
  },
  {
   "cell_type": "code",
   "execution_count": 5,
   "id": "dd98560c-f2ed-4caf-a56f-f131a64db668",
   "metadata": {},
   "outputs": [],
   "source": [
    "mimic_dir = \"/home/vs428/project/MIMIC/files/mimiciii/1.4/\"\n",
    "n2c2_dir = \"/home/vs428/project/n2c2/2022/N2C2-AP-Reasoning/\"\n",
    "n2c2_data_dir =  \"/home/vs428/project/n2c2/2022/Data/\"\n"
   ]
  },
  {
   "cell_type": "code",
   "execution_count": 6,
   "id": "3964fd09-f42e-445c-9171-24c5f7a5fd6e",
   "metadata": {},
   "outputs": [
    {
     "name": "stderr",
     "output_type": "stream",
     "text": [
      "Using custom data configuration default-b1948d86214b7517\n",
      "Reusing dataset csv (/home/vs428/.cache/huggingface/datasets/csv/default-b1948d86214b7517/0.0.0/433e0ccc46f9880962cc2b12065189766fbb2bee57a221866138fb9203c83519)\n"
     ]
    },
    {
     "data": {
      "application/vnd.jupyter.widget-view+json": {
       "model_id": "7ed08f9f2ccd4e5d9b89fd8e75e6b614",
       "version_major": 2,
       "version_minor": 0
      },
      "text/plain": [
       "  0%|          | 0/2 [00:00<?, ?it/s]"
      ]
     },
     "metadata": {},
     "output_type": "display_data"
    }
   ],
   "source": [
    "classes = ['Not Relevant', 'Neither', 'Indirect', 'Direct']\n",
    "features = Features({\n",
    "    'ROW ID':Value(\"int64\"),\n",
    "    'HADM ID':Value(\"int64\"),\n",
    "    'Assessment':Value(\"string\"),\n",
    "    'Plan Subsection':Value(\"string\"),\n",
    "    \"Relation\":Value(\"string\")\n",
    "}) \n",
    "\n",
    "dataset = load_dataset(\"csv\", data_files={\n",
    "                            \"train\":n2c2_data_dir + \"train.csv\",\n",
    "                            \"valid\":n2c2_data_dir + \"dev.csv\",\n",
    "                        },\n",
    "\n",
    "                       features=features)\n",
    "# dataset = dataset.class_encode_column(\"Relation\")\n",
    "dataset = dataset.rename_column(\"Relation\", \"label\")"
   ]
  },
  {
   "cell_type": "code",
   "execution_count": 7,
   "id": "12a9e9b3-c95e-452e-9a09-dfa2e6823a24",
   "metadata": {},
   "outputs": [],
   "source": [
    "test = pd.Series(dataset['train']['Assessment'])"
   ]
  },
  {
   "cell_type": "code",
   "execution_count": 8,
   "id": "9f60ae79-ab1b-40cd-a53c-8a72aef4ad7f",
   "metadata": {},
   "outputs": [
    {
     "name": "stderr",
     "output_type": "stream",
     "text": [
      "/tmp/ipykernel_15402/1920014737.py:2: DtypeWarning: Columns (4,5) have mixed types. Specify dtype option on import or set low_memory=False.\n",
      "  notes = pd.read_csv(mimic_dir + \"NOTEEVENTS.csv\")\n"
     ]
    }
   ],
   "source": [
    "# test.sample(10).tolist()\n",
    "notes = pd.read_csv(mimic_dir + \"NOTEEVENTS.csv\")"
   ]
  },
  {
   "cell_type": "code",
   "execution_count": 10,
   "id": "3c3810c8-58f3-4891-8288-4454b3272f93",
   "metadata": {},
   "outputs": [
    {
     "data": {
      "text/plain": [
       "{'ROW ID': 560236,\n",
       " 'HADM ID': 199097,\n",
       " 'Assessment': 'Patient is a 58 year old male with history of atrial fibrillation on\\n   coumadin, hyperlipidemia, hypertension, peripheral vascular disease,\\n   s/p CVA who presented to [**Hospital3 847**] on [**2185-3-2**] with heart\\n   failure exacerbation and atrial fibrillation with RVR, transferred due\\n   to difficulty with diuresis [**2-7**] hypotension.',\n",
       " 'Plan Subsection': 'GERD\\n   - Continue [**Hospital1 **] PPI',\n",
       " 'label': 'Neither'}"
      ]
     },
     "execution_count": 10,
     "metadata": {},
     "output_type": "execute_result"
    }
   ],
   "source": [
    "dataset['train'][123]"
   ]
  },
  {
   "cell_type": "markdown",
   "id": "7a00644b-6dbc-4116-9516-fe3a3e03ab85",
   "metadata": {
    "jp-MarkdownHeadingCollapsed": true,
    "tags": []
   },
   "source": [
    "# Electra-MEDAL"
   ]
  },
  {
   "cell_type": "code",
   "execution_count": 9,
   "id": "7935bf3e-0ccb-4144-8e0e-da7882f9bc42",
   "metadata": {},
   "outputs": [],
   "source": [
    "sample_texts = [\"35 yo F with SLE, restrictive lung disease, CM (EF 15-20%) presents with severe lupus induced cardiomyopathy.\", \n",
    "                                                 \"54 year old man with pmh significant for bipolar disorder presenting with lithium toxicity\",\n",
    "                                                 \"69 F w/ MMP including copd, diastolic chf, dm2, recent prolonged hospitalization where she became trach- dependent secondary to prolonged virulent pseudomonal PNA, presented in septic shock, ARF and AMS.\",\n",
    "                                                 \"57 y/o man with long smokign history admitted to [**Hospital Unit Name 10**] with makred dypnea and lower extremity swelling:\",\n",
    "                                                 \"73 yo male with history of bilateral renal cell carcinoma metastatic to right adrenalectomy presents for post-operative monitoring after right adrenalectomy and prostate biopsy.\"\n",
    "\n",
    "                              ]"
   ]
  },
  {
   "cell_type": "markdown",
   "id": "cabfa1bd-9638-4301-a07e-faaa3fe5e638",
   "metadata": {
    "tags": []
   },
   "source": [
    "# Read in Meta-Inventory Abbreviations File"
   ]
  },
  {
   "cell_type": "code",
   "execution_count": 11,
   "id": "32f48c6f-a5f2-4433-8e56-69411fbc4717",
   "metadata": {},
   "outputs": [],
   "source": [
    "import scispacy\n",
    "import spacy\n",
    "from scispacy.abbreviation import AbbreviationDetector\n"
   ]
  },
  {
   "cell_type": "code",
   "execution_count": 12,
   "id": "d0b0a1b5-5d98-4d1f-a99f-3bba95c2833a",
   "metadata": {},
   "outputs": [
    {
     "data": {
      "text/plain": [
       "<scispacy.abbreviation.AbbreviationDetector at 0x2b4a279336a0>"
      ]
     },
     "execution_count": 12,
     "metadata": {},
     "output_type": "execute_result"
    }
   ],
   "source": [
    "nlp = spacy.load(\"en_core_sci_scibert\")\n",
    "nlp.add_pipe(\"abbreviation_detector\")"
   ]
  },
  {
   "cell_type": "code",
   "execution_count": 13,
   "id": "f94f97ac-b495-402b-a417-a4fab5f3f844",
   "metadata": {},
   "outputs": [],
   "source": [
    "from functools import partiali had "
   ]
  },
  {
   "cell_type": "code",
   "execution_count": 14,
   "id": "eeddcd4f-f017-4c00-8426-2e25d74ab4a5",
   "metadata": {},
   "outputs": [],
   "source": [
    "abbreviations = pd.read_csv(\"/home/vs428/project/Abbreviations/Metainventory_Version1.0.0.csv\", sep=\"|\", na_filter=False\n",
    "                           )"
   ]
  },
  {
   "cell_type": "code",
   "execution_count": 15,
   "id": "9d6cb25e-9c15-4c52-9302-568c87cb12b8",
   "metadata": {},
   "outputs": [],
   "source": [
    "med_abbvs = abbreviations[abbreviations['Source'].isin([\"Vanderbilt Clinic Notes\", \"Vanderbilt Discharge Sums\", \"Berman\", \"Stetson\", \"Columbia\"])]#.groupby(\"SF\").size()"
   ]
  },
  {
   "cell_type": "code",
   "execution_count": 16,
   "id": "a491ae53-b991-4989-890d-83490c1d2164",
   "metadata": {},
   "outputs": [],
   "source": [
    "med_abbvs = med_abbvs[~med_abbvs['SF'].isin(nlp.Defaults.stop_words)]\n",
    "med_abbvs = med_abbvs[~med_abbvs['SF'].isin([\"man\", \"woman\", \"old\", \"Mr.\", \"Ms.\", \"Mrs\", \"M\", \"F\"])]"
   ]
  },
  {
   "cell_type": "code",
   "execution_count": 17,
   "id": "eb7e6e67-434a-4eed-b109-85cea86fc2ee",
   "metadata": {},
   "outputs": [],
   "source": [
    "med_abbvs = med_abbvs.astype({\"Source\":\"category\"})"
   ]
  },
  {
   "cell_type": "code",
   "execution_count": 18,
   "id": "a85105aa-15d4-4f5f-acf1-179cd73a6136",
   "metadata": {},
   "outputs": [],
   "source": [
    "sorter = [\"Vanderbilt Discharge Sums\", \"Vanderbilt Clinic Notes\",  \"Stetson\", \"Columbia\", \"Berman\"]"
   ]
  },
  {
   "cell_type": "code",
   "execution_count": 19,
   "id": "92abdb71-11ad-4a28-9d95-2ebddd9b2d71",
   "metadata": {},
   "outputs": [
    {
     "name": "stderr",
     "output_type": "stream",
     "text": [
      "/gpfs/ysm/project/rtaylor/vs428/conda_envs/myenv/lib/python3.10/site-packages/pandas/core/arrays/categorical.py:2747: FutureWarning: The `inplace` parameter in pandas.Categorical.set_categories is deprecated and will be removed in a future version. Removing unused categories will always return a new Categorical object.\n",
      "  res = method(*args, **kwargs)\n"
     ]
    }
   ],
   "source": [
    "med_abbvs.Source.cat.set_categories(sorter, inplace=True)"
   ]
  },
  {
   "cell_type": "code",
   "execution_count": 20,
   "id": "aadd472f-d4b1-48af-84f1-344514296200",
   "metadata": {},
   "outputs": [],
   "source": [
    "med_abbvs = med_abbvs.sort_values(['Source'])"
   ]
  },
  {
   "cell_type": "code",
   "execution_count": 21,
   "id": "a379a159-c999-46c4-a345-01add91388fb",
   "metadata": {},
   "outputs": [
    {
     "data": {
      "text/html": [
       "<div>\n",
       "<style scoped>\n",
       "    .dataframe tbody tr th:only-of-type {\n",
       "        vertical-align: middle;\n",
       "    }\n",
       "\n",
       "    .dataframe tbody tr th {\n",
       "        vertical-align: top;\n",
       "    }\n",
       "\n",
       "    .dataframe thead th {\n",
       "        text-align: right;\n",
       "    }\n",
       "</style>\n",
       "<table border=\"1\" class=\"dataframe\">\n",
       "  <thead>\n",
       "    <tr style=\"text-align: right;\">\n",
       "      <th></th>\n",
       "      <th>GroupID</th>\n",
       "      <th>RecordID</th>\n",
       "      <th>SF</th>\n",
       "      <th>SFUI</th>\n",
       "      <th>NormSF</th>\n",
       "      <th>LF</th>\n",
       "      <th>LFUI</th>\n",
       "      <th>NormLF</th>\n",
       "      <th>Source</th>\n",
       "      <th>Modified</th>\n",
       "    </tr>\n",
       "  </thead>\n",
       "  <tbody>\n",
       "    <tr>\n",
       "      <th>400041</th>\n",
       "      <td>G155037</td>\n",
       "      <td>R404085</td>\n",
       "      <td>CVA</td>\n",
       "      <td>S015761</td>\n",
       "      <td>cva</td>\n",
       "      <td>costovertebral angle</td>\n",
       "      <td>L062247</td>\n",
       "      <td>costovertebral angle</td>\n",
       "      <td>Vanderbilt Discharge Sums</td>\n",
       "      <td></td>\n",
       "    </tr>\n",
       "    <tr>\n",
       "      <th>400039</th>\n",
       "      <td>G155036</td>\n",
       "      <td>R404083</td>\n",
       "      <td>CVA</td>\n",
       "      <td>S015761</td>\n",
       "      <td>cva</td>\n",
       "      <td>cerebrovascular accident</td>\n",
       "      <td>L055946</td>\n",
       "      <td>cerebrovascular accident</td>\n",
       "      <td>Vanderbilt Discharge Sums</td>\n",
       "      <td></td>\n",
       "    </tr>\n",
       "    <tr>\n",
       "      <th>398834</th>\n",
       "      <td>G155036</td>\n",
       "      <td>R402858</td>\n",
       "      <td>CVA</td>\n",
       "      <td>S015761</td>\n",
       "      <td>cva</td>\n",
       "      <td>cerebral vascular accident</td>\n",
       "      <td>L055869</td>\n",
       "      <td>cerebral vascular accident</td>\n",
       "      <td>Vanderbilt Clinic Notes</td>\n",
       "      <td></td>\n",
       "    </tr>\n",
       "    <tr>\n",
       "      <th>398833</th>\n",
       "      <td>G018226</td>\n",
       "      <td>R402857</td>\n",
       "      <td>CVA</td>\n",
       "      <td>S015761</td>\n",
       "      <td>cva</td>\n",
       "      <td>costovertebral angle tenderness</td>\n",
       "      <td>L062248</td>\n",
       "      <td>costovertebral angle tenderness</td>\n",
       "      <td>Vanderbilt Clinic Notes</td>\n",
       "      <td></td>\n",
       "    </tr>\n",
       "  </tbody>\n",
       "</table>\n",
       "</div>"
      ],
      "text/plain": [
       "        GroupID RecordID   SF     SFUI NormSF  \\\n",
       "400041  G155037  R404085  CVA  S015761    cva   \n",
       "400039  G155036  R404083  CVA  S015761    cva   \n",
       "398834  G155036  R402858  CVA  S015761    cva   \n",
       "398833  G018226  R402857  CVA  S015761    cva   \n",
       "\n",
       "                                     LF     LFUI  \\\n",
       "400041             costovertebral angle  L062247   \n",
       "400039         cerebrovascular accident  L055946   \n",
       "398834       cerebral vascular accident  L055869   \n",
       "398833  costovertebral angle tenderness  L062248   \n",
       "\n",
       "                                 NormLF                     Source Modified  \n",
       "400041             costovertebral angle  Vanderbilt Discharge Sums           \n",
       "400039         cerebrovascular accident  Vanderbilt Discharge Sums           \n",
       "398834       cerebral vascular accident    Vanderbilt Clinic Notes           \n",
       "398833  costovertebral angle tenderness    Vanderbilt Clinic Notes           "
      ]
     },
     "execution_count": 21,
     "metadata": {},
     "output_type": "execute_result"
    }
   ],
   "source": [
    "med_abbvs[med_abbvs[\"SF\"] == \"CVA\"]"
   ]
  },
  {
   "cell_type": "code",
   "execution_count": 22,
   "id": "196b28c9-0d96-4d24-b199-f07aa043cb1e",
   "metadata": {},
   "outputs": [
    {
     "data": {
      "text/html": [
       "<div>\n",
       "<style scoped>\n",
       "    .dataframe tbody tr th:only-of-type {\n",
       "        vertical-align: middle;\n",
       "    }\n",
       "\n",
       "    .dataframe tbody tr th {\n",
       "        vertical-align: top;\n",
       "    }\n",
       "\n",
       "    .dataframe thead th {\n",
       "        text-align: right;\n",
       "    }\n",
       "</style>\n",
       "<table border=\"1\" class=\"dataframe\">\n",
       "  <thead>\n",
       "    <tr style=\"text-align: right;\">\n",
       "      <th></th>\n",
       "      <th>GroupID</th>\n",
       "      <th>RecordID</th>\n",
       "      <th>SF</th>\n",
       "      <th>SFUI</th>\n",
       "      <th>NormSF</th>\n",
       "      <th>LF</th>\n",
       "      <th>LFUI</th>\n",
       "      <th>NormLF</th>\n",
       "      <th>Source</th>\n",
       "      <th>Modified</th>\n",
       "    </tr>\n",
       "  </thead>\n",
       "  <tbody>\n",
       "    <tr>\n",
       "      <th>391050</th>\n",
       "      <td>G181844</td>\n",
       "      <td>R394879</td>\n",
       "      <td>yr</td>\n",
       "      <td>S103595</td>\n",
       "      <td>yr</td>\n",
       "      <td>year</td>\n",
       "      <td>L169257</td>\n",
       "      <td>year</td>\n",
       "      <td>Berman</td>\n",
       "      <td></td>\n",
       "    </tr>\n",
       "  </tbody>\n",
       "</table>\n",
       "</div>"
      ],
      "text/plain": [
       "        GroupID RecordID  SF     SFUI NormSF    LF     LFUI NormLF  Source  \\\n",
       "391050  G181844  R394879  yr  S103595     yr  year  L169257   year  Berman   \n",
       "\n",
       "       Modified  \n",
       "391050           "
      ]
     },
     "execution_count": 22,
     "metadata": {},
     "output_type": "execute_result"
    }
   ],
   "source": [
    "med_abbvs[med_abbvs['SF'] == 'yr']"
   ]
  },
  {
   "cell_type": "code",
   "execution_count": 23,
   "id": "9897e5e8-8f72-4ad1-82b7-0424ed1b02d8",
   "metadata": {},
   "outputs": [],
   "source": [
    "unq_sfs = med_abbvs['SF'].unique()"
   ]
  },
  {
   "cell_type": "code",
   "execution_count": null,
   "id": "f14ce9f2-7531-4a54-9501-99c94287e049",
   "metadata": {
    "scrolled": true,
    "tags": []
   },
   "outputs": [],
   "source": []
  },
  {
   "cell_type": "code",
   "execution_count": 32,
   "id": "54b3a9ba-7360-4db0-b733-08def5583e8f",
   "metadata": {},
   "outputs": [
    {
     "data": {
      "text/html": [
       "<div>\n",
       "<style scoped>\n",
       "    .dataframe tbody tr th:only-of-type {\n",
       "        vertical-align: middle;\n",
       "    }\n",
       "\n",
       "    .dataframe tbody tr th {\n",
       "        vertical-align: top;\n",
       "    }\n",
       "\n",
       "    .dataframe thead th {\n",
       "        text-align: right;\n",
       "    }\n",
       "</style>\n",
       "<table border=\"1\" class=\"dataframe\">\n",
       "  <thead>\n",
       "    <tr style=\"text-align: right;\">\n",
       "      <th></th>\n",
       "      <th>GroupID</th>\n",
       "      <th>RecordID</th>\n",
       "      <th>SF</th>\n",
       "      <th>SFUI</th>\n",
       "      <th>NormSF</th>\n",
       "      <th>LF</th>\n",
       "      <th>LFUI</th>\n",
       "      <th>NormLF</th>\n",
       "      <th>Source</th>\n",
       "      <th>Modified</th>\n",
       "    </tr>\n",
       "  </thead>\n",
       "  <tbody>\n",
       "    <tr>\n",
       "      <th>400018</th>\n",
       "      <td>G154987</td>\n",
       "      <td>R404062</td>\n",
       "      <td>CRI</td>\n",
       "      <td>S015189</td>\n",
       "      <td>cri</td>\n",
       "      <td>chronic renal insufficiency</td>\n",
       "      <td>L057690</td>\n",
       "      <td>chronic renal insufficiency</td>\n",
       "      <td>Vanderbilt Discharge Sums</td>\n",
       "      <td></td>\n",
       "    </tr>\n",
       "    <tr>\n",
       "      <th>400604</th>\n",
       "      <td>G156042</td>\n",
       "      <td>R404663</td>\n",
       "      <td>MAC</td>\n",
       "      <td>S042996</td>\n",
       "      <td>mac</td>\n",
       "      <td>mitral annular calcification</td>\n",
       "      <td>L112066</td>\n",
       "      <td>mitral annular calcification</td>\n",
       "      <td>Vanderbilt Discharge Sums</td>\n",
       "      <td></td>\n",
       "    </tr>\n",
       "    <tr>\n",
       "      <th>400603</th>\n",
       "      <td>G156197</td>\n",
       "      <td>R404662</td>\n",
       "      <td>Mac</td>\n",
       "      <td>S045973</td>\n",
       "      <td>mac</td>\n",
       "      <td>macular</td>\n",
       "      <td>L106324</td>\n",
       "      <td>macular</td>\n",
       "      <td>Vanderbilt Discharge Sums</td>\n",
       "      <td></td>\n",
       "    </tr>\n",
       "    <tr>\n",
       "      <th>400602</th>\n",
       "      <td>G045611</td>\n",
       "      <td>R404661</td>\n",
       "      <td>MAC</td>\n",
       "      <td>S042996</td>\n",
       "      <td>mac</td>\n",
       "      <td>multi-lumen access catheters</td>\n",
       "      <td>L113563</td>\n",
       "      <td></td>\n",
       "      <td>Vanderbilt Discharge Sums</td>\n",
       "      <td></td>\n",
       "    </tr>\n",
       "    <tr>\n",
       "      <th>400601</th>\n",
       "      <td>G156043</td>\n",
       "      <td>R404660</td>\n",
       "      <td>MAC</td>\n",
       "      <td>S042996</td>\n",
       "      <td>mac</td>\n",
       "      <td>mycobacterium avium complex</td>\n",
       "      <td>L114672</td>\n",
       "      <td>Mycobacterium avium complex</td>\n",
       "      <td>Vanderbilt Discharge Sums</td>\n",
       "      <td></td>\n",
       "    </tr>\n",
       "    <tr>\n",
       "      <th>...</th>\n",
       "      <td>...</td>\n",
       "      <td>...</td>\n",
       "      <td>...</td>\n",
       "      <td>...</td>\n",
       "      <td>...</td>\n",
       "      <td>...</td>\n",
       "      <td>...</td>\n",
       "      <td>...</td>\n",
       "      <td>...</td>\n",
       "      <td>...</td>\n",
       "    </tr>\n",
       "    <tr>\n",
       "      <th>391057</th>\n",
       "      <td>G107533</td>\n",
       "      <td>R394886</td>\n",
       "      <td>zbp</td>\n",
       "      <td>S103626</td>\n",
       "      <td>zbp</td>\n",
       "      <td>zinc binding protein</td>\n",
       "      <td>L169489</td>\n",
       "      <td>zinc binding protein</td>\n",
       "      <td>Berman</td>\n",
       "      <td></td>\n",
       "    </tr>\n",
       "    <tr>\n",
       "      <th>391058</th>\n",
       "      <td>G107534</td>\n",
       "      <td>R394887</td>\n",
       "      <td>zcl</td>\n",
       "      <td>S103627</td>\n",
       "      <td>zcl</td>\n",
       "      <td>zoonotic cutaneous leishmaniasis</td>\n",
       "      <td>L169666</td>\n",
       "      <td>zoonotic cutaneous leishmaniasis</td>\n",
       "      <td>Berman</td>\n",
       "      <td></td>\n",
       "    </tr>\n",
       "    <tr>\n",
       "      <th>391059</th>\n",
       "      <td>G107535</td>\n",
       "      <td>R394888</td>\n",
       "      <td>zd</td>\n",
       "      <td>S103628</td>\n",
       "      <td>zd</td>\n",
       "      <td>zone drilling</td>\n",
       "      <td>L169635</td>\n",
       "      <td></td>\n",
       "      <td>Berman</td>\n",
       "      <td></td>\n",
       "    </tr>\n",
       "    <tr>\n",
       "      <th>391045</th>\n",
       "      <td>G107494</td>\n",
       "      <td>R394874</td>\n",
       "      <td>yohf</td>\n",
       "      <td>S103587</td>\n",
       "      <td>yohf</td>\n",
       "      <td>year old hispanic female</td>\n",
       "      <td>L169265</td>\n",
       "      <td></td>\n",
       "      <td>Berman</td>\n",
       "      <td></td>\n",
       "    </tr>\n",
       "    <tr>\n",
       "      <th>393941</th>\n",
       "      <td>G088368</td>\n",
       "      <td>R397852</td>\n",
       "      <td>dcc</td>\n",
       "      <td>S084634</td>\n",
       "      <td>dcc</td>\n",
       "      <td>day care center</td>\n",
       "      <td>L064681</td>\n",
       "      <td>day care center</td>\n",
       "      <td>Berman</td>\n",
       "      <td></td>\n",
       "    </tr>\n",
       "  </tbody>\n",
       "</table>\n",
       "<p>17141 rows × 10 columns</p>\n",
       "</div>"
      ],
      "text/plain": [
       "        GroupID RecordID    SF     SFUI NormSF  \\\n",
       "400018  G154987  R404062   CRI  S015189    cri   \n",
       "400604  G156042  R404663   MAC  S042996    mac   \n",
       "400603  G156197  R404662   Mac  S045973    mac   \n",
       "400602  G045611  R404661   MAC  S042996    mac   \n",
       "400601  G156043  R404660   MAC  S042996    mac   \n",
       "...         ...      ...   ...      ...    ...   \n",
       "391057  G107533  R394886   zbp  S103626    zbp   \n",
       "391058  G107534  R394887   zcl  S103627    zcl   \n",
       "391059  G107535  R394888    zd  S103628     zd   \n",
       "391045  G107494  R394874  yohf  S103587   yohf   \n",
       "393941  G088368  R397852   dcc  S084634    dcc   \n",
       "\n",
       "                                      LF     LFUI  \\\n",
       "400018       chronic renal insufficiency  L057690   \n",
       "400604      mitral annular calcification  L112066   \n",
       "400603                           macular  L106324   \n",
       "400602      multi-lumen access catheters  L113563   \n",
       "400601       mycobacterium avium complex  L114672   \n",
       "...                                  ...      ...   \n",
       "391057              zinc binding protein  L169489   \n",
       "391058  zoonotic cutaneous leishmaniasis  L169666   \n",
       "391059                     zone drilling  L169635   \n",
       "391045          year old hispanic female  L169265   \n",
       "393941                   day care center  L064681   \n",
       "\n",
       "                                  NormLF                     Source Modified  \n",
       "400018       chronic renal insufficiency  Vanderbilt Discharge Sums           \n",
       "400604      mitral annular calcification  Vanderbilt Discharge Sums           \n",
       "400603                           macular  Vanderbilt Discharge Sums           \n",
       "400602                                    Vanderbilt Discharge Sums           \n",
       "400601       Mycobacterium avium complex  Vanderbilt Discharge Sums           \n",
       "...                                  ...                        ...      ...  \n",
       "391057              zinc binding protein                     Berman           \n",
       "391058  zoonotic cutaneous leishmaniasis                     Berman           \n",
       "391059                                                       Berman           \n",
       "391045                                                       Berman           \n",
       "393941                   day care center                     Berman           \n",
       "\n",
       "[17141 rows x 10 columns]"
      ]
     },
     "execution_count": 32,
     "metadata": {},
     "output_type": "execute_result"
    }
   ],
   "source": [
    "med_abbvs"
   ]
  },
  {
   "cell_type": "code",
   "execution_count": 24,
   "id": "cc518f1a-3542-4307-8d4a-ad8a05ebb2c5",
   "metadata": {
    "scrolled": true,
    "tags": []
   },
   "outputs": [
    {
     "data": {
      "application/vnd.jupyter.widget-view+json": {
       "model_id": "dc228c14f13e47879225e4fba4530c98",
       "version_major": 2,
       "version_minor": 0
      },
      "text/plain": [
       "  0%|          | 0/4633 [00:00<?, ?ex/s]"
      ]
     },
     "metadata": {},
     "output_type": "display_data"
    },
    {
     "data": {
      "application/vnd.jupyter.widget-view+json": {
       "model_id": "b5b7cdca75df423791353542b19d1828",
       "version_major": 2,
       "version_minor": 0
      },
      "text/plain": [
       "  0%|          | 0/597 [00:00<?, ?ex/s]"
      ]
     },
     "metadata": {},
     "output_type": "display_data"
    }
   ],
   "source": [
    "out_test = dataset.map(partial(expand_abbreviations, spacy_pip=nlp, abbv_map=med_abbvs, unq_sfs=unq_sfs))"
   ]
  },
  {
   "cell_type": "code",
   "execution_count": 25,
   "id": "1215d1bf-114b-44db-87fb-ef9c72328aac",
   "metadata": {},
   "outputs": [
    {
     "name": "stdout",
     "output_type": "stream",
     "text": [
      "['42 y/o lady with CVID, HepC, Type 1 DM, distant IBD > 20 yrs ago, last\\n   flare, recent cryptospordial infection presented to OSH with worsening\\n   abdominal pain, nausea and vomitting.', '67F with stage 4 pancreatic cancer now p/w 4 days of nausea and\\n   vomiting, inabaility to tolerate po, and fatigue, found to have\\n   hyponatremia, hyerkalemia, and acute renal insufficiency\\n   .', '87 yo male w/ HTN, dementia, past prostate CA presents w/ shock and\\n   hypoxemic respiratory failure', '87 y/o F h/o CAD, COPD, HTN a/w sepsis in the setting of GNR bacteremia\\n   and c/f obstructive pyelonephritis.', '43-year-old woman with pulmonary hypertension s/p L pneumonectomy due\\n   to TB, also with history of OSA, presented with recurrent dyspnea.', '67yo woman transferred to the medical ICU with hypotension and\\n   somnolence in the setting of IL-2 treatment for metastatic renal cell\\n   carcinoma.', '[**Age over 90 **] yo female with severe dementia with poor functional status, multiple\\n   medical problems with multiple recent hospitalizations including recent\\n   ICU stay with intubation, sepsis, pressors, etc, now presents with\\n   severe dehydration, poor po intake, hypernatremia, and failure to\\n   thrive.', 'DELIRIUM / CONFUSION, ALCOHOL WITHDRAWAL (INCLUDING DELIRIUM TREMENS,\\n   DTS, SEIZURES), CHOLECYSTITIS, ACALCULOUS\\n   Assessment and Plan: 58yoF with h/o A-Fib, s/p gastric bypass [**2167**] now\\n   s/p biliary drain w repair due to acute cholecystitis / cholangitis,\\n   found to be in alcohol withdrawal. S/p percutaneous bile drainage x2,\\n   spiked fevers o/n [**7-22**]. Intubated for airway protection during procudure\\n   [**7-22**] - plan to wean to extubation [**7-23**].', '71 year old male with crypotogenic cirrhosis, HCC s/p cyberknife,\\n   started on lasix and spironolactone in [**Month (only) 2877**] for hepatic\\n   encephalopathy and worsening edema and ascites with reported 25lb\\n   weight loss and resolution of peripheral edema and improvement in\\n   abdominal girth who presents with 1 week of weakness, found to have\\n   hypotension and hyponatremia.', '**Age over 90 **] yo with pancreatic CA obstructing common bile duct, s/p stent, p/w\\n   with abd pain and fever, found to have cholecystitis.']\n",
      "['42 year old lady with CVID, HepC, Type 1 diabetes mellitus , distant inflammatory bowel disease > 20 years ago, last\\n   flare, recent cryptospordial infection presented to outside hospital with worsening\\n   abdominal pain, nausea and vomitting.', '67F with stage 4 pancreatic cancer now presents with 4 days of nausea and\\n   vomiting, inabaility to tolerate per os ( by mouth ) , and fatigue, found to have\\n   hyponatremia, hyerkalemia, and acute renal insufficiency\\n   .', '87 year old male with hypertension , dementia, past prostate cancer antigen presents with shock and\\n   hypoxemic respiratory failure', '87 year old F history of coronary artery disease , chronic obstructive pulmonary disease , hypertension a/w sepsis in the setting of GNR bacteremia\\n   and c/f obstructive pyelonephritis.', '43-year-old woman with pulmonary hypertension status post L pneumonectomy due\\n   to tuberculosis , also with history of obstructive sleep apnea , presented with recurrent dyspnea.', '67yo woman transferred to the medical intensive care unit with hypotension and\\n   somnolence in the setting of IL-2 treatment for metastatic renal cell\\n   carcinoma.', '[**Age over 90 **] year old female with severe dementia with poor functional status, multiple\\n   medical problems with multiple recent hospitalizations including recent\\n   intensive care unit stay with intubation, sepsis, pressors, etc, now presents with\\n   severe dehydration, poor per os ( by mouth ) intake, hypernatremia, and failure to\\n   thrive.', 'DELIRIUM / CONFUSION, ALCOHOL WITHDRAWAL (INCLUDING DELIRIUM TREMENS,\\n   DTS, SEIZURES), CHOLECYSTITIS, ACALCULOUS\\n   Assessment and Plan: 58yoF with history of A-Fib, status post gastric bypass [**2167**] now\\n   status post biliary drain week repair due to acute cholecystitis / cholangitis,\\n   found to be in alcohol withdrawal. status post percutaneous bile drainage for two ,\\n   spiked fevers overnight [**7-22**]. Intubated for airway protection during procudure\\n   [**7-22**] - plan to wean to extubation [**7-23**].', '71 year old male with crypotogenic cirrhosis, HCC status post cyberknife,\\n   started on lasix and spironolactone in [**Month (only) 2877**] for hepatic\\n   encephalopathy and worsening edema and ascites with reported 25pound \\n   weight loss and resolution of peripheral edema and improvement in\\n   abdominal girth who presents with 1 week of weakness, found to have\\n   hypotension and hyponatremia.', '**Age over 90 **] year old with pancreatic cancer antigen obstructing common bile duct, status post stent, presents with \\n   with abdomen pain and fever, found to have cholecystitis.']\n"
     ]
    }
   ],
   "source": [
    "rand_idxs = np.random.randint(len(out_test['train']), size=10)\n",
    "print(dataset['train'][rand_idxs]['Assessment'])\n",
    "print(out_test['train'][rand_idxs]['Assessment'])\n"
   ]
  },
  {
   "cell_type": "code",
   "execution_count": 26,
   "id": "f6f0f533-c908-4552-b7b6-31fd7205f530",
   "metadata": {},
   "outputs": [],
   "source": [
    "# abbreviations = abbreviations[~abbreviations['SF'].isin(nlp.Defaults.stop_words)]\n",
    "# abbreviations = abbreviations[~abbreviations['SF'].isin([\"man\", \"woman\", \"old\", \"Mr.\", \"Ms.\", \"Mrs\"])]"
   ]
  },
  {
   "cell_type": "code",
   "execution_count": 29,
   "id": "d5b4eb0b-acd9-4abb-832b-f5886cf4de4f",
   "metadata": {
    "scrolled": true,
    "tags": []
   },
   "outputs": [
    {
     "data": {
      "text/plain": [
       "{'# Chronic atrial fibrillation: status post pulmonary vein isolation.\\n   Telemetry shows normal sinus rythym with PACs, versus multifocal atrial\\n   tachycardia followed by sinus pauses.  Pt failed prior atrial ablation\\n   and trial without nodal blocking agents.\\n   --continue propafenone and diltiazem as above\\n   -- hold atenolol\\n   -- restart Coumadin\\n   -- omeprazole for esophageal protection after ablation',\n",
       " '# Respiratory alkalosis.  pH 7.68 in ED.  Compensating for metabolic\\n   acidosis but hyperventilating in addition.  Improved on repeat; likely\\n   anxiety related as patient hyperventilating during testing.  ASA\\n   negative.\\n   -          Ativan prn anxiety as per home regimen.',\n",
       " '#) LLE DVT - felt secondary to venous stasis from lymphatic obstruction\\n   and malignancy. IVC filter placed due to extensive clot burden and\\n   limitations in anticoagulation given recent hematemesis and\\n   thrombocytopenia.  PLTs 69, HCT 27.9.\\n   -  Original plan was to cont. heparin gtt, and stop if plt < 50, HCT <\\n   30.  With HCT of 27.9, will continue to monitor pt on heparin gtt and\\n   consider stopping if PLTs drop below 50.\\n   - monitor HCT, plts [**Hospital1 **]',\n",
       " '**Age over 90 **] y/o F MMP including CAD, DM, h/o lung adenocarcinoma s/p lobectomy\\n   p/w dyspnea and ARF',\n",
       " '**Age over 90 **] yo with pancreatic CA obstructing common bile duct, s/p stent, p/w\\n   with abd pain and fever, found to have cholecystitis.',\n",
       " '**Age over 90 **]F with hypertension, hyperlipidemia, hypothyroidism; presenting with\\n   extensive bilateral PE and high O2 requirement.',\n",
       " '**Age over 90 323**] y/o M with history of CHF, ?COPD who was sent to the ED from [**Hospital 12**]\\n   Rehab for respiratory distress.',\n",
       " '**Age over 90 382**]M h/o HTN, hypercholesterolemia, Afib, h/o colon CA s/p colectomy,\\n   recent upper GI bleed presents with acute blood loss anemia and NSTEMI.',\n",
       " '**Age over 90 52**] yo female with pmh of CAD with 3 VD seen on cath in [**2105**], htn,\\n   a.fib, CVA, asthma admitted secondary to fever and chest pain who was\\n   transferred to the [**Hospital Unit Name 44**] due to unstable angina.',\n",
       " \".H/O TRACHEOBRONCHOMALACIA (TRACHEOMALACIA, BRONCHOMALACIA),\\n   RESPIRATORY FAILURE, ACUTE (NOT ARDS/[**Doctor Last Name 2**])\\n   Assessment and Plan: 63F w TBM tx'd with Y-stent, here with PNA, fluid\\n   overload, on CPAP.\",\n",
       " '/P: 58 yo M with a history of substance abuse admitted from rehab with\\n   vicodin overdose complicated by hematemesis.',\n",
       " '/P: Pt is a 56 y/o F with frequent falls who presents with s/p fall\\n   with confusion and hypotension now transferred to MICU for persistent\\n   hypotension despite IVF resuscitation.',\n",
       " '19 year old female presenting with hypoxic respiratory failure in the\\n   context of fever, myalgias, and headache found to have pneumonia and\\n   gram positive cocci in chains in blood.',\n",
       " '21 year old male with new massive PE and extensive RLE DVT.',\n",
       " '21 yo F with history of ESRD on PD s/p failed renal tx after recurrence\\n   of MPGN, with recurrent admissions for hypertensive urgency, here with\\n   hypertensive urgency.',\n",
       " '22yo woman with h/o IDDM admitted with DKA most likely due to poor\\n   medication compliance.',\n",
       " '24 year old woman with no significant past medical history presenting\\n   with acute upper GI bleed, with mild hemodynamic compromise',\n",
       " '25yoF with DM1, h/o anxiety/panic attacks, multiple admissions to this\\n   hospital with n/v/d/abd pain/DKA who now presents with the same.',\n",
       " '27 y.o. male with hx of polysubstance abuse presentinng with\\n   obtundations, respiratory failure, and hypotension in the context of\\n   fever and some indications of increased tone.  Now intubated for\\n   hypoxic respiratory failure and being broadly treated for serotonin\\n   syndrome and pneumonia.',\n",
       " '28F morbidly obese female with hx asthma, h/o of DVT/PE, recent MRSA\\n   bacteremia being transfered to the ICU for unresponsiveness and\\n   hypercarbic respiratory failure.',\n",
       " '30 yo F w/ DMI and ESRD on PD p/w DKA',\n",
       " '30 yo M with [**Doctor Last Name **] muscular dystrophy presented with bilateral femur\\n   fractures, now s/p bilateral intramedullary rod fixation with fevers.',\n",
       " '31 y/o M with PMH of bipolar d/o and polysubstance abuse who presents\\n   with sepsis after intraveneous propfol injection',\n",
       " '31 yo male with history of asthma, liver transplant at age 4 for\\n   biliary atresia, post-infectious GN, and recent admission for SBO\\n   ([**9-2**]) requiring resection and complicated by temporary HD need and\\n   ICU admission for SBP.  Then readmitted later in the month for gram\\n   positive bactermia due to catheter related blood stream infection.\\n   After completing his abx, he developed fever, prominent cough and\\n   sputum production at home with a HR of 170 (SVT) - admitted to OSH and\\n   started on levaquin for LLL PNA.',\n",
       " '33 y/o male with LLQ abd pain and testicular tenderness admitted to ICU\\n   for tachycardia and hypotension with concern for\\n   epidydimitis/prostatitis vs transiently incarcerated inguinal hernia\\n   and concern for early sepsis\\n   .',\n",
       " '33 yo F with PMH reportedly of asthma and anxiety, a/w AMS and\\n   hyponatremia of unclear etiology.\\n   .',\n",
       " '33F presented with HA, left sided weakness, seizure activity. 3 cm IPH\\n   s/p EVD placement by NSGY with elevated ICP (45 initially, now up to\\n   50). Pt  found to have pancytopenia and possible early DIC. This AM\\n   patient had marked increase in ICP with marked increase in hemorrhage\\n   on head CT with high risk of herniation. NSY attending (Dr. [**First Name (STitle) **] and\\n   Heme-Onc attending (Dr. [**First Name (STitle) **] on the floor. With medical team, all\\n   consulting services discussed poor prognosis and lack of additional\\n   medical or surgical options (including high likelihood of death in next\\n   several hours). All medical and surgical team and family agreed to no\\n   further escalation of care and comfort measures.',\n",
       " '34 yo M with a history of Etoh abuse and withdrawal who presented with\\n   cough, vomiting, and seized in the ED, concerning for ETOH withdrawal.',\n",
       " '34 yo M with h/o alcohol abuse who presents with chest pain and L\\n   clavicular head fracture, admitted to MICU for EtOH withdrawal.',\n",
       " '34F with schizophrenia transferred from [**Hospital1 1239**] after ammonium\\n   nitrate ingestion.  Per toxicology, it is a slightly caustic [**Doctor Last Name 23**]\\n   which can cause gastritis.  Per toxicology, no NG, no intervention,\\n   monitor for pain.',\n",
       " '35 yo F with SLE, restrictive lung disease, CM (EF 15-20%) presents\\n   with severe lupus induced cardiomyopathy.',\n",
       " '36M with ETOH dependence and frequent admissions for EtOH intoxication\\n   presents s/p fall with EtOH withdrawal.',\n",
       " '36M with ETOH dependence and frequent admissions for EtOH intoxication\\n   presents with EtOH withdrawal.',\n",
       " '37 yo F with PMH of recurrent bronchitis admitted from OSH with hypoxic\\n   and hypercarbic respiratory failure and CXR highly concerning for ARDS.',\n",
       " '37 yo M s/p total thryoidectomy for multi-nodular\\n   goiter that was impinging airway that appears to have a protected\\n   airway with no signs of compromise.\\n   .',\n",
       " '38 year old obese female with HTN, sleep apnea, G1P1 s/p c-section 5\\n   days ago, presented to OSH with acute SOB, tachypnea, and HTN and is\\n   transferred to the ICU for BP management.',\n",
       " '38yo gentleman with alcohol abuse, hep b/hep c, drug seeking but with\\n   legitimate reasons for pain, admitted to [**Hospital Unit Name 44**] for apnea in ED.',\n",
       " '39 M with history of ESRD on HD, DM c/b gastroparesis and autonomic\\n   dysfunction, CAD s/p STEMI, frequent admissions for nausea/vomiting and\\n   abdominal pain; now admitted with N/V/abd pain and hypoxemia.',\n",
       " '4 year old female with known CAD, diastolic CHF, presenting with\\n   respiratory failure requiring intubation, now with tachycardia likely\\n   afib with rvr, new reduced EF, leukocytosis, air space opacities on\\n   CXR, and relative hypotension concerning for distributive shock.',\n",
       " '40 F w metastatic breast cancer to liver and brain, who is admitted to\\n   the [**Hospital Unit Name 4**] following seizures and PEA arrest.',\n",
       " '40 y/o M with alpha 1 antitrypsin dz, COPD, hepatitis C, cirrhosis and\\n   DM I admitted with c/o SOB, cough with sputum production &\\n   hyperglycemia.',\n",
       " '40 yof with history of ?depression went to OSH after unknown quantity\\n   of klonipin and celexa overdose.',\n",
       " '40yo male with a history of alcohol abuse, depression, hyperlipidemia,\\n   and presumed NASH was admitted with alcohol withdrawal.',\n",
       " \"40yo man with h/o ascending aortic dissection and St. Jude's valve on\\n   coumadin, with right renal mass, here in ICU for monitoring after R\\n   radical nephrectomy.\",\n",
       " '41 F with history of asthma, EtOH abuse, psych history; admit to MICU\\n   with respiratory failure requiring intubation with severe pneumonia on\\n   CXR and high O2 requirements on vent; now improving significantly.',\n",
       " '41 year old female with strange and complicated past medical history of\\n   VTE, CAD, and dCHF and multiple vascular risk factors presenting with\\n   recurrence of her baseline recurring chest pain with development of\\n   tamponade physiology now s/p pericardial drain.',\n",
       " '41 yo M with newly diagnosed HIV/AIDS ([**2147-10-31**]) and s/p prolonged\\n   hospitalization (ending [**2147-11-16**]) for PCP pneumonia, who presented\\n   with dyspnea. was found to be hypoxic in ED and was subsequently\\n   intubated',\n",
       " '41yoM with h/o post-traumatic ORIF of L hip c/b MRSA joint infection\\n   and bacteremia now off abx, recent arthocentesis negative now with\\n   hypotension and bradycardia as well as falling Hct.',\n",
       " '42 y/o lady with CVID, HepC, Type 1 DM, distant IBD > 20 yrs ago, last\\n   flare, recent cryptospordial infection presented to OSH with worsening\\n   abdominal pain, nausea and vomitting.',\n",
       " '42 yo male with PMH of HTN and EtOH abuse who p/w alcohol withdrawal\\n   and recent hematemesis.',\n",
       " '42F with depression, biliary colic, now admitted to [**Hospital Unit Name 13562**]#0 from lap\\n   chole complicated by hypotension, hematocrit drop, and evidence of\\n   intraabdominal hematoma taken back to OR this AM.\\n   .',\n",
       " '43 yo F with a history of a suicide attempt who presented to OSH with\\n   chest pain, SOB, and with altered mental status.\\n   .',\n",
       " '43-year-old woman with pulmonary hypertension s/p L pneumonectomy due\\n   to TB, also with history of OSA, presented with recurrent dyspnea.',\n",
       " '43M with a history of ESRD and chronic flank pain, presenting with\\n   flank pain and hypertensive urgency.\\n   .',\n",
       " '43yoM with germ cell tumor with choriocarcinoma POD#1 s/p\\n   retroperitoneal LN dissection.',\n",
       " '44F w metastatic NSCLC who originally p/w massive hematuria now s/p L\\n   renal artery embolization with hospital course c/b ARF requiring HD,\\n   hypoxia [**3-15**] RML/RLL PNA, RUL cavitary lesion, and fluid overload,\\n   likely adrenal insufficiency, and difficult to rate control atrial\\n   fibrillation who is now transferred to [**Hospital Unit Name 1**] in setting of hypoxia.\\n   .',\n",
       " '44F with hx of 1 vessel CAD s/p MI [**2186**], CYPER to LAD in [**2186**], IDDM,\\n   and Polysubstance abuse presents with 3-4 days of crescendo chest pain,\\n   STEMI and DES x2 to RCA. This is a new diagnosis of 2 vessel disease.\\n   .',\n",
       " '44yo F with h/o SSD admitted with flu-like illness and sickle cell\\n   crisis.\\n   .',\n",
       " '45 year old male with no known CAD and aspirin allergy who presented\\n   with chest pain and symptoms concerning for unstable angina, now with\\n   STE changes on ECG in the setting of [**8-13**] chest pain.  Now chest pain\\n   free.\\n   .',\n",
       " '45 yo F s/p left liver lobectomy, cholecystecomy for intra-abdominal\\n   mass with large intra-operative blood loss admitted to the [**Hospital Unit Name 4**]\\n   post-operatively for monitoring.\\n   .',\n",
       " '45M with hx of DM type 1 with complications & chronic kidney disease\\n   with multiple admissions for hypoglycemia who presents with the same.\\n   .',\n",
       " '46 year-old female with fever, rash, arthralgias of unknown origin now\\n   with sepsis, respiratory failure, and DIC.\\n   .',\n",
       " '47 yo M with history of seizure disorder and EtOH abuse brought to ED\\n   by EMS after likely seizure at shelter.',\n",
       " '47 yo woman with a history of chronic Hep C cirrhosis complicatied by\\n   portal HTN and refractory ascites, DM, s/p failed TIPS procedure,\\n   presented with abdominal ascites, bilateral leg edema, and found to\\n   have an elevated creatinine and today transferred to MICU to due\\n   worsening respiratory status.\\n   .',\n",
       " '47F h/o HIV/HCV, otherwise unknown med history, admitted with\\n   n/v/diarrhea, syncope, continues on decreased norepinephrine gtt after\\n   fluid resuscitation, likely [**2-8**] endotoxin or viral gastroenteritis.',\n",
       " '48 yo M with chronic EtOH abuse who is being transferred from [**Hospital1 **] with diagnosis of acute pancreatitis, persistent fevers, and\\n   respiratory failure.',\n",
       " '48F with DM1, admitted with DKA.\\n   .',\n",
       " '48M h/o seizure disorder, recently started on bactrim for lower\\n   extremity cellulitis, transfered from OSH with fever, seizure,\\n   hypotension, and diffuse erythematous rash.\\n   .',\n",
       " '48yo F intoxicated s/p fall down stairs with\\n   severe facial trauma, elective OSH intubation for airway protection.',\n",
       " '49 yo female with history of hypercholesterolemia admitted for chest\\n   pain and EKG changes consistent with inferior STEMI, found to have no\\n   obstructing lesions on cath, most consistent with Takotsubos\\n   cardiomyopathy',\n",
       " '49 yo male with dyspnea found to have large saddle PE on CTA chest,\\n   without hemodynamic compromise, started on heparin gtt and now\\n   coumadin.',\n",
       " '49 yo man with presumed CAD, DM who presents w/ resp\\n   distress found to be profoundly hypertensive, evidence of aspiration on\\n   CT chest and rising CEs',\n",
       " '49M h/o EtOH cirrhosis, GI bleeding s/p variceal banding presents with\\n   tachycardia and ?GI bleeding.\\n   .',\n",
       " '50 M with advanced esophageal CA found unresponsive.',\n",
       " '50F with no known risk factors for UGIB p/w hematemesis, melanotic\\n   stool, weakness for 3 days found to have anemia and NG lavage that did\\n   not clear after 1L. Admitted to the ICU for endoscopy',\n",
       " '51 yo male with a history of stage IV colon cancer s/p multiple\\n   surgeries now s/p right colectomy and end ileostomy secondary to\\n   perforation.',\n",
       " '51 yr old F with a history of 3V CAD, confirmed on C. cath during this\\n   admission, EF of 40%, who is transferred to CCU for monitoring of\\n   recurrent chest pain. Plan for CABG today to revascularize due to\\n   3-vessel disease.',\n",
       " '51yo male with history of asplenia and HIV was admitted with fevers and\\n   weakness.\\n   .',\n",
       " '52 y/o F with HCV cirrhosis, thrombocytopenia admitted with altered\\n   mental status',\n",
       " '52 y/o lady with hyptension presented to the Emergency Department with\\n   swollen tongue and funny feeling in her tongue and was intubated for\\n   airway protection.\\n   .',\n",
       " '52 year old male with diabetes, hypertension, active smoker presenting\\n   with inferior STEMI s/p placement of 3 stents to proximal, mid, and\\n   distal RCA admitted to CCU for observation\\n   .',\n",
       " '52 yo F h/o metastatic colon ca s/p bilateral nephrostomy tube\\n   placement on home hospice who presented with sudden onset R sided flank\\n   pain, n/v and found to have severe R-sided hydronephrosis s/p bilateral\\n   nephrostomy tube replacement with improvement in symptoms.',\n",
       " '52 yo male with history of morbid obesity, WPW, HTN, hyperlipidemia\\n   presents with A fib with RVR.',\n",
       " '52 yom with no significant past medical history who is transferred from\\n   an OSH for syncope and ?prolonged heart pause.\\n   .',\n",
       " '52-y/o M w HTN, HL, CAD (s/p CABGx4 in [**5-/2164**]), recently admitted for\\n   UA now s/p OM perforation during cardiac cath.',\n",
       " '52-year-old man with HCV cirrhosis, on transplant list, was transferred\\n   to [**Hospital1 5**] with obtundation, found to have multifocal pneumonia.',\n",
       " '52y F with 2wk HA found to have L SDH with midline\\n   shift.',\n",
       " '52yoF hx asthma, sinusitis, p/w shortness of breath for 3 days,\\n   admitted to MICU for asthma exacerbation and pna.',\n",
       " '53 year old female with hx of alcoholism presents with hepatic and\\n   renal failure.  Transfered to ICU with new oxygen requirement.\\n   .',\n",
       " '53 yo M with alcohol abuse, HTN, severe cardiomyopathy with EF 10-15%,\\n   DM2 and atrial fibrillation now with subacute Left superior MCA stroke\\n   and possible left ventricular thrombus. Transferred to CCU for volume\\n   overload and poor forward flow.\\n   .',\n",
       " '53M with HIV/hepC, admitted with nausea, weakness, hypotension',\n",
       " '53M with acute polyarticular arthritis and acute renal failure\\n   acute polyarticular arthritis: although joint distribution is not\\n   classic, polys and needle shaped crystals and negative gram stain on\\n   microscopy of joint fluid is c/w gout. given ARF, would avoid NSAIDs\\n   and colchicine. pt does not complain of pain at this time and says he\\n   wants to avoid medications; will hold steroids for now per discussio\\n   with rheum, not necessary to treat unless in pain.\\n   leukemoid reaction: suspect stress response from several days of acute\\n   inflammatory illness. Other DDX iclude infection vs malignancy, however\\n   history no consistent with thiese.\\n   -Continue to trend',\n",
       " '54 year old female with type 1 DM complicated by gastroparesis and\\n   neuropathy, HTN, HCV, admitted to MICU with recurrent DKA.\\n   .',\n",
       " '54 year old man with pmh significant for bipolar disorder presenting\\n   with lithium toxicity',\n",
       " '54 yo F with HIV, HCV cirrhosis/ESLD, myopathy, bed bound/NH presents\\n   with vaginal/rectal bleeding.',\n",
       " '54 yo M with HTN, obesity p/w saddle emboli from OSH s/p heparin bolus\\n   and TPA',\n",
       " '54 yoF w/ a h/o obesity hypoventilation syndrome, OSA, multiple\\n   admissions for hypercarbic respiratory failure presents with\\n   hypercarbic respiratory failure.',\n",
       " '54-yo man with hypertension, dyslipidemia, locally-advanced esophageal\\n   cancer s/p chemo-XRT & esophagectomy, recent left pleural effusion s/p\\n   thoracentesis and recent pericardial effusion with tamponade s/p\\n   pericardiocentesis [**2112-5-23**], who was admitted to [**Hospital1 2266**] with asymptomatic\\n   tachycardia and is now being transferred to CCU with recurrent\\n   pericardial effusion and early tamponade.',\n",
       " '54M with h/o LLE fracture s/p hardware placement c/b chronic\\n   osteomyelitis now presenting with LLE swelling/edema and fevers, found\\n   to have septic physiology at OSH, and transferred here for further\\n   evaluation.',\n",
       " '54y/o M with PMH of ESRD on HD and PVD admitted with line sepsis, now\\n   s/p removal of tunneled HD catheter.',\n",
       " '55 year old male with hx of HTN, HLD who presented to ED with 2 hours\\n   of substernal crushing 10/10 chest pain and evolving ST elevations.\\n   .',\n",
       " '55 year old woman with history of EtOH abuse presenting following\\n   mechanical fall and traumatic T spine fracture with K. oxytoca PNA and\\n   ARDS intubated since the end of [**Month (only) **] now s/p trach and PEG placement',\n",
       " '55 yo F, previously healthy who presents with headache and chest pain,\\n   admitted to the ICU for hypotension.',\n",
       " '55 yo M with h/o hepatitis C cirrhosis who presents with abdominal\\n   distention, jaundice, and SBP.\\n   .',\n",
       " '55 yo female with new diagnosis of non-small cell lung carcinoma\\n   causing SVC syndrome and respiratory distress, transferred for further\\n   evaluation and treatment.  Now s/p placement of stent in rt main\\n   bronchus and XRT x 4.',\n",
       " '55-M w/ T1DM with frequent hypoglycemic episodes, ESRD, and HTN, found\\n   unresponsive and hypoglycemic with seizure-like activity, now\\n   hypothermic with renal failure and fluctuating neurological exam.\\n   .',\n",
       " '55yo female with resolving ARDS and H. flu bacteremia presents for\\n   re-admission to the MICU for increased O2 requirement.\\n   .',\n",
       " '56yo man w/ hx of MVP, now presenting w/ fevers, chills and malaise, w/\\n   cough prod of clr/bld streaked sputum and worsening MR.',\n",
       " '57 y.o. man with DM, HTN, and paranoid schizophrenia, presents from\\n   inpatient Psych facility altered mental status',\n",
       " '57 year-old man presented with epigastric discomfort and laboratory\\n   data consistent with gallstone pancreatitis, now with difficulty\\n   extubating.\\n   .',\n",
       " '57 yo M with Afib, on Coumadin, seen for abdominal pain and found to\\n   have large rectus sheath hematoma and INR > 20.',\n",
       " '57 yo M with PMH of L MCA in [**2102**] with residual aphasia and R\\n   hemiparesis who was admitted for status epilepticus and transferred to\\n   the MICU for respiratory distress.\\n   .',\n",
       " '57 yo M with PMHx of alcoholic ESLD on transplant list, esophageal\\n   varices transferred from [**Hospital1 1195**] for further evaluation of TIPs procedure\\n   after GI bleed.',\n",
       " '57M w hx of IVDU, likely MRSA endocarditis with vegetations on\\n   tricuspid valve, septic emboli to lungs, spleen, bursitis in hip, MRSA\\n   in urine; CT surgery does not feel patient is an operative candidate.\\n   Cardiology recommends gentle diuresis if possible but believe prognosis\\n   is poor.',\n",
       " '58 year old male w past medical history of CML s/p BMT in [**2121**] on\\n   chronic immunosuppression, w recent hospitalizations for his\\n   bronchiolitis obliterans and for resistant pseudomonal infections,\\n   presenting w respiratory distress and hypotension.',\n",
       " '58 year old woman with metastatic RCC to skull, mediastinum, lungs, s/p\\n   Y stent placement who presents to us status-post status epilepticus.\\n   .',\n",
       " '58-year-old man with history of HTN, HL s/p laparoscopic\\n   cholecystectomy on [**2121-12-1**] at OSH with major bile leak, s/p 2 JP drain\\n   placements now Post Procedure day #1 for CBD stenting.\\n   .',\n",
       " '58yF admitted with confusion and strange behavior\\n   found to be febrile and hypotensive with blood cultures positive for\\n   gram positive cocci in chains.',\n",
       " '59 yo F with widely metastatic breast cancer including likely\\n   leptomeningeal spread on cycle 2 of taxol and avastan admitted with\\n   subacute, progressive unresponsiveness and a hypotensive episode.\\n   .',\n",
       " '59M with CAD, CHF, DM, ESRD on HD, who presents with hypotension and\\n   sepsis now much improved, off pressors, extubated, mental status\\n   appears normal.',\n",
       " '59yo gentleman with h/o depression admitted with somnolence and\\n   respiratory depression in the setting of ingestion of multiple\\n   medications.',\n",
       " '59yo gentleman with h/o sarcoidosis who presented with dyspnea and was\\n   found to have massive PEs with evidence of right heart strain.',\n",
       " '60 y/o F w/ h/o hyperlipidemia presents with STEMI, currently s/p cath\\n   with [**Name Prefix (Prefixes) **] [**Last Name (Prefixes) **] 2 to prox and mid RCA and proximal left diagonal stenosis.\\n   Cath c/b hematoma, integrillin discontinued',\n",
       " '60 year old female with a hx of DM2, HTN, and CVA who\\n   presents with dyspnea x3 days, AFib, and new dilated CM with EF\\n   15-20%.',\n",
       " '60 yo F s/p right frontal crani for meningioma\\n   resection now w/ decreased vision to R eye',\n",
       " '60 yo F with metastatic RCC to the lungs and 2\\n   brain lesions p/w worsening headaches, stable left-sided\\n   weakness/paralysis, and new-onset seizure in ED.',\n",
       " '61 M with hx of CAD s/p Taxus stent to LAD in [**2134**], Prostate Ca\\n   ([**Doctor First Name **] 7 or 8), GERD and anxiety presents with chest pressure and\\n   dyspnea after playing a basketball game in the setting of 5 days off of\\n   asa/plavix.',\n",
       " \"61 y/o male with PD/DBS's and h/o MVP, admitted with two days of ILI\\n   and difficulty breathing, now intubated for tachypnea/fatigue with\\n   pneumonia.\",\n",
       " '61 y/o man with a significant cardiac history of\\n   rheumatic fever, AVR and CABG x2 (SVG to OM, SVG to RCA, 25 mm CE\\n   pericardial valve), and redo AVR/CABG with Dr. [**Last Name (STitle) 5649**] (St. [**Male First Name (un) 4721**] 21 mm\\n   mechanical AVR, SVG to PDA) in [**2147**] now transferred with gram positive\\n   bacteremia and suspicion for endocarditis now developing substernal\\n   chest pain concerning for ACS',\n",
       " '61 year old female with a history of type II diabetes, hypertension and\\n   recently diagnosed stage IIIb to IV non-small cell lung cancer who\\n   presents with three days of progressive dyspnea found to have large\\n   right sided pulmonary embolism, pleural effusion and right sided\\n   collapse.\\n   .',\n",
       " '61 year old male with a h/o CAD s/p MI and CABG in [**2144**], chronic\\n   systolic heart failure (EF 20%), recurrent VT s/p ICD placement and\\n   atrial fibrillation transferred to the CCU for hypotension.',\n",
       " '61 year old male with a past medical history of medication overdose\\n   with clonidine, repeat ARF and recent STEMI s/p BMS to LAD,\\n   hypertension/hyotension, post-tramatic  stress disorder, and depression\\n   who presents with hypotension somnolence.',\n",
       " '61 yo F c Mast Cell Degranulation, p/w recurrence in setting of R wrist\\n   pain and swelling, with worsening airway edema',\n",
       " '61 yo F with h/o meningioma s/p resection and h/o\\n   PE on lovenox presenting with left SD hematoma of multiple durations\\n   and midline shift.',\n",
       " '61 yo m with hx of AML, s/p 7+3 induction chemo c/b presumed fungal\\n   pneumonia treated with voriconazole, and reduced EF (30-40%), CAD s/p\\n   PCI with BMS x3 in LAD([**2149-12-24**]) who now presents with chest pain and\\n   fevers/tachycardia.\\n   .',\n",
       " '61 yo woman w/hx of recently diagnosed inoperable pancreatic cancer\\n   metastatic to the liver s/p recent ERCP and placement of metal [**Year (4 digits) 80**]\\n   for enterococcal cholangitis complicated by septic shock who presents\\n   with fevers, increased WBC, RUQ pain, and jaundice along with a CT of\\n   the abdomen showing significant enlargement of CBD and intrahepatic\\n   biliary tree.\\n   .',\n",
       " '61F s/p gastric bypass and more recently, lap CCY, with\\n   choledocholithiasis, ESBL E coli UTI, and also ? pna, transferred from\\n   OSH for ERCP s/p stone removal complicated by sepsis.',\n",
       " '61M w/ HCC on lovenox for tumor thrombus in IVC, s/p RFA of liver\\n   lesion [**2173-3-11**] admitted with large R hemothorax now s/p R VATS\\n   yesterday with significant improvement in respiratory status',\n",
       " '62 y/o M with dilated cardiomyopathy a/w torsades in setting of\\n   prolonged QT interval during dofetilide initiation.',\n",
       " '62 year old man with ischemic cardiomyopathy s/p BiV ICD here with\\n   hypoxic resp failure, acute renal failure and hypotension.',\n",
       " '62F with PMH ESRD on HD with history of multiple line infections, now\\n   with bacteremia and acute bacterial cystitis',\n",
       " '62M w lung adenoca admitted with fevers in the setting of likely new\\n   diagnosis of lymphoma.',\n",
       " '62M with nonspecific exudative pleural effusions who is now admitted\\n   with hypoxia and possible re-expansion pulmonary edema after\\n   thoracentesis.\\n   .',\n",
       " '62yo female with ETOH cirrhosis and hx of UGI bleeding [**12-25**] esophageal\\n   varices who was  transferred to [**Hospital1 5**] for management of UGI bleed [**12-25**]\\n   gastric varices and is now s/p TIPs',\n",
       " '63 y/o M on coumadin for mechanical valve presents with sub-acute\\n   fatigue and likely melena found to have a hematocrit of 23\\n   .',\n",
       " '63 year old woman with severe diastolic heart failure, severe tricuspid\\n   regurgitation presenting with decompensated heart failure in the\\n   setting of medication non compliance, admitted to CCU for initiation of\\n   ultrafiltration',\n",
       " '63 year-old male with HTN, hyperlipidemia, depression, alcoholism,\\n   gastritis, and AVR on home Coumadin who presents with 2 days of\\n   melanotic stools and acute HCT drop.',\n",
       " '63 yoM with history of hypertension presents with STEMI, found to have\\n   multivessel CAD with complete LAD occlusion and evidence of compensated\\n   CHF.',\n",
       " '63F with fever, shortness of breath, and hypoxia, questionable H1N1\\n   influenza from the OSH and possible infiltrate on CXR',\n",
       " '64 M w/ nonischemic dilated cardiomyopathy (EF 25%), severe AS,\\n   rheumatic MS, DM, COPD, OSA & pulm HTN admitted to OSH with DOE,\\n   transferred for further evaluation of AS, now with GPC bacteremia and\\n   septic [**Numeric Identifier 1613**].\\n   .',\n",
       " '64 y/o M with a PMH of  hypertension,\\n   hyperlipidemia, PVD and h/o CVA in [**2135**] s/p L CEA who presents with\\n   [**Doctor First Name 1463**] restenosis, s/p L carotid stenting.',\n",
       " '64 y/o M with hx of CHF, afib, aflutter, s/p PPM for SSS, RCC on chemo\\n   with Bevacizumab / Temsirolimus who presented with probable VT arrest\\n   who is transferred to the MICU for fevers and rash and presumed sepsis\\n   with hospital course complicated by episodes of sustained VT.',\n",
       " '64 year old female with history of mixed cardiomyopathy, VF s/p ICD\\n   with ICD shocks, no new CAD, and inducible VT on [**Hospital **] transferred to the\\n   CCU following epicardial VT mapping.\\n   .',\n",
       " '64F with tracheobronchomalacia, recently admitted for removal of Y\\n   stent in the L mainstem, now with LLL collapse, likely from mucus\\n   plugging, also new onset afib',\n",
       " '65 y/o with metastatic lung cancer c/b cspine mets and cauda equina\\n   syndrome, here with complaints of chest pain and back pain after\\n   dialysis, found to be tachycardic and delirous.\\n   .',\n",
       " '65 year old woman with history of CLL now ~25 days s/p FCR intially\\n   presenting with febrile neutropenia found to have RLL infiltrate and\\n   neck pain now complicated by hypotension followed by hypoxia and\\n   continued fevers.',\n",
       " '65yoM with hx afib (not on coumadin for fall risk), with ESRD (s/p\\n   cadaveric transplant now failed) on HD, with recent septic left knee\\n   p/w hypotension and fever c/w SIRS.',\n",
       " '66 y/o M with PMhx of Atrial Fibrillation currently off coumadin who\\n   presents after [**Last Name (un) **] with polypectomy with ongoing BRBPR, hct drop and\\n   tachycardia. EGD yesterday showed no active bleeding.  HCT stable.',\n",
       " '66 year old woman with past medical history significant for COPD on\\n   home 02, hypertension, hyperlipidemia, h.o PE, PNA who presents with\\n   hypoxia.\\n   .',\n",
       " '66 yo F with PMH of morbid obesity, PAF, DM2, COPD on 2L home oxygen,\\n   CAD and recent diagnosis of PE who presents from OSH with SOB and\\n   fevers.',\n",
       " '66 yo M with obesity hypoventilation, ? COPD, afib, ESRD on HD, PVD\\n   with recent TMA ulcer, who presents with confusion, shortness of\\n   breath, fever and hypotension.\\n   .',\n",
       " '66 yo woman with ESRD on HD with recent line sepsis presenting with\\n   fever.',\n",
       " '67 y/o M CAD s/[**Initials (NamePattern4) **] [**Last Name (NamePattern4) **] [**Last Name (Prefixes) **] stent [**2169-11-15**] with recent cecum polypectomy\\n   who presents with bright red blood per rectum and hypotension following\\n   prep.\\n   .',\n",
       " '67 yo F with longstanding hx of [**Hospital **] transferred to ICU presenting with\\n   hypoxia most likely due to bacterial left pneumonia  causes with known\\n   L PNA and chronic [**Doctor First Name **] (MDR) with future plan for R pneumonectomy.',\n",
       " '67 yo M with complicated past medical history who had an elective total\\n   right hip arthroplasty earlier today.',\n",
       " '67 yo W with PMH of Stage III NSCLC and metastatic cervical cancer here\\n   with shock, diarrhea, and acute renal failure.',\n",
       " '67 yo female with pulm HTN, sarcoidosis, colon cancer, diastolic heart\\n   failure, and baseline 3-4L oxygen requirement was transferred from the\\n   floor with hypercarbic and hypoxic respiratory distress.',\n",
       " '67F with CAD s/p CABG, CHF, COPD and complicated pulmonary history with\\n   prolonged tracheostomy with recent decannulation and subsequent fistula\\n   closure (on ENT service at [**Hospital1 54**] on [**9-12**]) with complicated MRSA PNA\\n   presented with worsened respiratory distress. Patient with acute event\\n   of respiratory failure overnight requiring intubation.\\n   .',\n",
       " '67F with stage 4 pancreatic cancer now p/w 4 days of nausea and\\n   vomiting, inabaility to tolerate po, and fatigue, found to have\\n   hyponatremia, hyerkalemia, and acute renal insufficiency\\n   .',\n",
       " '67M w h/o mech [**Hospital 7146**] transferred from OSH with likely upper GI bleed\\n   with intermittent hypotension and falling hct in setting pt on\\n   coumadin',\n",
       " '67M with a history of CAD who presents with chest pain and aspirin\\n   allergy, now planning to desensitize for aspirin allergy and cardiac\\n   cath.',\n",
       " '67yo woman transferred to the medical ICU with hypotension and\\n   somnolence in the setting of IL-2 treatment for metastatic renal cell\\n   carcinoma.',\n",
       " '68 M w/ pmh of HTN, afib on coumadin, PE, COPD w/ recent flare p/w\\n   abdominal pain, diarrhea, hypotension now getting better.',\n",
       " '68 year old male with history of type II DM, HTN, atrial fibrillation\\n   on coumadin, s/p two vessel CABG in [**2117**] and s/p nephrectomy admitted\\n   to the CCU for evaluation of dyspnea following diagnostic cath.',\n",
       " '68 yo M with PMH of stage III squamous cell throat CA admitted for\\n   weakness, PNA found on [**Hospital 10067**] transferred from oncology service for\\n   hypoxia.',\n",
       " '68 yo M with T cell lymphoma, recent dvt on anticoagulation presents\\n   with fevers, chills, arthralgias and found to have hypotension\\n   responsive to fluids in the ED.',\n",
       " '68 yo M with severe NYHA class IV systolic CHF with EF of 20%,\\n   secondary to ischemic cardiomyopathy, admitted [**2179-8-31**] for acute\\n   exacerbation of CHF and transferred to CCU from [**Hospital1 2259**] service for\\n   aggressive diuresis and possible RRT for acute on chronic renal\\n   failure.',\n",
       " '68 yo male with h/o h/o dilated cardiomyopathy, PE,\\n   tracheobronchomalacia s/p tracheobronchoplasty, who presents for\\n   aspirin desensitization and RHC/LHC to evaluate for ischemic\\n   cardiomyopathy\\n   .',\n",
       " '68 yoF w/ a h/o Metastatic NSCLC with brain mets presents with\\n   palpitations and feeling unwell x 2 days and found to have a saddle PE.',\n",
       " '68F ventilator-dependent secondary to [**Last Name (un) 9456**]-[**Location (un) **] vs CIPD,\\n   insulin-dependent diabetes mellitus, recurrent urinary tract infections\\n   with chronic indwelling Foley catheter, recent C difficile infection on\\n   vancomycin PO admitted from [**Hospital 328**] Rehab for fever x1 week, diarrhea,\\n   and lethargy x1 days',\n",
       " '69 F w/ MMP including copd, diastolic chf, dm2, recent prolonged\\n   hospitalization where she became trach- dependent secondary to\\n   prolonged virulent pseudomonal PNA, presented in septic shock, ARF and\\n   AMS',\n",
       " '69 y/o gentleman with Chronic Lymphocytic Leukemia s/p chemotherapy and\\n   recent use of prednisone, presents with fevers of 104 and respiratory\\n   distress.',\n",
       " '69 year old male with a history of gastric ulcers, HTN, HLD old CVA\\n   without deficits who had bloody emesis on morning of admit.\\n   .',\n",
       " '69 yo M with dementia (h/o anoxic brain injury), DM2, HTN who presents\\n   from his NH with altered mental status, fevers, and atrial fibrillation\\n   with rapid ventricular rates.\\n   .',\n",
       " '69 yo female w/ breast cancer, while undergoing transfusion w/\\n   chemotherapy developed hypoxia and unresponsiveness.',\n",
       " '69-year-old male with history of recent subdural hematoma s/p\\n   evacuation presents with massive bilateral PE and DVT. Now has fevers.',\n",
       " '69-year-old male with severe COPD on home 4L NC, HTN, hyperlipidemia,\\n   CAD (s/p , GERD, depression and chronic back pain on multiple sedating\\n   pain medications and psychiatric medications who presented with AMS,\\n   hypercarbic respiratory distress.\\n   .',\n",
       " '69M with pontine CVA, CAD, [**Year (4 digits) 12475**] cardiomyopathy LVEF 20%, and\\n   recurrent aspiration pneumonia presenting with progressively worsening\\n   dyspnea over 2.5 weeks and hypoxic respiratory failure secondary to\\n   HCAP vs aspiration PNA/pneumonitis vs. CHF.',\n",
       " \"70F PMH of Shatzki's ring presents with acute dysphagia\",\n",
       " '70F with history of COPD on home O2, HTN, presenting with shortness of\\n   breath now with hypercarbic respiratory failure.\\n   .',\n",
       " '70F with mental retardation, severe sleep disordered breathing recently\\n   initiated on BiPAP, presents from nursing home with increasing dyspnea\\n   (O2 sats in the 60s). Per HCP [**Name (NI) 12031**] (cousin), pt had not been receiving\\n   ordered BiPAP.',\n",
       " '71 y.o male with history of atrial tachycardias, s/p failed\\n   cardioversion and failure of dofetelide and amiodarone, non-ischemic\\n   cardiomyopathy who presents today with two episodes of v-tach/v-fib\\n   today for which he was shocked with his AICD.\\n   .',\n",
       " '71 year old male with crypotogenic cirrhosis, HCC s/p cyberknife,\\n   started on lasix and spironolactone in [**Month (only) 2877**] for hepatic\\n   encephalopathy and worsening edema and ascites with reported 25lb\\n   weight loss and resolution of peripheral edema and improvement in\\n   abdominal girth who presents with 1 week of weakness, found to have\\n   hypotension and hyponatremia.',\n",
       " '71 yo F with DM, HTN, OSA s/p elective colostomy reversal [**2104-2-18**]\\n   presents from rehab with persistent diarrha, fever, leukocytosis, and\\n   new MS changes.',\n",
       " '71 yo M with PMH significant for CHF (EF: 20-25%), CAD s/p CABG, CKD,\\n   a-fib on coumadin, s/p ICD, presents after VF arrest.\\n   .',\n",
       " '71 yo female with severe coronary artery disease, systolic CHF presents\\n   with chest discomfort in setting of atrial fibrillation with rapid\\n   ventricular response.',\n",
       " '71-year-old female with a history of diabetes mellitus type II,\\n   hypertension, is transfered from outside hospital s/p cardiac arrest\\n   s/p arctic sun protocol, since extubated, rewarmed',\n",
       " '71yoM with a history DMII, DCM, HTN who presents with HONK with BS to\\n   almost 900.',\n",
       " '72 M with myelofibrosis and extramedullary/liver hematopoiesis, PVD,\\n   recurrent cellulitis; admit with acute on chronic altered mental status\\n   and pneumonia.',\n",
       " '72 y/o woman with PMH notable for paraplegia [**1-5**] spinal artery infarct,\\n   COPD, and indwelling suprapubic catheter admitted with shock, likely\\n   septic secondary to UTI.',\n",
       " '72 year old female with past medical history significant for CAD s/p\\n   CABG, s/p AVR with porcine valve, Htn, DM, presents with sepsis from\\n   pulmonary or urinary source, cardiogenic shock in setting of NSTEMI,\\n   and  renal failure.',\n",
       " '72 yoM presents with confusion since recent hospitalization and\\n   hematemasis concerning for possible UGIB.',\n",
       " '73 y/o M with history of ESRD, COPD, CAD, [**Hospital **] transferred from an\\n   outside hospital with a loculated hemopnuemothorax developing worsening\\n   hypoxia and somnolence.',\n",
       " '73 year old male with CAD, aortic stenosis, VT/VF arrest s/p ICD and\\n   ablation, CHF (EF 20%) s/p BiV pacer, Afib on coumadin, CRI who\\n   presents after recent discharge with multiple episodes of VT.',\n",
       " '73 year old woman with atrial fibrillation/flutter,  referred\\n   for atrial fibrillation ablation.  Pulmonary vein isolation complicated\\n   by femoral artery puncture.  Patient had large hematoma but good pulses\\n   and stable blood pressure.',\n",
       " \"73 yo gentleman with PMH significant for CVA, B-cell non-hodgkin's\\n   lymphoma, chronic afib on anticoagulation, s/p elective valvuloplasty\\n   for mitral stenosis.\",\n",
       " '73 yo male with history of bilateral renal cell carcinoma metastatic to\\n   right adrenalectomy presents for post-operative monitoring after right\\n   adrenalectomy and prostate biopsy.',\n",
       " '73 yo male with small cell lung cancer s/p chemo/radiation in [**Month (only) 60**]/[**Month (only) 2605**]\\n   [**2197**], CHF EF45% s/p ICD for primary prevention, COPD on prednisone who\\n   presents in respiratory distress.',\n",
       " '73F PMHx of IDDM, seizure disorder and breast cancer presenting with R\\n   hip fx s/p fall and admitted to the ICU initially with ARF and troponin\\n   leak; now s/p ORIF of R hip with post-op hypoxia.',\n",
       " '73F s/p CABG on [**1-6**] complicated by sternal wound infxn, a-fib, and\\n   respiratory failure requiring trach/PEG returns with bleeding from her\\n   tracheostomy site and later developed loculated left pleural effusion\\n   and persistent leukocytosis on tobramycin, and [**Month/Day (4) 5661**]..',\n",
       " '73F with PMH of ESRD on HD, PVD s/p bilateral BKA,\\n   DM, diastolic CHF presenting with hypotension.',\n",
       " '73yo woman with recent lobectomy for NSCLC presenting with likely\\n   aspiration pneumonia.',\n",
       " '74 F with no contributory PMH but a CXR with hyperexpanded lungfields,\\n   cardiomegaly, and pleural effusions who presents with acute hypoxia\\n   during a laparoscopic colorectal surgery',\n",
       " '74 y/o F with a PMH of HTN, hyperlipidemia and MR who presents from\\n   group home with syncope, found to be in CHB, now with TVP.',\n",
       " '74 y/o M with CAD/DM who presented with obstructive cholangitis and\\n   course complicated by troponin leak & acute renal failure now s/p ERCP\\n   with stenting.',\n",
       " '74 yo F with metastatic endometrial cancer with known malignant\\n   bilateral pleural effusions s/p failed pleurodesis who is being\\n   transferred to the ICU in setting of worsening hypoxia and respiratory\\n   distress.',\n",
       " '74 yo W with PMH of DM, ESRD on HD, CVA, HTN presents with NSTEMI and\\n   pulmonary edema in setting of GNR bacteremia.',\n",
       " '74F p/w headache, confusion, aphasia and found to\\n   have L frontal hemorrhage',\n",
       " '75 y/o F with a h/o asthma and PAF on coumadin presenting an asthma\\n   exacerbation likely triggered by viral bronchitis.',\n",
       " '75 yo M hx CAD s/p recent NSTEMI, a. fib not on Coumadin, and recent\\n   hospitalization for SIRS now with pneumonia on CXR and hypotension.\\n   .',\n",
       " '75 yo M with h/o CAD, Afib, Cirrhosis, pleural effusions p/w fatigue,\\n   weakness and found to have hypoxemia, hypotension, pancytopenia and\\n   acute on chronic renal failure.',\n",
       " '75 yo M with h/o cardiomyopahy (EF 15%), atrial fibrillation, pulmonary\\n   embolism (on coumadin), adrenal insufficiency, and s/p several recent\\n   admissions following episode of Klebsilella pneumonia complicated by\\n   respiratory failure and septic shock. Presents to hospital with\\n   syncope, hypoxia, hypotension and altered mental status.',\n",
       " '75-yo woman with ARVC, h/o sustained VT and syncope s/p ICD, also\\n   atrial flutter and fibrillation s/p EP study (atypical flutter, no\\n   ablation) and cardioversion last week, p/w right femoral hematoma,\\n   supratherapeutic INR, and drop in Hematocrit.',\n",
       " '76 F with history of CKD (baseline creatinine 2.5), hyperlipidemia on\\n   statin, HTN; admit with rhabdomyolysis, ARF on CKD, hyperkalemia, and\\n   respiratory alkalosis',\n",
       " '76 man with metastatic renal cell ca on hospice at home, with\\n   metastatic spread to duodenum presents with recurrent GIB likely due to\\n   known duodenal mass from metastatic RCC, not amenable to surgical or\\n   endoscpic intervention. Family meeting held yesterday, goals of care\\n   changed to CMO.  Pt was on hospica at home, wife still working and\\n   seems overwhelmed by pts grave condition.',\n",
       " '76 y/o M with PMH of HTN, DM type 2, hyperlipidemia and CRI who\\n   presents from home with coffee ground emesis.\\n   .',\n",
       " '76 yo F history of COPD on home oxygen, moderate to severe aortic\\n   stenosis and dCHF who presented to [**Location (un) 1415**] on [**2119-12-30**] with progressive\\n   dyspnea on exertion and cough productive of clear sputum transferred\\n   here after PEA arrest with evidence of unstable T11 fracture now POD\\n   #67 s/p fusion T6 to L4, laminectomy T12-L2.',\n",
       " '76 yo F with  post ERCP necrotic pancreatitis electively intubated to\\n   allow fluid resuscitation.',\n",
       " '76-year-old male with a new onset presyncopal symptoms s/p EPS showing\\n   AVRNT s/p slow pathway ablation who is transfered to CCU after\\n   developing 3rd degree heart block.',\n",
       " '76yoM h/o CHF, a fib on coumadin found down, now with pna and sepsis.',\n",
       " '77 y/o M with locally advanced, unresectable pancreatic cancer s/p\\n   cyberknife and current rx with gemcitabine p/w with brisk UGIB from\\n   tumor invasion into duodenal bulb, s/p transfusion of 8U PRBC\\n   .',\n",
       " '77 yo M with dCHF (Grade II), severe AS (0.8-1.0cm2), HTN, HL, diet\\n   controlled DM, PVD s/p Left axillary bifemoral bypass [**2189-8-28**] and s/p\\n   left fem-pt bypass w/ ISSV [**2184**] presents with a-fib /w RVR.',\n",
       " '78 y/o M with multiple medical problems including healthcare associated\\n   pneumonia, chronic aspiration, afib on coumadin, CVAs, and CAD who\\n   presents with hypoxia, consistent with pulmonary edema.  Plan to wait\\n   for family\\ns arrival today and take patient off of ventilator, transfer\\n   to [**Hospital1 **] for supportive care.',\n",
       " '78 year old female with atrial fibrillation s/p pulmonary vein\\n   isolation procedure [**6-6**] c/b post-procedural hypotension and hematocrit\\n   drop',\n",
       " '78 year old female with history of anxiety/GERD p/w with\\n   choledocholithiasis s/p ERCP and removal of stones yesterday.',\n",
       " '78yo female with history of multiple medical problems including type 2\\n   diabetes mellitus, hypertension, obstructive sleep apnea s/p trach\\n   placement, and breast cancer was admitted with leukocytosis most likely\\n   related to C. diff and acute renal failure.',\n",
       " '79 M p/w STEMI from OSH, found to have 90% L-main, 100% RCA and w/\\n   cardiogenic shock requiring IABP.  Patient had stent placed to L-main.\\n   Was deemed non-operable candidate.',\n",
       " '79 y/o F with PMHx of CAD s/p CABG, DM, Dementia and HTN who presents\\n   with BRBPR and hct drop from 32 to 26.\\n   .',\n",
       " '79 year-old female with history of sarcoidosis, moderate pulmonary\\n   hypertension, ILD, and diabetes mellitus type 2 who presents with acute\\n   on chronic dyspnea',\n",
       " '79 year-old male with a history of dementia who presents with acute\\n   respiratory failure requiring intubation.',\n",
       " '79 yo F w/ a h/o CHF (EF of 20-30%), carotid stenosis, no CAD from cath\\n   [**2-1**], and h/o LBBB s/p BiV pacer presents as OSH transfer with ?Sepsis\\n   [**1-25**] UTI, atrial fibrillation w/ RVR and demand ischemia.',\n",
       " '79 yo M with PMH moderate dementia transferred to ICU for obtundation\\n   after an unwitnessed fall 2 days ago and question of possible seizure\\n   like activity.',\n",
       " '79 yo female with CAD s/p CABG with only patent LIMA-LAD, COPD, HTN,\\n   afib who presents with hematochezia, anemia, and angina',\n",
       " '79 yoM with CAD, DM-II, recent SDH s/p craniotomy and Klebsiella VAP\\n   (while trached) presenting with concern for aspiration pneumonia',\n",
       " '79 yof with hx of HTN, Hyperlipidemia, Hypothyroidism, who presented to\\n   [**Hospital 839**] Hosp with SOB and chest pressure, found to be in acute CHF,\\n   transferred here s/p traumatic intubation c/b tracheal tear and\\n   subcutaneous emphysema.  Now transferred to CCU for management of afib\\n   with RVR. Febrile overnight with episode of afib/rvr, converted to\\n   sinus with amiodarone.',\n",
       " '79-year-old female with a longstanding history of paroxysmal atrial\\n   fibrillation, HTN, and hyperlipidemia with increasing symptomatic afib\\n   s/p PVI c/b large pelvic hematoma.',\n",
       " '79F Russian speaking s/p CABG, dCHF s/p dual pacemaker, DMII, AF,\\n   CRI that presents with decreased PO and hypotension likely [**2-19**] to\\n   decresed PO in setting of UTI and potential PNA.',\n",
       " '79F with COPD, CAD, a fib, lung cancer, now with respiratory distress\\n   and septic shock now with clear evidence of recent cardiac event',\n",
       " '79F with h/o DM, HTN, hyperlipidemia, bipolar d/o on lithium,\\n   hypothyroidism, presents with symptomatic bradycardia with hypotension\\n   s/p temp pacer wire placement.',\n",
       " '79M w/ pmh significant for SIADH, COPD, BPH s/p TURP, ulcerative\\n   colitis,  presenting with abdominal pain, diahrrea, leukocytosis, and\\n   severe hyponatremia.',\n",
       " '79yo woman with h/o metastatic pancreatic CA s/p xeloda and carboplatic\\n   admitted with nausea/vomiting, developed bowel obstruction/ileus,\\n   aspiration PNA, severe sepsis, and MODS.',\n",
       " '80 y/o M with history of HTN and GERD admitted the CCU after presenting\\n   with chest pain, found to have STEMI with complete occlusion of LAD and\\n   with 3v disease s/p PCI with BMS placed in LAD.',\n",
       " \"80 year old male with hx, CVA, SBO's, prostate CA, recently\\n   discharged after ventral hernia repair who presents with fevers, AMS\\n   and hypotension c/w sepsis.\",\n",
       " '80 yo F with chronic bronchiectasis, MVR/TVR, afib, chronically on\\n   home O2 (2.5L) presents today with fevers, dyspnea, hypoxic respiratory\\n   failure and infiltrate on CXR c/w PNA.',\n",
       " '80 yo female with pmh of htn and DM admitted with an NSTEMI transferred\\n   to the CCU after an attempted cath due to a hypertensive emergency\\n   secondary to anxiety and agitation.',\n",
       " '80 yo male with COPD, Afib, HTN, who presents with dyspnea and wheezing',\n",
       " '80yF with history of GERD, hypertension, CAD, OCD, and dementia, with\\n   possible UGI bleed and stable HCT.',\n",
       " '81 year old male with hypertension, recent ACE-i and lip swelling.',\n",
       " '81 yo F h/o CAD, HTN, new dx of NSCLC p/w elective bronchoscopy c/b\\n   respiratory failure, new systolic heart dysfunction worrisome for LAD\\n   infarct',\n",
       " '81 yo M with CAD s/p CABG ischemic cardiomyopathy EF 40-45%, Afib on\\n   Coumadin, HTN, MR, TR, bifascicular block transferred from [**Location (un) 78**] s/p\\n   Vtach/Vfib arrest.',\n",
       " '81 yo female with PMH of ?, p/w acute onset\\n   dyspnea, hypoxia, and tachycardia found to have a left upper PE, right\\n   pna, uti, and afib with RVR.\\n   .',\n",
       " '81 yr old M with a PMH of CAD, three vessel disease s/p MI and CABG in\\n   [**2142**] and subsequent LAD stenting in [**2163**] complicated by ventricular\\n   aneurysms and tachycarrhythmias, chronic a. fib, systolic CHF with EF\\n   of 25% s/p single chamber ICD presents with electric shock-like pain in\\n   his chest. Patient had VT storm and required pressor support during\\n   ablation and has been admitted to CCU for further monitoring.',\n",
       " '81F with h/o chronic eosinophilic lung disease, COPD, diastolic CHF,\\n   and recent admission for MSSA and pan-sensitive Pseudomonas PNA who\\n   presents with fevers, right sided pleuritic chest pain and found to\\n   have extensive R sided PE on imaging.',\n",
       " '81M with cirrhosis, esophageal and gastric varices with recurrent\\n   variceal bleed now s/p TIPS on [**3-2**].',\n",
       " '81M with history of HTN, BPH, presenting with hemoptysis and found to\\n   have a spiculated mass in RUL.',\n",
       " '82 y/o F with CAD s/p CABG and metastatic breast cancer who presented\\n   with fever and SOB, found to have bilateral PEs and now s/p Vfib\\n   arrest, intubated and following commands.',\n",
       " '82 year old female with a history of stage [**Doctor First Name **] squamous cell carcinoma\\n   of the vulva and recent diagnosis of DVT on anticoagulation who\\n   presents from rehab with bright red blood per rectum.',\n",
       " '82 year old man with hx of T3N0 colon ca s/p transverse colectomy in\\n   [**2122**] c/b incisional hernia, dementia, DM2, HTN presents with high\\n   fever, lethargy, emesis, positive u/a.',\n",
       " '82 year-old Spanish speaking female with a history of CAD s/p recent\\n   BMS to RCA, type II DM, hyperlipidemia, hypertension, paroxysmal atrial\\n   fibrillation admitted with hypothermia and hyponatremia',\n",
       " '82 year-old female with a history of PE, MDS, CKD, anemia, CAD who\\n   presents with hypoxia and hypotension.',\n",
       " '82-yo man with complete heart block s/p dual chamber pacemaker with RV\\n   lead revision and recent device infection who presented with continued\\n   device infection for lead and device extraction, found to have\\n   significant infection of the pacer pocket and lead fibrosis, now s/p\\n   external temporary pacemaker placement and awaiting treatment with IV\\n   antibiotics prior to re-implantation of permanent pacemaker.\\n   .',\n",
       " '82M with history of CAD s/p CABG (LIMA to LAD, SVG to diagonal), HTN,\\n   HL presents transferred from [**Location (un) **] with an NSTEMI s/p BMS to the LCx.\\n   .',\n",
       " '82yo w met bladder ca xfer to unit for hypoxic resp failure in setting\\n   of severe ileus and likely peritoneal carcinomatosis',\n",
       " '83 y/oF with hip fracture and post-op atrial fibrillation, history of\\n   CHF with small LV, small pericardial effusion, troponin leak.',\n",
       " '83 year-old gentleman with CAD s/p CABG, PVD, AAA, s/p repair, ESRD on\\n   HD, diverticulosis and recent UGIB 2 months ago who comes with black\\n   stool and bleeding through his nose.',\n",
       " '83 year-old male with a history of CAD s/p CABG, DM, dCHF and s/p\\n   recent rx for MRSA septic joint who is now admitted to the ICU with\\n   hypotension following fusion of his left knee on [**2155-8-30**].',\n",
       " '83 yo F w/ critical AS (valve area < 0.8) plan AVR Tuesday w/\\n   incidental high grade AV block, likely infra-his block.\\n   .',\n",
       " '83-yo woman w/ chronic dCHF (LVH, EF 75%), chronic\\n   A-fib on anticoagulation, severe pulm HTN, DM, HTN, HL, and metastatic\\n   thyroid Ca s/p CyberKnife therapy, p/w 20-pound weight gain x2 weeks\\n   and progressively worsening SOB and DOE, found to be in A-fib w/ [**Last Name 1725**] in\\n   the ED, hypotensive, and hypoxic.',\n",
       " '83yo gentleman with T3 rectal carcinoma transferred to the ICU after\\n   significant operative blood loss during lap [**3-28**].',\n",
       " '84 year old female with PMH of DM2, CHF, s/p PPM in [**2148**], chronic LE\\n   edema who presented to the ED after a visiting nurse found her to be\\n   febrile.\\n   .',\n",
       " '84 year old male with a history of of coronary artery disease, sick\\n   sinus syndrome s/p pacemaker, chronic kidney disease and gangrenous\\n   cholecystitis now presenting with fevers, leukocytosis and right upper\\n   quadrant pain transferred for ERCP.',\n",
       " '84 yo F with Alzheimer\\ns, PAF a/w hypoxic respiratory failure in the\\n   setting of PNA, and UTI.\\n   .',\n",
       " '84 yo M with MMP and recent SDH s/p burr holes\\n   presents from rehab with worsening SDH and altered mental status. Now\\n   s/p emergent evacuation of hematoma.',\n",
       " '84 yo right handed walker-dependent women for\\n   frequent falls who lives in a nursing home with hx of prior ICH\\n   (location unclear) in [**2182**]. L intracerebral hemorrhage with some\\n   ventricular extension most likely due hypertensive hemorrhage versus\\n   amyloid.',\n",
       " '84 yoM with a history of CAD, ischemic cardiomyopathy, PVD and [**Hospital 2092**]\\n   transferred to unit with septic shock.',\n",
       " '85 F with COPD on home O2, recent admission to hospital for post-ERCP\\n   hypoxia thought related to NSTEMI and aspiration pneumonia, now\\n   admitted with worsening dyspnea, elevated troponin, and pulmonary\\n   edema.',\n",
       " '85 y/o female h/o AFib on coumadin and HTN a/w septic shock, ischemic\\n   colitis in the setting of recurrent C. diff, s/p colectomy & ileostomy,\\n   intubated and sedated, massively volume overloaded.',\n",
       " '85 year old female with history of PUD, DVT on ASA and coumadin,\\n   admitted for GI bleed and hypovolemic shock.\\n   .',\n",
       " '85 yo F with h/o Diabetes, cardiac disease, presents with acute\\n   shortness of breath to OSH, requiring intubation for respiratory\\n   distress due to CHF exacerbation.',\n",
       " '85 yo M with PMH of MM with bony metastases who presents with worsening\\n   pain and found to have altered mental status and hyponatremia',\n",
       " '85 yo male with a history of questionable CAD, first degree AV block\\n   s/p pacer placement presents with an anterior wall MI.',\n",
       " '85F with CAD s/p PCI, AFib on coumadin, breast CA s/p radical\\n   mastectomy, recent hospitalization for cardiac tamponade s/p\\n   pericardiocentesis left-sided pleural effusion s/p thoracentesis\\n   readmitted with hypoxemic respiratory failure in the setting of\\n   recurrent left pleural effusion with left lung collapse, and recurrent\\n   pericardial effusion.',\n",
       " '85F with smoldering myeloma, dementia, atrial fibrillation, with\\n   confusion and fevers, CXR concerning for pna',\n",
       " '86 y/o F h/o CAD, CHF, DM, AFib hypertherapeutic on coumadin, and\\n   chronic c. diff colitis on recently elevated dose of PO vanco a/w\\n   vomiting and diarrhea with evidence of colitis, and acute on chronic\\n   renal failure in the setting of escalating diuresis.',\n",
       " '86 y/o M with PMhx of osteoarthritis and BPH presentd for elective TKR\\n   today and has developped transient recurrent episodes of hypotension\\n   with diaphoresis/nausea that resolve with small IVF bolus.\\n   .',\n",
       " '86 yo Iranian (farsi speaking) male with h/o COPD (on home o2 (uses\\n   2-3h qdaily of home o2 overall), HTN, restless leg syndrome, BPH\\n   transferred for hypercarbic respiratory failure.',\n",
       " '86 yo male with history of recent pacemaker placement on [**2194-3-20**] for\\n   complete heart block, atrial fibrillation, myelodysplastic syndrome,\\n   and hypertension was admitted with fever and hypotension with urosepsis\\n   sepsis.',\n",
       " '86-yo man with no PMHx who presented to MWMC w/ acute systolic CHF and\\n   was found to have extensive severe CAD on cath, transferred to [**Hospital1 5**]\\n   for evaluation for possible CABG.',\n",
       " '86yo male with multiple medical problems including bladder cancer s/p\\n   removal, hypertension, ESRD on HD, DVT, SDH while on anticoagulation,\\n   and right lower extremity gangrene was transferred to the CCU for\\n   further management of arrhythmia.\\n   .',\n",
       " '87 y/o F h/o CAD, COPD, HTN a/w sepsis in the setting of GNR bacteremia\\n   and c/f obstructive pyelonephritis.',\n",
       " '87 year old Russian-speaking female with h/o breast cancer, esophageal\\n   cancer (requiring esophogeal stent), afib, DMII, s/p EGD with\\n   additional stent placement adm with hematemesis/UGIB initially HD\\n   stable with decompensation\\n   .',\n",
       " '87 year old female with a h/o CAD s/p PCI, htn, hyperlipidemia, breast\\n   cancer s/p lumpectomy and XRT who presents with altered mental status\\n   found to be hyponatremic',\n",
       " '87 yo male w/ HTN, dementia, past prostate CA presents w/ shock and\\n   hypoxemic respiratory failure',\n",
       " '87yo woman with h/o CAD, Afib on dofetalide, h/o v tach s/p PPM/ICD,\\n   CML on Gleevec but not taking, type 2 diabetes mellitus, CKD, who\\n   initially presented to the BMT service with vertigo and vomiting on\\n   [**2117-2-5**], and a white count of 173 thought to be due to untreated CML.\\n   Now transferred to the CCU for management of v tach.\\n   .',\n",
       " \"88 y.o. F with Alzheimer's dementia, afib, and failure to thrive,\\n   transferred from [**Hospital 327**] Hospital for emergent ERCP for presumed\\n   gallstone pancreatitis.\",\n",
       " '88 yo woman with metastatic lung cancer and malignant pleural effusion\\n   admitted with hypotension, tachypnea, now largely resolved, but now\\n   with ARF',\n",
       " '88 yo woman with recent admissions for MS changes and hx of MS, p/w\\n   bradycardia, hypothermia.',\n",
       " '88M with afib on coumadin, CHF(EF 25-30%), s/p PPM, pancreatic\\n   insufficiency, admitted with GIB and reported orthostatic hypotension',\n",
       " '88M with h/o HOCM and GI bleed [**2-4**] AVMS who was transferred from\\n   [**Hospital3 213**] with hypotension, tachycardia and diaphoresis overnight.\\n   .',\n",
       " '89 F w/ PMHx of hypothyroid, prior syncopal episodes of unknown\\n   etiology presents w/ syncope and high degree AV block, now s/p\\n   temporary pacer placement.',\n",
       " '89 year old right handed man with type 2 diabetes\\n   mellitus, peripheral vascular disease, atrial\\n   fibrillation on coumadin with a sub therapeutic INR, CAD, HLD\\n   presenting with a C2 fracture and acute/subacute right cerebellar\\n   infarct',\n",
       " '89 year old woman with hypertension, paroxysmal atrial fibrillation,\\n   aortic stenosis, recent pseudomonas bacteremia, presenting with nausea,\\n   vomiting, bradycardia, hypotension and respiratory failure, in critical\\n   condition. [**2121-10-24**] patient experienced R anterior MCA infarct.\\n   .',\n",
       " \"89 yo with PMH of alzheimer's dementia, hypernatremia, urosepsis,\\n   pneumonia, and recent d/c from MICU presents with AMS, elevated INR and\\n   frank blood from her tracheostomy.\\n   .\",\n",
       " '89-M w/ CAD, prostate Ca s/p suprapubic catheter placement [**11/2187**],\\n   COPD, anemia, h/o delirium on previous hospital admissions, admitted\\n   from NH w/ delirium. Found to have a UTI s/p suprapubic catheter change\\n   on Cipro, also received an additional dose of Zyprexa for agitation,\\n   now transferred to the ICU for monitoring after a brief episode of\\n   unresponsiveness, pulselessness, hypoxia, and diaphoresis. Evaluation\\n   at the time only revealed prolonged QTc on ECG compared to admission.\\n   .',\n",
       " '89yo male with history of CVA in [**2143**] with disordered breathing, T2DM\\n   was admitted with recurrent chest pain after previous admission 2 weeks\\n   ago with 3 vessel disease s/p DES to RCA and found to have stent\\n   thrombosis.',\n",
       " '9yo woman with HCV cirrhosis s/p TIPS [**2153**] (MELD 15), with ESBL E.\\n   Coli of R hip, transferred to the MICU in the setting of progressive\\n   hypoxia now P.O.D. #3 for R ex-plant',\n",
       " 'A&P:  65M with severe pulmonary hypertension electively admitted to\\n   initiate Flolan therapy.',\n",
       " 'A&P: 33 year old male with relapsed large cell lymphoma status post\\n   allogenic stem cell transplant in [**6-/2167**] with complications of severe\\n   chronic extensive skin and oral GVHD, requiring chronic\\n   immunosuppression and TPN; recent admit for [**First Name5 (NamePattern1) 188**] [**Last Name (NamePattern1) 2630**] fungemia\\n   presenting with fever, tachycardia and hypotension.',\n",
       " 'A/P:  Ms [**Known lastname **] is an 80 yo female with COPD, HTN, HL, DM, who was\\n   discharged two weeks ago for COPD flare requiring ICU monitoring and\\n   discharged on a prednisone taper, who is here for COPD exacerbation.',\n",
       " 'A/P:  [**Age over 90 58**] yoM w/ a h/o severe dementia, severe bronchiectasis and\\n   multiple recent falls, presenting s/p fall with a question of\\n   repiratory distress.',\n",
       " 'A/P: 56 yo M with history of hemochromatosis and history of CAP,\\n   presents with LLL pneumonia and hypoxia.',\n",
       " 'A/P: 80 y.o. F with CHF, atrial fibrillation on coumadin, CAD, AV\\n   replacement with AS, DM, PPM, pulm fibrosis (on home O2) who presented\\n   with fevers and hypotension',\n",
       " 'A/P: 80 yo F with a bronchiectasis and CHF admitted with fevers and\\n   shortness of breath concerning for pulmonary infection.\\n   .',\n",
       " 'A/P: Ms. [**Name13 (STitle) 6411**] is a 61yo female with PMH as listed above who is\\n   being transferred to the MICU for bloody stools and',\n",
       " 'A/P: This is a 74 yo M with DM, CAD s/p CABG with recent admission for\\n   upper GI bleed (esophagitis, gastric/duod ulcers), presenting now with\\n   syncope, hypoglycemia and acute blood loss anemia.',\n",
       " 'A/P:78 yo M w/ MMP p/w GIB in setting of elevated INR',\n",
       " 'ACUTE CONFUSION\\n PNEUMONIA, OTHER\\n .H/O ATRIAL FLUTTER (AFLUTTER)\\n .H/O DIABETES MELLITUS (DM), TYPE II\\n   This is a 75 year-old man with CHF, afib on coumadin, diabetes, CAD s/p\\n   MI, recent admission for PNA, who presents from rehab with altered\\n   [**Month/Year (2) 7446**] status, found to have new fever and leukocytosis.',\n",
       " 'ACUTE RESPIRATORY DISTRESS SYNDROME (ARDS, ACUTE LUNG INJURY, [**Doctor Last Name 11**])\\n HYPERTENSION, BENIGN\\n CHRONIC OBSTRUCTIVE PULMONARY DISEASE (COPD, BRONCHITIS, EMPHYSEMA)\\n   WITH ACUTE EXACERBATION\\n   70F with severe kyphoscoliosis and chronic restrictive lung\\n   disease/hypoventilation, presenting with likely hypercarbic respiratory\\n   failure.',\n",
       " 'AIRWAY, INABILITY TO PROTECT (RISK FOR ASPIRATION, ALTERED GAG,\\n   AIRWAY CLEARANCE, COUGH)\\n ALCOHOL ABUSE\\n HYPOTENSION (NOT SHOCK)\\n ALTERED MENTAL STATUS (NOT DELIRIUM)\\n   Assessment and Plan:\\n   49F with unknown PMH, presenting after being found down with +EtOH on\\n   board.  Intubated for airway protection.  Now with ?tracheal/esophageal\\n   perforation.',\n",
       " 'ALCOHOL ABUSE\\n   Assesment: This is a 37 year-old male with a history of alcoholism with\\n   multiple admissions for detox and history of DTs/withdrawal seizures\\n   who presents with intoxication followed by withdrawal.',\n",
       " 'ALCOHOL WITHDRAWAL (INCLUDING DELIRIUM TREMENS, DTS, SEIZURES)\\n   57M with alcohol abuse, depression admitted for alcohol detoxification',\n",
       " 'ALKALOSIS, RESPIRATORY\\n PULMONARY EDEMA\\n FEVER (HYPERTHERMIA, PYREXIA, NOT FEVER OF UNKNOWN ORIGIN)\\n TACHYCARDIA, OTHER\\n RASH\\n RENAL FAILURE, ACUTE (ACUTE RENAL FAILURE, ARF)\\n CONSTIPATION (OBSTIPATION, FOS)\\n HYPERGLYCEMIA\\n ACUTE RESPIRATORY DISTRESS SYNDROME (ARDS, ACUTE LUNG INJURY, [**Doctor Last Name 76**])\\n SEPSIS WITHOUT ORGAN DYSFUNCTION\\n PNEUMONIA, OTHER\\n AIRWAY, INABILITY TO PROTECT (RISK FOR ASPIRATION, ALTERED GAG,\\n   AIRWAY CLEARANCE, COUGH)\\n   56M with asthma, DM, HTN presenting with respiratory distress and\\n   pneumonia/ARDS from influenza A/H1N1.',\n",
       " \"ALTERATION IN NUTRITION\\n ALTERED MENTAL STATUS (NOT DELIRIUM)\\n FALL(S)\\n IMPAIRED SKIN INTEGRITY\\n   89 F with h/o of HTN, hyperlipidemia and syncope who was brought to the\\n   ED after a witnessed fall where her head struck the ground.  Pt was\\n   intubated in the ED for altered mental status so that a thorough\\n   work-up could be conducted.  Head CT was negative and patients labs\\n   were by-in-large unremarkable.  She did have a mildly elevated lactate\\n   and acidemia that were attributed to the fact that she was violently\\n   thrashing around prior to sedation and intubation.  With gentle fluids\\n   and time, her lactate has come back down.  The patient's history was\\n   obtained from her son who reports that she falls quite frequently.  She\\n   is normally seen at [**Hospital6 5579**].  Syncope work-ups have been\\n   unrevealing to date.\",\n",
       " 'ALTERATION IN NUTRITION\\n RENAL FAILURE, ACUTE (ACUTE RENAL FAILURE, ARF)\\n SEIZURE, WITHOUT STATUS EPILEPTICUS\\n ELECTROLYTE & FLUID DISORDER, OTHER\\n DIABETIC KETOACIDOSIS (DKA)\\n CVA (STROKE, CEREBRAL INFARCTION), OTHER\\n TACHYCARDIA, OTHER\\n FEVER, UNKNOWN ORIGIN (FUO, HYPERTHERMIA, PYREXIA)\\n [**Last Name 9**] PROBLEM - ENTER DESCRIPTION IN COMMENTS\\n   73M with h/o R sided strokes, seizure disorder, dementia, now with new\\n   onset diabetes and hyperglycemia/HHS, fevers, elevated WBC, and\\n   witnessed seizure, and hypernatremia',\n",
       " 'ALTERED MENTAL STATUS (NOT DELIRIUM)\\n .H/O CARDIOMYOPATHY, OTHER\\n RESPIRATORY FAILURE, ACUTE (NOT ARDS/[**Doctor Last Name 76**])\\n   This is a 75 yo M with [**Last Name (LF) 7287**], [**First Name3 (LF) **] 15%, afib on coumadin, s/p pacer\\n   placement, admitted from [**Hospital1 **] with RLL pna and respiratory distress.',\n",
       " 'ALTERED MENTAL STATUS (NOT DELIRIUM)\\n HYPOXEMIA\\n CARDIAC DYSRHYTHMIA OTHER\\n FEVER (HYPERTHERMIA, PYREXIA, NOT FEVER OF UNKNOWN ORIGIN)\\n IMPAIRED SKIN INTEGRITY\\n   This is a 55 year-old man with metastatic melanoma who presents with\\n   altered mental status and hemorrhagic brain mets.\\n   .',\n",
       " 'ALTERED MENTAL STATUS (NOT DELIRIUM)\\n NAUSEA / VOMITING\\n   .\\n   Assessment and Plan\\n   74-year-old woman with recurrent follicular cell lymphoma who presented\\n   for induction with protocol Ofatumumab/ICE and was transferred to the\\n   ICU for acute mental status changes and fever.',\n",
       " 'ALTERED MENTAL STATUS (NOT DELIRIUM)\\n RENAL FAILURE, END STAGE (END STAGE RENAL DISEASE, ESRD)\\n RESPIRATORY FAILURE, ACUTE (NOT ARDS/[**Doctor Last Name **])\\n CARDIAC ARREST\\n   61M with ESRD s/p CRT, HTN, DM, admitted with dyspnea and ARF and now\\n   s/p PEA arrest and comatose',\n",
       " 'ALTERED MENTAL STATUS (NOT DELIRIUM)\\n [**Last Name 12**] PROBLEM - ENTER DESCRIPTION IN COMMENTS\\n   Fluid Volume Overload\\n CIRRHOSIS OF LIVER, ALCOHOLIC\\n IMPAIRED SKIN INTEGRITY\\n ALTERATION IN NUTRITION\\n AIRWAY, INABILITY TO PROTECT (RISK FOR ASPIRATION, ALTERED GAG,\\n   AIRWAY CLEARANCE, COUGH)\\n ASCITES\\n EDEMA, PERIPHERAL\\n GASTROINTESTINAL BLEED, LOWER (HEMATOCHEZIA, BRBPR, GI BLEED, GIB)\\n RENAL FAILURE, ACUTE (ACUTE RENAL FAILURE, ARF)\\n   .\\n   Ms. [**Known lastname 5566**] is a 63 yo female with alcoholic cirrhosis who was\\n   initially admitted on [**2125-8-19**] for ARF which has improved with albumin\\n   and holding diuretics, now in MICU for GIB (?hemorroidal).',\n",
       " 'ALTERED MENTAL STATUS (NOT DELIRIUM), AROUSAL, ATTENTION, AND\\n   COGNITION, IMPAIRED, BALANCE, IMPAIRED, GAIT, IMPAIRED, KNOWLEDGE,\\n   IMPAIRED, RANGE OF MOTION, IMPAIRED, TRANSFERS, IMPAIRED, [**Last Name 12**] PROBLEM\\n   - ENTER DESCRIPTION IN COMMENTS, RESPIRATORY FAILURE, ACUTE (NOT\\n   ARDS/[**Doctor Last Name 11**]), TRAUMA, S/P\\n   Assessment and Plan: 32M s/p high speed ATV collision w/ bil IPH,\\n   transverse cervical fxs at C6 and C7, R clavicular fx w/ hematoma, bil\\n   1st rib fx, pulm contusion, R femur fx.',\n",
       " 'ANXIETY\\n INEFFECTIVE COPING\\n GASTROINTESTINAL BLEED, UPPER (MELENA, GI BLEED, GIB)\\n   78 yoF with h/o moderate AS, HTN, GERD and distant PUD presenting with\\n   URI sx for 1+ weeks as well as UGIB.',\n",
       " 'ASSESSMENT AND PLAN - 76 y/o M with PMHx s/f CAD, chronic systolic CHF,\\n   CKD, who was admitted to [**Hospital1 1276**] for CHF exacerbation but developed\\n   hypotension after diuresis. Now, being transferred to CCU for overnight\\n   monitoring',\n",
       " 'ASSESSMENT AND PLAN:\\n   76 yo M w/ PMHx of HTN, DM, and ESRD on HD who was known to have second\\n   degree AV block on EKG prior and is admitted with CHB. PT delirious\\n   post DDD  PPM placement, admitted to the CCU for observation.',\n",
       " 'ASSESSMENT AND PLAN: 50 year old M with seizure disorder who presents\\n   with episode of syncope.',\n",
       " 'ATRIAL FIBRILLATION (AFIB)\\n .H/O HIP FRACTURE (FEMORAL NECK FRACTURE, FEMUR)\\n ABDOMINAL PAIN (INCLUDING ABDOMINAL TENDERNESS)\\n MYOCARDIAL INFARCTION, ACUTE (AMI, STEMI, NSTEMI)\\n   [**Age over 90 **]F with CAD, history of CVA, prior hip fracture; presenting s/p fall\\n   with new hip fracture, UTI, elevated troponin which is now trending\\n   down, also seen to have R arm/shoulder pain, and abdominal pain of\\n   unknown etiology.',\n",
       " 'ATRIAL FIBRILLATION (AFIB)\\n PNEUMONIA, OTHER\\n   85 F with HTN, chronic systolic and diastolic HF, h/o PE admitted with\\n   PNA and atrial fibrillation with RVR\\n   .',\n",
       " 'ATRIAL FIBRILLATION (AFIB), CVA (STROKE, CEREBRAL INFARCTION), ISCHEMIC\\n   Assessment and Plan: 84 year old woman w a history of atrial\\n   fibrillation without anticoagulation presents with several ischemic CNS\\n   lesions, likely due to embolic events.',\n",
       " 'Active 84yo M with HTN, AFib, CHF, Type 2 [**Hospital **] transferred to [**Hospital Unit Name 4**] with\\n   left lower lobe PNA and increasing oxygen requirements',\n",
       " 'An 83 year-old man with history of DM2, HTN, hyperlipidemia, metastatic\\n   melanoma (w/ mets to brain, lungs) presenting with altered mental\\n   status and low-grade fever, transferred from floors to ICU on [**5-2**] for\\n   hypoxia and worsening respiratory status.',\n",
       " 'An 87 yo man with history of prostate CA s/p XRT and prior bladder\\n   rupture presenting with abd pain, recurrent bladder rupture and\\n   hypotension now s/p closure of anterior perforation, still with\\n   posterior bladder wall perforation. Currently with three drains- one to\\n   peritoneum, one to bladder, and a foley catheter.',\n",
       " 'Assesment: 71 y/o M with h/o recent right MCA CVA stroke hospital\\n   course c/b bilateral pulmonary emboli, VAP s/p treatment with zosyn,\\n   now admitted with hemorrhagic 1.1cm focus in right temporal lobe and\\n   fever and hypotension with sepsis as likely etiology',\n",
       " 'Assesment: This is a 76 year-old female with a history of diabetes who\\n   presents with pneumoperitoneum of unclear aetiology, complicated by\\n   coagulopathy and rhabdomyolysis.',\n",
       " 'Assesment: [**Age over 90 **] y/o man w/MMM admitted with hemoptysis, now transferred\\n   to CCU for further care of heart failure and hypertension prior to\\n   discharge to home with hospice in AM.',\n",
       " 'Assessment and Plan\\n   42 M with SI attempt with trazodone, found to be EtOH and cocaine\\n   positive.  Admitted to ICU for observation in setting of trazodone\\n   overdose, medically stable now for >24hrs.',\n",
       " 'Assessment and Plan\\n   46 [**First Name9 (NamePattern2) 3050**] [**Location (un) 2455**] syndrome s/p small and large bowel resection on\\n   chronic TPN and hx of multiple line infections s/p femoral line\\n   removal, now being treated for OSH UTI and GNR Bacteremia.',\n",
       " 'Assessment and Plan\\n   53 y.o. man with ETOH abuse, htn, presents with [**Doctor First Name **] [**Doctor Last Name **] tear\\n   after vomiting.',\n",
       " 'Assessment and Plan\\n   62 yo F PMH of afib, memory loss s/p hypoglycemic coma, chronic low\\n   back pain, subarachnoid hemorrhage, chronic hypercarbic respiratory\\n   failure with tracheostomy in place presents for removal of trach, and\\n   concern for altered mental status.',\n",
       " 'Assessment and Plan\\n   87 yo F with PMH of CAD, HTN, hyperlipidemia and bradycardia, p/w\\n   weakness and found to have bradycardia with HR 20-30s.',\n",
       " 'Assessment and Plan\\n   A/P:  Mr. [**Known lastname 2534**] is an 81 year old male with recently diagnosed SCLC\\n   with brain mets s/p XRT and ventriculostomy placment, admitted with\\n   migrated endobronchial stent with LLL collapse s/p stent removal,\\n   episode x 2 of a. fib with RVR s/p cardioversion in ED, and headaches.',\n",
       " 'Assessment and Plan\\n   A/P: 37 yo M with unknown PMH with progressive altered mental status in\\n   the setting of intentional multi-drug and alcohol ingestion, now\\n   extubated and medically stable.',\n",
       " 'Assessment and Plan\\n   A/P: 62 yo W with PMH of DM, HTN, CAD, diastolic CHF, polysubstance\\n   abuse here with cellulitis.',\n",
       " 'Assessment and Plan\\n   The patient is a 87 yo female with h/o CAD s/p stent to RCA who\\n   presented from OSH with NSTEMI and was found to have 3VD via cardiac\\n   cath.',\n",
       " 'Assessment and Plan\\n .H/O HYPOKALEMIA (LOW POTASSIUM, HYPOPOTASSEMIA)\\n .H/O HYPOTENSION (NOT SHOCK)\\n .H/O [**Last Name 12**] PROBLEM - ENTER DESCRIPTION IN COMMENTS\\n .H/O SEPSIS WITHOUT ORGAN DYSFUNCTION\\n   62 year-old female with a history of recent pseudomonas/MRSA who\\n   presents with sepsis from left foot hardware.',\n",
       " 'Assessment and Plan\\n ALTERED MENTAL STATUS (NOT DELIRIUM)\\n HYPERNATREMIA (HIGH SODIUM)\\n [**Last Name **] PROBLEM - ENTER DESCRIPTION IN COMMENTS\\n ALCOHOL WITHDRAWAL (INCLUDING DELIRIUM TREMENS, DTS, SEIZURES)\\n ATRIAL FIBRILLATION (AFIB)\\n OBSTRUCTIVE SLEEP APNEA (OSA)\\n AROUSAL, ATTENTION, AND COGNITION, IMPAIRED\\n AIRWAY CLEARANCE, IMPAIRED\\n MUSCLE PERFORMACE, IMPAIRED\\n RANGE OF MOTION, IMPAIRED\\n RESPIRATION / GAS EXCHANGE, IMPAIRED\\n PAIN CONTROL (ACUTE PAIN, CHRONIC PAIN)\\n ACIDOSIS, RESPIRATORY\\n ACIDOSIS, MIXED\\n HYPOVOLEMIA (VOLUME DEPLETION - WITHOUT SHOCK)\\n RENAL FAILURE, ACUTE (ACUTE RENAL FAILURE, ARF)\\n RESPIRATORY FAILURE, ACUTE (NOT ARDS/[**Doctor Last Name 2**])\\n   This is a 48 year-old man s/p prolonged IM nail removal and bipolar R\\n   hip replacement complicated by large volume blood loss, transferred to\\n   the [**Hospital Unit Name 10**] for monitoring.  Subsequently developed PNA w left lower lobe\\n   colapse and EtOH withdrawal.',\n",
       " \"Assessment and Plan\\n CONSTIPATION (OBSTIPATION, FOS)\\n IMPAIRED SKIN INTEGRITY\\n .H/O CIRRHOSIS OF LIVER, ALCOHOLIC\\n .H/O LYMPHOMA (CANCER, MALIGNANT NEOPLASM, LYMPHOID)\\n .H/O PAIN CONTROL (ACUTE PAIN, CHRONIC PAIN)\\n HYPOTENSION (NOT SHOCK)\\n NEUTROPENIA\\n   .\\n   52 yoF with Lymphoplasmacytic lymphoma, Waldenstrom's\\n   macroglobulinemia, hepatitis C, h/o hepatitis B, and cryoglobulinemia\\n   admitted with new onset rash and transferred to the [**Hospital Unit Name 44**] for\\n   hypotension in the setting of neutropenia.\",\n",
       " 'Assessment and Plan\\n HYPOTENSION (NOT SHOCK)\\n .H/O CIRRHOSIS OF LIVER, ALCOHOLIC\\n SUPRAVENTRICULAR TACHYCARDIA (SVT)\\n   53 yo female with a history of ETOH cirrhosis c/b persistent\\n   leukocytosis and elevated TBili, hx ascites, grade 1 varix, no hx SBP\\n   or encephalopathy, recently discharged from [**Hospital1 5**] ([**Date range (1) 6020**]),\\n   electively admitted [**5-28**] for an EUS to evaluate a GE junction polyp\\n   (aborted given hypotension), now transferred to the liver service for\\n   acute renal failure and ?decompensated cirrhosis.',\n",
       " 'Assessment and Plan\\n RESPIRATORY FAILURE, ACUTE (NOT ARDS/[**Doctor Last Name 11**])\\n .H/O TRANSPLANT, KIDNEY (RENAL TRANSPLANT)\\n HEART FAILURE (CHF), DIASTOLIC, ACUTE\\n URINARY TRACT INFECTION (UTI)\\n   Assessment and Plan: 77 year old female with a history of end stage\\n   renal disease s/p renal transplant in [**2170**], coronary artery disease,\\n   type II diabetes and diastolic heart failure who initially presented\\n   with acute diastolic heart failure now transferred to the MICU for\\n   respiratory distress and fevers.',\n",
       " 'Assessment and Plan:  55 y/oM with either viral syndrome vs. other\\n   atypical presentation for infection or GVH with hypotension that is\\n   either hypovolemia or adrenal insufficiency and with acute renal\\n   failure.',\n",
       " 'Assessment and Plan: 39 year old male with a history of C5\\n   quadriplegia, myelodysplastic syndrome and recurrent urinary tract\\n   infections initially admitted for altered mental status and weakness\\n   now transferred to the MICU after two generalized tonic clonic seizures\\n   on the floor with associated hypoxia and worsening mental status.',\n",
       " 'Assessment and Plan: 65 yo male w/ MMP including myasthenia [**Last Name (un) 3383**] w/\\n   hx postop myasthenia crisis, now s/p colostomy takedown, ventral hernia\\n   repair, and open chole.',\n",
       " 'Assessment and Plan: 84 M s/p right TMA with V-fib arrest secondary to\\n   apneic episode',\n",
       " 'Assessment and Plan: Pt is a 65 y.o male with h.o severe OSA\\n   (central/peripheral) s/p trach who now presents s/p trach dislodgement.',\n",
       " 'Assessment and Plan: This is a 78 y/o M h/o CAD, CHF, and recently\\n   diagnosed colon cancer who presents with A. Fib with RVR and\\n   bacteremia.',\n",
       " 'Assessment and Plan: This is a 80 yo female with severe COPD, diastolic\\n   HF, DM II who presented with hypoxia and hypercarbia.',\n",
       " 'Assessment and Plan: This is a 82 year old male with Hx CAD, CHF\\n   (systolic and diastolic with EF 45%), bronchiectasis who presents with\\n   PNA, hypotension c/w sepsis.\\n   .',\n",
       " 'Assessment and [**Last Name 149**]\\n   Problem [**Name (NI) 198**]:\\n DIABETES MELLITUS (DM), TYPE I\\n HYPERTENSION, BENIGN\\n OBESITY (INCLUDING OVERWEIGHT, MORBID OBESITY)\\n HYPOXEMIA\\n CANCER (MALIGNANT NEOPLASM), OTHER\\n   presumed ovarian cancer; post-op from [**8-10**]\\n   Assessment & Plan:\\n   67 yoF POD3 abd surgery, transferred to ICU for hypoxia and respiratory\\n   distress; also found to be hypercarbic on ABG.',\n",
       " 'Assessment: 82-year-old man with multiple medical problems CHF with EF\\n   = 30%, [**Doctor First Name **] pulmonary infection, atrial fibrillation on coumadin,\\n   esophageal dysmotility resistant to intervention now p/w pneumonia.',\n",
       " 'Assessment: Pt is a [**Age over 90 **] y/o with hx of cervical DJD presenting s/p fall;\\n   being treated for CAP while inpatient, now with new onset hypotension\\n   refractory to 2.5L of NS resuscitation; being transferred for\\n   hypotension.',\n",
       " 'BACTEREMIA\\n ATRIAL FIBRILLATION (AFIB)\\n FEVER, UNKNOWN ORIGIN (FUO, HYPERTHERMIA, PYREXIA)',\n",
       " 'CANCER (MALIGNANT NEOPLASM), BREAST\\n HYPOXEMIA\\n DEPRESSION\\n DELIRIUM / CONFUSION\\n HYPERTENSION, BENIGN\\n HYPOGLYCEMIA\\n   78 yo F with h/o COPD, lung ca s/p lobectomy, breast CA s/p lumpectomy\\n   who presents with altered mental status and new hypercarbic/hypoxic\\n   respiratory failure.',\n",
       " 'CHEST PAIN\\n   Mr. [**Known firstname 275**] [**Initial (NamePattern1) **] [**Last Name (NamePattern1) 4964**] [**Known lastname 8175**] is a very nice 60 year-old gentleman with DM2,\\n   HTN, dyslipidemia, and strong family history of CAD who presented with\\n   chest pain and was found to have LMCA disease and is awaiting CABG, who\\n   had CP episode today and is transfered to CV-ICU for monitoring.',\n",
       " 'CHRONIC OBSTRUCTIVE PULMONARY DISEASE (COPD, BRONCHITIS, EMPHYSEMA)\\n   WITH ACUTE EXACERBATION\\n   IMPRESSION: 57 y/o man with long smokign history admitted to [**Hospital Unit Name 10**] with\\n   makred dypnea and lower extremity swelling:',\n",
       " 'CHRONIC OBSTRUCTIVE PULMONARY DISEASE (COPD, BRONCHITIS, EMPHYSEMA)\\n   WITH ACUTE EXACERBATION\\n NEPHROLITHIASIS (KIDNEY STONES)\\n   74 yo woman with pyelonephritis/nephrolithiasis, resolved septic shock\\n   HOTN/sepsis/pylonephritis/nephrolithiasis:  S/P perc nephrostomy tube.\\n   Cont CTX.  Urology f/u for question stent.',\n",
       " 'COAGULOPATHY\\n   Assessment and Plan:\\n   This is a 62 yo male with ESLD recently admitted with R chest wall\\n   hematoma s/p two IR embolizations who presents with recurrent right\\n   groin sheath site.',\n",
       " 'CORONARY ARTERY BYPASS GRAFT (CABG)\\n   Assessment and Plan: 65 yo M POD 1 from CABGx4 (LIMA-LAD, SVG-OM,\\n   SVG-Ramus, SVG-RCA) [**5-9**], extubated post-op, hypertensive on\\n   nitroglycerine. EF 55%',\n",
       " 'DELIRIUM / CONFUSION, ALCOHOL WITHDRAWAL (INCLUDING DELIRIUM TREMENS,\\n   DTS, SEIZURES), CHOLECYSTITIS, ACALCULOUS\\n   Assessment and Plan: 58yoF with h/o A-Fib, s/p gastric bypass [**2167**] now\\n   s/p biliary drain w repair due to acute cholecystitis / cholangitis,\\n   found to be in alcohol withdrawal. S/p percutaneous bile drainage x2,\\n   spiked fevers o/n [**7-22**]. Intubated for airway protection during procudure\\n   [**7-22**] - plan to wean to extubation [**7-23**].',\n",
       " 'DIABETES MELLITUS (DM), TYPE II\\n NAUSEA / VOMITING\\n ANEMIA, ACUTE, SECONDARY TO BLOOD LOSS (HEMORRHAGE, BLEEDING)\\n HYPERNATREMIA (HIGH SODIUM)\\n PERIPHERAL VASCULAR DISEASE (PVD) WITH CRITICAL LIMB ISCHEMIA\\n GASTROINTESTINAL BLEED, UPPER (MELENA, GI BLEED, GIB)\\n PAIN CONTROL (ACUTE PAIN, CHRONIC PAIN)\\n   78M w DM2, PVD, CAD, afib, intially presented for falls, hospital\\n   course complicated by MSSA bacteremia from presumed foot source,\\n   seeding of sternal joint and possibly lumbar epidural space, now\\n   admitted to MICU with hematemesis and s/p EGD with bleeding ulcer\\n   visualized. It is likely the pt\\ns continued n/v on the floor was less\\n   likely due to narcotics and probably due to severe PUD, and the ulcer\\n   finally opened up.',\n",
       " 'DIARRHEA\\n DEPRESSION\\n .H/O ALCOHOL ABUSE\\n PANCREATITIS, ACUTE\\n PNEUMONIA, OTHER\\n   44 F with acute pancreatitis [**2-13**] ETOH vs stone with course c/b\\n   aspiration and volume overload s/p intubation for tachypnea transferred\\n   for further workup pancreatitis involving possible ERCP',\n",
       " 'DISSEMINATED INTRAVASCULAR COAGULATION (DIC)\\n CANCER (MALIGNANT NEOPLASM), ESOPHAGEAL\\n CANCER (MALIGNANT NEOPLASM), BONE\\n FEVER (HYPERTHERMIA, PYREXIA, NOT FEVER OF UNKNOWN ORIGIN)\\n PNEUMONIA, BACTERIAL, COMMUNITY ACQUIRED (CAP)\\n   Mr. [**Known lastname 91**] is a 63 y/o male with metastatic esophageal adenocarcinoma\\n   with extensive bone marrow involvement and secondary DIC admitted with\\n   fever, hemoptysis, evidence of alveolar hemorrhage and DIC.\\n   .',\n",
       " 'ELECTROLYTE & FLUID DISORDER, OTHER\\n HYPOTENSION (NOT SHOCK)\\n FEVER, UNKNOWN ORIGIN (FUO, HYPERTHERMIA, PYREXIA)\\n RENAL FAILURE, CHRONIC (CHRONIC RENAL FAILURE, CRF, CHRONIC KIDNEY\\n   DISEASE)\\n SEPSIS WITHOUT ORGAN DYSFUNCTION\\n   81M w/ pmh ESRD on HD, Diastolic CHF, afib, previous line infections\\n   currently being treated with vancomycin, presenting with GNR Bacteremia',\n",
       " 'ELECTROLYTE & FLUID DISORDER, OTHER\\n IMPAIRED HEALTH MAINTENANCE\\n ALCOHOL ABUSE\\n .H/O GASTROINTESTINAL BLEED, OTHER (GI BLEED, GIB)\\n   Assessment and Plan: This is a 50 year old man with history of ETOH\\n   abuse admitted to ICU with alcohol withdrawal and elevated LFTs\\n   consistent with alcoholic liver disease.',\n",
       " 'FEVER (HYPERTHERMIA, PYREXIA, NOT FEVER OF UNKNOWN ORIGIN)\\n TACHYCARDIA, OTHER\\n CANCER (MALIGNANT NEOPLASM), PANCREAS\\n SUPRAVENTRICULAR TACHYCARDIA (SVT)\\n RENAL FAILURE, ACUTE (ACUTE RENAL FAILURE, ARF)\\n LIVER FUNCTION ABNORMALITIES\\n ANEMIA, CHRONIC\\n HYPERTENSION, BENIGN\\n   58 year-old male with history of pancreatic cancer presented [**2117-10-6**]\\n   with fever and tachycardia.',\n",
       " \"GASTROINTESTINAL BLEED, LOWER (HEMATOCHEZIA, BRBPR, GI BLEED, GIB)\\n   62 yoF w/ a h/o Crohn's disease presenting with lower GI bleed likely\\n   related to diverticulosis.\",\n",
       " 'GASTROINTESTINAL BLEED, LOWER (HEMATOCHEZIA, BRBPR, GI BLEED, GIB)\\n   74yo male with history of radiation proctitis with recent LGIB, GERD,\\n   PVD, and severe aortic stenosis who presents with drop in Hct and\\n   BRBPR.',\n",
       " 'GASTROINTESTINAL BLEED, LOWER (HEMATOCHEZIA, BRBPR, GI BLEED, GIB)\\n   86 year old female with a hx of Colon cancer s/p recent R colectomy\\n   presents with multiple episodes of BRBPR and inappropriate response to\\n   PRBC transfusion.',\n",
       " 'GASTROINTESTINAL BLEED, LOWER (HEMATOCHEZIA, BRBPR, GI BLEED, GIB)\\n   Assessment/Plan: This is a [**Age over 90 **] year-old female with a history of CHF,\\n   CAD, hypertension, diverticuli who presented [**12-23**] with bleeding.',\n",
       " 'GASTROINTESTINAL BLEED, OTHER (GI BLEED, GIB)\\n   78 yo woman with h/o NSAID-induced gastric ulcers transferred from\\n   [**Location (un) 78**] for evaluation of GI bleed.',\n",
       " 'GASTROINTESTINAL BLEED, OTHER (GI BLEED, GIB)\\n   This is a 68 yo M with extensive Hx of hospitalization for COPD\\n   exacerbation as well as multiple lower GI bleeds admitted for\\n   hematochezia.',\n",
       " 'GASTROINTESTINAL BLEED, OTHER (GI BLEED, GIB)\\n LYMPHOMA (CANCER, MALIGNANT NEOPLASM, LYMPHOID)\\n   Patient is a 50 year old male with newly found B cell lymphoma\\n   significant gi bleed, unclear whether from tumor, biopsy or\\n   sphincterotomy',\n",
       " 'GASTROINTESTINAL BLEED, UPPER (MELENA, GI BLEED, GIB)\\n ANEMIA, ACUTE, SECONDARY TO BLOOD LOSS (HEMORRHAGE, BLEEDING)\\n   82 yo M with h/o HTN, anemia, DM II who presents with dark colored\\n   stools, worsening anemia, and likely GI bleed.',\n",
       " 'GASTROINTESTINAL BLEED, UPPER (MELENA, GI BLEED, GIB), HYPERKALEMIA\\n   (HIGH POTASSIUM, HYPERPOTASSEMIA)\\n   Assessment and Plan: ASSESSMENT:49M with ESRD [**1-30**] DM1, s/p renal\\n   transplant on [**10-14**] admitted for upper GI bleed secondary to gastric\\n   erosions',\n",
       " 'H/O ACIDOSIS, RESPIRATORY\\n .H/O ALTERED MENTAL STATUS (NOT DELIRIUM)\\n   A/P: 77 yo M with multiple medical problems on multiple medications\\n   presents with altered mental status, admitted for hypercarbic\\n   respiratory failure.',\n",
       " 'H/O ASTHMA\\n .H/O DIABETES MELLITUS (DM), TYPE II\\n .H/O DIARRHEA\\n   63M with history of asthma, type II DM, ?ILD presenting with shortness\\n   of breath, malaise, diarrhea, now admitted to MICU with respiratory\\n   distress.',\n",
       " 'H/O CIRRHOSIS OF LIVER, ALCOHOLIC\\n .H/O MALNUTRITION\\n ALTERATION IN NUTRITION\\n DELIRIUM / CONFUSION\\n PNEUMONIA, OTHER\\n   This is a 44yoF w/h/o etoh abuse and chronic pancreatitis w/multiple\\n   complications who is transferred from OSH per family request for\\n   management of pancreatitis and fever.',\n",
       " 'H/O CORONARY ARTERY DISEASE (CAD, ISCHEMIC HEART DISEASE)\\n PAIN CONTROL (ACUTE PAIN, CHRONIC PAIN)\\n   77 yo M with history of CAD and recent diagnosis of melanoma who is s/p\\n   parotidectomy w/ neck node dissection. Had ST depressions\\n   intraoperatively.\\n   .',\n",
       " 'H/O CVA (STROKE, CEREBRAL INFARCTION), OTHER\\n PNEUMONIA, [**Hospital 50**] HOSPITAL ACQUIRED (NON-VAP)\\n HYPOTENSION (NOT SHOCK)\\n   78F with h/o stroke with R hemiparesis and aphasia presents with\\n   hypoxia, volume overload/CHF, and hypotension',\n",
       " 'H/O GASTROINTESTINAL BLEED, LOWER (HEMATOCHEZIA, BRBPR, GI BLEED,\\n   GIB)\\n   77M s/p colonoscopy a day ago who presents with BRBPR without changes\\n   in hemodynamics or HCT. At that procedure he underwent 7 polypectomies\\n   and was noted to have mild hemorrhoids. He has a history of easy\\n   bleeding, per the patient. He was admitted to the ICU for colonoscopy,\\n   but is refusing bowel prep for now and wants to see if his bleeding\\n   will stop spontaneously.',\n",
       " 'H/O HEADACHE, .H/O ABDOMINAL PAIN (INCLUDING ABDOMINAL TENDERNESS),\\n   INEFFECTIVE COPING\\n   Assessment and Plan: 45 yo M w/ h/o Afib s/p ablation & recently\\n   started on coumadin now with worsening occipital HA over last 2 days.\\n   LP at OSH showed 790 RBC, 4 WBC with polychromasia. CT head shows\\n   ?intracranial hypotension, ?generalized edema.  MRI showing blood with\\n   cerebral swelling.',\n",
       " 'H/O HYPERGLYCEMIA\\n ACIDOSIS, METABOLIC\\n RESPIRATORY FAILURE, ACUTE (NOT ARDS/[**Doctor Last Name 76**])\\n CARDIAC ARREST\\n PULMONARY EMBOLISM (PE), ACUTE\\n CHEST PAIN\\n   71 year old female with DM2, HTN, GERD, admitted with b/l PE in setting\\n   of  having bowel resection and vaginal hysterectomy\\n   now 4 days s/p PEA arrest with lysed saddle embolus.',\n",
       " 'H/O HYPERKALEMIA (HIGH POTASSIUM, HYPERPOTASSEMIA)\\n .H/O HYPERGLYCEMIA\\n CHRONIC OBSTRUCTIVE PULMONARY DISEASE (COPD, BRONCHITIS, EMPHYSEMA)\\n   WITH ACUTE EXACERBATION\\n   A 59 year-old man presents with malaise and hypoxia',\n",
       " 'HEART FAILURE (CHF), SYSTOLIC AND DIASTOLIC, ACUTE\\n ANXIETY\\n ATRIAL FIBRILLATION (AFIB)\\n   Assessment and Plan\\n   This is a [**Age over 90 **] yo generally healthy female with a 2-3 weeks of worsening\\n   dyspnea.',\n",
       " 'HEART FAILURE (CHF), SYSTOLIC, ACUTE ON CHRONIC\\n ANEMIA, CHRONIC\\n RENAL FAILURE, ACUTE (ACUTE RENAL FAILURE, ARF)\\n CORONARY ARTERY DISEASE (CAD, ISCHEMIC HEART DISEASE)\\n FEVER (HYPERTHERMIA, PYREXIA, NOT FEVER OF UNKNOWN ORIGIN)\\n ATRIAL FIBRILLATION (AFIB)\\n RESPIRATORY FAILURE, ACUTE (NOT ARDS/[**Doctor Last Name **])\\n   61F w CAD (s/p CABG), who originally p/w 3 wks of chills/malaise, and\\n   developed respiratory failure likely [**1-18**] PNA.',\n",
       " 'HEMORRHAGE/HEMATOMA, PROCEDURE-RELATED (E.G., CATH, PACEMAKER, ICD\\n   BLEED)\\n MYOCARDIAL INFARCTION, ACUTE (AMI, STEMI, NSTEMI)\\n [**Last Name 9**] PROBLEM - ENTER DESCRIPTION IN COMMENTS\\n   78 M with CAD with prior LAD BMS developed anterior STEMI, s/p 2 BMS to\\n   LAD with course c/b right groin hematoma',\n",
       " 'HEPATIC ENCEPHALOPATHY\\n   42-yo man with cirrhosis [**1-22**] EtOH & HCV on transplant list, pulm HTN,\\n   severe diuretic refractory ascites, and recurrent hepatic\\n   encephalopathy, who presented to OSH unresponsive in the setting of\\n   getting codeine and missing a dose of lactulose yesterday, found to\\n   have an elevated Ammonia and otherwise negative work-up for altered\\n   mental status.',\n",
       " 'HYPERGLYCEMIA\\n HYPERNATREMIA (HIGH SODIUM)\\n HYPOVOLEMIA (VOLUME DEPLETION - WITHOUT SHOCK)\\n   This is a 56 year-old male with a history of GERD, tobacco use, who\\n   presents with hyperglycemia and metabolic acidosis and polyuria,\\n   polydipsia, fatigue and weight loss consistent with new onset diabetes\\n   and HHKS vs DKA.  Likely HHKS with some element of ketosis from\\n   prolonged hyperglycemia (duration of symptoms 2 months) and severe beta\\n   cell dysfunction. Thought less likely to be DKA/DMI give late onset and\\n   very strong family history.',\n",
       " 'HYPERKALEMIA (HIGH POTASSIUM, HYPERPOTASSEMIA)\\n    his is an 82 year-old male with a history of prostate cancer who\\n   presented with lower extremity weakness and is admitted with\\n   hyperkalemia.',\n",
       " \"HYPERKALEMIA (HIGH POTASSIUM, HYPERPOTASSEMIA), BRADYCARDIA, .H/O\\n   NECROTIZING FASCITIS, CVA (STROKE, CEREBRAL INFARCTION), HEMORRHAGIC\\n   Assessment and Plan: 61yo M with recent admission for Fournier's\\n   gangrene s/p debridement, longstanding DM1, HTN, CRI now presenting\\n   with sudden onset nonfluent aphasia and right hemiparesis.\",\n",
       " 'HYPERKALEMIA (HIGH POTASSIUM, HYPERPOTASSEMIA), [**Last Name 12**] PROBLEM - ENTER\\n   DESCRIPTION IN COMMENTS\\n   ASSESSMENT AND PLAN: 59M with distal esophageal cancer (adenoCA) s/p\\n   laparoscopy with right thoracotomy [**First Name9 (NamePattern2) 14156**] [**Doctor Last Name 4231**] esophagectomy',\n",
       " 'HYPERNATREMIA (HIGH SODIUM)\\n VALVE REPLACEMENT, AORTIC MECHANICAL (AVR)\\n DIABETES MELLITUS (DM), TYPE II\\n [**Last Name **] PROBLEM - ENTER DESCRIPTION IN COMMENTS\\n   EKG changes\\n SEPSIS, SEVERE (WITH ORGAN DYSFUNCTION)\\n SEIZURE, WITHOUT STATUS EPILEPTICUS\\n RESPIRATORY FAILURE, CHRONIC\\n ATRIAL FIBRILLATION (AFIB)\\n IMPAIRED SKIN INTEGRITY\\n RENAL FAILURE, ACUTE (ACUTE RENAL FAILURE, ARF)\\n   85 y/o female with hx R-sided heart failure, pulmonary HTN, afib,\\n   rheumatic heart disease s/p MVR c mechanical valve, HTN, who presents\\n   with fever, hypotension, unresponsiveness.',\n",
       " 'HYPERTENSION, BENIGN\\n PAIN CONTROL (ACUTE PAIN, CHRONIC PAIN)\\n SUBDURAL HEMORRHAGE (SDH)\\n ALCOHOL WITHDRAWAL (INCLUDING DELIRIUM TREMENS, DTS, SEIZURES)\\n OBSTRUCTIVE SLEEP APNEA (OSA)\\n   68 y/o M hx EtOH abuse, last drink this morning, now s/p fall resulting\\n   in SDH and withdrawal symptoms',\n",
       " 'HYPERTENSION, BENIGN, BRAIN ABSCESS (CNS ABSCESS)\\n   Assessment and Plan: 44M s/p embolization of brain mass, and elective\\n   crani for L post fossa  mass resection.',\n",
       " 'HYPOTENSION (NOT SHOCK)\\n ALTERED MENTAL STATUS (NOT DELIRIUM)\\n PAIN CONTROL (ACUTE PAIN, CHRONIC PAIN)\\n HYPONATREMIA (LOW SODIUM, HYPOSMOLALITY)\\n HIV (HUMAN IMMUNODEFICIENCY VIRUS, ACQUIRED IMMUNODEFICIENCY\\n   SYNDROME, AIDS)\\n   49-year-old woman with shock, altered mental status, renal failure, and\\n   worsening hepatic failure.  Etiology of shock is not completely clear:\\n   hypovolemia, sepsis.  Now off pressors.',\n",
       " 'HYPOTENSION (NOT SHOCK)\\n FEVER (HYPERTHERMIA, PYREXIA, NOT FEVER OF UNKNOWN ORIGIN)\\n RESPIRATORY FAILURE, ACUTE (NOT ARDS/[**Doctor Last Name 76**])\\n GASTROINTESTINAL BLEED, OTHER (GI BLEED, GIB)\\n   .\\n   Assessment and Plan: This is a 54 yo f with h/o Hepatitis C infection\\n   and cirrohsis presenting with UGIB.\\n   .',\n",
       " 'HYPOTENSION (NOT SHOCK)\\n HYPERGLYCEMIA\\n   49 yo M with poorly controlled DM2, HTN, HL, bipolar disorder who\\n   presents with hyperglycemia.\\n   .',\n",
       " 'HYPOXEMIA\\n .H/O LEUKEMIA, CHRONIC (CML, CLL, OTHER; CANCER, MALIGNANT NEOPLASM)\\n   Assessment/Plan: 55 yo M with h/o CML s/p MRD allo-SCT c/b GVHD of\\n   skin/gut on immunosuppression presenting with RSV bronchiolitis now\\n   complicated by hospital acquired pneumonia.',\n",
       " 'HYPOXEMIA\\n ABDOMINAL PAIN (INCLUDING ABDOMINAL TENDERNESS)\\n   [**Age over 90 **]F with CAD, thoracic aortic aneurysm, gastritis, GERD admitted with\\n   left shoulder pain, nausea with transient relative hypotension in\\n   context of [**Name (NI) 9631**]\\n   .',\n",
       " 'HYPOXEMIA\\n PAIN CONTROL (ACUTE PAIN, CHRONIC PAIN)\\n ACTIVITY INTOLERANCE\\n ANXIETY\\n RESPIRATORY FAILURE, ACUTE (NOT ARDS/[**Doctor Last Name 2**])\\n PNEUMONIA, OTHER\\n ATRIAL FLUTTER (AFLUTTER)\\n   72 year old male with SCC metastatic to left axilla and lung, a fib,\\n   HTN, HLD, who presents with shortness of breath and weakness.',\n",
       " 'HYPOXEMIA, .H/O HERNIA, VENTRAL / INCISIONAL, OTHER HARDWARE INFECTION\\n   (INCLUDING VP SHUNT), [**Last Name 121**] PROBLEM - ENTER DESCRIPTION IN COMMENTS\\n   Assessment and Plan: 76 yo M w/ PMHx of DVT/ PE, a fib, hyperlipidemia,\\n   CRI, severe AS now with ventral hernia s/p SBO and not surgical\\n   canidate for repair with resp distress',\n",
       " 'IMPAIRED HEALTH MAINTENANCE, SEIZURE, WITHOUT STATUS EPILEPTICUS, HIP\\n   FRACTURE (FEMORAL NECK FRACTURE, FEMUR), SUBDURAL HEMORRHAGE (SDH)\\n   Assessment and Plan: 59 year old woman with ESRD, AF,\\n   hypercoagulability on Coumadin s/p mechanical fall with acute on\\n   chronic SDH, L hip fracture s/p seizure x2 on floor, transferred to\\n   SICU for monitoring',\n",
       " 'IMPAIRED SKIN INTEGRITY\\n RENAL FAILURE, ACUTE (ACUTE RENAL FAILURE, ARF)\\n IMPAIRED PHYSICAL MOBILITY\\n ATRIAL FIBRILLATION (AFIB)\\n   85-yo man w/ HTN and PAF who presented to the ED w/ dry mouth in the\\n   setting of treatment for BPH, then found to convert from NSR to A-Fib\\n   w/ RVR to 120s-130s. Initially controlled on the floor w/ diltiazem,\\n   but progressively developed worsening RVR, hypoxia, and altered mental\\n   status, requiring transfer to the CCU. Now with worsening renal\\n   failure.',\n",
       " 'In brief this is a 51 year old man with history of HTN, Hep C low grade\\n   cirrhosis and chronic leg pain on ibuprofen who presents with unstable\\n   angina over the last two weeks and found to have STEMI in the\\n   circumflex territory with DES placed during uncomplicated c.\\n   catheterization.',\n",
       " 'In brief this is a [**Age over 90 **] yo male with known 3VD and multiple prior stents\\n   who has previously refused CABG, SSS s/p PPM, and myelodysplasia who\\n   transferred from [**Hospital1 5**]-[**Location (un) 3**] with chest pain and underwent\\n   complicated revascularization of LAD c/b right groin hematoma.\\n   .',\n",
       " 'Leukocytosis.  Likely secondary to SBO, but will evaluate for\\n   infectious sources.  Also has infiltrate on CXR, ?aspiration\\n   pneumonitis versus pneumonia.\\n   - f/u urine, blood, sputum cultures\\n   - monitor fever curve, wbc\\n   - hold off on Abx for now, but consider if febrile or has worsening\\n   respiratory symptoms',\n",
       " 'MS. [**Known lastname 10032**] is a 71 year old Russian speaking woman with history of\\n   DM, atrial fibrillation, OSA with pulmonary hypertension on home O2,\\n   and prior urinary retention who presents for evaluation of altered\\n   mentation status.',\n",
       " 'MYOCARDIAL INFARCTION, ACUTE (AMI, STEMI, NSTEMI)\\n CHRONIC OBSTRUCTIVE PULMONARY DISEASE (COPD, BRONCHITIS, EMPHYSEMA)\\n   WITH ACUTE EXACERBATION\\n   .\\n   This is a 71 year-old male with a history of severe COPD (FEV1 24%\\n   predicted) on home 02, a-fib on coumadin, diastolic CHF, AS (valve area\\n   1.0 cm) who presents with sepsis and respiratory distress.\\n   .',\n",
       " 'MYOCARDIAL INFARCTION, ACUTE (AMI, STEMI, NSTEMI)\\n GASTROINTESTINAL BLEED, LOWER (HEMATOCHEZIA, BRBPR, GI BLEED, GIB)\\n TACHYCARDIA, OTHER\\n RESPIRATORY FAILURE, ACUTE (NOT ARDS/[**Doctor Last Name 2**])\\n   69F w/ h/o afib on coumadin, PUD, COPD, CKD, h/o CVA, HTN,\\n   hyperlipidemia transferred from [**Hospital1 709**] by family request after presenting\\n   with black stools, developed hypoxemia and tachyarrhythmia with RVR,\\n   now with continued respiratory distress complicated by demand ischemia.',\n",
       " 'MYOCARDIAL INFARCTION, ACUTE (AMI, STEMI, NSTEMI)\\n [**Last Name 9**] PROBLEM - ENTER DESCRIPTION IN COMMENTS\\n RESPIRATORY FAILURE, ACUTE (NOT ARDS/[**Doctor Last Name 76**])\\n SEPSIS WITHOUT ORGAN DYSFUNCTION\\n   ASSESSMENT AND PLAN: 82 y/o woman s/p hip replacement now intubated for\\n   respiratory distress with ? PNA, noted on echo to have acutely worsened\\n   MR. Etiology of MR could be ischemic. Has echo showing new antero\\n   apical wall motion abnormality which would suggest plaque in LAD. Has\\n   poor R wave progression which would be consistent with anterior\\n   ischemia but her ST depressions are in V5-V6 more consistent with\\n   ischemia involving Lcx -this may suggest diffuse disease. Also has ?\\n   PNA, endocarditis a possibility although no evidence of this on echo.\\n   Ischemia does not seem to be just demand related.',\n",
       " 'Mr.  [**Known lastname 4584**] is a 75 year old male with severe COPD, prostate ca s/p\\n   lupron and brachytherapy, PAF, urinary retention who presents with\\n   respiratory distress, likely secondary to COPD exacerbation.',\n",
       " 'Mr. [**Known firstname **] [**Known lastname 7331**] is a 64 YO M wtih history of MVP and bicuspid aortic\\n   valve s/p possible seizure and cardiac arrest with subsequent elevation\\n   in cardiac enzymes and LFTs transfered for further work up.\\n   .',\n",
       " 'Mr. [**Known firstname 1908**] [**Known lastname 9824**] is a 74 yo Russian-speaking male with h/o ESRD on\\n   HD, HTN, HL, and CAD who presented with asymptomatic bradycardia.',\n",
       " 'Mr. [**Known firstname 3750**] [**Known lastname 7347**] is a very nice 60 year-old gentleman with prior\\n   history of schizophrenia, CAD, systolic CHF, DM, COPD, alcohol abuse,\\n   hepatic encephalopathy who was sent from NH Bejamin HC center with SOB\\n   and AMS and then hypotension requiring pressors.  Now currently\\n   intubated and on sedation, even though was supposed to be a DNR/DNI..\\n   .',\n",
       " 'Mr. [**Known lastname **] [**Known lastname **] is a 79 year old man who presented with acute on\\n   chronic hypercapneic respiratory acidosis in the setting of acute\\n   hypoglycemia.',\n",
       " \"Mr. [**Known lastname **] is a 28yo M h/o AML s/p recurrence after 3 allo transplants,\\n   recently d/c'd from [**Hospital1 **] on [**9-20**] after ~2 month admission for AML\\n   relapse/chemotherapy now readmitted with vomiting and diarrhea,\\n   transferred to the ICU for severe sepsis.\",\n",
       " 'Mr. [**Known lastname **] is a 53 yo male with PVD, HTN, HL, CAD s/p MI, s/p\\n   liver transplant for alcoholic cirrhosis, admitted to the MICU for\\n   hyypotension which resolved with IVF boluses.\\n   .',\n",
       " 'Mr. [**Known lastname **] is a 56 year-old male with atrial fibrillation s/p AV\\n   ablation and pacemaker placement, dCHF, hypertension transferred for\\n   pacemaker revision.',\n",
       " 'Mr. [**Known lastname **] is a 68 yo M with Ischemic cardiomyopathy EF 20%, NYHA class\\n   IV CHF, s/p CABG x2, s/p BIV ICD recently discharged on [**8-2**] for CHF,\\n   directly admitted from home with another acute on chronic CHF\\n   exacerbation for aggressive diuresis.\\n   .',\n",
       " 'Mr. [**Known lastname **] is a [**Age over 90 **] yo M w/ COPD on home O2, severe pulmonary HTN,\\n   recurrent aspiration PNA, dCHF and recent HAP p/w hypoxia.\\n   .',\n",
       " 'Mr. [**Known lastname **] is an 80 yo male with CAD, h/o CVA, here with hematuria\\n   off all anticoagulation and increased pulmonary secretions.',\n",
       " 'Mr. [**Known lastname 10185**] is a 24 year old man with a history of non-ischemic\\n   cardiomyopathy, NYH Class II CHF, EF 15-20% who presents with acute on\\n   chronic CHF exacerbation.',\n",
       " 'Mr. [**Known lastname 10263**] is a 66 year-old male with DM, COPD, obesity, and atrial\\n   flutter admitted from EP lab s/p atrial flutter ablation complicated by\\n   respiratory failure after initial extubation.',\n",
       " 'Mr. [**Known lastname 10440**] is a 58yo M w/hx of DM, HTN, hyperlipidema who presents as a\\n   transfer from an OSH with a posterior STEMI, now s/p revascularization\\n   with 2 BMS.',\n",
       " 'Mr. [**Known lastname 10810**] is a 25 year-old man with no significant PMH who presented\\n   with left shoulder pain in the setting of intoxication and is admitted\\n   to MICU for concern for alcohol withdrawal.',\n",
       " 'Mr. [**Known lastname 12424**] is a [**Age over 90 **] year-old man with a history of moderate aortic\\n   stenosis (1-1.2 cm2), aortic regurg, first-degree (now intermittent\\n   third-degree) AV block, recent DVT/PE on coumadin (diagnosed ~[**2181-4-24**]),\\n   HTN, CKD, and left BKA who is transferred from [**Hospital1 5**]-[**Location (un) 3**] for\\n   management of third degree av block.\\n   .',\n",
       " 'Mr. [**Known lastname 12476**] is a 62 year-old female with a history of anxiety and\\n   depression who was transferred from [**Hospital3 364**] for management of\\n   recurrent pleural effusions, went to the OR on [**2115-1-11**] for\\n   decortication, had a procedure that was complicated by afib with RVR\\n   requiring DC cardioversion and hypotension, and is transferred to the\\n   MICU for further management.',\n",
       " 'Mr. [**Known lastname 12744**] is a 78-year-old patient of Dr. [**First Name8 (NamePattern2) 67**] [**Last Name (NamePattern1) 12743**], Dr.\\n   [**First Name8 (NamePattern2) 1862**] [**Last Name (NamePattern1) 7009**] and Dr. [**First Name4 (NamePattern1) **] [**Last Name (NamePattern1) 4425**] with atrial\\n   fibrillation/atrial tachycardia who was admitted for elective pulmonary\\n   vein isolation and is transferred to the CCU for 5 and 7 second pauses.',\n",
       " 'Mr. [**Known lastname 13804**] is a 67 yo M with newly diagnosed DLBCL with tumor burden\\n   compressing vasculature and nerves to LLE causing LLE edema, pain and\\n   swelling, also noted to have a LLE DVT, thrombocytopenia and anemia.',\n",
       " 'Mr. [**Known lastname 2367**] is a 61 yo M with PMH of recent STEMI s/p BMS to LAD, CHF,\\n   and DVT/PE s/p IVC filter who was just discharged from an OSH, now\\n   referred in for evaluation of bilateral LE edema. Pt. was transferred\\n   to MICU for hypoxia and hypotension which resolved quickly after\\n   admission to the unit.',\n",
       " 'Mr. [**Known lastname 237**] is an 86 yo male with h/o CAD s/p stent, SVT s/p pacer, AAA\\n   repair, recently diagnosed metastatic lung CA who is transferred to\\n   [**Hospital Unit Name 1**] with coffee-ground emesis x 2 days.',\n",
       " 'Mr. [**Known lastname 2452**] is a 69 year old gentleman with a PMH significant for HIV\\n   and pulmonary TB admitted with diffuse bulky lymphadenopathy concerning\\n   for high grade lymphoma now with hypoxia.\\n   .',\n",
       " 'Mr. [**Known lastname 2807**] is a 57 year old male with hepatitis C cirrhosis admitted\\n   for altered mental status secondary to hepatic encephalopathy and\\n   hypotension requiring pressors.',\n",
       " 'Mr. [**Known lastname 2818**] is a 78 yo M w/advanced [**Hospital **] transferred to MICU [**2-24**]\\n   progressive metabolic acidosis and respiratory distress.',\n",
       " 'Mr. [**Known lastname 3055**] is a 52 year old male with alcoholic cirrhosis and\\n   cardiomyopathy who presents liver failure, renal failure, and variceal\\n   bleed, now comfort measures only.',\n",
       " 'Mr. [**Known lastname 5969**] is a 61 year old gentleman with a PMH significant for EtOH\\n   use admitted for GIB and hemodynamic instability found to have a 3 cm\\n   duodenal ulcer.\\n   .',\n",
       " 'Mr. [**Known lastname 5979**] is a 57-year-old man with h/o ILD, recent admission for\\n   alveolar hemorrhage, also h/o afib, CAD, DM2, HTN who was transferred\\n   from [**Location (un) 206**] for hypoxia. He presented to OSH with hypoxia, was\\n   intubated.',\n",
       " 'Mr. [**Known lastname 6148**] is a lovely 78 year-old gentleman w/ CAD s/p AVR w/\\n   mechanical [**First Name8 (NamePattern2) **] [**First Name7 (NamePattern1) 1104**]\\n[**Initials (NamePattern4) **] [**Last Name (NamePattern4) 4601**] (on Coumadin at home), DM2, and Prostate CA\\n   who was admitted to the ICU for melena and lightheadedness w/ etiology\\n   of GIB from previous ERCP ([**2143-10-3**]), now s/p ERCP ([**2143-10-8**]) w/\\n   placement of double-pigtail stent, doing well without complaints of\\n   abdominal pain or further episodes of bleeding',\n",
       " 'Mr. [**Known lastname 7717**] is a 78M with stage IV NSLC who presents with fevers from\\n   his rehab facility.\\n   .',\n",
       " 'Mr. [**Known lastname 8120**] is a 41 yo F with ETOH abuse, HTN, obesity presenting with\\n   hematemasis, pancreatitis and evidence of cirrhosis and portal\\n   hypertension.',\n",
       " 'Mr. [**Known lastname 8404**] is a 30 year old gentleman with biliary atresia s/p liver\\n   transplant (25 years ago) complicated by recurrent cirrhosis,\\n   hepato-pulmonary syndrome, porto-pulmonary hypertension,\\n   post-infectious GN, nephrotic syndrome and asthma admitted peritonitis\\n   s/p ex-lap now transferred to the MICU for hypoxic respiratory failure\\n   and increased work of breathing requiring intubation',\n",
       " 'Mr. [**Known lastname 9372**] is an 82 year old previously healthy gentleman transferred\\n   from an OSH for STEMI now s/p PCI with DES to mid-LAD.',\n",
       " 'Mr. [**Known lastname 9586**] is a 87 year old gentleman with a PMH significant for afib\\n   with RVR, HTN, GERD, DM 2, CVA admitted on [**2160-9-11**] from [**Hospital1 747**] for\\n   orthostatic hypotension, dizziness and emesis, likely source is GIB\\n   subsequently developed afib with rvr, dyspnea and relative hypotension\\n   and was transferred to the MICU.',\n",
       " 'Mr. [**Known lastname 9801**] is a 68 year-old man with T cell lymphoma s/p five cycles of\\n   CHOP (last dose [**2132-11-28**]) and recently admitted for pneumonia/sepsis\\n   and Capnocytophaga bacteremia ([**Date range (1) 10246**]) who presents with\\n   malaise and fevers, admitted to [**Hospital Unit Name 4**] for hypotension.\\n   .',\n",
       " 'Mr. [**Known lastname 9848**] is a 71 year old male with ESRD on HD, PVD, CAD s/p NSTEMI,\\n   here with altered mental status and sepsis requiring pressors likely\\n   secondary to osteo of right foot, although line infection or other\\n   sites of osteo cannot be excluded.  Plan to become CMO today after\\n   arrival of family members.\\n   .',\n",
       " 'Mr. [**Name13 (STitle) 4730**] is a 65 y/oM with PVD, cerebrovascular disease,\\n   hypertension, and hyperlipidemia who was referred for intervention of\\n   asymptomatic bilateral carotid stenoses, and who underwent stenting of\\n   the left CCA/ICA today. Course was notable for hypotension requiring\\n   phenylephrine so monitored in CCU overnight.',\n",
       " 'Mr. [**Name14 (STitle) 11041**] is a 52 year-old male with pmh of hypertension, HL, CAD\\n   s/p bare metal stent in [**2102**] admitted with a STEMI secondary to an\\n   instent thrombosis s/p thrombectomy.',\n",
       " 'Mrs. [**Known firstname 1012**] [**Known lastname **] [**Last Name (un) **] is a very nice 76 year-old woman with\\n   history of CAD s/p CABG x 4, recent NSTEMI in [**11-4**], HTN, sCHF (EF\\n   25-30%) who had VT arrest.',\n",
       " 'Mrs. [**Known firstname 12011**] [**Known lastname 12012**] is an 85 year-old woman with significant past\\n   medical history of hypertension, chronic pancreatitis,  cholecystectomy\\n   and ampullar stenosis here with cholangitis s/p stent placement c/b GNR\\n   bacteremia.',\n",
       " 'Mrs. [**Known lastname **] is a 75 y/o female with advanced CKD and ostomy, admitted\\n   with marked anion gap academia in setting of increased ostomy output\\n   and some worsening of renal failure..',\n",
       " 'Mrs. [**Known lastname 2232**] is a 64 yo female with HCV/EtOH cirrhosis, history of GIB\\n   and MGUS, admitted after fall with possible new T3 burst fracture found\\n   to have a Hct of 17.',\n",
       " 'Mrs. [**Known lastname 8907**] is an 89 year old female with remote history of upper\\n   GI bleed, GERD, and anemia who is transfered to the [**Hospital Unit Name 4**] with\\n   hematemesis.\\n   .',\n",
       " 'Ms [**Known lastname 11751**] is a 45 yo woman with pmh of DM1, CAD s/p CABG and PCI,\\n   ESRD s/p living-related kidney transplant in [**10-31**], and recent\\n   hospitalization for septic arthritis here with acute renal failure,\\n   acute diastolic heart failure with newly diagnosed severe MR and\\n   pulmonary hypertension.',\n",
       " 'Ms. [**Known lastname **] is a 59 yo female with DM1, extensive cardiac hx including CAD,\\n   systolic and diastolic HF, admitted with acute on chronic HF and\\n   transferred to the CCU for hypoxia.',\n",
       " 'Ms. [**Known lastname **] is a 62 year old female with diabetes, HTN, HL, bipolar\\n   disorder with multiple prior suicide attempts from medication overdoses\\n   who is admitted with altered mental status.',\n",
       " 'Ms. [**Known lastname 1170**] is an 83 yo F w/PMHx sx for HTN, hyperlipidemia, PVD,\\n   and CLL who presents with hypotension in the setting of right THR with\\n   1200cc blood loss.',\n",
       " 'Ms. [**Known lastname 12031**] is a [**Age over 90 **] yo female with HTN, CAD s/p CABG, osteoporosis,\\n   COPD, here with painless lower GI bleeding and active extravasation\\n   from branch of middle colic artery on CTA now s/p angiographic coiling\\n   of middle colic artery branch.',\n",
       " 'Ms. [**Known lastname 12640**] is a [**Age over 90 **] year old woman with hx of sick sinus syndrome s/p\\n   pacer as well as recent admission for PNA, transaminitis, pancreatitis,\\n   MS changes, who presents from rehab with hypoxia, lethargy and was\\n   found to be hypotensive, likely early sepsis vs. CHF.',\n",
       " 'Ms. [**Known lastname 12663**] is a 87 yo female with PMH of meningioma and seizure\\n   disorder who presented to [**Hospital6 5579**] on [**2157-12-29**] with sepsis.',\n",
       " 'Ms. [**Known lastname 1450**] is a [**Age over 90 **] year old woman with a history of diastolic CHF,\\n   HTN, hyperlipidemia, and hypothyroidism who presents with a fever,\\n   hypoxia, and altered mental status.\\n   .',\n",
       " 'Ms. [**Known lastname 2084**] [**Known lastname 6469**] is a 42 year old female with HIV and HCV cirrhosis on\\n   transplant list transferred yesterday to the ICU for hemothorax,\\n   anemia, and hypoxia.',\n",
       " 'Ms. [**Known lastname 4134**] is a 25yo W with no significant PMH who presented to the\\n   [**Hospital3 588**] ED with chief complaint of petechiae and dyspnea on exertion\\n   and was found to have marked thrombocytopenia and blood smear\\n   consistent with a microangiopathic hemolytic anemia. She was\\n   transferred to [**Hospital1 **] for consideration of plasmaphoresis.',\n",
       " 'Ms. [**Known lastname 4667**] is a [**Age over 90 **] year old female with hypothyroidism, HTN, CAD s/p MI,\\n   osteoporosis, h/o cervical cancer s/p radiation therapy with history of\\n   recurrent SBOs here with SBO and hypoxia ?secondary to aspiration.\\n   .',\n",
       " \"Ms. [**Known lastname 4863**] is a [**Age over 90 **] year-old female with a history of HTN, DM,\\n   ?chronic aspiration, and Alzheimer's dementia who was transferred from\\n   the ED intubated after presenting with hypoxia and tachypnea. Now\\n   extubated with significant CHF, hypoxia, hemodynamic instability.\",\n",
       " 'Ms. [**Known lastname 5211**] is a 74F presenting with clear signs of a systemic\\n   infection, including fevers, leukocytosis, tachycardia, and elevated\\n   lactate. Likely source is RLE cellulitis.',\n",
       " 'Ms. [**Known lastname 5261**] is a 61yo F w/hx of recently diagnosed pancreatic\\n   cancer metastatic to the liver who presents with fever, jaundice and\\n   pain for the last 2 days.\\n   .',\n",
       " 'Ms. [**Known lastname 6375**] is an 80F with remote h/o CAD, DVT/PE, and recent admission\\n   for abdominal pain in the setting of ulcers who returns with bilateral\\n   leg pains',\n",
       " 'Ms. [**Known lastname 6790**] is a 41 year old female with warm autoimmune\\n   hemolytic anemia now ten days s/p splenectomy who presents with\\n   abdominal pain and dyspnea with a hematocrit of 11 with evidence of\\n   hemolysis.',\n",
       " 'Ms. [**Known lastname 8486**] is a 73 y.o. F with COPD, history of pneumonia, who\\n   presented with 1 week of flu-like symptoms, admitted to ICU for\\n   hypotension, now resolved.',\n",
       " 'Ms. [**Known lastname 8556**] is a 69 year old female with past medical history of\\n   squamous cell carcinoma and atrial fibrillation who presents with acute\\n   on chronic respiratory failure, with CT chest concerning for worsening\\n   disease and multifocal pneumonia.',\n",
       " 'Ms. [**Known lastname 9015**] is a 74F with a PMH s/f atrial fibrillation with recent\\n   initiation of coumadin, who presents with BRBPR, and a significant drop\\n   in hematocrit',\n",
       " 'Ms. [**Name13 (STitle) **] is an 87 year old female with type II DM, asthma, dementia,\\n   h/o gastric ulcer, admitted with severe C. diff diarrhea, intubated,\\n   now weaned off pressors.\\n   .',\n",
       " 'OLIGURIA/ANURIA\\n PAIN CONTROL (ACUTE PAIN, CHRONIC PAIN)\\n   Plan: 78 year old female with a history of diastolic CHF, atrial\\n   fibrillation and rectal cancer s/p LOA, total abdominal colectomy,\\n   ileoanal J-pouch, repair of incisional hernia who is transferred to the\\n   [**Hospital Unit Name 10**] for decreased urine output and mild hypotension.',\n",
       " 'P: [**Age over 90 382**] yom NH resident, pmh of severe pneumonia presenting currently\\n   with cough, fever, and dyspnea without improvement with antibiotics.',\n",
       " \"PAIN CONTROL (ACUTE PAIN, CHRONIC PAIN)\\n IMPAIRED SKIN INTEGRITY\\n DEMENTIA (INCLUDING ALZHEIMER'S, MULTI INFARCT)\\n HYPOTENSION (NOT SHOCK)\\n CONSTIPATION (OBSTIPATION, FOS)\\n   82 y/o F with PMHx of severe dementia who presents with hypotension,\\n   dirty UA and massive stool ball.\\n   .\",\n",
       " 'PNEUMONIA, ASPIRATION\\n ALCOHOL WITHDRAWAL (INCLUDING DELIRIUM TREMENS, DTS, SEIZURES)\\n PANCREATITIS, ACUTE\\n   48M with h/o recurrent etoh pancreatitis transferred here for ERCP,\\n   found to have CBD stricture, now s/p stent, and remains intubated due\\n   to agitation from ETOH withdrawal.\\n   .',\n",
       " 'PNEUMONIA, BACTERIAL, COMMUNITY ACQUIRED (CAP)\\n   Assesment/Plan: This is an 80 year-old woman with a history of COPD,\\n   who presents as transfer from OSH following possible pneumonia and\\n   failure to extubate.',\n",
       " 'PNEUMONIA, BACTERIAL, COMMUNITY ACQUIRED (CAP)\\n   Assesment: This is a 67 year-old male with no significant PMH who\\n   presents with fevers, tachypnea, and tachycardia with ? LLL pneumoia',\n",
       " 'PNEUMOTHORAX, OTHER (NOT HOSPITAL ACQUIRED OR TRAUMATIC)\\n PLEURAL EFFUSION, ACUTE\\n CIRRHOSIS OF LIVER, OTHER\\n THROMBOCYTOPENIA, CHRONIC\\n RENAL FAILURE, CHRONIC (CHRONIC RENAL FAILURE, CRF, CHRONIC KIDNEY\\n   DISEASE)\\n   Assessment and Plan: This is a 56M with Hep C cirrhosis admitted with\\n   B/L PTX and new left effusion',\n",
       " 'PYELONEPHRITIS\\n RENAL FAILURE, ACUTE (ACUTE RENAL FAILURE, ARF)\\n URINARY TRACT INFECTION (UTI)\\n   This is a 64 yo female with a history of urinary retention and\\n   indwelling foley who presents with bilateral flank pain and found to\\n   have L obstructing ureteral stones, leukocytosis to 32, fever and acute\\n   on chronic renal failure.',\n",
       " 'Patient is a 41 y/o M with history of\\n   hyperlipidemia, early MI, smoking presentign with inferior STEMI now\\n   s/p DES to proximal RCA.',\n",
       " 'Patient is a 53 y/o F w/ h/o ESRD, HTN, DM, and prior PE who p/w new a.\\n   flutter.',\n",
       " 'Patient is a 58 year old male with history of atrial fibrillation on\\n   coumadin, hyperlipidemia, hypertension, peripheral vascular disease,\\n   s/p CVA who presented to [**Hospital3 847**] on [**2185-3-2**] with heart\\n   failure exacerbation and atrial fibrillation with RVR, transferred due\\n   to difficulty with diuresis [**2-7**] hypotension.',\n",
       " 'Patient is a 66 y/o M w/ ischemic CM, prior CABG, s/p BiV pacer/ICD\\n   placement, and h/o VT s/p ablation who presents with RV lead fracture,\\n   resulting inappropriate discharge of ICD, and underlying complete heart\\n   block now dependent on LV lead for pacing.\\n   .',\n",
       " 'Patient is a 74 F w/ history of a seizure disorder presents with CHB\\n   .',\n",
       " 'Patient is a 79 year old female with past medical history of\\n   hypertension and depression who presented with several days of chest\\n   pain, found to have a NSTEMI, and now s/p cath with 3VD, transferred to\\n   CCU for closer monitoring and BP control.',\n",
       " \"Patient is a 83 y/o woman with history of Zenker's diverticulum, now\\n   status post endoscopic repair complicated by esophageal rupture,\\n   followed by open neck repair, POD 3.\",\n",
       " 'Patient is an 83 y/o F with HTN, DM2 on insulin, CKI, no prior CAD hx\\n   who presents with L shoulder pain and EKG changes in setting of\\n   hypertensive emergency.\\n   .',\n",
       " 'Patient is an 83 year old male with history of non-sustained VT\\n   status-post attempt at ablation, diabetes mellitus, and hypertension,\\n   who was transferred from OSH for symptomatic NSVT.',\n",
       " 'Post-Call Addendum:\\n   74 y/oM with NSTEMI, right foot osteomyelitis, now with new\\n   gastrointestinal bleeding.',\n",
       " 'Pt is a 65 y.o male with h.o severe OSA\\n   (central/peripheral) s/p trach who now presents s/p trach dislodgement.\\n   .',\n",
       " 'Pt is a 66 y.o male with known severe PVD, DM, severe AS, CHF, LLE\\n   gangrene, transferred to CCU for monitored diuresis for acute on\\n   chronic systolic CHF.',\n",
       " 'Pt is a 69 yo M with PMH of CAD s/p 3V CABG, L and R carotid stenosis\\n   with CEA x 2 to [**Country 2032**], PVD, B/L renal artery stenosis  s/p stents\\n   admitted for elective redo-redo R CEA c/b stroke with residual R sided\\n   deficits and NSTEMI now s/[**Initials (NamePattern4) **] [**Last Name (NamePattern4) **] [**Last Name (Prefixes) **] 3.\\n   .',\n",
       " 'Pt is a 72 yo female with PMHx of CAD, COPD, CHF EF 40% here with\\n   altered mental status and dyspnea',\n",
       " 'Pt is a 78 y.o female with h.o COPD, HTN, recent MVA with R.ankle/foot\\n   fx who presents with hypoxia and LLL infiltrate.\\n   .',\n",
       " 'Pt is a pleasant 76 yo M w/ PMHx of CAD s/p MI w/ LV aneurysm, EF\\n   25-30%, NIDDM, TIMI score [**6-16**], who presented with NSTEMI, now s/p cath\\n   showing 3VD.',\n",
       " 'RENAL FAILURE, ACUTE (ACUTE RENAL FAILURE, ARF)\\n AEROBIC CAPACITY / ENDURANCE, IMPAIRED\\n GAIT, IMPAIRED\\n KNOWLEDGE, IMPAIRED\\n TRANSFERS, IMPAIRED\\n BALANCE, IMPAIRED\\n KNOWLEDGE DEFICIT\\n IMPAIRED SKIN INTEGRITY\\n VENTRICULAR TACHYCARDIA, SUSTAINED\\n CARDIOMYOPATHY, OTHER\\n   82 y/o male w/ a hx of non-ischemic CM (EF 15%) s/p CRT/D, CAF s/p AV\\n   ablation, VT s/p ablation, p/w VT w/ multiple ICD firings.',\n",
       " 'RENAL FAILURE, ACUTE (ACUTE RENAL FAILURE, ARF)\\n ALTERED MENTAL STATUS (NOT DELIRIUM)',\n",
       " 'RENAL FAILURE, ACUTE (ACUTE RENAL FAILURE, ARF)\\n LIVER FUNCTION ABNORMALITIES\\n ABDOMINAL PAIN (INCLUDING ABDOMINAL TENDERNESS)\\n .H/O CARDIOMYOPATHY, OTHER\\n .H/O HYPOTENSION (NOT SHOCK)\\n   48 year-old male with a history of CAD and ischemic cardiomyopathy (EF\\n   15%) who presents with abdominal pain and jaundice with CBD dilatation\\n   on imaging.\\n   .',\n",
       " 'RENAL FAILURE, ACUTE (ACUTE RENAL FAILURE, ARF)\\n [**Last Name 12**] PROBLEM - ENTER DESCRIPTION IN COMMENTS\\n   NASH\\n HEPATIC ENCEPHALOPATHY\\n   54 yo woman with a history of ESLD and multiple recent admissions to\\n   OSH for hepatic encephalopathy presents with altered mental status\\n   likely from hepatic encephalopathy.',\n",
       " 'RENAL FAILURE, CHRONIC (CHRONIC RENAL FAILURE, CRF, CHRONIC KIDNEY\\n   DISEASE)\\n [**Last Name 121**] PROBLEM - ENTER DESCRIPTION IN COMMENTS\\n    Right arm hematoma\\n HEPATIC ENCEPHALOPATHY\\n HYPERTENSION, BENIGN\\n ELECTROLYTE & FLUID DISORDER, OTHER\\n COAGULOPATHY\\n   56 yo F w/ ESLD, ARF, bleeding and distended abdomen p/w hypotension.\\n   .',\n",
       " 'RESPIRATORY FAILURE, ACUTE (NOT ARDS/[**Doctor Last Name **])\\n .H/O AIRWAY, INABILITY TO PROTECT (RISK FOR ASPIRATION, ALTERED GAG,\\n   AIRWAY CLEARANCE, COUGH)\\n PSYCHIATRIC DISEASE, OTHER (INCLUDING SCHIZOPHRENIA, PERSONALITY\\n   DISORDERS)\\n HEART FAILURE (CHF), DIASTOLIC, ACUTE ON CHRONIC\\n CHRONIC OBSTRUCTIVE PULMONARY DISEASE (COPD, BRONCHITIS, EMPHYSEMA)\\n   WITH ACUTE EXACERBATION\\n .H/O DIABETES MELLITUS (DM), TYPE II\\n ALTERED MENTAL STATUS (NOT DELIRIUM)\\n   73 y/o with COPD on 2.5-3.5L O2 at baseline, OSA and obesity\\n   hypoventilation syndrome, dCHF, discharged [**2132-8-24**] now presents with\\n   agitation and altered mental status with hypoxia and O2 sats 70s on\\n   BipAp with 5L. with hypoxia improved, now growing GPC in clusters on\\n   bld cx.  MS significantly improved.',\n",
       " 'RESPIRATORY FAILURE, ACUTE (NOT ARDS/[**Doctor Last Name 11**])\\n   61 year old female with COPD on 3L home O2 s/p recent admission [**12-2**]\\n   for COPD exacerbation and newly diganosed LUL mass now admitted with\\n   respiratory distress...',\n",
       " 'RESPIRATORY FAILURE, ACUTE (NOT ARDS/[**Doctor Last Name 2**])\\n ALTERED MENTAL STATUS (NOT DELIRIUM)\\n CARDIAC ARREST\\n   64F with history of idiopathic CM presenting on transfer after vfib\\n   arrest.',\n",
       " 'RESPIRATORY FAILURE, ACUTE (NOT ARDS/[**Doctor Last Name 76**])\\n   Assessment and Plan: 54M w/ history of EtOH s/p fall with isolated C6\\n   transverse fracture, s/p anterior and post C5-7 fusion, found to be\\n   apneic and desatting, likely due to sedation from Hydromorphone,\\n   Morphine and Valium (part of CIWA)',\n",
       " 'RESPIRATORY FAILURE, ACUTE (NOT ARDS/[**Doctor Last Name 76**])\\n LEUKOCYTOSIS\\n PAIN CONTROL (ACUTE PAIN, CHRONIC PAIN)\\n TACHYCARDIA, OTHER\\n   71-year-old white female with eophageal CA, admitted to NEB and\\n   [**Hospital **] transferred to [**Hospital1 5**] for chemotherapy and XRT. She was\\n   transferred to the [**Hospital Unit Name 4**] for respiratory distress and emergent bronch.',\n",
       " 'RESPIRATORY FAILURE, ACUTE (NOT ARDS/[**Doctor Last Name 76**])\\\\\\n   Assessment and Plan:\\n   80 y/o M with PMHx of CAD, COPD, dysphagia and new onset seizure d/o\\n   who was transferred from [**Hospital1 25**] for clogged G-tube now found to be in\\n   respiratory distress and admitted to ICU for possible PNA.',\n",
       " 'RESPIRATORY FAILURE, CHRONIC, .H/O PANCREATITIS, CHRONIC\\n   Assessment and Plan: 68yo F with h/o gallstone pancreatitis with\\n   multiple large pseudocysts with fluid collections s/p multiple ERCPs\\n   and failed biliary stents, here for definitive management.',\n",
       " \"SEPSIS WITHOUT ORGAN DYSFUNCTION\\n HYPOTENSION (NOT SHOCK)\\n RESPIRATORY FAILURE, ACUTE (NOT ARDS/[**Doctor Last Name 76**])\\n   52yM with history of HIV and Burkitt-like lymphoma presenting with > 1\\n   week of nightsweats and two days' of worsening shortness of breath, now\\n   with high fevers and imaging demonstrative of bilateral groundglass and\\n   patchy consolidative opacities. Differential at this point is broad\\n   with many infectious markers and cultures pending, Abx covg at this\\n   point is broad.\",\n",
       " 'SEPSIS WITHOUT ORGAN DYSFUNCTION\\n PAIN CONTROL (ACUTE PAIN, CHRONIC PAIN)\\n PULMONARY EMBOLISM (PE), ACUTE\\n   54 yo M with AML s/p allo-BMT with chronic GVHD of liver, skin now with\\n   fever and pulmonary embolism.',\n",
       " 'SEPSIS WITHOUT ORGAN DYSFUNCTION\\n RENAL FAILURE, CHRONIC (CHRONIC RENAL FAILURE, CRF, CHRONIC KIDNEY\\n   DISEASE)\\n HYPOXEMIA\\n HYPOTENSION (NOT SHOCK)\\n SEPSIS WITHOUT ORGAN DYSFUNCTION\\n RENAL FAILURE, CHRONIC (CHRONIC RENAL FAILURE, CRF, CHRONIC KIDNEY\\n   DISEASE)\\n HYPOXEMIA\\n HYPOTENSION (NOT SHOCK)\\n   76 yo F with lupus nephritis, CKD on HD, CAD s/p CABG, HTN, rectro-vag\\n   fistula who presented from PCP with acute respiratory distress.',\n",
       " 'SEPSIS, SEVERE (WITH ORGAN DYSFUNCTION)\\n HYPERGLYCEMIA\\n RESPIRATORY FAILURE, ACUTE (NOT ARDS/[**Doctor Last Name 11**])\\n RENAL FAILURE, ACUTE (ACUTE RENAL FAILURE, ARF)\\n THROMBOCYTOPENIA, ACUTE\\n ALTERED MENTAL STATUS (NOT DELIRIUM)\\n FEVER (HYPERTHERMIA, PYREXIA, NOT FEVER OF UNKNOWN ORIGIN)\\n   59F with a h/o tramadol abuse and subacute altered mental status with\\n   thrombocytopenia, now with respiratory failure.',\n",
       " 'SUBDURAL HEMORRHAGE (SDH)\\n   Assessment and Plan: 72 y/o with ICH',\n",
       " 'The patient is a 52 yo male with hx of AML, now day +142 s/p cord blood\\n   transplant hosp course c/b hypoxic resp failure requiring intubation\\n   possibly [**2-14**] to cyclosporine tox and ARRDS who initially improved but\\n   has become increasingly hypoxic on the BMT floor.',\n",
       " 'The patient is a 53 yo man with h/o HTN and hyperlipidemia who\\n   presented with chest pain and was found to have an anterolateral STEMI,\\n   now s/p DES to the mid-LAD.',\n",
       " 'The patient is a 61 yo man with h/o CAD s/p DES to the LAD and D1, and\\n   hyperlipidemia, who presented from [**Hospital3 519**] with STEMI.  He is\\n   now s/p Vfib arrest, was coded for approximately 54 minutes and is s/p\\n   cardiac cath with BMS to the RCA.  He has been extubated and is overall\\n   improving.',\n",
       " 'The patient is a 63 yo man with h/o DM2, ESRD on\\n   HD, Hep C, who presented on [**8-24**] with left-sided thalamic bleed and was\\n   transferred to the MICU today s/p PEA arrest.',\n",
       " 'The patient is a 71 year old female with a history of CAD, dCHF, PVD\\n   s/p recent amputation, DM, HTN who presented with diastolic HF and ? of\\n   NSTEMI, now transferred with hypotension and HCT drop.\\n   .',\n",
       " 'The patient is a 73 yo man with h/o PVD, DM, CAD, and recent C diff who\\n   presented s/p intubation and PEA arrest thought to be [**1-3**] dehydration\\n   from cdiff infection.',\n",
       " 'The patient is an 87 y.o.m. with multiple medical problems including\\n   untreated colon cancer, BPH, chronic foley, afib, diastolic heart\\n   failure and chronic right sided pleural effusion who presents with\\n   fevers/chills, hypotension, and urinary retention from [**Hospital 328**] Rehab',\n",
       " 'The patinet is a 58 year old male with a history of DM, HTN,\\n   dyslipdemia and CAD s/p IMI with NSTEMI in the setting of infection',\n",
       " 'This 51F with alcoholic cirrhosis presents with hematemesis.',\n",
       " 'This 64-year-old man with a history of coronary artery disease likely\\n   had exercise induced ischemia that resulted in VF and collapse.\\n   Coronary artery catheterization revealed a long segment of LAD\\n   stenosis. A drug eluting stent was placed.',\n",
       " 'This 64M with HIV/AIDS on HAART, HBV, cirrhosis c/b esophageal and\\n   gastric varices and recent presentation for variceal bleed s/p failed\\n   TIPS returns with hematemesis',\n",
       " 'This [**Age over 90 **]M with CAD, dementia, afib, and prior strokes presents with\\n   hypotension and respiratory distress.',\n",
       " 'This is a  60 yo F with altered mental status s/p ketamine infusion.\\n   .',\n",
       " 'This is a 27 yo healthy male with history of GERD\\n   and sensation that food is stuck in lower esophagus with persistent\\n   vomiting.',\n",
       " \"This is a 31 year-old female with refractory Crohn's disease s/p recent\\n   admission for complicated infected abdominal fluid collections, now\\n   re-admitted for re-accumulation of these fluid collections as well as\\n   fever and leukocytosis, now s/p IR drainage of fluid collections.\\n   .\",\n",
       " 'This is a 42 year-old male with a history of Type I DM, ?seizure d/o,\\n   and longstanding h/o alcohol abuse presenting today with hyperglycemia\\n   and anion gap acidosis most likely secondary to diabetic ketoacidosis,\\n   elevated lipase, and acute renal failure.\\n   .',\n",
       " 'This is a 43 year old female with ER+/Her2+ breast cancer metastastic\\n   to brain, lung, liver, and bone previously treated with trastuzumab,\\n   carboplatin/paclitaxel, radiation to cspine, lspine and hips,\\n   capecitabine, cyberknife of brain, and most recently treated in [**7-20**]\\n   with gemcitabine, bevacizumab, and trastuzumab, admitted to OMED on\\n   [**2187-7-16**] with abdominal pain, jaundice and elevated T Bili s/p ERCP and\\n   stent placement metastatic disease transfered to the [**Hospital Unit Name 44**] with\\n   hypothermia and hypotension sepsis.',\n",
       " 'This is a 51 year old man who has been out of medical care for a number\\n   of years, who presents with lower extremity edema, pulmonary edema, and\\n   an elevated BNP of nearly 12K, with symptoms developing over the past\\n   several months.',\n",
       " 'This is a 54 year-old female with a history of NSCLC,\\n   post-obstructive pneumonia, history of PE who presents with hypoxia in\\n   setting of blood transfusion.\\n   .',\n",
       " 'This is a 55M with COPD/CO2 retainer, VTE,  bilateral chronic\\n   lymphedema and multiple ulcers who was admited for LE cellulitis/sepsis\\n   and who underwent BKA three days ago is transferred to MICU for medical\\n   management',\n",
       " 'This is a 57 year old with a history of ulcerative colitis admitted\\n   with left lower extremity DVT, extensive bilateral PE, and large RA\\n   thrombus prolapsing into IVC.\\n   .',\n",
       " 'This is a 58 year-old female with a history of chronic\\n   pancreatitis who presents with bleeding per rectum and significant hct\\n   drop 2 days s/p ERCP with sphincterotomy.\\n   .',\n",
       " 'This is a 58 yom with history of ESRD on HD since [**3-8**], then Peritoneal\\n   Dialysis since [**9-10**], DM2, HTN, Diastolic CHF, history of MSSA\\n   peritonitis [**6-11**] who presents to ED with new onset abdominal pain since\\n   this morning, associated with nausea/vomiting and fevers, admittted\\n   with bacterial peritonitis.',\n",
       " 'This is a 59F with mental retardation w/ recent dx of Nodular\\n   sclerosing hodgkins lymphoma (per Onc note) here w tachypnea/hypoxia\\n   found to have compression of pulmonary artery by mediastinal mass.\\n    .',\n",
       " 'This is a 60M with HTN, emphysema/restrictive lung disease who presents\\n   with lightheadedness and hct drop, consistent with GIB.\\n   .',\n",
       " 'This is a 63 y/o M with Hepatitis C cirrhosis, s/p PEA arrest, body\\n   cooling and rewarming, concern for PNA covering with Vanc/Zosyn.\\n   .',\n",
       " 'This is a 63 year old female with PMH of ESRD on HD s/p failed kidney\\n   transplant, DVT (associated w/ HD cath), and HTN who presented to the\\n   hospital with AMS, now with ?seizure episode this afternoon with [**Hospital 1371**]\\n   transferred to MICU for concern of increasing level of care.',\n",
       " 'This is a 64 yo M history of polio and  gout who\\n   presents with fatigue and dizziness likely related to his pancotopenia\\n   which is new within the last two months.',\n",
       " 'This is a 65 y/o F hx end-stage renal disease s/p cadaveric renal\\n   transplant in [**2160**], HTN, PVD, diastolic heart failure, and atrial\\n   fibrillation',\n",
       " 'This is a 67 yom with hx of CAD s/p CABG x 4 in [**2098**], Diastolic CHF\\n   with biventricular failure with NYHF Class III symptoms, Moderate\\n   Pulmonary Hypertension, Afib on coumadin, DM2, CRI who presents with\\n   worsening SOB for the past 3 days, transferred to ICU for respiratory\\n   distress',\n",
       " 'This is a 70 yo male with known Stage IV COPD with home O2 requirement\\n   and chronic prednisone, AS, and cardiac pacer, who presents with acute\\n   shortness of breath, fever, and productive cough for 2 days.',\n",
       " 'This is a 72M with septic shock and respiratory failure.\\n   .',\n",
       " 'This is a 73 year old woman with h/o ETOH abuse and cirrhosis, bipolar\\n   d/o, hypothyroidism admitted to [**Hospital1 19**] with AMS and CNS lymphoma, now\\n   admitted to the [**Hospital Unit Name 1**] with hypoxia',\n",
       " 'This is a 78 y/o man with PMH notable for Hx of R focal seizures with\\n   hyperperfusion syndrome, CAD s/p CABG, recent carotid endarterectomy,\\n   and type 2 DM admitted with seizures X 3 earlier today.',\n",
       " 'This is a 78 year old woman with a history\\n   evidently significant for sarcoidosis and asthma as well as\\n   hypertension who comes with a one day history of illness and presents\\n   with evidence of cholangitis, confirmed by ERCP shortly after her\\n   arrival to the [**Hospital Unit Name 4**].',\n",
       " 'This is a 80 y.o. Female with COPD, lung cancer s/p RUL excision 5\\n   years ago p/w hemoptysis.\\n   .',\n",
       " 'This is a 84 M w/ pmh of recent SDH s/p boreholes X 2, also w/\\n   recurrent DVTs s/p IVC filter, here w/ persistently altered mental\\n   status, now s/p hypoxia in the setting of large mucus plugs.  This is\\n   now resolved.',\n",
       " 'This is a 88 year-old female with a history of\\n   hypertension, hyperlipidemia who presents with likely cholangitis.\\n   .',\n",
       " 'This is a [**Age over 90 **] year old woman who says she has been generally fairly\\n   healthy, and whose partner has been sick for the last week with an\\n   apparent respiratory infection, who presents with a six week history of\\n   sweats, a four week history of three-pillow orthopnea, and a two day\\n   history of increasing cough and dyspnea. The plan below represents\\n   updates',\n",
       " 'This is an 80 year old woman with past history significant for\\n   COPD, reported CHF, AVR, and trach s/p difficulty-to-wean after her AVR\\n   surgery, who now presents with new difficulty breathing, hypercarbia,\\n   and lower extremity swelling.',\n",
       " \"This is an 81 y/o woman with PMH notable for Parkinson's disease and\\n   C2-4 fracture s/p fusion with tracheostomy due to recurrent pneumonia\\n   admitted to MICU after PEA arrest on the floor.\",\n",
       " 'This is an 81 yo female with history of CAD, HTN, ?GIB in the past was\\n   transferred from [**Hospital3 **] for management of melena, NSTEMI.\\n   .',\n",
       " 'This is an 84 yo F h/o dementia, htn, tia presenting with 10 lb weight\\n   gain and new lower extremity edema transferred to the CCU for\\n   hypotension, hypoxia, and altered mental status.\\n   .',\n",
       " 'This is an 85 year old male with history of diastolic heart failure,\\n   copmlete heart block (now s/p PPM [**6-7**]) ESRD on HDHD, h/o MRSA\\n   bacteremia and thrombocytopenia thought [**1-31**] PPI who is transferred to\\n   MICU for hypercapnia and somnolence.',\n",
       " 'This is an 88 year old man with significant\\n   cardiac history who is admitted with significant coagulopathy, acute\\n   renal failure and a GI bleed.',\n",
       " 'URINARY TRACT INFECTION (UTI)\\n HYPOTENSION (NOT SHOCK)\\n   Assessment and Plan: This is an 86 year old female with PMH of\\n   uncontrolled DM who presented with one day of LLQ discomfort, n/v/AMS,\\n   now with hypotension and likely urosepsis. CT showed multiseptated\\n   cystic lesion in the tail of the pancreas - which is suggestive of\\n   serous cystic pancreatic tumor or IPMN.  Mild left ureteral enhancement\\n   was also seen with surrounding inflammatory change that may represent\\n   ureteritis. Patient continuing to require some pressor support but is\\n   otherwise stable.',\n",
       " '[**Age over 90 **] year-old male with a history of Pulmonary Fibrosis (home\\n   O2, 2L resting/ 4L ambulating), DM, CAD, PVD, s/p pacemaker who\\n   presents with 2 days of chest pain and worsening SOB likely worsening\\n   pulmonary fibrosis.',\n",
       " '[**Age over 90 **] yo F w/ PMH of AS, AF p/w inferior MI from OSH\\n   for cath. She is currently hemodynamically stable and chest pain free.',\n",
       " '[**Age over 90 **] yo female with PMH of ESRD presenting with sepsis physiology,\\n   on pressors.\\n   .',\n",
       " '[**Age over 90 **] yo female with history of paroxysmal atrial fib admitted to the CCU\\n   for recurrent a fib with [**Age over 90 1427**].\\n   .',\n",
       " '[**Age over 90 **] yo female with severe dementia with poor functional status, multiple\\n   medical problems with multiple recent hospitalizations including recent\\n   ICU stay with intubation, sepsis, pressors, etc, now presents with\\n   severe dehydration, poor po intake, hypernatremia, and failure to\\n   thrive.',\n",
       " \"[**Age over 90 **] yo woman with hypertension, atrial fibrillation, Alzheimer's and\\n   [**Last Name (un) 3610**] Body dementia who presents with hypothermia and likely associated\\n   hypotension, bradycardia\\n   .\",\n",
       " '[**Age over 90 **] yo woman with recent admission for LLL pneumonia (discharged\\n   [**12-1**]), presents with hypoxia and respiratory distress, found to have\\n   persistent opacity on CXR and UTI.\\n   .',\n",
       " '[**Age over 90 **]F with LGIB and with difficult to localize and reverse specific\\n   source.  This is despite repeated imaging with tagged RBC scan as well\\n   as angio.  As was concensus at [**Hospital6 **] patient is a poor\\n   surgical candidate at this time.  In this setting there has been\\n   recurrent and persistent slow blood loss from GI tract as suggested by\\n   paroxysms of melena.',\n",
       " '[**Age over 90 **]yo man with history of HTN and Afib not on anticoagulation who\\n   presented [**10-23**] s/p witnessed mechanical fall onto left hip.  Found to\\n   have left femoral neck fracture, admitted to medicine because of\\n   hypoxia.  In Afib with RVR starting in afternoon of [**10-24**] with\\n   worsening agitation and mental status changes, transferred to MICU for\\n   closer nursing support and rate control. Patient taken to OR on evening\\n   of [**10-25**] for hemiarthroplasty. Extubated yesterday [**10-26**]. On Tylenol\\n   for pain control; when given Fentanyl on [**10-25**] after OR patient had a\\n   significant drop in blood pressure.',\n",
       " '[**Age over 90 323**]yo woman with h/o stroke presents with aphasia and right sided\\n   weakness.',\n",
       " '[**Hospital **] HOSPITAL ACQUIRED (PROCEDURE RELATED, BAROTRAUMA)\\n HYPERGLYCEMIA\\n ALTERED MENTAL STATUS (NOT DELIRIUM)\\n RESPIRATORY FAILURE, ACUTE (NOT ARDS/[**Doctor Last Name 76**])\\n PULMONARY EMBOLISM (PE), ACUTE\\n HYPOTENSION (NOT SHOCK)\\n HYPOTHERMIA\\n SEIZURE, WITHOUT STATUS EPILEPTICUS\\n   74 yo woman with dementia s/p prolonged CPR [**1-31**] PEA arrest in setting\\n   of massive PE.  Now in 3-pressor shock with evidence of significant\\n   anoxic neurologic injury.  Her prognosis is extrememly poor.',\n",
       " \"[**Last Name (un) **] syndrome- nausea, vomiting, diarrhea\\n   77 y/o male with CAD, Ogilve's syndrome, expressive aphasia s/p likely\\n   demand-ischemia in context of hypotension.\",\n",
       " '[**Last Name 121**] PROBLEM - ENTER DESCRIPTION IN COMMENTS\\n ALCOHOL WITHDRAWAL (INCLUDING DELIRIUM TREMENS, DTS, SEIZURES)\\n HYPOVOLEMIA (VOLUME DEPLETION - WITHOUT SHOCK)\\n   A/P: 63 yo W with PMH of breast ca, ETOH cirrhosis presents with\\n   nausea/vomiting and mixed anion gap acidosis.',\n",
       " \"he pt is a 53-yo man w/ Crohn's Dz s/p total proctocolectomy with\\n   ileostomy c/b short gut syndrome on chronic TPN, with multiple\\n   recurrent line infections w/ MSSA, CoNS, and GNRs, septic pulmonary\\n   emboli and bronchiectasis, now admitted for concern for line infection\\n   and septic pulmonary emboli.\",\n",
       " 'his is a 66 y/o M hx seizures from EEE encephalitis p/w status c/b\\n   aspiration PNA, intubated in NICU, and NSTEMI and extubated on [**2-21**].\\n   Transferred to floor on [**2-24**] and continues to have some mild\\n   respiratory distress, tachypnea.\\n   .',\n",
       " 'n brief this is a 62 year old man with history of seizure and CAD\\n   status post MI in 99 with LAD disease who presented with chest pain\\n   associated with anterior ST elevation and found to have diffuse LAD\\n   disease status post PCI.',\n",
       " '~30 yoM w/ unknown PMH/social hx, admitted after being found\\n   unresponsive while breaking into elementary school.'}"
      ]
     },
     "execution_count": 29,
     "metadata": {},
     "output_type": "execute_result"
    }
   ],
   "source": [
    "set(dataset['train']['Assessment'])"
   ]
  },
  {
   "cell_type": "code",
   "execution_count": 31,
   "id": "9808f021-49e0-45e1-a1ab-6ae8c4c90afe",
   "metadata": {},
   "outputs": [
    {
     "data": {
      "text/plain": [
       "419974"
      ]
     },
     "execution_count": 31,
     "metadata": {},
     "output_type": "execute_result"
    }
   ],
   "source": [
    "out_test['train'].to_parquet(n2c2_data_dir + \"train-abbv.parquet\")\n",
    "out_test['valid'].to_parquet(n2c2_data_dir + \"valid-abbv.parquet\")\n",
    "# dataset['test'].to_parquet()"
   ]
  },
  {
   "cell_type": "code",
   "execution_count": null,
   "id": "95551bba-4fe6-4dea-b8ca-f7cdf26e60d0",
   "metadata": {},
   "outputs": [],
   "source": []
  },
  {
   "cell_type": "code",
   "execution_count": null,
   "id": "54f0416f-0497-47a7-b3af-2941ebcf6140",
   "metadata": {},
   "outputs": [],
   "source": []
  },
  {
   "cell_type": "markdown",
   "id": "f58efd7d-a210-4c5b-8f71-f7d0a63cc1f3",
   "metadata": {},
   "source": [
    "## Read in Electra Model"
   ]
  },
  {
   "cell_type": "code",
   "execution_count": null,
   "id": "d4489315-94c3-4bfb-bcec-3257fe4f40c6",
   "metadata": {},
   "outputs": [],
   "source": [
    "from transformers import AutoTokenizer, AutoModel\n",
    "\n",
    "electra_tokenizer = AutoTokenizer.from_pretrained(\"xhlu/electra-medal\")\n",
    "electra = AutoModel.from_pretrained(\"xhlu/electra-medal\")"
   ]
  },
  {
   "cell_type": "code",
   "execution_count": null,
   "id": "345f0c2d-d899-450a-b76e-427396a34265",
   "metadata": {},
   "outputs": [],
   "source": [
    "# electra = torch.hub.load(\"BruceWen120/medal\", \"electra\")"
   ]
  },
  {
   "cell_type": "markdown",
   "id": "7393b4b5-cf66-4b2c-923e-9021157b286e",
   "metadata": {},
   "source": [
    "## Add abbreviations to tokenizer vocab"
   ]
  },
  {
   "cell_type": "code",
   "execution_count": null,
   "id": "9d9caaec-5116-4fb4-8c73-b22bc8dc6645",
   "metadata": {
    "scrolled": true,
    "tags": []
   },
   "outputs": [
    {
     "data": {
      "text/plain": [
       "4317"
      ]
     },
     "execution_count": 165,
     "metadata": {},
     "output_type": "execute_result"
    }
   ],
   "source": [
    "electra_tokenizer.add_tokens(list(set(filtered_abbvs['abbreviation'].str.lower().tolist())))"
   ]
  },
  {
   "cell_type": "code",
   "execution_count": null,
   "id": "3449e271-c766-4001-9d84-1d3efc73df3e",
   "metadata": {},
   "outputs": [
    {
     "data": {
      "text/plain": [
       "Embedding(34839, 128)"
      ]
     },
     "execution_count": 166,
     "metadata": {},
     "output_type": "execute_result"
    }
   ],
   "source": [
    "electra.resize_token_embeddings(len(electra_tokenizer))"
   ]
  },
  {
   "cell_type": "markdown",
   "id": "5a33a6ea-ea8d-438a-b596-0b4ea3034d39",
   "metadata": {},
   "source": [
    "## Identify abbreviations"
   ]
  },
  {
   "cell_type": "code",
   "execution_count": null,
   "id": "44ccbb72-9c8d-44be-9f76-7490f4b39d4c",
   "metadata": {},
   "outputs": [],
   "source": [
    "tokenized = electra_tokenizer(sample_texts)"
   ]
  },
  {
   "cell_type": "code",
   "execution_count": null,
   "id": "913b662a-df0c-469c-9166-53135859d190",
   "metadata": {
    "scrolled": true,
    "tags": []
   },
   "outputs": [
    {
     "name": "stdout",
     "output_type": "stream",
     "text": [
      "['[CLS]', '35', 'yo', 'f', 'with', 'sle', ',', 're', 'str', 'ict', '##ive', 'lung', 'd', 'ise', 'as', '##e', ',', 'cm', '(', 'ef', '15', '-', '20', '%', ')', 'pre', '##se', 'nts', 'with', 'sev', 'ere', 'lu', '##pus', 'i', 'nd', 'uc', '##ed', 'c', 'ard', 'iom', 'y', 'opa', 'thy', '.', '[SEP]']\n",
      "[5, 7, 8, 9, 13, 14, 17, 19, 27, 29, 30, 34, 35, 38, 39, 41]\n"
     ]
    }
   ],
   "source": [
    "abbv_locs = []\n",
    "\n",
    "for x in tokenized['input_ids']:\n",
    "    tokens = electra_tokenizer.convert_ids_to_tokens(x)\n",
    "    abbv_locs[i for i, token in enumerate(tokens) if token in filtered_abbvs['abbreviation'].str.lower().tolist()]\n",
    "\n",
    "# test = [electra_tokenizer.convert_ids_to_tokens(tokenized['input_ids'][x]) for x in range(len(tokenized['input_ids']))]"
   ]
  },
  {
   "cell_type": "markdown",
   "id": "ec6626a5-4106-4a78-881d-08f48583932a",
   "metadata": {},
   "source": [
    "## Create MeDAL-esque Dataset"
   ]
  },
  {
   "cell_type": "code",
   "execution_count": null,
   "id": "960f8edf-0eb7-45a5-a355-0cc39e167110",
   "metadata": {},
   "outputs": [],
   "source": [
    "# for ELECTRA\n",
    "class HuggingfaceInferenceDataset(torch.utils.data.Dataset):\n",
    "    def __init__(self, df, tokenizer, max_length=512, device='cpu'):\n",
    "        self.tokenizer = tokenizer\n",
    "        self.max_length = max_length\n",
    "        self.device = device\n",
    "        self.df = df \n",
    "\n",
    "    def __len__(self):\n",
    "        return self.df.shape[0]\n",
    "\n",
    "    def __getitem__(self, idxs):\n",
    "        batch_df = self.df.iloc[idxs]\n",
    "        idxs = list(compress(idxs, batch_df['TEXT'].apply(lambda string: len(string.split()) < self.max_length).to_list()))\n",
    "        batch_df = self.df.iloc[idxs]\n",
    "        locs = batch_df['LOCATION'].values\n",
    "        labels = torch.tensor(batch_df['LABEL_NUM'].values)\n",
    "        labels = labels.to(self.device)\n",
    "        tokenized = self.tokenizer.batch_encode_plus(batch_df['TEXT'].tolist(), max_length=self.max_length, \\\n",
    "                    pad_to_max_length=True)['input_ids']\n",
    "        return tokenized, torch.tensor(locs), labels"
   ]
  },
  {
   "cell_type": "code",
   "execution_count": null,
   "id": "c6a56ccd-c1c3-4a8c-aeee-30a2628d02b7",
   "metadata": {},
   "outputs": [],
   "source": []
  },
  {
   "cell_type": "code",
   "execution_count": null,
   "id": "5168981f-28b8-4ae4-ba80-91426c7fc635",
   "metadata": {},
   "outputs": [],
   "source": []
  },
  {
   "cell_type": "code",
   "execution_count": null,
   "id": "57dd97e1-74ad-4434-a803-f10117d7b508",
   "metadata": {},
   "outputs": [],
   "source": []
  },
  {
   "cell_type": "markdown",
   "id": "ffccbd2e-09fb-446b-ba3c-b528621e3fb5",
   "metadata": {},
   "source": [
    "# SciSpacy"
   ]
  },
  {
   "cell_type": "code",
   "execution_count": 15,
   "id": "cf845e0b-6ae9-464f-84f4-ba38ec0d00b5",
   "metadata": {},
   "outputs": [],
   "source": [
    "import scispacy\n",
    "import spacy\n",
    "from scispacy.abbreviation import AbbreviationDetector\n"
   ]
  },
  {
   "cell_type": "code",
   "execution_count": 16,
   "id": "da585ac0-b254-42fe-92e3-2d519094a943",
   "metadata": {},
   "outputs": [
    {
     "data": {
      "text/plain": [
       "<scispacy.abbreviation.AbbreviationDetector at 0x2b710ea43a00>"
      ]
     },
     "execution_count": 16,
     "metadata": {},
     "output_type": "execute_result"
    }
   ],
   "source": [
    "nlp = spacy.load(\"en_core_sci_scibert\")\n",
    "nlp.add_pipe(\"abbreviation_detector\")"
   ]
  },
  {
   "cell_type": "code",
   "execution_count": null,
   "id": "db97b722-2b87-4d00-94e6-ce107c056641",
   "metadata": {},
   "outputs": [],
   "source": [
    "doc = nlp(\"Spinal and bulbar muscular atrophy (SBMA) is an \\\n",
    "           inherited motor neuron disease caused by the expansion \\\n",
    "           of a polyglutamine tract within the androgen receptor AR. \\\n",
    "           SBMA can be caused by this easily.\")"
   ]
  },
  {
   "cell_type": "code",
   "execution_count": null,
   "id": "8069bb46-25cb-4008-ab34-1f0232716b62",
   "metadata": {},
   "outputs": [
    {
     "name": "stdout",
     "output_type": "stream",
     "text": [
      "Abbreviation \t Definition\n",
      "SBMA \t (31, 32) Spinal and bulbar muscular atrophy\n",
      "SBMA \t (6, 7) Spinal and bulbar muscular atrophy\n"
     ]
    }
   ],
   "source": [
    "print(\"Abbreviation\", \"\\t\", \"Definition\")\n",
    "for abrv in doc._.abbreviations:\n",
    "\tprint(f\"{abrv} \\t ({abrv.start}, {abrv.end}) {abrv._.long_form}\")"
   ]
  },
  {
   "cell_type": "code",
   "execution_count": null,
   "id": "5182136c-8c11-4ce3-8822-ff3815905417",
   "metadata": {},
   "outputs": [],
   "source": [
    "idx = np.random.randint(len(dataset['train']))"
   ]
  },
  {
   "cell_type": "code",
   "execution_count": null,
   "id": "ec0d7148-666c-4020-9909-99f66e4b8b63",
   "metadata": {},
   "outputs": [],
   "source": []
  },
  {
   "cell_type": "code",
   "execution_count": null,
   "id": "595e04e1-e4be-4f0c-ad91-97c8f995becf",
   "metadata": {},
   "outputs": [
    {
     "name": "stdout",
     "output_type": "stream",
     "text": [
      "Assessment: This is a 58 yom with history of (ESRD) on (HD) since [**3-8**], then Peritoneal\n",
      "   Dialysis since [**9-10**], (DM2), (HTN), Diastolic (CHF), history of (MSSA)\n",
      "   peritonitis [**6-11**] who presents to ED with new onset abdominal pain since\n",
      "   this morning, associated with nausea/vomiting and fevers, admittted\n",
      "   with bacterial peritonitis.\n",
      "Plan: Bacterial Peritonitis:  Patient presents with symptoms on abdominal\n",
      "   pain, fevers, N/V and paracentesis consistent with bacterial\n",
      "   peritonitis.  He has been started on Vanco/Ceftaz for treatment of\n",
      "   infection.  Renal aware and is following, will continue with PD per\n",
      "   renal recs.  Patient meets sepsis protocol, however CVP elevated.\n",
      "   - cont Vanco 1gm daily and Ceftaz 1gm daily\n",
      "   - Vanco level in AM, dose accordingly\n",
      "   - Bolus with 250cc IVF for hypotension, mental status changes\n",
      "   - Add Levophed if needed\n",
      "   - f/u renal recs\n",
      "   - Morphine 2-4mg IV q6h PRN pain\n",
      "Abbreviation \t Definition\n"
     ]
    }
   ],
   "source": [
    "doc = dataset['train'][idx]\n",
    "doc['Assessment'] = 'This is a 58 yom with history of (ESRD) on (HD) since [**3-8**], then Peritoneal\\n   Dialysis since [**9-10**], (DM2), (HTN), Diastolic (CHF), history of (MSSA)\\n   peritonitis [**6-11**] who presents to ED with new onset abdominal pain since\\n   this morning, associated with nausea/vomiting and fevers, admittted\\n   with bacterial peritonitis.'\n",
    "print(f\"Assessment: {doc['Assessment']}\\nPlan: {doc['Plan Subsection']}\")\n",
    "parsed_assess = nlp(doc['Assessment'])\n",
    "parsed_plan = nlp(doc['Plan Subsection'])\n",
    "\n",
    "print(\"Abbreviation\", \"\\t\", \"Definition\")\n",
    "for abrv in parsed_assess._.abbreviations:\n",
    "    print(f\"{abrv} \\t ({abrv.start}, {abrv.end}) {abrv._.long_form}\")    \n",
    "for abrv in parsed_plan._.abbreviations:\n",
    "    print(f\"{abrv} \\t ({abrv.start}, {abrv.end}) {abrv._.long_form}\")    \n"
   ]
  },
  {
   "cell_type": "markdown",
   "id": "201f8bc2-8615-4c32-91f9-c4aaceccba45",
   "metadata": {},
   "source": [
    "**Notes:** So this obviously didn't work because the abbreviation detector requires the definition form of an abbreviation, like \"coronary artery disease (CAD)\""
   ]
  },
  {
   "cell_type": "code",
   "execution_count": null,
   "id": "a2b49c52-3369-49d3-bf4f-d3220bbb12e9",
   "metadata": {},
   "outputs": [],
   "source": []
  }
 ],
 "metadata": {
  "kernelspec": {
   "display_name": "Python 3 (ipykernel)",
   "language": "python",
   "name": "python3"
  },
  "language_info": {
   "codemirror_mode": {
    "name": "ipython",
    "version": 3
   },
   "file_extension": ".py",
   "mimetype": "text/x-python",
   "name": "python",
   "nbconvert_exporter": "python",
   "pygments_lexer": "ipython3",
   "version": "3.10.4"
  }
 },
 "nbformat": 4,
 "nbformat_minor": 5
}
