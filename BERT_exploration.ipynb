{
 "cells": [
  {
   "cell_type": "markdown",
   "id": "f0fb8dd1-7b01-40bc-a916-47d98d88ec7c",
   "metadata": {},
   "source": [
    "# Load Data"
   ]
  },
  {
   "cell_type": "code",
   "execution_count": 12,
   "id": "70ef864b-7e5b-4e25-a001-7a3789a1e4f8",
   "metadata": {},
   "outputs": [],
   "source": [
    "import pandas as pd"
   ]
  },
  {
   "cell_type": "code",
   "execution_count": 13,
   "id": "c9cf23b3-1f0f-41a2-b719-3d590ad28ded",
   "metadata": {},
   "outputs": [
    {
     "name": "stderr",
     "output_type": "stream",
     "text": [
      "/tmp/ipykernel_12471/1441759017.py:1: DtypeWarning: Columns (4,5) have mixed types. Specify dtype option on import or set low_memory=False.\n",
      "  notes = pd.read_csv(\"/home/vs428/project/MIMIC/files/mimiciii/1.4/NOTEEVENTS.csv\")\n"
     ]
    }
   ],
   "source": [
    "notes = pd.read_csv(\"/home/vs428/project/MIMIC/files/mimiciii/1.4/NOTEEVENTS.csv\")"
   ]
  },
  {
   "cell_type": "markdown",
   "id": "606192e1-8e71-4e69-a1b0-6b5ec4463348",
   "metadata": {},
   "source": [
    "# Imports for transformers"
   ]
  },
  {
   "cell_type": "code",
   "execution_count": 14,
   "id": "50594a5c-d73c-44cf-9291-a2162bc44987",
   "metadata": {},
   "outputs": [],
   "source": [
    "import transformers\n",
    "from transformers import AutoTokenizer, AutoModel, AutoModelForMaskedLM\n",
    "from transformers import logging\n",
    "\n",
    "logging.set_verbosity_warning()"
   ]
  },
  {
   "cell_type": "markdown",
   "id": "21579cb1-854b-49de-b6c3-83051f0cbee8",
   "metadata": {},
   "source": [
    "# Emily Alsentzer ClinicalBERT model"
   ]
  },
  {
   "cell_type": "code",
   "execution_count": 5,
   "id": "f9de20ae-2fb5-45c6-8da9-fb06f0bf63b8",
   "metadata": {},
   "outputs": [
    {
     "data": {
      "application/vnd.jupyter.widget-view+json": {
       "model_id": "08bb29b56e0a4b448ea3e04d0349e0f3",
       "version_major": 2,
       "version_minor": 0
      },
      "text/plain": [
       "Downloading:   0%|          | 0.00/385 [00:00<?, ?B/s]"
      ]
     },
     "metadata": {},
     "output_type": "display_data"
    },
    {
     "data": {
      "application/vnd.jupyter.widget-view+json": {
       "model_id": "0d3ec008ebec431ab49bc9451b5d67b9",
       "version_major": 2,
       "version_minor": 0
      },
      "text/plain": [
       "Downloading:   0%|          | 0.00/208k [00:00<?, ?B/s]"
      ]
     },
     "metadata": {},
     "output_type": "display_data"
    },
    {
     "data": {
      "application/vnd.jupyter.widget-view+json": {
       "model_id": "fca6cf9486414244a9fbbdc9c4c2fff3",
       "version_major": 2,
       "version_minor": 0
      },
      "text/plain": [
       "Downloading:   0%|          | 0.00/416M [00:00<?, ?B/s]"
      ]
     },
     "metadata": {},
     "output_type": "display_data"
    },
    {
     "name": "stderr",
     "output_type": "stream",
     "text": [
      "Some weights of the model checkpoint at emilyalsentzer/Bio_ClinicalBERT were not used when initializing BertModel: ['cls.seq_relationship.weight', 'cls.predictions.transform.LayerNorm.bias', 'cls.predictions.transform.dense.bias', 'cls.seq_relationship.bias', 'cls.predictions.transform.dense.weight', 'cls.predictions.decoder.weight', 'cls.predictions.transform.LayerNorm.weight', 'cls.predictions.bias']\n",
      "- This IS expected if you are initializing BertModel from the checkpoint of a model trained on another task or with another architecture (e.g. initializing a BertForSequenceClassification model from a BertForPreTraining model).\n",
      "- This IS NOT expected if you are initializing BertModel from the checkpoint of a model that you expect to be exactly identical (initializing a BertForSequenceClassification model from a BertForSequenceClassification model).\n"
     ]
    }
   ],
   "source": [
    "bio_clinicalbert_tokenizer = AutoTokenizer.from_pretrained(\"emilyalsentzer/Bio_ClinicalBERT\")\n",
    "bio_clinicalbert_model = AutoModel.from_pretrained(\"emilyalsentzer/Bio_ClinicalBERT\")"
   ]
  },
  {
   "cell_type": "markdown",
   "id": "efd35e23-74e5-4afc-8176-1e84131c70f6",
   "metadata": {},
   "source": [
    "# Microsoft PubMedBERT"
   ]
  },
  {
   "cell_type": "code",
   "execution_count": 7,
   "id": "ac26fe5f-f1a9-4975-b2b5-67f4ba472476",
   "metadata": {},
   "outputs": [
    {
     "data": {
      "application/vnd.jupyter.widget-view+json": {
       "model_id": "9595b1438e3f4e729931a7800cf1c3f0",
       "version_major": 2,
       "version_minor": 0
      },
      "text/plain": [
       "Downloading:   0%|          | 0.00/28.0 [00:00<?, ?B/s]"
      ]
     },
     "metadata": {},
     "output_type": "display_data"
    },
    {
     "data": {
      "application/vnd.jupyter.widget-view+json": {
       "model_id": "d7866e9661fc40c0af6884698b59245e",
       "version_major": 2,
       "version_minor": 0
      },
      "text/plain": [
       "Downloading:   0%|          | 0.00/385 [00:00<?, ?B/s]"
      ]
     },
     "metadata": {},
     "output_type": "display_data"
    },
    {
     "data": {
      "application/vnd.jupyter.widget-view+json": {
       "model_id": "50482e06ecb944d68e32db1c73161901",
       "version_major": 2,
       "version_minor": 0
      },
      "text/plain": [
       "Downloading:   0%|          | 0.00/420M [00:00<?, ?B/s]"
      ]
     },
     "metadata": {},
     "output_type": "display_data"
    },
    {
     "name": "stderr",
     "output_type": "stream",
     "text": [
      "Some weights of the model checkpoint at microsoft/BiomedNLP-PubMedBERT-base-uncased-abstract were not used when initializing BertForMaskedLM: ['cls.seq_relationship.bias', 'cls.seq_relationship.weight']\n",
      "- This IS expected if you are initializing BertForMaskedLM from the checkpoint of a model trained on another task or with another architecture (e.g. initializing a BertForSequenceClassification model from a BertForPreTraining model).\n",
      "- This IS NOT expected if you are initializing BertForMaskedLM from the checkpoint of a model that you expect to be exactly identical (initializing a BertForSequenceClassification model from a BertForSequenceClassification model).\n"
     ]
    }
   ],
   "source": [
    "microsoft_tokenizer = AutoTokenizer.from_pretrained(\"microsoft/BiomedNLP-PubMedBERT-base-uncased-abstract\")\n",
    "microsoft_model = AutoModelForMaskedLM.from_pretrained(\"microsoft/BiomedNLP-PubMedBERT-base-uncased-abstract\")"
   ]
  },
  {
   "cell_type": "markdown",
   "id": "92401e6d-9e91-46fe-a2ef-55c03fe6748c",
   "metadata": {
    "tags": []
   },
   "source": [
    "# Kexin Huang ClinicalBERT"
   ]
  },
  {
   "cell_type": "code",
   "execution_count": null,
   "id": "55fcb0b7-c4e7-48fb-a8df-8d9e4b8b1464",
   "metadata": {},
   "outputs": [],
   "source": []
  },
  {
   "cell_type": "markdown",
   "id": "8dc4443b-6de1-416f-b2b0-7f8294ee949f",
   "metadata": {},
   "source": [
    "# SciFive"
   ]
  },
  {
   "cell_type": "code",
   "execution_count": null,
   "id": "fed411bd-cf5d-4a37-9500-5df623035a64",
   "metadata": {},
   "outputs": [],
   "source": []
  },
  {
   "cell_type": "code",
   "execution_count": null,
   "id": "5a23c540-f92a-4841-b46b-5ba9e7ea149d",
   "metadata": {},
   "outputs": [],
   "source": []
  },
  {
   "cell_type": "markdown",
   "id": "255c6e67-c819-4ac7-8062-15f24f0f8f73",
   "metadata": {},
   "source": [
    "# Load Data"
   ]
  },
  {
   "cell_type": "code",
   "execution_count": 21,
   "id": "e7fa0698-4c7f-42bb-b797-f173c347b289",
   "metadata": {},
   "outputs": [],
   "source": [
    "vals = []\n",
    "for col in notes[['ROW_ID', \"SUBJECT_ID\", \"HADM_ID\"]].columns:\n",
    "    vals += notes['ROW_ID'].tolist()"
   ]
  },
  {
   "cell_type": "code",
   "execution_count": 23,
   "id": "bf767056-171c-47da-b3be-43c470a7b762",
   "metadata": {},
   "outputs": [
    {
     "data": {
      "text/plain": [
       "118615"
      ]
     },
     "execution_count": 23,
     "metadata": {},
     "output_type": "execute_result"
    }
   ],
   "source": [
    "# vals.index(113085)"
   ]
  },
  {
   "cell_type": "code",
   "execution_count": 29,
   "id": "a69a7250-1bbb-47ef-9af3-cd4dc7b702c0",
   "metadata": {},
   "outputs": [
    {
     "data": {
      "text/plain": [
       "'Baseline artifact. Atrial pacing. Diffuse non-specific ST-T wave changes.\\nCompared to the previous tracing no significant change.\\n\\n'"
      ]
     },
     "execution_count": 29,
     "metadata": {},
     "output_type": "execute_result"
    }
   ],
   "source": [
    "notes[notes['ROW_ID'] == 118615]['TEXT'].values[0]"
   ]
  },
  {
   "cell_type": "code",
   "execution_count": null,
   "id": "9006954e-d42a-47f0-b2a8-9117cccf774b",
   "metadata": {},
   "outputs": [],
   "source": []
  }
 ],
 "metadata": {
  "kernelspec": {
   "display_name": "Python 3 (ipykernel)",
   "language": "python",
   "name": "python3"
  },
  "language_info": {
   "codemirror_mode": {
    "name": "ipython",
    "version": 3
   },
   "file_extension": ".py",
   "mimetype": "text/x-python",
   "name": "python",
   "nbconvert_exporter": "python",
   "pygments_lexer": "ipython3",
   "version": "3.8.13"
  }
 },
 "nbformat": 4,
 "nbformat_minor": 5
}
