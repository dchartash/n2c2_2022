{
 "cells": [
  {
   "cell_type": "code",
   "execution_count": 102,
   "id": "a99ae24d-a494-4001-baf4-8d00bd91fa6c",
   "metadata": {},
   "outputs": [
    {
     "name": "stdout",
     "output_type": "stream",
     "text": [
      "The autoreload extension is already loaded. To reload it, use:\n",
      "  %reload_ext autoreload\n"
     ]
    }
   ],
   "source": [
    "%load_ext autoreload\n",
    "%autoreload 2"
   ]
  },
  {
   "cell_type": "code",
   "execution_count": 104,
   "id": "6ca9073a",
   "metadata": {},
   "outputs": [],
   "source": [
    "import pandas as pd \n",
    "import numpy as np\n",
    "from preprocessing.cleaning_utils import *\n",
    "from functools import partial\n",
    "import torch \n",
    "\n",
    "from datasets import load_dataset\n",
    "from datasets import Value, ClassLabel, Features, DatasetDict\n",
    "import transformers\n",
    "from transformers import AutoTokenizer, AutoModel, AutoModelForMaskedLM, AutoModelForSequenceClassification\n",
    "from transformers import DataCollatorWithPadding\n",
    "from transformers import logging\n",
    "from transformers import TrainingArguments, Trainer\n",
    "from transformers import pipeline\n",
    "import spacy\n",
    "import spacy\n",
    "from spacy import displacy\n",
    "from spacy.symbols import nsubj, VERB, nmod, ccomp, punct, conj\n",
    "from spacy.tokens import Doc, Span, Token\n",
    "logging.set_verbosity_warning()\n",
    "\n",
    "from preprocessing.cleaning_utils import *"
   ]
  },
  {
   "cell_type": "code",
   "execution_count": null,
   "id": "11c4f12b-0788-4c85-ba74-4c8e5d06fbf5",
   "metadata": {},
   "outputs": [],
   "source": []
  },
  {
   "cell_type": "code",
   "execution_count": 3,
   "id": "02011b8f-4e31-403b-9d3b-3bc02c779929",
   "metadata": {
    "scrolled": true
   },
   "outputs": [],
   "source": [
    "# !python -m torch.utils.collect_env"
   ]
  },
  {
   "cell_type": "code",
   "execution_count": 4,
   "id": "7367c7f6-5b97-4b22-964a-bce4eee7e5d8",
   "metadata": {},
   "outputs": [
    {
     "data": {
      "text/plain": [
       "device(type='cuda')"
      ]
     },
     "execution_count": 4,
     "metadata": {},
     "output_type": "execute_result"
    }
   ],
   "source": [
    "device = torch.device(\"cuda\") if torch.cuda.is_available() else torch.device(\"cpu\")\n",
    "device"
   ]
  },
  {
   "cell_type": "code",
   "execution_count": null,
   "id": "e3e4894f-bd82-40cf-8ea5-e6e34750d070",
   "metadata": {},
   "outputs": [],
   "source": []
  },
  {
   "cell_type": "code",
   "execution_count": 5,
   "id": "82b75e6e",
   "metadata": {},
   "outputs": [],
   "source": [
    "mimic_dir = \"/home/vs428/project/MIMIC/files/mimiciii/1.4/\"\n",
    "n2c2_dir = \"/home/vs428/project/n2c2/2022/N2C2-AP-Reasoning/\"\n",
    "n2c2_data_dir =  \"/home/vs428/project/n2c2/2022/Data/\"\n"
   ]
  },
  {
   "cell_type": "code",
   "execution_count": null,
   "id": "85ce0441-70de-4ec1-a285-e139134c7523",
   "metadata": {},
   "outputs": [],
   "source": []
  },
  {
   "cell_type": "code",
   "execution_count": 111,
   "id": "4acd8952-99d2-4215-8ceb-4490325d9bb7",
   "metadata": {},
   "outputs": [
    {
     "name": "stderr",
     "output_type": "stream",
     "text": [
      "Using custom data configuration default-346727d25b56a84a\n",
      "Reusing dataset parquet (/home/vs428/.cache/huggingface/datasets/parquet/default-346727d25b56a84a/0.0.0/0b6d5799bb726b24ad7fc7be720c170d8e497f575d02d47537de9a5bac074901)\n"
     ]
    },
    {
     "data": {
      "application/vnd.jupyter.widget-view+json": {
       "model_id": "eda5b9fe316e4037ace5973c25ba4c00",
       "version_major": 2,
       "version_minor": 0
      },
      "text/plain": [
       "  0%|          | 0/2 [00:00<?, ?it/s]"
      ]
     },
     "metadata": {},
     "output_type": "display_data"
    }
   ],
   "source": [
    "classes = ['Not Relevant', 'Neither', 'Indirect', 'Direct']\n",
    "features = Features({\n",
    "    'ROW ID':Value(\"int64\"),\n",
    "    'HADM ID':Value(\"int64\"),\n",
    "    'Assessment':Value(\"string\"),\n",
    "    'Plan Subsection':Value(\"string\"),\n",
    "    \"Relation\":Value(\"string\")\n",
    "}) \n",
    "\n",
    "dataset = load_dataset(\"parquet\", data_files={\n",
    "                            \"train\":n2c2_data_dir + \"train-abbv.parquet\",\n",
    "                            \"valid\":n2c2_data_dir + \"valid-abbv.parquet\",\n",
    "                        },\n",
    "\n",
    "                       # features=features\n",
    "                      )\n",
    "# dataset = dataset.class_encode_column(\"Relation\")\n",
    "# dataset = dataset.rename_column(\"Relation\", \"label\")"
   ]
  },
  {
   "cell_type": "code",
   "execution_count": null,
   "id": "47e29b00-ea37-4899-9c64-b6ba5215ef96",
   "metadata": {},
   "outputs": [],
   "source": []
  },
  {
   "cell_type": "code",
   "execution_count": null,
   "id": "021338fd-4173-423d-b050-6366bbdb6085",
   "metadata": {},
   "outputs": [],
   "source": []
  },
  {
   "cell_type": "code",
   "execution_count": 112,
   "id": "4b6c79af-9e08-420d-9890-c334e04670cb",
   "metadata": {},
   "outputs": [
    {
     "name": "stderr",
     "output_type": "stream",
     "text": [
      "Loading cached processed dataset at /home/vs428/.cache/huggingface/datasets/parquet/default-346727d25b56a84a/0.0.0/0b6d5799bb726b24ad7fc7be720c170d8e497f575d02d47537de9a5bac074901/cache-b8a567059a696c67.arrow\n",
      "Loading cached processed dataset at /home/vs428/.cache/huggingface/datasets/parquet/default-346727d25b56a84a/0.0.0/0b6d5799bb726b24ad7fc7be720c170d8e497f575d02d47537de9a5bac074901/cache-ce5e410dc73c0574.arrow\n"
     ]
    }
   ],
   "source": [
    "dataset = dataset.map(remove_MIMIC_deid)"
   ]
  },
  {
   "cell_type": "code",
   "execution_count": null,
   "id": "6d2104db-a04a-4460-b918-fb24b62431e8",
   "metadata": {},
   "outputs": [],
   "source": []
  },
  {
   "cell_type": "code",
   "execution_count": 110,
   "id": "9cd9f7ed-d488-493f-8163-73e295a286a8",
   "metadata": {},
   "outputs": [
    {
     "data": {
      "text/plain": [
       "{'ROW ID': 560236,\n",
       " 'HADM ID': 199097,\n",
       " 'Assessment': 'Patient is a 58 year old male with history of atrial fibrillation on\\n   coumadin, hyperlipidemia, hypertension, peripheral vascular disease,\\n   status post costovertebral angle who presented to [**Hospital3 847**] on [**2185-3-2**] with heart\\n   failure exacerbation and atrial fibrillation with rapid ventricular response , transferred due\\n   to difficulty with diuresis [**2-7**] hypotension.',\n",
       " 'Plan Subsection': '#. fluids , electrolytes , nutrition \\n   - Low skin associated lymphoid tissue , cardiac heart healthy diet\\n   - Monitor electrolytes and replete pro re nata \\n   .\\n   #. Access: PIVs\\n   .\\n   #. prophylaxis :\\n   - proton pump inhibitor [**Hospital1 **], bowel regimen, supratherapeutic international normalized ratio \\n   .\\n   #. Code:  Full\\n   .\\n   #. disposition :  coronary care unit for now.\\n   - posterior tibialis consult in the AM.\\n   intensive care unit Care\\n   Nutrition:\\n   Glycemic Control:\\n   Lines:\\n   18 Gauge - [**2185-3-6**] 04:00 pm ( afternoon ) \\n   20 Gauge - [**2185-3-6**] 06:33 pm ( afternoon ) \\n   Prophylaxis:\\n   deep venous thrombosis :\\n   Stress ulcer:\\n   VAP:',\n",
       " 'label': 'Not Relevant'}"
      ]
     },
     "execution_count": 110,
     "metadata": {},
     "output_type": "execute_result"
    }
   ],
   "source": [
    "dataset['train'][125]"
   ]
  },
  {
   "cell_type": "code",
   "execution_count": 8,
   "id": "bfcfdfa4-a93a-4bce-a91b-ac584b096866",
   "metadata": {},
   "outputs": [],
   "source": [
    "from transformers import GPT2Tokenizer, GPTNeoForSequenceClassification\n"
   ]
  },
  {
   "cell_type": "code",
   "execution_count": 9,
   "id": "357ad0f1-0b14-46f1-92e1-5e467c4fc473",
   "metadata": {},
   "outputs": [
    {
     "data": {
      "text/plain": [
       "1"
      ]
     },
     "execution_count": 9,
     "metadata": {},
     "output_type": "execute_result"
    }
   ],
   "source": [
    "tokenizer = GPT2Tokenizer.from_pretrained(\"EleutherAI/gpt-neo-1.3B\")\n",
    "tokenizer.add_special_tokens({'pad_token': '[PAD]'})\n"
   ]
  },
  {
   "cell_type": "code",
   "execution_count": null,
   "id": "871d5d99-8cea-4226-8f31-e4899d7a3c13",
   "metadata": {},
   "outputs": [],
   "source": []
  },
  {
   "cell_type": "code",
   "execution_count": 11,
   "id": "6ce3d12e-fc16-47d6-98ae-8f8825061356",
   "metadata": {},
   "outputs": [
    {
     "name": "stderr",
     "output_type": "stream",
     "text": [
      "Some weights of GPTNeoForSequenceClassification were not initialized from the model checkpoint at EleutherAI/gpt-neo-1.3B and are newly initialized: ['transformer.h.21.attn.attention.bias', 'transformer.h.9.attn.attention.bias', 'transformer.h.17.attn.attention.bias', 'transformer.h.5.attn.attention.bias', 'score.weight', 'transformer.h.11.attn.attention.bias', 'transformer.h.13.attn.attention.bias', 'transformer.h.19.attn.attention.bias', 'transformer.h.23.attn.attention.bias', 'transformer.h.7.attn.attention.bias', 'transformer.h.15.attn.attention.bias', 'transformer.h.1.attn.attention.bias', 'transformer.h.3.attn.attention.bias']\n",
      "You should probably TRAIN this model on a down-stream task to be able to use it for predictions and inference.\n"
     ]
    }
   ],
   "source": [
    "model = GPTNeoForSequenceClassification.from_pretrained(\"EleutherAI/gpt-neo-1.3B\", num_labels=4, \n",
    "                                                        problem_type=\"single_label_classification\",\n",
    "                                                       pad_token_id=tokenizer.convert_tokens_to_ids(\"[PAD]\"))\n",
    "\n"
   ]
  },
  {
   "cell_type": "code",
   "execution_count": 112,
   "id": "61e92f5e-dced-468e-b407-c2a2ae506c38",
   "metadata": {},
   "outputs": [
    {
     "data": {
      "text/plain": [
       "Embedding(50258, 2048)"
      ]
     },
     "execution_count": 112,
     "metadata": {},
     "output_type": "execute_result"
    }
   ],
   "source": [
    "model.resize_token_embeddings(len(tokenizer))"
   ]
  },
  {
   "cell_type": "code",
   "execution_count": 113,
   "id": "296b6958-7ad3-4703-964c-4e1fe9661d59",
   "metadata": {},
   "outputs": [],
   "source": [
    "out = tokenizer(dataset['train'][43:45]['Assessment'], dataset['train'][43:45]['Plan Subsection'],\n",
    "                                      truncation=\"longest_first\",\n",
    "                                    # padding=True,\n",
    "                                      max_length=512,\n",
    "                                      verbose=True)"
   ]
  },
  {
   "cell_type": "code",
   "execution_count": 125,
   "id": "e3506aff-1e4d-4055-864a-1b02b5130fa9",
   "metadata": {},
   "outputs": [],
   "source": [
    "generator = pipeline(task=\"text-classification\", model=model, tokenizer=tokenizer, return_all_scores=True)"
   ]
  },
  {
   "cell_type": "code",
   "execution_count": 128,
   "id": "ea5d64fa-086e-4e64-a3eb-1759e1295242",
   "metadata": {},
   "outputs": [
    {
     "data": {
      "text/plain": [
       "[{'label': 'LABEL_0', 'score': 0.45915326476097107},\n",
       " {'label': 'LABEL_1', 'score': 0.03891521692276001},\n",
       " {'label': 'LABEL_2', 'score': 0.478484570980072},\n",
       " {'label': 'LABEL_3', 'score': 0.02344704233109951}]"
      ]
     },
     "execution_count": 128,
     "metadata": {},
     "output_type": "execute_result"
    }
   ],
   "source": [
    "generator([dataset['train'][43]['Assessment'] +  dataset['train'][43]['Plan Subsection'], \n",
    "           dataset['train'][44]['Assessment'] +  dataset['train'][44]['Plan Subsection']])[0]"
   ]
  },
  {
   "cell_type": "code",
   "execution_count": null,
   "id": "cbbd9dc1-87b0-48a4-aedd-2f2b0bfb120a",
   "metadata": {
    "scrolled": true,
    "tags": []
   },
   "outputs": [],
   "source": []
  },
  {
   "cell_type": "code",
   "execution_count": 134,
   "id": "375e11c1-788a-4441-84d4-f50bc205899f",
   "metadata": {},
   "outputs": [],
   "source": [
    "x = np.zeros(shape=(5,5))"
   ]
  },
  {
   "cell_type": "code",
   "execution_count": 138,
   "id": "75c64fff-e6fb-4426-a0f3-6f5fab41507d",
   "metadata": {},
   "outputs": [],
   "source": [
    "x[4, :] = [1,2,3,4,5 ]"
   ]
  },
  {
   "cell_type": "code",
   "execution_count": 139,
   "id": "699c06c0-519a-4a7e-8c2d-94ee23cefc21",
   "metadata": {},
   "outputs": [
    {
     "data": {
      "text/plain": [
       "array([[0., 0., 0., 0., 0.],\n",
       "       [0., 0., 0., 0., 0.],\n",
       "       [0., 0., 0., 0., 0.],\n",
       "       [0., 0., 0., 0., 0.],\n",
       "       [1., 2., 3., 4., 5.]])"
      ]
     },
     "execution_count": 139,
     "metadata": {},
     "output_type": "execute_result"
    }
   ],
   "source": [
    "x"
   ]
  },
  {
   "cell_type": "code",
   "execution_count": 136,
   "id": "e515be34-39aa-4b57-b5e2-ba71f604dab5",
   "metadata": {},
   "outputs": [],
   "source": [
    "data_collator = DataCollatorWithPadding(tokenizer,\n",
    "                                        max_length=512, \n",
    "                                        padding=\"max_length\",\n",
    "                                        return_tensors=\"pt\")    \n"
   ]
  },
  {
   "cell_type": "code",
   "execution_count": 116,
   "id": "a12409a6-a3f7-488f-9aa9-9211e7534eef",
   "metadata": {},
   "outputs": [],
   "source": [
    "test = data_collator(out)"
   ]
  },
  {
   "cell_type": "code",
   "execution_count": 117,
   "id": "daa64750-f557-4522-a0b6-4852ca590c97",
   "metadata": {},
   "outputs": [],
   "source": [
    "# tokenizer.decode(out['input_ids'])\n",
    "model_out = model(**test)"
   ]
  },
  {
   "cell_type": "code",
   "execution_count": 118,
   "id": "450e6b0e-9a11-4548-aef2-d2b8d4757e07",
   "metadata": {},
   "outputs": [
    {
     "data": {
      "text/plain": [
       "tensor([[ 1.5115, -0.9565,  1.5527, -1.4632],\n",
       "        [ 0.1700, -2.3643,  3.2297, -0.9741]], grad_fn=<IndexBackward0>)"
      ]
     },
     "execution_count": 118,
     "metadata": {},
     "output_type": "execute_result"
    }
   ],
   "source": [
    "model_out.logits"
   ]
  },
  {
   "cell_type": "code",
   "execution_count": null,
   "id": "1ed44a02-f964-4fb1-b6e6-5cbe31b4fec2",
   "metadata": {},
   "outputs": [],
   "source": [
    "dataset = dataset.map(partial(tokenize_function, tokenizer=tokenizer), batched=True)\n",
    "\n",
    "# tokenizer(data['train'][23])"
   ]
  },
  {
   "cell_type": "code",
   "execution_count": 8,
   "id": "7f5268aa-f043-42f4-871e-d462c00a25f7",
   "metadata": {},
   "outputs": [],
   "source": [
    "# # split dataset: 80% train, 10% validation, 10% test \n",
    "# train_testvalid = dataset['train'].train_test_split(test_size=0.2)\n",
    "# # test_valid = train_testvalid['test'].train_test_split(test_size=0.5)\n",
    "# split_dataset = DatasetDict({\n",
    "#     'train': train_testvalid['train'],\n",
    "#     'valid': test_valid['train'],\n",
    "#     # 'test': test_valid['test'],\n",
    "# })\n",
    "\n"
   ]
  },
  {
   "cell_type": "code",
   "execution_count": 113,
   "id": "65d9151f-01ba-4d04-92af-7ebf06d92dea",
   "metadata": {},
   "outputs": [],
   "source": [
    "# prompts = []\n",
    "# for data in dataset['train']:\n",
    "#     prompt_str = 'Assessment: \"' + data['Assessment'] + '\"\\nPlan: \"' + data['Plan Subsection'] + '\"\\nLabel: ' \\\n",
    "#         + str(data['label'])\n",
    "#     prompts.append(prompt_str)\n",
    "prompts = []\n",
    "for data in dataset['train']:\n",
    "    prompt_str = 'Assessment: ' + data['Assessment'] + '\\nPlan: ' + data['Plan Subsection'] + '\\nLabel: ' \\\n",
    "        + str(data['label'])\n",
    "    prompts.append(prompt_str)\n",
    "        "
   ]
  },
  {
   "cell_type": "code",
   "execution_count": null,
   "id": "b0c5b1e5-b70a-4822-b8a5-2aebcac80f89",
   "metadata": {},
   "outputs": [],
   "source": []
  },
  {
   "cell_type": "code",
   "execution_count": 114,
   "id": "96e81e75-92e7-4c63-95f0-4dcfde9c7c1f",
   "metadata": {},
   "outputs": [
    {
     "data": {
      "text/plain": [
       "'Assessment: Assesment: This is a 76 year-old female with a history of diabetes who\\n   presents with pneumoperitoneum of unclear aetiology, complicated by\\n   coagulopathy and rhabdomyolysis.\\nPlan: # Acute renal failure -  be pre-renal or secondary to\\n   rhabdomyolysis. Creatinine down from 1.7 to 1.3.\\n   - Continue aggressive 4 fluid hydration\\n   - Monitor potassium (3.8 this AM)\\n   - Renally dose antibiotics\\nLabel: Indirect'"
      ]
     },
     "execution_count": 114,
     "metadata": {},
     "output_type": "execute_result"
    }
   ],
   "source": [
    "prompts[10]"
   ]
  },
  {
   "cell_type": "code",
   "execution_count": 115,
   "id": "a34f2db0-8e1c-4790-93b0-1e9661a6cac4",
   "metadata": {
    "scrolled": true,
    "tags": []
   },
   "outputs": [
    {
     "name": "stdout",
     "output_type": "stream",
     "text": [
      "Assessment: 51 year old F with a history of 3V coronary artery disease , confirmed on C. catheter during this\n",
      "   admission, ejection fraction of 40percent , who is transferred to coronary care unit for monitoring of\n",
      "   recurrent chest pain. Plan for coronary artery bypass graft today to revascularize due to\n",
      "   3-vessel disease.\n",
      "Plan: # CORONARIES: Patient with 3 vessel disease on catheter . Previously found\n",
      "   to be the case in , but had been treated medically. On the floor,\n",
      "   patient with recurrent chest pain and electrocardiogram changes, concerning for\n",
      "   further ischemia. Chest pain has been controlled on nitro drop . Patient\n",
      "   in coronary care unit for monitoring; plan for coronary artery bypass graft today.\n",
      "   - continue nitro drop \n",
      "   - if has further chest pain , would uptitrate nitro, and contact  and\n",
      "   attending for potential balloon pump versus urgent coronary artery bypass graft \n",
      "   - appreciate cardiothoracic  recommendations \n",
      "   - continue , , ACE-i, simvastatin\n",
      "Label: Direct\n",
      "\n",
      "\n",
      "Assessment: 51 year old F with a history of 3V coronary artery disease , confirmed on C. catheter during this\n",
      "   admission, ejection fraction of 40percent , who is transferred to coronary care unit for monitoring of\n",
      "   recurrent chest pain. Plan for coronary artery bypass graft today to revascularize due to\n",
      "   3-vessel disease.\n",
      "Plan: # Acute on Chronic systolic congestive heart failure : Patient with ejection fraction of 25percent at outside hospital , but\n",
      "   repeat echocardiogram at  showed ejection fraction of 40percent , consistent with prior echocardiogram . shortness of breath \n",
      "   resolved, but still with elevated jugular venous pressure (no crackles on my examination this\n",
      "   morning).\n",
      "   -Goal even inspiration \n",
      "soft & o ( blood type ) \n",
      "soft as preparation for coronary artery bypass graft today\n",
      "   -Continue blow by , ace inhibitor ( angiotensin converting enzyme inhibitor ) , , statin\n",
      "Label: Indirect\n",
      "\n",
      "\n",
      "Assessment: 51 year old F with a history of 3V coronary artery disease , confirmed on C. catheter during this\n",
      "   admission, ejection fraction of 40percent , who is transferred to coronary care unit for monitoring of\n",
      "   recurrent chest pain. Plan for coronary artery bypass graft today to revascularize due to\n",
      "   3-vessel disease.\n",
      "Plan: # Social stressors: Recently lost mother to cancer, recently lost job.\n",
      "   Denies SI/HI or depression.\n",
      "   - social work consulted for coping\n",
      "Label: Neither\n",
      "\n",
      "\n",
      "Assessment: 51 year old F with a history of 3V coronary artery disease , confirmed on C. catheter during this\n",
      "   admission, ejection fraction of 40percent , who is transferred to coronary care unit for monitoring of\n",
      "   recurrent chest pain. Plan for coronary artery bypass graft today to revascularize due to\n",
      "   3-vessel disease.\n",
      "Plan: # fluids , electrolytes , nutrition : Replete electrolytes pro re nata , nothing by mouth for coronary artery bypass graft today\n",
      "   .\n",
      "   # ACCESS: peripheral intravenous \n",
      "   .\n",
      "   # PROPHYLAXIS: 4 heparin drop \n",
      "   .\n",
      "   # CODE: FULL (confirmed); contact:   \n",
      "   .\n",
      "   # disposition : coronary care unit for now\n",
      "   intensive care unit Care\n",
      "   Nutrition:\n",
      "   nothing by mouth for coronary artery bypass graft today.\n",
      "   Glycemic Control:  Monitor blood sugars.\n",
      "   Lines:\n",
      "   18 Gauge -  12:00 pm ( afternoon ) \n",
      "   Prophylaxis:\n",
      "   deep venous thrombosis : 4 heparin drop \n",
      "   Stress ulcer:\n",
      "   VAP:  not intubated\n",
      "Label: Not Relevant\n",
      "\n",
      "\n",
      "Assessment: CHRONIC OBSTRUCTIVE PULMONARY DISEASE (chronic obstructive pulmonary disease , BRONCHITIS, EMPHYSEMA)\n",
      "   WITH ACUTE EXACERBATION\n",
      "   IMPRESSION: 57 year old man with long smokign history admitted to  with\n",
      "   makred dypnea and lower extremity swelling:\n",
      "Plan: # Dyspnea: Differential in this patient would be prolonged chronic obstructive pulmonary disease \n",
      "   exacebration versus congestive heart failure . Given no fluid on chest x-ray or examination , a hypotensive\n",
      "   response to 4 lasix in the emergency department , and a normal echocargiogram 2 weeks\n",
      "   ago, a diastolic and certainly systolic heart failure exacerbation\n",
      "   seems unlikely. A brain natriuretic peptide of 150 is supportive. electrocardiogram is without acute\n",
      "   changes and creatine kinase is normal. Trop of 0.02 is not conclusive for myocardial infarction , but\n",
      "   will be trended. Given wheezing and marked smoking history, it seems\n",
      "   that this is a continued presentation of a partially treated, severe\n",
      "   chronic obstructive pulmonary disease exacerbation. Will persure treatment at this point with this\n",
      "   diagnosis in mind. The physiology of his chronic obstructive pulmonary disease is likely chronic\n",
      "   bronchitis. pulmonary embolus risk of with computed tomographic angiography \n",
      "   - Prednisone 60male per os ( by mouth ) qua que daily . Will likely require a long, slow taper,\n",
      "   perhaps over the course of  weeks.\n",
      "   - Nebulaizers pro re nata \n",
      "   - pulmonary function tests as outpatient will be very important\n",
      "   - hold serevent, flovent inhlaers while getting multiple short acting\n",
      "   B-agonists and systemic steroids. Will continue atrovent nebulization ,\n",
      "   -concerning that he at bedtime such severe symptoms at such a young age.\n",
      "Label: Direct\n",
      "\n",
      "\n",
      "Assessment: CHRONIC OBSTRUCTIVE PULMONARY DISEASE (chronic obstructive pulmonary disease , BRONCHITIS, EMPHYSEMA)\n",
      "   WITH ACUTE EXACERBATION\n",
      "   IMPRESSION: 57 year old man with long smokign history admitted to  with\n",
      "   makred dypnea and lower extremity swelling:\n",
      "Plan: # Lower Extremity Edema: seems consistent with chronic venous\n",
      "   insufficiency. Need however, to consider right sided heart failure,\n",
      "   especially given right upper quadrant pain, midl transaminitis, and\n",
      "   lower exremity edema. His echocardiogram on  showed a dialted right ventricle cavity,\n",
      "   but preserved systolic function. Other etiologies could be bialteral\n",
      "   deep venous thrombosis , inferior vena cava deep venous thrombosis , or nephrotic syndrome.  His hypotensive response to\n",
      "   lasix, however, may also be sine qua non of right ventricle dysfunction and pre-load\n",
      "   dependence.\n",
      "   - lasix pro re nata (hodl given recent hypotension)\n",
      "   - leg elevation\n",
      "   - compression stockings\n",
      "Label: Direct\n",
      "\n",
      "\n",
      "Assessment: CHRONIC OBSTRUCTIVE PULMONARY DISEASE (chronic obstructive pulmonary disease , BRONCHITIS, EMPHYSEMA)\n",
      "   WITH ACUTE EXACERBATION\n",
      "   IMPRESSION: 57 year old man with long smokign history admitted to  with\n",
      "   makred dypnea and lower extremity swelling:\n",
      "Plan: # Hypertension: contineu lisinopril, extended release diltiazem\n",
      "Label: Neither\n",
      "\n",
      "\n",
      "Assessment: CHRONIC OBSTRUCTIVE PULMONARY DISEASE (chronic obstructive pulmonary disease , BRONCHITIS, EMPHYSEMA)\n",
      "   WITH ACUTE EXACERBATION\n",
      "   IMPRESSION: 57 year old man with long smokign history admitted to  with\n",
      "   makred dypnea and lower extremity swelling:\n",
      "Plan: # fluids , electrolytes , nutrition : regular, heart healthy diet\n",
      "   # prophylaxis : heparin subclavian , proton pump inhibitor as outpatient\n",
      "   # DIspo; pendign clinical improvement, but does not require intensive care unit care at\n",
      "   this time. FLoor in AM\n",
      "   intensive care unit Care\n",
      "   Nutrition:\n",
      "   Glycemic Control:\n",
      "   Lines:\n",
      "   20 Gauge -  12:32 AM\n",
      "   Prophylaxis:\n",
      "   deep venous thrombosis :\n",
      "   Stress ulcer:\n",
      "   VAP:\n",
      "Label: Not Relevant\n",
      "\n",
      "\n",
      "Assessment: Assesment: This is a 76 year-old female with a history of diabetes who\n",
      "   presents with pneumoperitoneum of unclear aetiology, complicated by\n",
      "   coagulopathy and rhabdomyolysis.\n",
      "Plan: # Pneumoperitoneum - Exam reassuring.  No leukoctyosis or fevers. cardiothoracic \n",
      "   confirms pneumoperitoneum without free fluid, fat stranding or contrast\n",
      "   leakage.\n",
      "   - Continue empiric Zosyn (day 2) and metronidazole (day 2)\n",
      "   - 4 fluids\n",
      "   - Appreciate surgery recommendations. No plan for OR currently.\n",
      "   - Serial abdominal exams\n",
      "   - Holding per os ( by mouth ) anti-hypertensives, substitute with 4 metoprolol q6H\n",
      "Label: Direct\n",
      "\n",
      "\n",
      "Assessment: Assesment: This is a 76 year-old female with a history of diabetes who\n",
      "   presents with pneumoperitoneum of unclear aetiology, complicated by\n",
      "   coagulopathy and rhabdomyolysis.\n",
      "Plan: # Rhabdomyolysis -CK trending down from 4367 to 2738 to 1318 this AM\n",
      "   -currently getting D5W 150mEq bicarb at 150cc/hour -continue to\n",
      "   alkalinize urine\n",
      "Label: Direct\n",
      "\n",
      "\n",
      "Assessment: Assesment: This is a 76 year-old female with a history of diabetes who\n",
      "   presents with pneumoperitoneum of unclear aetiology, complicated by\n",
      "   coagulopathy and rhabdomyolysis.\n",
      "Plan: # Acute renal failure -  be pre-renal or secondary to\n",
      "   rhabdomyolysis. Creatinine down from 1.7 to 1.3.\n",
      "   - Continue aggressive 4 fluid hydration\n",
      "   - Monitor potassium (3.8 this AM)\n",
      "   - Renally dose antibiotics\n",
      "Label: Indirect\n",
      "\n",
      "\n"
     ]
    }
   ],
   "source": [
    "for idx, x in enumerate(prompts):\n",
    "    print(x)\n",
    "    print(\"\\n\")\n",
    "    if idx % 5 == 0 and idx > 5:\n",
    "        break"
   ]
  },
  {
   "cell_type": "code",
   "execution_count": 116,
   "id": "fc06d9f7-fccb-427f-92b4-3202c42de1c1",
   "metadata": {},
   "outputs": [],
   "source": [
    "arr = np.array(prompts) "
   ]
  },
  {
   "cell_type": "code",
   "execution_count": 117,
   "id": "1454baeb-2441-441e-8c4f-6683e2cf2f63",
   "metadata": {},
   "outputs": [
    {
     "name": "stdout",
     "output_type": "stream",
     "text": [
      "1720\n",
      "Assessment: active/passive : 56 year old M with history of hemochromatosis and history of community acquired pneumonia ,\n",
      "   presents with left lower lid pneumonia and hypoxia.\n",
      "Plan: # Acute Renal Failure - creatinine 1.7 and special  of >1.035, likely prerenal\n",
      "   azotemia.  Baseline 1.0 in .\n",
      "   - continue intravenous fluid overnight, recheck BUN/Cr in AM\n",
      "Label: Neither\n",
      "\n",
      "-------------------\n",
      "\n",
      "1116\n",
      "Assessment: 68 year old M with severe NYHA class 4 systolic congestive heart failure with ejection fraction of 20percent ,\n",
      "   secondary to ischemic cardiomyopathy, admitted  for acute\n",
      "   exacerbation of congestive heart failure and transferred to coronary care unit from  service for\n",
      "   aggressive diuresis and possible RRT for acute on chronic renal\n",
      "   failure.\n",
      "Plan: # CORONARIES: coronary artery disease status post myocardial infarction in , coronary artery bypass graft xanthosine 2. Cardiac catheter showed\n",
      "   right-dominant system with 50percent mid-RCA stenosis, patent SVG-D1 and\n",
      "   SVG-OM3 grafts. Known occluded native left circumflex and lymphadenopathy . No percutaneous coronary intervention undertaken.\n",
      "   - Continue american society of anesthesiologists 81 milligram \n",
      "   - Continue Atorvastatin 20 milligram \n",
      "   - Consider metoprolol tartrate 25 milligram  instead of Toprol XL 50 milligram \n",
      "   daily\n",
      "Label: Indirect\n",
      "\n",
      "-------------------\n",
      "\n",
      "2010\n",
      "Assessment: ~30 yoM with unknown PMH/social history , admitted after being found\n",
      "   unresponsive while breaking into elementary school.\n",
      "Plan: #. NUTRITION, fluids , electrolytes , nutrition : aspiration precautions, nothing by mouth ; banana bag/IVF\n",
      "   overnight given likely rhabdo\n",
      "   #. MISC: will need sitter/security throughout night given was arrested\n",
      "   at the shcool; will place social work consult in am if more awake/alert\n",
      "   #. CODE: presumed full\n",
      "   #. prophylaxis : SQH; will defer proton pump inhibitor as not critically ill, unkown symptoms\n",
      "   (will readdress in am); will defer bowel regimen for now\n",
      "   #. COMMUNICATION: no emergency contact information for the patient; intensive care unit \n",
      "   intensive care unit Care\n",
      "   Nutrition: nothing by mouth while\n",
      "   Glycemic Control:\n",
      "   Lines:\n",
      "   18 Gauge -  06:30 pm ( afternoon ) \n",
      "   20 Gauge -  04:00 AM\n",
      "   Prophylaxis:\n",
      "   deep venous thrombosis : subcutaneous ultra fine Heparin\n",
      "   Stress ulcer: Not indicated\n",
      "   VAP:  narcotics anonymous \n",
      "   Need for restraints reviewed\n",
      "Label: Not Relevant\n",
      "\n",
      "-------------------\n",
      "\n",
      "1351\n",
      "Assessment: 87yo woman with history of coronary artery disease , atrial fibrillation on dofetalide, history of vessel tach status post PPM/ICD,\n",
      "   CML on Gleevec but not taking, type 2 diabetes mellitus, chronic kidney disease , who\n",
      "   initially presented to the bone marrow transplant service with vertigo and vomiting on\n",
      "   , and a white count of 173 thought to be due to untreated CML.\n",
      "   Now transferred to the coronary care unit for management of vessel tach.\n",
      "   .\n",
      "Plan: diabetes mellitus : No active issues.\n",
      "   - Glargine 23 at bedtime \n",
      "   - sliding scale insulin \n",
      "Label: Indirect\n",
      "\n",
      "-------------------\n",
      "\n",
      "3944\n",
      "Assessment: Mr.  is a 67 year old M with newly diagnosed DLBCL with tumor burden\n",
      "   compressing vasculature and nerves to left lower extremity causing left lower extremity edema, pain and\n",
      "   swelling, also noted to have a left lower extremity deep venous thrombosis , thrombocytopenia and anemia.\n",
      "Plan: #) Diffuse large toxin b cell lymphoma: Received first dose of CHOP last\n",
      "   night. human immunodeficiency virus and Hepatitis titers sent, Bedside transthoracic echocardiogram performed this\n",
      "   evening with good ejection fraction per cardiologist (final read pending).  Concern\n",
      "   for potential tumor lysis with elevated lactate dehydrogenase .\n",
      "   - follow up serologies\n",
      "   - R-CHOP therapy per bone marrow transplant recommendations \n",
      "   - Q6H tumor lysis labs (calcium of 6.5 repleted at midnight )\n",
      "   - hydration with NaHCO3; good urine output , could consider switch to normal saline .\n",
      "   - Continue preventative allopurinol to decrease risk of nephropathy\n",
      "   - mental retardation head and spine with and without glutamic acid decarboxylase to evaluate for coagulase negative staph \n",
      "   involvement on Monday (ordered)\n",
      "Label: Direct\n",
      "\n",
      "-------------------\n",
      "\n"
     ]
    }
   ],
   "source": [
    "idxs = np.random.randint(arr.shape[0], size=5)\n",
    "for x in idxs:\n",
    "    print(x)\n",
    "    print(arr[x])\n",
    "    print(\"\\n-------------------\\n\")"
   ]
  },
  {
   "cell_type": "code",
   "execution_count": null,
   "id": "23f91a9c-8f6c-4b1c-ba4f-4939367febcf",
   "metadata": {},
   "outputs": [],
   "source": []
  },
  {
   "cell_type": "markdown",
   "id": "c4e36bbb-a59c-44e7-b127-7dcc59ebb2ae",
   "metadata": {},
   "source": [
    "# SciSpacy Dependency Parsing"
   ]
  },
  {
   "cell_type": "code",
   "execution_count": 20,
   "id": "f98f24f0-e7bb-4c61-ac21-9611180b8cc3",
   "metadata": {},
   "outputs": [],
   "source": [
    "idxs = np.random.randint(arr.shape[0], size=5)\n"
   ]
  },
  {
   "cell_type": "code",
   "execution_count": 21,
   "id": "12371e32-2eb6-48ee-ab4b-26e0d322eac3",
   "metadata": {},
   "outputs": [],
   "source": [
    "from scispacy.abbreviation import AbbreviationDetector\n",
    "Token.set_extension(\"is_beginning_capitalized\", default=False)"
   ]
  },
  {
   "cell_type": "code",
   "execution_count": 22,
   "id": "bb9347ef-d8bd-4a6e-b9ee-f6aa7ce31ae5",
   "metadata": {},
   "outputs": [
    {
     "data": {
      "text/plain": [
       "<scispacy.abbreviation.AbbreviationDetector at 0x2b63fe030970>"
      ]
     },
     "execution_count": 22,
     "metadata": {},
     "output_type": "execute_result"
    }
   ],
   "source": [
    "# nlp = spacy.load(\"en_core_sci_scibert\")\n",
    "nlp = spacy.load(\"en_core_sci_lg\")\n",
    "nlp.add_pipe(\"abbreviation_detector\")"
   ]
  },
  {
   "cell_type": "code",
   "execution_count": 118,
   "id": "48d6d72b-bad9-49a0-871d-8c91c609ff2b",
   "metadata": {},
   "outputs": [
    {
     "name": "stdout",
     "output_type": "stream",
     "text": [
      "Abbreviation \t Definition\n",
      "SBMA \t (33, 34) Spinal and bulbar muscular atrophy\n",
      "SBMA \t (6, 7) Spinal and bulbar muscular atrophy\n",
      "AR \t (29, 30) androgen receptor\n"
     ]
    }
   ],
   "source": [
    "doc = nlp(\"Spinal and bulbar muscular atrophy (SBMA) is an \\\n",
    "           inherited motor neuron disease caused by the expansion \\\n",
    "           of a polyglutamine tract within the androgen receptor (AR). \\\n",
    "           SBMA can be caused by this easily.\")\n",
    "\n",
    "print(\"Abbreviation\", \"\\t\", \"Definition\")\n",
    "for abrv in doc._.abbreviations:\n",
    "\tprint(f\"{abrv} \\t ({abrv.start}, {abrv.end}) {abrv._.long_form}\")"
   ]
  },
  {
   "cell_type": "code",
   "execution_count": 119,
   "id": "6e923ae5-711d-46b8-a1fe-494a6e297e3d",
   "metadata": {},
   "outputs": [
    {
     "data": {
      "text/plain": [
       "array(['active/passive : 56 year old M with history of hemochromatosis and history of community acquired pneumonia ,\\n   presents with left lower lid pneumonia and hypoxia.',\n",
       "       '68 year old M with severe NYHA class 4 systolic congestive heart failure with ejection fraction of 20percent ,\\n   secondary to ischemic cardiomyopathy, admitted  for acute\\n   exacerbation of congestive heart failure and transferred to coronary care unit from  service for\\n   aggressive diuresis and possible RRT for acute on chronic renal\\n   failure.',\n",
       "       '~30 yoM with unknown PMH/social history , admitted after being found\\n   unresponsive while breaking into elementary school.',\n",
       "       '87yo woman with history of coronary artery disease , atrial fibrillation on dofetalide, history of vessel tach status post PPM/ICD,\\n   CML on Gleevec but not taking, type 2 diabetes mellitus, chronic kidney disease , who\\n   initially presented to the bone marrow transplant service with vertigo and vomiting on\\n   , and a white count of 173 thought to be due to untreated CML.\\n   Now transferred to the coronary care unit for management of vessel tach.\\n   .',\n",
       "       'Mr.  is a 67 year old M with newly diagnosed DLBCL with tumor burden\\n   compressing vasculature and nerves to left lower extremity causing left lower extremity edema, pain and\\n   swelling, also noted to have a left lower extremity deep venous thrombosis , thrombocytopenia and anemia.'],\n",
       "      dtype='<U1017')"
      ]
     },
     "execution_count": 119,
     "metadata": {},
     "output_type": "execute_result"
    }
   ],
   "source": [
    "# docs = [\"35 yo F with SLE, restrictive lung disease, CM (EF 15-20%) presents with severe lupus induced cardiomyopathy.\",\n",
    "#         \"54 year old man with pmh significant for bipolar disorder presenting with lithium toxicity\",\n",
    "#         \"69 F w/ MMP including copd, diastolic chf, dm2, recent prolonged hospitalization where she became trach- dependent secondary to prolonged virulent pseudomonal PNA, presented in septic shock, ARF and AMS.\",\n",
    "#         \"73 yo male with history of bilateral renal cell carcinoma metastatic to right adrenalectomy presents for post-operative monitoring after right adrenalectomy and prostate biopsy.\"]\n",
    "\n",
    "assessments = [data['Assessment'] for data in dataset['train']]\n",
    "assessments = np.array(assessments)\n",
    "assessments[idxs]\n"
   ]
  },
  {
   "cell_type": "code",
   "execution_count": 120,
   "id": "50f5f0ec-998c-4d32-85f6-f1e842215589",
   "metadata": {},
   "outputs": [
    {
     "name": "stderr",
     "output_type": "stream",
     "text": [
      "/gpfs/ysm/project/rtaylor/vs428/conda_envs/myenv/lib/python3.10/site-packages/scispacy/abbreviation.py:230: UserWarning: [W036] The component 'matcher' does not have any patterns defined.\n",
      "  global_matches = self.global_matcher(doc)\n"
     ]
    }
   ],
   "source": [
    "import spacy\n",
    "\n",
    "doc = nlp(\"Credit and mortgage account holders must submit their requests\")\n",
    "# span = doc[doc[4].left_edge.i : doc[4].right_edge.i+1]\n",
    "# with doc.retokenize() as retokenizer:\n",
    "#     retokenizer.merge(span)\n",
    "# for token in doc:\n",
    "#     print(token.text, token.pos_, token.dep_, token.head.text)"
   ]
  },
  {
   "cell_type": "code",
   "execution_count": null,
   "id": "0d041539-2a9d-49df-abb2-6d37aa31fdbd",
   "metadata": {},
   "outputs": [],
   "source": []
  },
  {
   "cell_type": "code",
   "execution_count": 121,
   "id": "34f38fb9-51c4-4f31-a97c-3d2d6450cc35",
   "metadata": {
    "scrolled": true,
    "tags": []
   },
   "outputs": [
    {
     "name": "stdout",
     "output_type": "stream",
     "text": [
      "SENTENCE: 1720\n",
      "active/passive : 56 year old M with history of hemochromatosis and history of community acquired pneumonia ,\n",
      "   presents with left lower lid pneumonia and hypoxia.\n",
      "SDFSDFSDF ['active/passive', ':', '56', 'year', 'old', 'M', 'with', 'history', 'of', 'hemochromatosis', 'and', 'history', 'of', 'community', 'acquired', 'pneumonia', ',', '\\n   ', 'presents', 'with', 'left', 'lower', 'lid', 'pneumonia', 'and', 'hypoxia', '.']\n",
      "\n",
      "---------\n",
      "---------\n",
      "SENTENCE: 1116\n",
      "68 year old M with severe NYHA class 4 systolic congestive heart failure with ejection fraction of 20percent ,\n",
      "   secondary to ischemic cardiomyopathy, admitted  for acute\n",
      "   exacerbation of congestive heart failure and transferred to coronary care unit from  service for\n",
      "   aggressive diuresis and possible RRT for acute on chronic renal\n",
      "   failure.\n",
      "SDFSDFSDF ['68', 'year', 'old', 'M', 'with', 'severe', 'NYHA', 'class', '4', 'systolic', 'congestive', 'heart', 'failure', 'with', 'ejection', 'fraction', 'of', '20percent', ',', '\\n   ', 'secondary', 'to', 'ischemic', 'cardiomyopathy', ',', 'admitted', ' ', 'for', 'acute', '\\n   ', 'exacerbation', 'of', 'congestive', 'heart', 'failure', 'and', 'transferred', 'to', 'coronary', 'care', 'unit', 'from', ' ', 'service', 'for', '\\n   ', 'aggressive', 'diuresis', 'and', 'possible', 'RRT', 'for', 'acute', 'on', 'chronic', 'renal', '\\n   ', 'failure', '.']\n",
      "\n",
      "---------\n",
      "---------\n",
      "SENTENCE: 2010\n",
      "~30 yoM with unknown PMH/social history , admitted after being found\n",
      "   unresponsive while breaking into elementary school.\n",
      "SDFSDFSDF ['~30', 'yoM', 'with', 'unknown', 'PMH/social', 'history', ',', 'admitted', 'after', 'being', 'found', '\\n   ', 'unresponsive', 'while', 'breaking', 'into', 'elementary', 'school', '.']\n",
      "\n",
      "---------\n",
      "---------\n",
      "SENTENCE: 1351\n",
      "87yo woman with history of coronary artery disease , atrial fibrillation on dofetalide, history of vessel tach status post PPM/ICD,\n",
      "   CML on Gleevec but not taking, type 2 diabetes mellitus, chronic kidney disease , who\n",
      "   initially presented to the bone marrow transplant service with vertigo and vomiting on\n",
      "   , and a white count of 173 thought to be due to untreated CML.\n",
      "   Now transferred to the coronary care unit for management of vessel tach.\n",
      "   .\n",
      "SDFSDFSDF ['87yo', 'woman', 'with', 'history', 'of', 'coronary', 'artery', 'disease', ',', 'atrial', 'fibrillation', 'on', 'dofetalide', ',', 'history', 'of', 'vessel', 'tach', 'status', 'post', 'PPM/ICD', ',', '\\n   ', 'CML', 'on', 'Gleevec', 'but', 'not', 'taking', ',', 'type', '2', 'diabetes', 'mellitus', ',', 'chronic', 'kidney', 'disease', ',', 'who', '\\n   ', 'initially', 'presented', 'to', 'the', 'bone', 'marrow', 'transplant', 'service', 'with', 'vertigo', 'and', 'vomiting', 'on', '\\n   ', ',', 'and', 'a', 'white', 'count', 'of', '173', 'thought', 'to', 'be', 'due', 'to', 'untreated', 'CML', '.', '\\n   ', 'Now', 'transferred', 'to', 'the', 'coronary', 'care', 'unit', 'for', 'management', 'of', 'vessel', 'tach', '.', '\\n   ', '.']\n",
      "\n",
      "---------\n",
      "---------\n",
      "SENTENCE: 3944\n",
      "Mr.  is a 67 year old M with newly diagnosed DLBCL with tumor burden\n",
      "   compressing vasculature and nerves to left lower extremity causing left lower extremity edema, pain and\n",
      "   swelling, also noted to have a left lower extremity deep venous thrombosis , thrombocytopenia and anemia.\n",
      "SDFSDFSDF ['Mr.', ' ', 'is', 'a', '67', 'year', 'old', 'M', 'with', 'newly', 'diagnosed', 'DLBCL', 'with', 'tumor', 'burden', '\\n   ', 'compressing', 'vasculature', 'and', 'nerves', 'to', 'left', 'lower', 'extremity', 'causing', 'left', 'lower', 'extremity', 'edema', ',', 'pain', 'and', '\\n   ', 'swelling', ',', 'also', 'noted', 'to', 'have', 'a', 'left', 'lower', 'extremity', 'deep', 'venous', 'thrombosis', ',', 'thrombocytopenia', 'and', 'anemia', '.']\n",
      "\n",
      "---------\n",
      "---------\n"
     ]
    }
   ],
   "source": [
    "processed_docs = []\n",
    "\n",
    "for idx in idxs:\n",
    "    doc_string = assessments[idx]\n",
    "    doc = nlp(str(doc_string))\n",
    "    left_most_edge = len(doc)\n",
    "    right_most_edge = 0\n",
    "    beginning_prob_list = []\n",
    "    continuing_upper = False\n",
    "    \n",
    "    print(f\"SENTENCE: {idx}\")\n",
    "    print(doc)\n",
    "    \n",
    "    start_token = doc[0]\n",
    "    if start_token.is_upper and start_token.is_alpha:\n",
    "        continuing_upper = True  \n",
    "        start_token._.is_beginning_capitalized = True\n",
    "    else:\n",
    "        start_token._.is_beginning_capitalized = False\n",
    "    \n",
    "    for token_idx, possible_subject in enumerate(doc):\n",
    "        # extract all the capitalized words at the beginning        \n",
    "        if continuing_upper and (possible_subject.is_upper or possible_subject.is_punct or possible_subject.is_space):\n",
    "            beginning_prob_list.append(possible_subject)\n",
    "            possible_subject._.is_beginning_capitalized = True\n",
    "            continue\n",
    "        continuing_upper = False\n",
    "            \n",
    "    \n",
    "    processed_docs.append(doc)\n",
    "    print(\"SDFSDFSDF\", [token.text for token in doc if not token._.is_beginning_capitalized])\n",
    "    # processed_docs.append([token.text for token in doc if not token._.is_beginning_capitalized])\n",
    "    print(\"\\n---------\")\n",
    "    print(\"---------\")    \n"
   ]
  },
  {
   "cell_type": "code",
   "execution_count": 122,
   "id": "3ffd4a53-5459-4b56-bc26-a07047eff34a",
   "metadata": {},
   "outputs": [
    {
     "name": "stdout",
     "output_type": "stream",
     "text": [
      "[active/passive : 56 year old M with history of hemochromatosis and history of community acquired pneumonia ,\n",
      "   presents with left lower lid pneumonia and hypoxia., 68 year old M with severe NYHA class 4 systolic congestive heart failure with ejection fraction of 20percent ,\n",
      "   secondary to ischemic cardiomyopathy, admitted  for acute\n",
      "   exacerbation of congestive heart failure and transferred to coronary care unit from  service for\n",
      "   aggressive diuresis and possible RRT for acute on chronic renal\n",
      "   failure., ~30 yoM with unknown PMH/social history , admitted after being found\n",
      "   unresponsive while breaking into elementary school., 87yo woman with history of coronary artery disease , atrial fibrillation on dofetalide, history of vessel tach status post PPM/ICD,\n",
      "   CML on Gleevec but not taking, type 2 diabetes mellitus, chronic kidney disease , who\n",
      "   initially presented to the bone marrow transplant service with vertigo and vomiting on\n",
      "   , and a white count of 173 thought to be due to untreated CML.\n",
      "   Now transferred to the coronary care unit for management of vessel tach.\n",
      "   ., Mr.  is a 67 year old M with newly diagnosed DLBCL with tumor burden\n",
      "   compressing vasculature and nerves to left lower extremity causing left lower extremity edema, pain and\n",
      "   swelling, also noted to have a left lower extremity deep venous thrombosis , thrombocytopenia and anemia.]\n"
     ]
    }
   ],
   "source": [
    "print(processed_docs)"
   ]
  },
  {
   "cell_type": "code",
   "execution_count": 123,
   "id": "f3c11f6b-9cf4-49c0-9fe3-8b50c6e0c810",
   "metadata": {
    "scrolled": true,
    "tags": []
   },
   "outputs": [
    {
     "name": "stdout",
     "output_type": "stream",
     "text": [
      "SENTENCE: 3944\n",
      "~30 yoM with unknown PMH/social history , admitted after being found\n",
      "   unresponsive while breaking into elementary school.\n",
      "yoM\n",
      "yoM\n",
      "--\n",
      "\n",
      "unknown\n",
      "history\n",
      "--\n",
      "\n",
      "PMH/social\n",
      "history\n",
      "--\n",
      "\n",
      "history\n",
      "yoM\n",
      "--\n",
      "\n",
      "unresponsive\n",
      "found\n",
      "--\n",
      "\n",
      "elementary\n",
      "school\n",
      "--\n",
      "\n",
      "school\n",
      "breaking\n",
      "--\n",
      "\n"
     ]
    }
   ],
   "source": [
    "# processed_docs = []\n",
    "N =  2\n",
    "\n",
    "# for doc in processed_docs:\n",
    "doc = processed_docs[N]\n",
    "left_most_edge = len(doc)\n",
    "right_most_edge = 0\n",
    "\n",
    "print(f\"SENTENCE: {idx}\")\n",
    "print(doc)\n",
    "\n",
    "for token_idx, token in enumerate(doc):\n",
    "    # if possible_subject.dep in [nmod, ccomp, punct, conj] and \n",
    "    # possible_subject.head.text in [\"presents\",\"presenting\",\"presented\", \"admitted\", \"transferred\"]:\n",
    "    if token.pos_ in ['NOUN', \"ADJ\"]:\n",
    "        print(token)\n",
    "        print(token.head)\n",
    "        if token.head.lemma_ in [\"here\", \"present\", \"admit\", \"transfer\", \"monitor\", \"transfer\", \"p/w\"]:\n",
    "            print(token)\n",
    "    # if possible_subject.dep in [nmod, ccomp, punct, conj] and (possible_subject.lemma_ in [\"here\", \"present\", \"admit\", \"transfer\", \"monitor\", \"transfer\", \"p/w\"]):\n",
    "        # for descendant in possible_subject.subtree:\n",
    "        #     print(descendant)\n",
    "        # print(\"possible_subject\", possible_subject)\n",
    "        # print(\"span\", list(possible_subject.subtree))\n",
    "        print(\"--\\n\")\n"
   ]
  },
  {
   "cell_type": "code",
   "execution_count": null,
   "id": "12235947-e5f3-4b08-b7a0-ae15928aaa3e",
   "metadata": {},
   "outputs": [],
   "source": []
  },
  {
   "cell_type": "code",
   "execution_count": 124,
   "id": "e9473a86-e136-46f9-b8f4-ea7ea01b7727",
   "metadata": {},
   "outputs": [
    {
     "name": "stdout",
     "output_type": "stream",
     "text": [
      "~30 yoM with unknown PMH/social history , admitted after being found\n",
      "   unresponsive while breaking into elementary school.\n"
     ]
    }
   ],
   "source": [
    "print(processed_docs[N])\n",
    "excluding_caps_docs = []\n",
    "for doc in processed_docs:\n",
    "    excluding_caps = [(token, token.whitespace_) for token in doc if ((not token._.is_beginning_capitalized) and (not token.is_space))]\n",
    "    excluding_caps_docs.append(excluding_caps)\n",
    "# print(processed_docs[0][excluding_caps])\n",
    "# for sent in processed_docs[0].sents:\n",
    "#     print(sent)"
   ]
  },
  {
   "cell_type": "code",
   "execution_count": null,
   "id": "eb2dac03-f46c-4512-a25f-d0b9eb6bf2be",
   "metadata": {},
   "outputs": [],
   "source": []
  },
  {
   "cell_type": "code",
   "execution_count": 125,
   "id": "8d4aec89-2a62-4165-9787-91ae7139e650",
   "metadata": {},
   "outputs": [],
   "source": [
    "# # vals = [processed_docs[N][idx].text for idx in range(len(processed_docs[N])) if idx in excluding_caps]\n",
    "# \" \".join([x.text for x in excluding_caps_docs[0]])\n",
    "excluded_caps_text = []\n",
    "for doc in excluding_caps_docs:\n",
    "    doc_text = \"\"\n",
    "    for tok, whitespace in doc:\n",
    "        doc_text += tok.text + whitespace\n",
    "    excluded_caps_text.append(doc_text)"
   ]
  },
  {
   "cell_type": "code",
   "execution_count": 126,
   "id": "ed8349d6-adf2-4900-9eb5-033cdf6bfcc6",
   "metadata": {},
   "outputs": [
    {
     "data": {
      "text/plain": [
       "['active/passive : 56 year old M with history of hemochromatosis and history of community acquired pneumonia ,presents with left lower lid pneumonia and hypoxia.',\n",
       " '68 year old M with severe NYHA class 4 systolic congestive heart failure with ejection fraction of 20percent ,secondary to ischemic cardiomyopathy, admitted for acuteexacerbation of congestive heart failure and transferred to coronary care unit from service foraggressive diuresis and possible RRT for acute on chronic renalfailure.',\n",
       " '~30 yoM with unknown PMH/social history , admitted after being foundunresponsive while breaking into elementary school.',\n",
       " '87yo woman with history of coronary artery disease , atrial fibrillation on dofetalide, history of vessel tach status post PPM/ICD,CML on Gleevec but not taking, type 2 diabetes mellitus, chronic kidney disease , whoinitially presented to the bone marrow transplant service with vertigo and vomiting on, and a white count of 173 thought to be due to untreated CML.Now transferred to the coronary care unit for management of vessel tach..',\n",
       " 'Mr. is a 67 year old M with newly diagnosed DLBCL with tumor burdencompressing vasculature and nerves to left lower extremity causing left lower extremity edema, pain andswelling, also noted to have a left lower extremity deep venous thrombosis , thrombocytopenia and anemia.']"
      ]
     },
     "execution_count": 126,
     "metadata": {},
     "output_type": "execute_result"
    }
   ],
   "source": [
    "excluded_caps_text"
   ]
  },
  {
   "cell_type": "code",
   "execution_count": 133,
   "id": "396dad3a-a0dd-4bb2-8779-c157a8287e30",
   "metadata": {},
   "outputs": [],
   "source": [
    "from pathlib import Path"
   ]
  },
  {
   "cell_type": "code",
   "execution_count": 144,
   "id": "15f54292-35d8-4d16-9138-8a8518d8d69f",
   "metadata": {
    "tags": []
   },
   "outputs": [
    {
     "data": {
      "text/plain": [
       "18889"
      ]
     },
     "execution_count": 144,
     "metadata": {},
     "output_type": "execute_result"
    }
   ],
   "source": [
    "svg = displacy.render(nlp(excluded_caps_text[0]), style=\"dep\", \n",
    "                jupyter=False,\n",
    "                options={\n",
    "    # \"collapse_phrases\":True, \n",
    "    \"distance\":75\n",
    "})\n",
    "output_path = Path(\"./images/dep_plot1.svg\") \n",
    "output_path.open(\"w\", encoding=\"utf-8\").write(svg)"
   ]
  },
  {
   "cell_type": "code",
   "execution_count": 140,
   "id": "063fb473-592a-4d6d-bbe9-689541e2af2b",
   "metadata": {},
   "outputs": [
    {
     "data": {
      "text/plain": [
       "39065"
      ]
     },
     "execution_count": 140,
     "metadata": {},
     "output_type": "execute_result"
    }
   ],
   "source": [
    "svg = displacy.render(nlp(excluded_caps_text[1]), style=\"dep\", \n",
    "                jupyter=False,\n",
    "                options={\n",
    "    # \"collapse_phrases\":True, \n",
    "    \"distance\":85\n",
    "})\n",
    "output_path = Path(\"./images/dep_plot2.svg\") \n",
    "output_path.open(\"w\", encoding=\"utf-8\").write(svg)"
   ]
  },
  {
   "cell_type": "code",
   "execution_count": 142,
   "id": "9834ff12-c4bd-458b-af98-e394b173d50b",
   "metadata": {},
   "outputs": [],
   "source": [
    "svg = displacy.render(nlp(excluded_caps_text[2]), style=\"dep\", \n",
    "                jupyter=False,\n",
    "                options={\n",
    "    # \"collapse_phrases\":True, \n",
    "    \"distance\":75\n",
    "})\n",
    "# output_path = Path(\"./images/dep_plot3.svg\") \n",
    "# output_path.open(\"w\", encoding=\"utf-8\").write(svg)"
   ]
  },
  {
   "cell_type": "code",
   "execution_count": 34,
   "id": "6d15a2dd-0f8c-438d-875c-1c6d25e42a5a",
   "metadata": {},
   "outputs": [],
   "source": [
    "# for chunk in doc.noun_chunks:\n",
    "#     print(chunk.text, chunk.root.text, chunk.root.dep_,\n",
    "#                 chunk.root.head.text)    "
   ]
  },
  {
   "cell_type": "code",
   "execution_count": null,
   "id": "22a00710-0207-42b3-9dac-177f935a89b2",
   "metadata": {},
   "outputs": [],
   "source": [
    "for token in processed_docs[1]:\n",
    "    if token.text == \"presenting\":\n",
    "        for descendant in token.subtree:\n",
    "            print(descendant)\n",
    "    #     assert subject is descendant or subject.is_ancestor(descendant)\n",
    "    #     print(descendant.text, descendant.dep_, descendant.n_lefts,\n",
    "    #             descendant.n_rights,)\n"
   ]
  },
  {
   "cell_type": "code",
   "execution_count": null,
   "id": "08518d8a-d72e-4279-88c0-f33710914978",
   "metadata": {},
   "outputs": [],
   "source": [
    "for doc_string in docs:\n",
    "    doc = nlp(doc_string)\n",
    "    processed_docs.append(doc)\n",
    "    # print(\"Abbreviations:\", doc._.abbreviations)\n",
    "    # for abrv in doc._.abbreviations:\n",
    "    #     print(f\"{abrv} \\t ({abrv.start}, {abrv.end}) {abrv._.long_form}\")    \n",
    "    for token in doc:\n",
    "        if token.text in [\"presents\",\"presenting\",\"presented\", \"admitted\"]:\n",
    "            print([subtoken.text for subtoken in token.lefts])  # ['bright', 'red']\n",
    "            print([subtoken.text for subtoken in token.rights])  # ['on']\n",
    "\n"
   ]
  },
  {
   "cell_type": "code",
   "execution_count": null,
   "id": "e7ca12eb-29c2-4ccb-a985-ad3fe8772b74",
   "metadata": {
    "scrolled": true,
    "tags": []
   },
   "outputs": [],
   "source": [
    "bio_clinicalbert_tokenizer = AutoTokenizer.from_pretrained(\"emilyalsentzer/Bio_ClinicalBERT\")"
   ]
  },
  {
   "cell_type": "code",
   "execution_count": null,
   "id": "563c1b93-0e63-4369-bfe6-9325d0e24777",
   "metadata": {
    "tags": []
   },
   "outputs": [],
   "source": [
    "bio_clinicalbert_model = AutoModelForSequenceClassification.from_pretrained(\"emilyalsentzer/Bio_ClinicalBERT\", num_labels=4)"
   ]
  },
  {
   "cell_type": "code",
   "execution_count": null,
   "id": "85879177-02d1-46a2-bcce-3520a2f1c085",
   "metadata": {},
   "outputs": [],
   "source": [
    "training_args = TrainingArguments(output_dir=\"test_trainer\", \n",
    "                                  evaluation_strategy=\"epoch\",\n",
    "                                  \n",
    ")"
   ]
  },
  {
   "cell_type": "code",
   "execution_count": null,
   "id": "69ccff92-9054-43ec-ad3f-5a5d8dc885c2",
   "metadata": {},
   "outputs": [],
   "source": [
    "import numpy as np\n",
    "from datasets import load_metric\n",
    "\n",
    "acc = load_metric(\"accuracy\")\n",
    "macrof1 = load_metric(\"f1\")"
   ]
  },
  {
   "cell_type": "code",
   "execution_count": null,
   "id": "c6ed1610-ebd2-4090-90b8-e5a4c572f5a6",
   "metadata": {},
   "outputs": [],
   "source": [
    "def compute_metrics(eval_pred):\n",
    "    logits, labels = eval_pred\n",
    "    predictions = np.argmax(logits, axis=-1)\n",
    "    return {\"accuracy\":acc.compute(predictions=predictions, references=labels),\n",
    "            \"f1-macro\":macrof1.compute(predictions=predictions, references=labels, \n",
    "                                       average=\"macro\")}"
   ]
  },
  {
   "cell_type": "code",
   "execution_count": null,
   "id": "0eb9607b-dbdb-4644-aa30-588cc74e3cf2",
   "metadata": {},
   "outputs": [],
   "source": [
    "def tokenize_function(examples):\n",
    "    return bio_clinicalbert_tokenizer(examples['Assessment'], examples['Plan Subsection'],\n",
    "                                      truncation=\"longest_first\",\n",
    "                                      max_length=512,\n",
    "                                      verbose=True)\n",
    "                    \n"
   ]
  },
  {
   "cell_type": "code",
   "execution_count": null,
   "id": "6839c03e-6eee-4047-a5c8-db0d711a719d",
   "metadata": {},
   "outputs": [],
   "source": [
    "dataset = dataset.map(tokenize_function, batched=True)"
   ]
  },
  {
   "cell_type": "code",
   "execution_count": null,
   "id": "aab72838-2956-42b6-9757-8aa5b1b4ab11",
   "metadata": {},
   "outputs": [],
   "source": []
  },
  {
   "cell_type": "code",
   "execution_count": null,
   "id": "e13b326e-f053-49ac-af07-430731ba92cd",
   "metadata": {
    "tags": []
   },
   "outputs": [],
   "source": [
    "bio_clinicalbert_tokenizer.decode(dataset['valid'][52]['input_ids'])"
   ]
  },
  {
   "cell_type": "code",
   "execution_count": null,
   "id": "7112cb7e-ea07-45ea-bafd-a449c2f0d6f1",
   "metadata": {},
   "outputs": [],
   "source": [
    "dataset['train'].set_format(type='torch', columns=['input_ids', 'token_type_ids', 'attention_mask', 'label'])\n",
    "dataset['valid'].set_format(type='torch', columns=['input_ids', 'token_type_ids', 'attention_mask', 'label'])"
   ]
  },
  {
   "cell_type": "code",
   "execution_count": null,
   "id": "cc56a9b2-2952-40e0-abca-3053634a3b0f",
   "metadata": {},
   "outputs": [],
   "source": []
  },
  {
   "cell_type": "code",
   "execution_count": null,
   "id": "3d2ade4c-0c45-4e44-ab3b-b8fde4d355ea",
   "metadata": {},
   "outputs": [],
   "source": []
  },
  {
   "cell_type": "code",
   "execution_count": null,
   "id": "9a23ec32-f185-4b65-b592-a1a71628c8e8",
   "metadata": {},
   "outputs": [],
   "source": []
  },
  {
   "cell_type": "code",
   "execution_count": 18,
   "id": "088ad767-bf58-4c10-a6a8-6c1f896fefd0",
   "metadata": {},
   "outputs": [],
   "source": [
    "data_collator = DataCollatorWithPadding(bio_clinicalbert_tokenizer,\n",
    "                                        max_length=512, \n",
    "                                        padding=\"max_length\",\n",
    "                                        return_tensors=\"pt\" )"
   ]
  },
  {
   "cell_type": "code",
   "execution_count": null,
   "id": "500ea644",
   "metadata": {},
   "outputs": [],
   "source": []
  },
  {
   "cell_type": "code",
   "execution_count": 19,
   "id": "4bb5d832-22f1-4e47-a490-7d47e0b8f86d",
   "metadata": {},
   "outputs": [],
   "source": [
    "trainer = Trainer(\n",
    "    model=bio_clinicalbert_model,\n",
    "    args=training_args,\n",
    "    train_dataset=dataset['train'],\n",
    "    eval_dataset=dataset['valid'],\n",
    "    compute_metrics=compute_metrics,\n",
    "    data_collator=data_collator,\n",
    ")"
   ]
  },
  {
   "cell_type": "code",
   "execution_count": 20,
   "id": "4dee866e-8a8e-4080-b979-5e507517d7f1",
   "metadata": {},
   "outputs": [
    {
     "name": "stderr",
     "output_type": "stream",
     "text": [
      "The following columns in the training set  don't have a corresponding argument in `BertForSequenceClassification.forward` and have been ignored: Assessment, ROW ID, HADM ID, Plan Subsection.\n",
      "/gpfs/ysm/project/rtaylor/vs428/conda_envs/myenv/lib/python3.10/site-packages/transformers/optimization.py:306: FutureWarning: This implementation of AdamW is deprecated and will be removed in a future version. Use thePyTorch implementation torch.optim.AdamW instead, or set `no_deprecation_warning=True` to disable this warning\n",
      "  warnings.warn(\n",
      "***** Running training *****\n",
      "  Num examples = 4633\n",
      "  Num Epochs = 3\n",
      "  Instantaneous batch size per device = 8\n",
      "  Total train batch size (w. parallel, distributed & accumulation) = 8\n",
      "  Gradient Accumulation steps = 1\n",
      "  Total optimization steps = 1740\n"
     ]
    },
    {
     "data": {
      "text/html": [
       "\n",
       "    <div>\n",
       "      \n",
       "      <progress value='1740' max='1740' style='width:300px; height:20px; vertical-align: middle;'></progress>\n",
       "      [1740/1740 13:40, Epoch 3/3]\n",
       "    </div>\n",
       "    <table border=\"1\" class=\"dataframe\">\n",
       "  <thead>\n",
       " <tr style=\"text-align: left;\">\n",
       "      <th>Epoch</th>\n",
       "      <th>Training Loss</th>\n",
       "      <th>Validation Loss</th>\n",
       "      <th>Accuracy</th>\n",
       "      <th>F1-macro</th>\n",
       "    </tr>\n",
       "  </thead>\n",
       "  <tbody>\n",
       "    <tr>\n",
       "      <td>1</td>\n",
       "      <td>0.715300</td>\n",
       "      <td>0.597065</td>\n",
       "      <td>{'accuracy': 0.7487437185929648}</td>\n",
       "      <td>{'f1': 0.766732642338792}</td>\n",
       "    </tr>\n",
       "    <tr>\n",
       "      <td>2</td>\n",
       "      <td>0.457600</td>\n",
       "      <td>0.672382</td>\n",
       "      <td>{'accuracy': 0.7805695142378559}</td>\n",
       "      <td>{'f1': 0.7940059075142675}</td>\n",
       "    </tr>\n",
       "    <tr>\n",
       "      <td>3</td>\n",
       "      <td>0.301700</td>\n",
       "      <td>0.918875</td>\n",
       "      <td>{'accuracy': 0.7671691792294807}</td>\n",
       "      <td>{'f1': 0.7860078751767712}</td>\n",
       "    </tr>\n",
       "  </tbody>\n",
       "</table><p>"
      ],
      "text/plain": [
       "<IPython.core.display.HTML object>"
      ]
     },
     "metadata": {},
     "output_type": "display_data"
    },
    {
     "name": "stderr",
     "output_type": "stream",
     "text": [
      "Saving model checkpoint to test_trainer/checkpoint-500\n",
      "Configuration saved in test_trainer/checkpoint-500/config.json\n",
      "Model weights saved in test_trainer/checkpoint-500/pytorch_model.bin\n",
      "The following columns in the evaluation set  don't have a corresponding argument in `BertForSequenceClassification.forward` and have been ignored: Assessment, ROW ID, HADM ID, Plan Subsection.\n",
      "***** Running Evaluation *****\n",
      "  Num examples = 597\n",
      "  Batch size = 8\n",
      "Saving model checkpoint to test_trainer/checkpoint-1000\n",
      "Configuration saved in test_trainer/checkpoint-1000/config.json\n",
      "Model weights saved in test_trainer/checkpoint-1000/pytorch_model.bin\n",
      "The following columns in the evaluation set  don't have a corresponding argument in `BertForSequenceClassification.forward` and have been ignored: Assessment, ROW ID, HADM ID, Plan Subsection.\n",
      "***** Running Evaluation *****\n",
      "  Num examples = 597\n",
      "  Batch size = 8\n",
      "Saving model checkpoint to test_trainer/checkpoint-1500\n",
      "Configuration saved in test_trainer/checkpoint-1500/config.json\n",
      "Model weights saved in test_trainer/checkpoint-1500/pytorch_model.bin\n",
      "The following columns in the evaluation set  don't have a corresponding argument in `BertForSequenceClassification.forward` and have been ignored: Assessment, ROW ID, HADM ID, Plan Subsection.\n",
      "***** Running Evaluation *****\n",
      "  Num examples = 597\n",
      "  Batch size = 8\n",
      "\n",
      "\n",
      "Training completed. Do not forget to share your model on huggingface.co/models =)\n",
      "\n",
      "\n"
     ]
    },
    {
     "data": {
      "text/plain": [
       "TrainOutput(global_step=1740, training_loss=0.45485844447694973, metrics={'train_runtime': 821.007, 'train_samples_per_second': 16.929, 'train_steps_per_second': 2.119, 'total_flos': 3657046227554304.0, 'train_loss': 0.45485844447694973, 'epoch': 3.0})"
      ]
     },
     "execution_count": 20,
     "metadata": {},
     "output_type": "execute_result"
    }
   ],
   "source": [
    "trainer.train()"
   ]
  },
  {
   "cell_type": "code",
   "execution_count": null,
   "id": "8eeed054-c6f7-4f8f-bdff-5221ab02fb5f",
   "metadata": {},
   "outputs": [],
   "source": []
  },
  {
   "cell_type": "code",
   "execution_count": null,
   "id": "3ecbb1da-bf41-4bbf-9ab6-929508d23734",
   "metadata": {},
   "outputs": [],
   "source": []
  },
  {
   "cell_type": "code",
   "execution_count": null,
   "id": "3b1bd5fe-4f36-40c1-9489-e090d13459f0",
   "metadata": {},
   "outputs": [],
   "source": []
  },
  {
   "cell_type": "code",
   "execution_count": null,
   "id": "b1db028a-d720-4d6a-90f7-68496e30fc5e",
   "metadata": {},
   "outputs": [],
   "source": []
  },
  {
   "cell_type": "code",
   "execution_count": null,
   "id": "185d3c60-7baa-4ad1-99f7-5ba932659495",
   "metadata": {},
   "outputs": [],
   "source": []
  },
  {
   "cell_type": "code",
   "execution_count": null,
   "id": "fad57318-b1ef-4572-867c-ef124cdce434",
   "metadata": {},
   "outputs": [],
   "source": []
  },
  {
   "cell_type": "code",
   "execution_count": null,
   "id": "3eee59e8",
   "metadata": {},
   "outputs": [],
   "source": []
  },
  {
   "cell_type": "code",
   "execution_count": null,
   "id": "1e99c012",
   "metadata": {},
   "outputs": [],
   "source": []
  },
  {
   "cell_type": "code",
   "execution_count": null,
   "id": "69710366",
   "metadata": {},
   "outputs": [],
   "source": []
  }
 ],
 "metadata": {
  "kernelspec": {
   "display_name": "Python 3 (ipykernel)",
   "language": "python",
   "name": "python3"
  },
  "language_info": {
   "codemirror_mode": {
    "name": "ipython",
    "version": 3
   },
   "file_extension": ".py",
   "mimetype": "text/x-python",
   "name": "python",
   "nbconvert_exporter": "python",
   "pygments_lexer": "ipython3",
   "version": "3.10.4"
  },
  "latex_envs": {
   "LaTeX_envs_menu_present": true,
   "autoclose": false,
   "autocomplete": true,
   "bibliofile": "biblio.bib",
   "cite_by": "apalike",
   "current_citInitial": 1,
   "eqLabelWithNumbers": true,
   "eqNumInitial": 1,
   "hotkeys": {
    "equation": "Ctrl-E",
    "itemize": "Ctrl-I"
   },
   "labels_anchors": false,
   "latex_user_defs": false,
   "report_style_numbering": false,
   "user_envs_cfg": false
  },
  "toc": {
   "base_numbering": 1,
   "nav_menu": {},
   "number_sections": true,
   "sideBar": true,
   "skip_h1_title": false,
   "title_cell": "Table of Contents",
   "title_sidebar": "Contents",
   "toc_cell": false,
   "toc_position": {},
   "toc_section_display": true,
   "toc_window_display": false
  }
 },
 "nbformat": 4,
 "nbformat_minor": 5
}
