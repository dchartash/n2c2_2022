{
 "cells": [
  {
   "cell_type": "code",
   "execution_count": 1,
   "id": "a99ae24d-a494-4001-baf4-8d00bd91fa6c",
   "metadata": {},
   "outputs": [],
   "source": [
    "%load_ext autoreload\n",
    "%autoreload 2"
   ]
  },
  {
   "cell_type": "code",
   "execution_count": 120,
   "id": "6ca9073a",
   "metadata": {},
   "outputs": [],
   "source": [
    "import pandas as pd \n",
    "import numpy as np\n",
    "from preprocessing.cleaning_utils import *\n",
    "from functools import partial\n",
    "import torch \n",
    "\n",
    "from datasets import load_dataset\n",
    "from datasets import Value, ClassLabel, Features, DatasetDict\n",
    "import transformers\n",
    "from transformers import AutoTokenizer, AutoModel, AutoModelForMaskedLM, AutoModelForSequenceClassification\n",
    "from transformers import DataCollatorWithPadding\n",
    "from transformers import logging\n",
    "from transformers import TrainingArguments, Trainer\n",
    "from transformers import pipeline\n",
    "import spacy\n",
    "import spacy\n",
    "from spacy import displacy\n",
    "from spacy.symbols import nsubj, VERB, nmod, ccomp, punct, conj\n",
    "from spacy.tokens import Doc, Span, Token\n",
    "logging.set_verbosity_warning()"
   ]
  },
  {
   "cell_type": "code",
   "execution_count": null,
   "id": "11c4f12b-0788-4c85-ba74-4c8e5d06fbf5",
   "metadata": {},
   "outputs": [],
   "source": []
  },
  {
   "cell_type": "code",
   "execution_count": 3,
   "id": "02011b8f-4e31-403b-9d3b-3bc02c779929",
   "metadata": {
    "scrolled": true
   },
   "outputs": [],
   "source": [
    "# !python -m torch.utils.collect_env"
   ]
  },
  {
   "cell_type": "code",
   "execution_count": 4,
   "id": "7367c7f6-5b97-4b22-964a-bce4eee7e5d8",
   "metadata": {},
   "outputs": [
    {
     "data": {
      "text/plain": [
       "device(type='cuda')"
      ]
     },
     "execution_count": 4,
     "metadata": {},
     "output_type": "execute_result"
    }
   ],
   "source": [
    "device = torch.device(\"cuda\") if torch.cuda.is_available() else torch.device(\"cpu\")\n",
    "device"
   ]
  },
  {
   "cell_type": "code",
   "execution_count": null,
   "id": "e3e4894f-bd82-40cf-8ea5-e6e34750d070",
   "metadata": {},
   "outputs": [],
   "source": []
  },
  {
   "cell_type": "code",
   "execution_count": 5,
   "id": "82b75e6e",
   "metadata": {},
   "outputs": [],
   "source": [
    "mimic_dir = \"/home/vs428/project/MIMIC/files/mimiciii/1.4/\"\n",
    "n2c2_dir = \"/home/vs428/project/n2c2/2022/N2C2-AP-Reasoning/\"\n",
    "n2c2_data_dir =  \"/home/vs428/project/n2c2/2022/Data/\"\n"
   ]
  },
  {
   "cell_type": "code",
   "execution_count": 6,
   "id": "4acd8952-99d2-4215-8ceb-4490325d9bb7",
   "metadata": {},
   "outputs": [
    {
     "name": "stderr",
     "output_type": "stream",
     "text": [
      "Using custom data configuration default-b1948d86214b7517\n",
      "Reusing dataset csv (/home/vs428/.cache/huggingface/datasets/csv/default-b1948d86214b7517/0.0.0/433e0ccc46f9880962cc2b12065189766fbb2bee57a221866138fb9203c83519)\n"
     ]
    },
    {
     "data": {
      "application/vnd.jupyter.widget-view+json": {
       "model_id": "ba6dad797b8243a0aedc4c03938c7cd5",
       "version_major": 2,
       "version_minor": 0
      },
      "text/plain": [
       "  0%|          | 0/2 [00:00<?, ?it/s]"
      ]
     },
     "metadata": {},
     "output_type": "display_data"
    }
   ],
   "source": [
    "classes = ['Not Relevant', 'Neither', 'Indirect', 'Direct']\n",
    "features = Features({\n",
    "    'ROW ID':Value(\"int64\"),\n",
    "    'HADM ID':Value(\"int64\"),\n",
    "    'Assessment':Value(\"string\"),\n",
    "    'Plan Subsection':Value(\"string\"),\n",
    "    \"Relation\":Value(\"string\")\n",
    "}) \n",
    "\n",
    "dataset = load_dataset(\"csv\", data_files={\n",
    "                            \"train\":n2c2_data_dir + \"train.csv\",\n",
    "                            \"valid\":n2c2_data_dir + \"dev.csv\",\n",
    "                        },\n",
    "\n",
    "                       features=features)\n",
    "# dataset = dataset.class_encode_column(\"Relation\")\n",
    "dataset = dataset.rename_column(\"Relation\", \"label\")"
   ]
  },
  {
   "cell_type": "code",
   "execution_count": 7,
   "id": "9cd9f7ed-d488-493f-8163-73e295a286a8",
   "metadata": {},
   "outputs": [
    {
     "data": {
      "text/plain": [
       "{'ROW ID': 711150,\n",
       " 'HADM ID': 183333,\n",
       " 'Assessment': '75 yo M with h/o cardiomyopahy (EF 15%), atrial fibrillation, pulmonary\\n   embolism (on coumadin), adrenal insufficiency, and s/p several recent\\n   admissions following episode of Klebsilella pneumonia complicated by\\n   respiratory failure and septic shock. Presents to hospital with\\n   syncope, hypoxia, hypotension and altered mental status.',\n",
       " 'Plan Subsection': '# Adrenal insufficiency:\\n   Patient on 10 mg hydrocortisone at home.\\n   - Increase to 50 mg hydrocortisone given stress of acute illness (day 2\\n   today)',\n",
       " 'label': 'Indirect'}"
      ]
     },
     "execution_count": 7,
     "metadata": {},
     "output_type": "execute_result"
    }
   ],
   "source": [
    "dataset['train'][23]"
   ]
  },
  {
   "cell_type": "code",
   "execution_count": 10,
   "id": "bfcfdfa4-a93a-4bce-a91b-ac584b096866",
   "metadata": {},
   "outputs": [],
   "source": [
    "from transformers import GPT2Tokenizer, GPTNeoForSequenceClassification\n"
   ]
  },
  {
   "cell_type": "code",
   "execution_count": 107,
   "id": "357ad0f1-0b14-46f1-92e1-5e467c4fc473",
   "metadata": {},
   "outputs": [
    {
     "data": {
      "text/plain": [
       "1"
      ]
     },
     "execution_count": 107,
     "metadata": {},
     "output_type": "execute_result"
    }
   ],
   "source": [
    "tokenizer = GPT2Tokenizer.from_pretrained(\"EleutherAI/gpt-neo-1.3B\")\n",
    "tokenizer.add_special_tokens({'pad_token': '[PAD]'})\n"
   ]
  },
  {
   "cell_type": "code",
   "execution_count": null,
   "id": "871d5d99-8cea-4226-8f31-e4899d7a3c13",
   "metadata": {},
   "outputs": [],
   "source": []
  },
  {
   "cell_type": "code",
   "execution_count": 111,
   "id": "6ce3d12e-fc16-47d6-98ae-8f8825061356",
   "metadata": {},
   "outputs": [
    {
     "name": "stderr",
     "output_type": "stream",
     "text": [
      "Some weights of GPTNeoForSequenceClassification were not initialized from the model checkpoint at EleutherAI/gpt-neo-1.3B and are newly initialized: ['transformer.h.17.attn.attention.bias', 'transformer.h.21.attn.attention.bias', 'transformer.h.1.attn.attention.bias', 'transformer.h.19.attn.attention.bias', 'transformer.h.15.attn.attention.bias', 'transformer.h.3.attn.attention.bias', 'score.weight', 'transformer.h.23.attn.attention.bias', 'transformer.h.11.attn.attention.bias', 'transformer.h.13.attn.attention.bias', 'transformer.h.9.attn.attention.bias', 'transformer.h.5.attn.attention.bias', 'transformer.h.7.attn.attention.bias']\n",
      "You should probably TRAIN this model on a down-stream task to be able to use it for predictions and inference.\n"
     ]
    }
   ],
   "source": [
    "model = GPTNeoForSequenceClassification.from_pretrained(\"EleutherAI/gpt-neo-1.3B\", num_labels=4, \n",
    "                                                        problem_type=\"single_label_classification\",\n",
    "                                                       pad_token_id=tokenizer.convert_tokens_to_ids(\"[PAD]\"))\n",
    "\n"
   ]
  },
  {
   "cell_type": "code",
   "execution_count": 112,
   "id": "61e92f5e-dced-468e-b407-c2a2ae506c38",
   "metadata": {},
   "outputs": [
    {
     "data": {
      "text/plain": [
       "Embedding(50258, 2048)"
      ]
     },
     "execution_count": 112,
     "metadata": {},
     "output_type": "execute_result"
    }
   ],
   "source": [
    "model.resize_token_embeddings(len(tokenizer))"
   ]
  },
  {
   "cell_type": "code",
   "execution_count": 113,
   "id": "296b6958-7ad3-4703-964c-4e1fe9661d59",
   "metadata": {},
   "outputs": [],
   "source": [
    "out = tokenizer(dataset['train'][43:45]['Assessment'], dataset['train'][43:45]['Plan Subsection'],\n",
    "                                      truncation=\"longest_first\",\n",
    "                                    # padding=True,\n",
    "                                      max_length=512,\n",
    "                                      verbose=True)"
   ]
  },
  {
   "cell_type": "code",
   "execution_count": 125,
   "id": "e3506aff-1e4d-4055-864a-1b02b5130fa9",
   "metadata": {},
   "outputs": [],
   "source": [
    "generator = pipeline(task=\"text-classification\", model=model, tokenizer=tokenizer, return_all_scores=True)"
   ]
  },
  {
   "cell_type": "code",
   "execution_count": 128,
   "id": "ea5d64fa-086e-4e64-a3eb-1759e1295242",
   "metadata": {},
   "outputs": [
    {
     "data": {
      "text/plain": [
       "[{'label': 'LABEL_0', 'score': 0.45915326476097107},\n",
       " {'label': 'LABEL_1', 'score': 0.03891521692276001},\n",
       " {'label': 'LABEL_2', 'score': 0.478484570980072},\n",
       " {'label': 'LABEL_3', 'score': 0.02344704233109951}]"
      ]
     },
     "execution_count": 128,
     "metadata": {},
     "output_type": "execute_result"
    }
   ],
   "source": [
    "generator([dataset['train'][43]['Assessment'] +  dataset['train'][43]['Plan Subsection'], \n",
    "           dataset['train'][44]['Assessment'] +  dataset['train'][44]['Plan Subsection']])[0]"
   ]
  },
  {
   "cell_type": "code",
   "execution_count": null,
   "id": "cbbd9dc1-87b0-48a4-aedd-2f2b0bfb120a",
   "metadata": {
    "scrolled": true,
    "tags": []
   },
   "outputs": [],
   "source": []
  },
  {
   "cell_type": "code",
   "execution_count": 134,
   "id": "375e11c1-788a-4441-84d4-f50bc205899f",
   "metadata": {},
   "outputs": [],
   "source": [
    "x = np.zeros(shape=(5,5))"
   ]
  },
  {
   "cell_type": "code",
   "execution_count": 138,
   "id": "75c64fff-e6fb-4426-a0f3-6f5fab41507d",
   "metadata": {},
   "outputs": [],
   "source": [
    "x[4, :] = [1,2,3,4,5 ]"
   ]
  },
  {
   "cell_type": "code",
   "execution_count": 139,
   "id": "699c06c0-519a-4a7e-8c2d-94ee23cefc21",
   "metadata": {},
   "outputs": [
    {
     "data": {
      "text/plain": [
       "array([[0., 0., 0., 0., 0.],\n",
       "       [0., 0., 0., 0., 0.],\n",
       "       [0., 0., 0., 0., 0.],\n",
       "       [0., 0., 0., 0., 0.],\n",
       "       [1., 2., 3., 4., 5.]])"
      ]
     },
     "execution_count": 139,
     "metadata": {},
     "output_type": "execute_result"
    }
   ],
   "source": [
    "x"
   ]
  },
  {
   "cell_type": "code",
   "execution_count": 136,
   "id": "e515be34-39aa-4b57-b5e2-ba71f604dab5",
   "metadata": {},
   "outputs": [],
   "source": [
    "data_collator = DataCollatorWithPadding(tokenizer,\n",
    "                                        max_length=512, \n",
    "                                        padding=\"max_length\",\n",
    "                                        return_tensors=\"pt\")    \n"
   ]
  },
  {
   "cell_type": "code",
   "execution_count": 116,
   "id": "a12409a6-a3f7-488f-9aa9-9211e7534eef",
   "metadata": {},
   "outputs": [],
   "source": [
    "test = data_collator(out)"
   ]
  },
  {
   "cell_type": "code",
   "execution_count": 117,
   "id": "daa64750-f557-4522-a0b6-4852ca590c97",
   "metadata": {},
   "outputs": [],
   "source": [
    "# tokenizer.decode(out['input_ids'])\n",
    "model_out = model(**test)"
   ]
  },
  {
   "cell_type": "code",
   "execution_count": 118,
   "id": "450e6b0e-9a11-4548-aef2-d2b8d4757e07",
   "metadata": {},
   "outputs": [
    {
     "data": {
      "text/plain": [
       "tensor([[ 1.5115, -0.9565,  1.5527, -1.4632],\n",
       "        [ 0.1700, -2.3643,  3.2297, -0.9741]], grad_fn=<IndexBackward0>)"
      ]
     },
     "execution_count": 118,
     "metadata": {},
     "output_type": "execute_result"
    }
   ],
   "source": [
    "model_out.logits"
   ]
  },
  {
   "cell_type": "code",
   "execution_count": null,
   "id": "1ed44a02-f964-4fb1-b6e6-5cbe31b4fec2",
   "metadata": {},
   "outputs": [],
   "source": [
    "dataset = dataset.map(partial(tokenize_function, tokenizer=tokenizer), batched=True)\n",
    "\n",
    "# tokenizer(data['train'][23])"
   ]
  },
  {
   "cell_type": "code",
   "execution_count": 8,
   "id": "7f5268aa-f043-42f4-871e-d462c00a25f7",
   "metadata": {},
   "outputs": [],
   "source": [
    "# # split dataset: 80% train, 10% validation, 10% test \n",
    "# train_testvalid = dataset['train'].train_test_split(test_size=0.2)\n",
    "# # test_valid = train_testvalid['test'].train_test_split(test_size=0.5)\n",
    "# split_dataset = DatasetDict({\n",
    "#     'train': train_testvalid['train'],\n",
    "#     'valid': test_valid['train'],\n",
    "#     # 'test': test_valid['test'],\n",
    "# })\n",
    "\n"
   ]
  },
  {
   "cell_type": "code",
   "execution_count": 9,
   "id": "65d9151f-01ba-4d04-92af-7ebf06d92dea",
   "metadata": {},
   "outputs": [],
   "source": [
    "# prompts = []\n",
    "# for data in dataset['train']:\n",
    "#     prompt_str = 'Assessment: \"' + data['Assessment'] + '\"\\nPlan: \"' + data['Plan Subsection'] + '\"\\nLabel: ' \\\n",
    "#         + str(data['label'])\n",
    "#     prompts.append(prompt_str)\n",
    "prompts = []\n",
    "for data in dataset['train']:\n",
    "    prompt_str = 'Assessment: ' + data['Assessment'] + '\\nPlan: ' + data['Plan Subsection'] + '\\nLabel: ' \\\n",
    "        + str(data['label'])\n",
    "    prompts.append(prompt_str)\n",
    "        "
   ]
  },
  {
   "cell_type": "code",
   "execution_count": null,
   "id": "b0c5b1e5-b70a-4822-b8a5-2aebcac80f89",
   "metadata": {},
   "outputs": [],
   "source": []
  },
  {
   "cell_type": "code",
   "execution_count": 10,
   "id": "96e81e75-92e7-4c63-95f0-4dcfde9c7c1f",
   "metadata": {},
   "outputs": [
    {
     "data": {
      "text/plain": [
       "'Assessment: Assesment: This is a 76 year-old female with a history of diabetes who\\n   presents with pneumoperitoneum of unclear aetiology, complicated by\\n   coagulopathy and rhabdomyolysis.\\nPlan: # Acute renal failure - [**Month (only) 60**] be pre-renal or secondary to\\n   rhabdomyolysis. Creatinine down from 1.7 to 1.3.\\n   - Continue aggressive IV fluid hydration\\n   - Monitor potassium (3.8 this AM)\\n   - Renally dose antibiotics\\nLabel: Indirect'"
      ]
     },
     "execution_count": 10,
     "metadata": {},
     "output_type": "execute_result"
    }
   ],
   "source": [
    "prompts[10]"
   ]
  },
  {
   "cell_type": "code",
   "execution_count": 11,
   "id": "a34f2db0-8e1c-4790-93b0-1e9661a6cac4",
   "metadata": {
    "scrolled": true,
    "tags": []
   },
   "outputs": [
    {
     "name": "stdout",
     "output_type": "stream",
     "text": [
      "Assessment: 51 yr old F with a history of 3V CAD, confirmed on C. cath during this\n",
      "   admission, EF of 40%, who is transferred to CCU for monitoring of\n",
      "   recurrent chest pain. Plan for CABG today to revascularize due to\n",
      "   3-vessel disease.\n",
      "Plan: # CORONARIES: Patient with 3 vessel disease on cath. Previously found\n",
      "   to be the case in [**2174**], but had been treated medically. On the floor,\n",
      "   patient with recurrent chest pain and EKG changes, concerning for\n",
      "   further ischemia. Chest pain has been controlled on nitro gtt. Patient\n",
      "   in CCU for monitoring; plan for CABG today.\n",
      "   - continue nitro gtt\n",
      "   - if has further CP, would uptitrate nitro, and contact [**Name2 (NI) 9339**] and\n",
      "   attending for potential balloon pump vs. urgent CABG\n",
      "   - appreciate CT [**Doctor First Name 91**] recs\n",
      "   - continue [**Last Name (LF) **], [**First Name3 (LF) 119**], ACE-i, simvastatin\n",
      "Label: Direct\n",
      "\n",
      "\n",
      "Assessment: 51 yr old F with a history of 3V CAD, confirmed on C. cath during this\n",
      "   admission, EF of 40%, who is transferred to CCU for monitoring of\n",
      "   recurrent chest pain. Plan for CABG today to revascularize due to\n",
      "   3-vessel disease.\n",
      "Plan: # Acute on Chronic systolic CHF: Patient with EF of 25% at OSH, but\n",
      "   repeat echo at [**Hospital1 5**] showed EF of 40%, consistent with prior echo. SOB\n",
      "   resolved, but still with elevated JVP (no crackles on my exam this\n",
      "   morning).\n",
      "   -Goal even I\n",
      "s & O\n",
      "s as preparation for CABG today\n",
      "   -Continue BB, ACEi, [**Hospital1 119**], statin\n",
      "Label: Indirect\n",
      "\n",
      "\n",
      "Assessment: 51 yr old F with a history of 3V CAD, confirmed on C. cath during this\n",
      "   admission, EF of 40%, who is transferred to CCU for monitoring of\n",
      "   recurrent chest pain. Plan for CABG today to revascularize due to\n",
      "   3-vessel disease.\n",
      "Plan: # Social stressors: Recently lost mother to cancer, recently lost job.\n",
      "   Denies SI/HI or depression.\n",
      "   - social work consulted for coping\n",
      "Label: Neither\n",
      "\n",
      "\n",
      "Assessment: 51 yr old F with a history of 3V CAD, confirmed on C. cath during this\n",
      "   admission, EF of 40%, who is transferred to CCU for monitoring of\n",
      "   recurrent chest pain. Plan for CABG today to revascularize due to\n",
      "   3-vessel disease.\n",
      "Plan: # FEN: Replete lytes PRN, NPO for CABG today\n",
      "   .\n",
      "   # ACCESS: PIV\n",
      "   .\n",
      "   # PROPHYLAXIS: IV heparin gtt\n",
      "   .\n",
      "   # CODE: FULL (confirmed); contact: [**Name (NI) 777**] [**Name (NI) 846**] [**Telephone/Fax (1) 9340**]\n",
      "   .\n",
      "   # DISPO: CCU for now\n",
      "   ICU Care\n",
      "   Nutrition:\n",
      "   NPO for CABG today.\n",
      "   Glycemic Control:  Monitor blood sugars.\n",
      "   Lines:\n",
      "   18 Gauge - [**2181-11-4**] 12:00 PM\n",
      "   Prophylaxis:\n",
      "   DVT: IV heparin gtt\n",
      "   Stress ulcer:\n",
      "   VAP:  not intubated\n",
      "Label: Not Relevant\n",
      "\n",
      "\n",
      "Assessment: CHRONIC OBSTRUCTIVE PULMONARY DISEASE (COPD, BRONCHITIS, EMPHYSEMA)\n",
      "   WITH ACUTE EXACERBATION\n",
      "   IMPRESSION: 57 y/o man with long smokign history admitted to [**Hospital Unit Name 10**] with\n",
      "   makred dypnea and lower extremity swelling:\n",
      "Plan: # Dyspnea: Differential in this patient would be prolonged COPD\n",
      "   exacebration vs. CHF. Given no fluid on CXR or exam, a hypotensive\n",
      "   response to IV lasix in the ED, and a normal echocargiogram 2 weeks\n",
      "   ago, a diastolic and certainly systolic heart failure exacerbation\n",
      "   seems unlikely. A BNP of 150 is supportive. EKG is without acute\n",
      "   changes and CK is normal. Trop of 0.02 is not conclusive for MI, but\n",
      "   will be trended. Given wheezing and marked smoking history, it seems\n",
      "   that this is a continued presentation of a partially treated, severe\n",
      "   COPD exacerbation. Will persure treatment at this point with this\n",
      "   diagnosis in mind. The physiology of his COPD is likely chronic\n",
      "   bronchitis. PE r/o with CTA\n",
      "   - Prednisone 60m po Qday. Will likely require a long, slow taper,\n",
      "   perhaps over the course of [**3-28**] weeks.\n",
      "   - Nebulaizers prn\n",
      "   - PFTs as outpatient will be very important\n",
      "   - hold serevent, flovent inhlaers while getting multiple short acting\n",
      "   B-agonists and systemic steroids. Will continue atrovent nebs,\n",
      "   -concerning that he hs such severe symptoms at such a young age.\n",
      "Label: Direct\n",
      "\n",
      "\n",
      "Assessment: CHRONIC OBSTRUCTIVE PULMONARY DISEASE (COPD, BRONCHITIS, EMPHYSEMA)\n",
      "   WITH ACUTE EXACERBATION\n",
      "   IMPRESSION: 57 y/o man with long smokign history admitted to [**Hospital Unit Name 10**] with\n",
      "   makred dypnea and lower extremity swelling:\n",
      "Plan: # Lower Extremity Edema: seems consistent with chronic venous\n",
      "   insufficiency. Need however, to consider right sided heart failure,\n",
      "   especially given right upper quadrant pain, midl transaminitis, and\n",
      "   lower exremity edema. His echo on [**2110-1-28**] showed a dialted RV cavity,\n",
      "   but preserved systolic function. Other etiologies could be bialteral\n",
      "   DVT, IVC DVT, or nephrotic syndrome.  His hypotensive response to\n",
      "   lasix, however, may also be sine qua non of RV dysfunction and pre-load\n",
      "   dependence.\n",
      "   - lasix prn (hodl given recent hypotension)\n",
      "   - leg elevation\n",
      "   - compression stockings\n",
      "Label: Direct\n",
      "\n",
      "\n",
      "Assessment: CHRONIC OBSTRUCTIVE PULMONARY DISEASE (COPD, BRONCHITIS, EMPHYSEMA)\n",
      "   WITH ACUTE EXACERBATION\n",
      "   IMPRESSION: 57 y/o man with long smokign history admitted to [**Hospital Unit Name 10**] with\n",
      "   makred dypnea and lower extremity swelling:\n",
      "Plan: # Hypertension: contineu lisinopril, extended release diltiazem\n",
      "Label: Neither\n",
      "\n",
      "\n",
      "Assessment: CHRONIC OBSTRUCTIVE PULMONARY DISEASE (COPD, BRONCHITIS, EMPHYSEMA)\n",
      "   WITH ACUTE EXACERBATION\n",
      "   IMPRESSION: 57 y/o man with long smokign history admitted to [**Hospital Unit Name 10**] with\n",
      "   makred dypnea and lower extremity swelling:\n",
      "Plan: # FEN: regular, heart healthy diet\n",
      "   # PPX: heparin SC, PPI as outpatient\n",
      "   # DIspo; pendign clinical improvement, but does not require ICU care at\n",
      "   this time. FLoor in AM\n",
      "   ICU Care\n",
      "   Nutrition:\n",
      "   Glycemic Control:\n",
      "   Lines:\n",
      "   20 Gauge - [**2110-2-22**] 12:32 AM\n",
      "   Prophylaxis:\n",
      "   DVT:\n",
      "   Stress ulcer:\n",
      "   VAP:\n",
      "Label: Not Relevant\n",
      "\n",
      "\n",
      "Assessment: Assesment: This is a 76 year-old female with a history of diabetes who\n",
      "   presents with pneumoperitoneum of unclear aetiology, complicated by\n",
      "   coagulopathy and rhabdomyolysis.\n",
      "Plan: # Pneumoperitoneum - Exam reassuring.  No leukoctyosis or fevers. CT\n",
      "   confirms pneumoperitoneum without free fluid, fat stranding or contrast\n",
      "   leakage.\n",
      "   - Continue empiric Zosyn (day 2) and metronidazole (day 2)\n",
      "   - IV fluids\n",
      "   - Appreciate surgery recommendations. No plan for OR currently.\n",
      "   - Serial abdominal exams\n",
      "   - Holding PO anti-hypertensives, substitute with IV metoprolol q6H\n",
      "Label: Direct\n",
      "\n",
      "\n",
      "Assessment: Assesment: This is a 76 year-old female with a history of diabetes who\n",
      "   presents with pneumoperitoneum of unclear aetiology, complicated by\n",
      "   coagulopathy and rhabdomyolysis.\n",
      "Plan: # Rhabdomyolysis -CK trending down from 4367 to 2738 to 1318 this AM\n",
      "   -currently getting D5W 150mEq bicarb at 150cc/hour -continue to\n",
      "   alkalinize urine\n",
      "Label: Direct\n",
      "\n",
      "\n",
      "Assessment: Assesment: This is a 76 year-old female with a history of diabetes who\n",
      "   presents with pneumoperitoneum of unclear aetiology, complicated by\n",
      "   coagulopathy and rhabdomyolysis.\n",
      "Plan: # Acute renal failure - [**Month (only) 60**] be pre-renal or secondary to\n",
      "   rhabdomyolysis. Creatinine down from 1.7 to 1.3.\n",
      "   - Continue aggressive IV fluid hydration\n",
      "   - Monitor potassium (3.8 this AM)\n",
      "   - Renally dose antibiotics\n",
      "Label: Indirect\n",
      "\n",
      "\n"
     ]
    }
   ],
   "source": [
    "for idx, x in enumerate(prompts):\n",
    "    print(x)\n",
    "    print(\"\\n\")\n",
    "    if idx % 5 == 0 and idx > 5:\n",
    "        break"
   ]
  },
  {
   "cell_type": "code",
   "execution_count": 12,
   "id": "fc06d9f7-fccb-427f-92b4-3202c42de1c1",
   "metadata": {},
   "outputs": [],
   "source": [
    "arr = np.array(prompts) "
   ]
  },
  {
   "cell_type": "code",
   "execution_count": 13,
   "id": "1454baeb-2441-441e-8c4f-6683e2cf2f63",
   "metadata": {},
   "outputs": [
    {
     "name": "stdout",
     "output_type": "stream",
     "text": [
      "4267\n",
      "Assessment: [**Age over 90 **] yo female with severe dementia with poor functional status, multiple\n",
      "   medical problems with multiple recent hospitalizations including recent\n",
      "   ICU stay with intubation, sepsis, pressors, etc, now presents with\n",
      "   severe dehydration, poor po intake, hypernatremia, and failure to\n",
      "   thrive.\n",
      "Plan: ADVANCE DIRECTIVES:\n",
      "   Health Care Proxy = (niece) [**Name (NI) 2006**] [**Name (NI) 1407**] [**Telephone/Fax (1) 2139**]\n",
      "   CODE STATUS = FULL CODE\n",
      "   ICU Care\n",
      "   Nutrition:\n",
      "   Glycemic Control:  None\n",
      "   Lines:\n",
      "   18 Gauge - [**2106-2-2**] 09:10 AM\n",
      "   20 Gauge - [**2106-2-2**] 04:39 PM\n",
      "   Prophylaxis:\n",
      "   DVT: SQ UF Heparin\n",
      "   Stress ulcer: Not indicated\n",
      "   VAP:  Not indicated\n",
      "Label: Not Relevant\n",
      "\n",
      "-------------------\n",
      "\n",
      "278\n",
      "Assessment: Ms. [**Known lastname **] is a 62 year old female with diabetes, HTN, HL, bipolar\n",
      "   disorder with multiple prior suicide attempts from medication overdoses\n",
      "   who is admitted with altered mental status.\n",
      "Plan: 5.  Bipolar disorder.  Patient has a history of bipolar disorder, on\n",
      "   disability.  Multiple prior overdoses with medications.\n",
      "   - hold lexapro\n",
      "   - psychiatry consult recs 1:1 sitter given likelihood of suicide\n",
      "   attempt. Pt will need psych admit once medically stable.\n",
      "   - haldol prn\n",
      "Label: Indirect\n",
      "\n",
      "-------------------\n",
      "\n",
      "1821\n",
      "Assessment: 64 M w/ nonischemic dilated cardiomyopathy (EF 25%), severe AS,\n",
      "   rheumatic MS, DM, COPD, OSA & pulm HTN admitted to OSH with DOE,\n",
      "   transferred for further evaluation of AS, now with GPC bacteremia and\n",
      "   septic [**Numeric Identifier 1613**].\n",
      "   .\n",
      "Plan: Dyspnea\n",
      " Chronic symptoms is multifactorial [**1-22**] COPD, CHF, pulmonary\n",
      "   hypertension\n",
      "   - continue suppl. O2 to maintain O2 sats>93%\n",
      "   - continue albuterol nebs\n",
      "   .\n",
      "Label: Indirect\n",
      "\n",
      "-------------------\n",
      "\n",
      "1302\n",
      "Assessment: 54 yo F with HIV, HCV cirrhosis/ESLD, myopathy, bed bound/NH presents\n",
      "   with vaginal/rectal bleeding.\n",
      "Plan: # PPx. PPI, bowel reg, Hep SC tid\n",
      "   # FEN. Patient on house diet with Nutren 2.0 tube feeds at 70 cc/hr 6\n",
      "   am to 6 pm.\n",
      "   # Full Code presumed, discuss further with patient when mental status\n",
      "   clears and with PCP\n",
      "   # Dispo. Tx to liver service\n",
      "   # Access: PIV and R femoral line placed in ED- d/c fem line.  Mid line.\n",
      "   # Comm: son [**Name (NI) 2965**] [**Name (NI) 2966**] [**Telephone/Fax (1) 2967**]\n",
      "   ICU Care\n",
      "   Nutrition:\n",
      "   Glycemic Control:\n",
      "   Lines:\n",
      "   Multi Lumen - [**2130-6-4**] 09:31 PM\n",
      "   Midline - [**2130-6-4**] 09:34 PM\n",
      "   Prophylaxis:\n",
      "   DVT: Boots, sc heparin\n",
      "   Stress ulcer: PPI\n",
      "   VAP:\n",
      "Label: Not Relevant\n",
      "\n",
      "-------------------\n",
      "\n",
      "4390\n",
      "Assessment: 61M w/ HCC on lovenox for tumor thrombus in IVC, s/p RFA of liver\n",
      "   lesion [**2173-3-11**] admitted with large R hemothorax now s/p R VATS\n",
      "   yesterday with significant improvement in respiratory status\n",
      "Plan: #HCC: Pt currently on clinical trial for HCC\n",
      "   - Will notify Pt's heme onc attending of admission\n",
      "   - Other recs per heme onc team\n",
      "Label: Indirect\n",
      "\n",
      "-------------------\n",
      "\n"
     ]
    }
   ],
   "source": [
    "idxs = np.random.randint(arr.shape[0], size=5)\n",
    "for x in idxs:\n",
    "    print(x)\n",
    "    print(arr[x])\n",
    "    print(\"\\n-------------------\\n\")"
   ]
  },
  {
   "cell_type": "code",
   "execution_count": null,
   "id": "23f91a9c-8f6c-4b1c-ba4f-4939367febcf",
   "metadata": {},
   "outputs": [],
   "source": []
  },
  {
   "cell_type": "markdown",
   "id": "c4e36bbb-a59c-44e7-b127-7dcc59ebb2ae",
   "metadata": {},
   "source": [
    "# SciSpacy Dependency Parsing"
   ]
  },
  {
   "cell_type": "code",
   "execution_count": 14,
   "id": "f98f24f0-e7bb-4c61-ac21-9611180b8cc3",
   "metadata": {},
   "outputs": [],
   "source": [
    "idxs = np.random.randint(arr.shape[0], size=5)\n"
   ]
  },
  {
   "cell_type": "code",
   "execution_count": 15,
   "id": "12371e32-2eb6-48ee-ab4b-26e0d322eac3",
   "metadata": {},
   "outputs": [],
   "source": [
    "from scispacy.abbreviation import AbbreviationDetector\n",
    "Token.set_extension(\"is_beginning_capitalized\", default=False)"
   ]
  },
  {
   "cell_type": "code",
   "execution_count": 16,
   "id": "bb9347ef-d8bd-4a6e-b9ee-f6aa7ce31ae5",
   "metadata": {},
   "outputs": [
    {
     "data": {
      "text/plain": [
       "<scispacy.abbreviation.AbbreviationDetector at 0x2abb9db74dc0>"
      ]
     },
     "execution_count": 16,
     "metadata": {},
     "output_type": "execute_result"
    }
   ],
   "source": [
    "# nlp = spacy.load(\"en_core_sci_scibert\")\n",
    "nlp = spacy.load(\"en_core_sci_lg\")\n",
    "nlp.add_pipe(\"abbreviation_detector\")"
   ]
  },
  {
   "cell_type": "code",
   "execution_count": 17,
   "id": "48d6d72b-bad9-49a0-871d-8c91c609ff2b",
   "metadata": {},
   "outputs": [
    {
     "name": "stdout",
     "output_type": "stream",
     "text": [
      "Abbreviation \t Definition\n",
      "SBMA \t (6, 7) Spinal and bulbar muscular atrophy\n",
      "SBMA \t (33, 34) Spinal and bulbar muscular atrophy\n",
      "AR \t (29, 30) androgen receptor\n"
     ]
    }
   ],
   "source": [
    "doc = nlp(\"Spinal and bulbar muscular atrophy (SBMA) is an \\\n",
    "           inherited motor neuron disease caused by the expansion \\\n",
    "           of a polyglutamine tract within the androgen receptor (AR). \\\n",
    "           SBMA can be caused by this easily.\")\n",
    "\n",
    "print(\"Abbreviation\", \"\\t\", \"Definition\")\n",
    "for abrv in doc._.abbreviations:\n",
    "\tprint(f\"{abrv} \\t ({abrv.start}, {abrv.end}) {abrv._.long_form}\")"
   ]
  },
  {
   "cell_type": "code",
   "execution_count": 18,
   "id": "6e923ae5-711d-46b8-a1fe-494a6e297e3d",
   "metadata": {},
   "outputs": [
    {
     "data": {
      "text/plain": [
       "array(['79F with h/o DM, HTN, hyperlipidemia, bipolar d/o on lithium,\\n   hypothyroidism, presents with symptomatic bradycardia with hypotension\\n   s/p temp pacer wire placement.',\n",
       "       'BACTEREMIA\\n ATRIAL FIBRILLATION (AFIB)\\n FEVER, UNKNOWN ORIGIN (FUO, HYPERTHERMIA, PYREXIA)',\n",
       "       'ASSESSMENT AND PLAN: 50 year old M with seizure disorder who presents\\n   with episode of syncope.',\n",
       "       'Mr. [**Known lastname 5979**] is a 57-year-old man with h/o ILD, recent admission for\\n   alveolar hemorrhage, also h/o afib, CAD, DM2, HTN who was transferred\\n   from [**Location (un) 206**] for hypoxia. He presented to OSH with hypoxia, was\\n   intubated.',\n",
       "       'HYPOXEMIA\\n PAIN CONTROL (ACUTE PAIN, CHRONIC PAIN)\\n ACTIVITY INTOLERANCE\\n ANXIETY\\n RESPIRATORY FAILURE, ACUTE (NOT ARDS/[**Doctor Last Name 2**])\\n PNEUMONIA, OTHER\\n ATRIAL FLUTTER (AFLUTTER)\\n   72 year old male with SCC metastatic to left axilla and lung, a fib,\\n   HTN, HLD, who presents with shortness of breath and weakness.'],\n",
       "      dtype='<U952')"
      ]
     },
     "execution_count": 18,
     "metadata": {},
     "output_type": "execute_result"
    }
   ],
   "source": [
    "# docs = [\"35 yo F with SLE, restrictive lung disease, CM (EF 15-20%) presents with severe lupus induced cardiomyopathy.\",\n",
    "#         \"54 year old man with pmh significant for bipolar disorder presenting with lithium toxicity\",\n",
    "#         \"69 F w/ MMP including copd, diastolic chf, dm2, recent prolonged hospitalization where she became trach- dependent secondary to prolonged virulent pseudomonal PNA, presented in septic shock, ARF and AMS.\",\n",
    "#         \"73 yo male with history of bilateral renal cell carcinoma metastatic to right adrenalectomy presents for post-operative monitoring after right adrenalectomy and prostate biopsy.\"]\n",
    "\n",
    "assessments = [data['Assessment'] for data in dataset['train']]\n",
    "assessments = np.array(assessments)\n",
    "assessments[idxs]\n"
   ]
  },
  {
   "cell_type": "code",
   "execution_count": 19,
   "id": "50f5f0ec-998c-4d32-85f6-f1e842215589",
   "metadata": {},
   "outputs": [
    {
     "name": "stderr",
     "output_type": "stream",
     "text": [
      "/gpfs/ysm/project/rtaylor/vs428/conda_envs/myenv/lib/python3.10/site-packages/scispacy/abbreviation.py:230: UserWarning: [W036] The component 'matcher' does not have any patterns defined.\n",
      "  global_matches = self.global_matcher(doc)\n"
     ]
    }
   ],
   "source": [
    "import spacy\n",
    "\n",
    "doc = nlp(\"Credit and mortgage account holders must submit their requests\")\n",
    "# span = doc[doc[4].left_edge.i : doc[4].right_edge.i+1]\n",
    "# with doc.retokenize() as retokenizer:\n",
    "#     retokenizer.merge(span)\n",
    "# for token in doc:\n",
    "#     print(token.text, token.pos_, token.dep_, token.head.text)"
   ]
  },
  {
   "cell_type": "code",
   "execution_count": null,
   "id": "0d041539-2a9d-49df-abb2-6d37aa31fdbd",
   "metadata": {},
   "outputs": [],
   "source": []
  },
  {
   "cell_type": "code",
   "execution_count": 20,
   "id": "34f38fb9-51c4-4f31-a97c-3d2d6450cc35",
   "metadata": {},
   "outputs": [
    {
     "name": "stdout",
     "output_type": "stream",
     "text": [
      "SENTENCE: 459\n",
      "79F with h/o DM, HTN, hyperlipidemia, bipolar d/o on lithium,\n",
      "   hypothyroidism, presents with symptomatic bradycardia with hypotension\n",
      "   s/p temp pacer wire placement.\n",
      "present\n",
      ",\n",
      "--\n",
      "\n",
      "with symptomatic bradycardia with hypotension\n",
      "--\n",
      "\n",
      ".\n",
      "--\n",
      "\n",
      "left_most_edge 16\n",
      "right_most_edge 30\n",
      ", presents with symptomatic bradycardia with hypotension\n",
      "   s/p temp pacer wire placement.\n",
      "\n",
      "---------\n",
      "---------\n",
      "SENTENCE: 3267\n",
      "BACTEREMIA\n",
      " ATRIAL FIBRILLATION (AFIB)\n",
      " FEVER, UNKNOWN ORIGIN (FUO, HYPERTHERMIA, PYREXIA)\n",
      "left_most_edge 19\n",
      "right_most_edge 0\n",
      "\n",
      "\n",
      "---------\n",
      "---------\n",
      "SENTENCE: 238\n",
      "ASSESSMENT AND PLAN: 50 year old M with seizure disorder who presents\n",
      "   with episode of syncope.\n",
      "present\n",
      "with episode of syncope\n",
      "--\n",
      "\n",
      "left_most_edge 14\n",
      "right_most_edge 18\n",
      "with episode of syncope\n",
      "\n",
      "---------\n",
      "---------\n",
      "SENTENCE: 526\n",
      "Mr. [**Known lastname 5979**] is a 57-year-old man with h/o ILD, recent admission for\n",
      "   alveolar hemorrhage, also h/o afib, CAD, DM2, HTN who was transferred\n",
      "   from [**Location (un) 206**] for hypoxia. He presented to OSH with hypoxia, was\n",
      "   intubated.\n",
      "transfer\n",
      "\n",
      "   \n",
      "--\n",
      "\n",
      "from [**Location (un) 206**] for hypoxia\n",
      "--\n",
      "\n",
      "to OSH\n",
      "--\n",
      "\n",
      "with hypoxia\n",
      "--\n",
      "\n",
      "left_most_edge 37\n",
      "right_most_edge 59\n",
      "\n",
      "   from [**Location (un) 206**] for hypoxia. He presented to OSH with hypoxia\n",
      "\n",
      "---------\n",
      "---------\n",
      "SENTENCE: 2081\n",
      "HYPOXEMIA\n",
      " PAIN CONTROL (ACUTE PAIN, CHRONIC PAIN)\n",
      " ACTIVITY INTOLERANCE\n",
      " ANXIETY\n",
      " RESPIRATORY FAILURE, ACUTE (NOT ARDS/[**Doctor Last Name 2**])\n",
      " PNEUMONIA, OTHER\n",
      " ATRIAL FLUTTER (AFLUTTER)\n",
      "   72 year old male with SCC metastatic to left axilla and lung, a fib,\n",
      "   HTN, HLD, who presents with shortness of breath and weakness.\n",
      "present\n",
      "with shortness of breath and weakness\n",
      "--\n",
      "\n",
      "left_most_edge 65\n",
      "right_most_edge 71\n",
      "with shortness of breath and weakness\n",
      "\n",
      "---------\n",
      "---------\n"
     ]
    }
   ],
   "source": [
    "processed_docs = []\n",
    "\n",
    "for idx in idxs:\n",
    "    doc_string = assessments[idx]\n",
    "    doc = nlp(str(doc_string))\n",
    "    left_most_edge = len(doc)\n",
    "    right_most_edge = 0\n",
    "    beginning_prob_list = []\n",
    "    continuing_upper = False\n",
    "    \n",
    "    print(f\"SENTENCE: {idx}\")\n",
    "    print(doc)\n",
    "    \n",
    "    start_token = doc[0]\n",
    "    if start_token.is_upper:\n",
    "        continuing_upper = True        \n",
    "    \n",
    "    for token_idx, possible_subject in enumerate(doc):\n",
    "\n",
    "        # extract all the capitalized words at the beginning        \n",
    "        if continuing_upper and (possible_subject.is_upper or possible_subject.is_punct or possible_subject.is_space):\n",
    "            beginning_prob_list.append(possible_subject)\n",
    "            possible_subject._.is_beginning_capitalized = True\n",
    "            continue\n",
    "        # print(\"beginning_prob_list\", beginning_prob_list)\n",
    "        continuing_upper = False\n",
    "        # print([x for x in possible_subject.head.morph])\n",
    "        # if possible_subject.dep in [nmod, ccomp] and possible_subject.head.text in [\"presents\",\"presenting\",\"presented\", \"admitted\", \"transferred\"]:\n",
    "        if possible_subject.dep in [nmod, ccomp, punct, conj] and (possible_subject.head.lemma_ in [\"here\", \"present\", \"admit\", \"transfer\", \"monitor\", \"transfer\", \"p/w\"]):\n",
    "            span = doc[possible_subject.left_edge.i : possible_subject.right_edge.i+1]\n",
    "            if possible_subject.left_edge.i < left_most_edge:\n",
    "                left_most_edge = possible_subject.left_edge.i\n",
    "                print(possible_subject.head.lemma_)\n",
    "            if possible_subject.right_edge.i > right_most_edge:\n",
    "                right_most_edge = possible_subject.right_edge.i + 1\n",
    "\n",
    "            # for descendant in possible_subject.subtree:\n",
    "            #     print(descendant)\n",
    "            print(span)\n",
    "            print(\"--\\n\")\n",
    "    \n",
    "    print(\"left_most_edge\", left_most_edge)\n",
    "    print(\"right_most_edge\", right_most_edge)    \n",
    "    print(doc[left_most_edge : right_most_edge])\n",
    "            \n",
    "    print(\"\\n---------\")\n",
    "    print(\"---------\")    \n",
    "    \n",
    "    processed_docs.append(doc)\n",
    "    # print(\"SDFSDFSDF\", [token.text for token in doc if not token._.is_beginning_capitalized])\n",
    "    # processed_docs.append([token.text for token in doc if not token._.is_beginning_capitalized])\n"
   ]
  },
  {
   "cell_type": "code",
   "execution_count": null,
   "id": "12235947-e5f3-4b08-b7a0-ae15928aaa3e",
   "metadata": {},
   "outputs": [],
   "source": []
  },
  {
   "cell_type": "code",
   "execution_count": 21,
   "id": "e9473a86-e136-46f9-b8f4-ea7ea01b7727",
   "metadata": {},
   "outputs": [
    {
     "name": "stdout",
     "output_type": "stream",
     "text": [
      "79F with h/o DM, HTN, hyperlipidemia, bipolar d/o on lithium,\n",
      "   hypothyroidism, presents with symptomatic bradycardia with hypotension\n",
      "   s/p temp pacer wire placement.\n"
     ]
    }
   ],
   "source": [
    "print(processed_docs[0])\n",
    "excluding_caps = [token.i for token in processed_docs[0] if (not token._.is_beginning_capitalized) and (not token.is_space)]\n",
    "# for sent in processed_docs[0].sents:\n",
    "#     print(sent)"
   ]
  },
  {
   "cell_type": "code",
   "execution_count": 22,
   "id": "8d4aec89-2a62-4165-9787-91ae7139e650",
   "metadata": {},
   "outputs": [],
   "source": [
    "vals = [processed_docs[0][idx].text for idx in range(len(processed_docs[0])) if idx in excluding_caps]"
   ]
  },
  {
   "cell_type": "code",
   "execution_count": 24,
   "id": "15f54292-35d8-4d16-9138-8a8518d8d69f",
   "metadata": {
    "tags": []
   },
   "outputs": [
    {
     "data": {
      "text/html": [
       "<span class=\"tex2jax_ignore\"><svg xmlns=\"http://www.w3.org/2000/svg\" xmlns:xlink=\"http://www.w3.org/1999/xlink\" xml:lang=\"en\" id=\"1a6793327cfa43619dae9865ac098f5c-0\" class=\"displacy\" width=\"1625\" height=\"437.0\" direction=\"ltr\" style=\"max-width: none; height: 437.0px; color: #000000; background: #ffffff; font-family: Arial; direction: ltr\">\n",
       "<text class=\"displacy-token\" fill=\"currentColor\" text-anchor=\"middle\" y=\"347.0\">\n",
       "    <tspan class=\"displacy-word\" fill=\"currentColor\" x=\"50\">with</tspan>\n",
       "    <tspan class=\"displacy-tag\" dy=\"2em\" fill=\"currentColor\" x=\"50\">ADP</tspan>\n",
       "</text>\n",
       "\n",
       "<text class=\"displacy-token\" fill=\"currentColor\" text-anchor=\"middle\" y=\"347.0\">\n",
       "    <tspan class=\"displacy-word\" fill=\"currentColor\" x=\"125\">h/o</tspan>\n",
       "    <tspan class=\"displacy-tag\" dy=\"2em\" fill=\"currentColor\" x=\"125\">NOUN</tspan>\n",
       "</text>\n",
       "\n",
       "<text class=\"displacy-token\" fill=\"currentColor\" text-anchor=\"middle\" y=\"347.0\">\n",
       "    <tspan class=\"displacy-word\" fill=\"currentColor\" x=\"200\">DM ,</tspan>\n",
       "    <tspan class=\"displacy-tag\" dy=\"2em\" fill=\"currentColor\" x=\"200\">NOUN</tspan>\n",
       "</text>\n",
       "\n",
       "<text class=\"displacy-token\" fill=\"currentColor\" text-anchor=\"middle\" y=\"347.0\">\n",
       "    <tspan class=\"displacy-word\" fill=\"currentColor\" x=\"275\">HTN ,</tspan>\n",
       "    <tspan class=\"displacy-tag\" dy=\"2em\" fill=\"currentColor\" x=\"275\">NOUN</tspan>\n",
       "</text>\n",
       "\n",
       "<text class=\"displacy-token\" fill=\"currentColor\" text-anchor=\"middle\" y=\"347.0\">\n",
       "    <tspan class=\"displacy-word\" fill=\"currentColor\" x=\"350\">hyperlipidemia ,</tspan>\n",
       "    <tspan class=\"displacy-tag\" dy=\"2em\" fill=\"currentColor\" x=\"350\">NOUN</tspan>\n",
       "</text>\n",
       "\n",
       "<text class=\"displacy-token\" fill=\"currentColor\" text-anchor=\"middle\" y=\"347.0\">\n",
       "    <tspan class=\"displacy-word\" fill=\"currentColor\" x=\"425\">bipolar</tspan>\n",
       "    <tspan class=\"displacy-tag\" dy=\"2em\" fill=\"currentColor\" x=\"425\">ADJ</tspan>\n",
       "</text>\n",
       "\n",
       "<text class=\"displacy-token\" fill=\"currentColor\" text-anchor=\"middle\" y=\"347.0\">\n",
       "    <tspan class=\"displacy-word\" fill=\"currentColor\" x=\"500\">d/o</tspan>\n",
       "    <tspan class=\"displacy-tag\" dy=\"2em\" fill=\"currentColor\" x=\"500\">NOUN</tspan>\n",
       "</text>\n",
       "\n",
       "<text class=\"displacy-token\" fill=\"currentColor\" text-anchor=\"middle\" y=\"347.0\">\n",
       "    <tspan class=\"displacy-word\" fill=\"currentColor\" x=\"575\">on</tspan>\n",
       "    <tspan class=\"displacy-tag\" dy=\"2em\" fill=\"currentColor\" x=\"575\">ADP</tspan>\n",
       "</text>\n",
       "\n",
       "<text class=\"displacy-token\" fill=\"currentColor\" text-anchor=\"middle\" y=\"347.0\">\n",
       "    <tspan class=\"displacy-word\" fill=\"currentColor\" x=\"650\">lithium ,</tspan>\n",
       "    <tspan class=\"displacy-tag\" dy=\"2em\" fill=\"currentColor\" x=\"650\">NOUN</tspan>\n",
       "</text>\n",
       "\n",
       "<text class=\"displacy-token\" fill=\"currentColor\" text-anchor=\"middle\" y=\"347.0\">\n",
       "    <tspan class=\"displacy-word\" fill=\"currentColor\" x=\"725\">hypothyroidism ,</tspan>\n",
       "    <tspan class=\"displacy-tag\" dy=\"2em\" fill=\"currentColor\" x=\"725\">NOUN</tspan>\n",
       "</text>\n",
       "\n",
       "<text class=\"displacy-token\" fill=\"currentColor\" text-anchor=\"middle\" y=\"347.0\">\n",
       "    <tspan class=\"displacy-word\" fill=\"currentColor\" x=\"800\">presents</tspan>\n",
       "    <tspan class=\"displacy-tag\" dy=\"2em\" fill=\"currentColor\" x=\"800\">VERB</tspan>\n",
       "</text>\n",
       "\n",
       "<text class=\"displacy-token\" fill=\"currentColor\" text-anchor=\"middle\" y=\"347.0\">\n",
       "    <tspan class=\"displacy-word\" fill=\"currentColor\" x=\"875\">with</tspan>\n",
       "    <tspan class=\"displacy-tag\" dy=\"2em\" fill=\"currentColor\" x=\"875\">ADP</tspan>\n",
       "</text>\n",
       "\n",
       "<text class=\"displacy-token\" fill=\"currentColor\" text-anchor=\"middle\" y=\"347.0\">\n",
       "    <tspan class=\"displacy-word\" fill=\"currentColor\" x=\"950\">symptomatic</tspan>\n",
       "    <tspan class=\"displacy-tag\" dy=\"2em\" fill=\"currentColor\" x=\"950\">ADJ</tspan>\n",
       "</text>\n",
       "\n",
       "<text class=\"displacy-token\" fill=\"currentColor\" text-anchor=\"middle\" y=\"347.0\">\n",
       "    <tspan class=\"displacy-word\" fill=\"currentColor\" x=\"1025\">bradycardia</tspan>\n",
       "    <tspan class=\"displacy-tag\" dy=\"2em\" fill=\"currentColor\" x=\"1025\">NOUN</tspan>\n",
       "</text>\n",
       "\n",
       "<text class=\"displacy-token\" fill=\"currentColor\" text-anchor=\"middle\" y=\"347.0\">\n",
       "    <tspan class=\"displacy-word\" fill=\"currentColor\" x=\"1100\">with</tspan>\n",
       "    <tspan class=\"displacy-tag\" dy=\"2em\" fill=\"currentColor\" x=\"1100\">ADP</tspan>\n",
       "</text>\n",
       "\n",
       "<text class=\"displacy-token\" fill=\"currentColor\" text-anchor=\"middle\" y=\"347.0\">\n",
       "    <tspan class=\"displacy-word\" fill=\"currentColor\" x=\"1175\">hypotension</tspan>\n",
       "    <tspan class=\"displacy-tag\" dy=\"2em\" fill=\"currentColor\" x=\"1175\">NOUN</tspan>\n",
       "</text>\n",
       "\n",
       "<text class=\"displacy-token\" fill=\"currentColor\" text-anchor=\"middle\" y=\"347.0\">\n",
       "    <tspan class=\"displacy-word\" fill=\"currentColor\" x=\"1250\">s/p</tspan>\n",
       "    <tspan class=\"displacy-tag\" dy=\"2em\" fill=\"currentColor\" x=\"1250\">ADJ</tspan>\n",
       "</text>\n",
       "\n",
       "<text class=\"displacy-token\" fill=\"currentColor\" text-anchor=\"middle\" y=\"347.0\">\n",
       "    <tspan class=\"displacy-word\" fill=\"currentColor\" x=\"1325\">temp</tspan>\n",
       "    <tspan class=\"displacy-tag\" dy=\"2em\" fill=\"currentColor\" x=\"1325\">NOUN</tspan>\n",
       "</text>\n",
       "\n",
       "<text class=\"displacy-token\" fill=\"currentColor\" text-anchor=\"middle\" y=\"347.0\">\n",
       "    <tspan class=\"displacy-word\" fill=\"currentColor\" x=\"1400\">pacer</tspan>\n",
       "    <tspan class=\"displacy-tag\" dy=\"2em\" fill=\"currentColor\" x=\"1400\">NOUN</tspan>\n",
       "</text>\n",
       "\n",
       "<text class=\"displacy-token\" fill=\"currentColor\" text-anchor=\"middle\" y=\"347.0\">\n",
       "    <tspan class=\"displacy-word\" fill=\"currentColor\" x=\"1475\">wire</tspan>\n",
       "    <tspan class=\"displacy-tag\" dy=\"2em\" fill=\"currentColor\" x=\"1475\">NOUN</tspan>\n",
       "</text>\n",
       "\n",
       "<text class=\"displacy-token\" fill=\"currentColor\" text-anchor=\"middle\" y=\"347.0\">\n",
       "    <tspan class=\"displacy-word\" fill=\"currentColor\" x=\"1550\">placement .</tspan>\n",
       "    <tspan class=\"displacy-tag\" dy=\"2em\" fill=\"currentColor\" x=\"1550\">NOUN</tspan>\n",
       "</text>\n",
       "\n",
       "<g class=\"displacy-arrow\">\n",
       "    <path class=\"displacy-arc\" id=\"arrow-1a6793327cfa43619dae9865ac098f5c-0-0\" stroke-width=\"2px\" d=\"M70,302.0 C70,227.0 170.0,227.0 170.0,302.0\" fill=\"none\" stroke=\"currentColor\"/>\n",
       "    <text dy=\"1.25em\" style=\"font-size: 0.8em; letter-spacing: 1px\">\n",
       "        <textPath xlink:href=\"#arrow-1a6793327cfa43619dae9865ac098f5c-0-0\" class=\"displacy-label\" startOffset=\"50%\" side=\"left\" fill=\"currentColor\" text-anchor=\"middle\">case</textPath>\n",
       "    </text>\n",
       "    <path class=\"displacy-arrowhead\" d=\"M70,304.0 L62,292.0 78,292.0\" fill=\"currentColor\"/>\n",
       "</g>\n",
       "\n",
       "<g class=\"displacy-arrow\">\n",
       "    <path class=\"displacy-arc\" id=\"arrow-1a6793327cfa43619dae9865ac098f5c-0-1\" stroke-width=\"2px\" d=\"M145,302.0 C145,264.5 165.0,264.5 165.0,302.0\" fill=\"none\" stroke=\"currentColor\"/>\n",
       "    <text dy=\"1.25em\" style=\"font-size: 0.8em; letter-spacing: 1px\">\n",
       "        <textPath xlink:href=\"#arrow-1a6793327cfa43619dae9865ac098f5c-0-1\" class=\"displacy-label\" startOffset=\"50%\" side=\"left\" fill=\"currentColor\" text-anchor=\"middle\">amod</textPath>\n",
       "    </text>\n",
       "    <path class=\"displacy-arrowhead\" d=\"M145,304.0 L137,292.0 153,292.0\" fill=\"currentColor\"/>\n",
       "</g>\n",
       "\n",
       "<g class=\"displacy-arrow\">\n",
       "    <path class=\"displacy-arc\" id=\"arrow-1a6793327cfa43619dae9865ac098f5c-0-2\" stroke-width=\"2px\" d=\"M220,302.0 C220,2.0 800.0,2.0 800.0,302.0\" fill=\"none\" stroke=\"currentColor\"/>\n",
       "    <text dy=\"1.25em\" style=\"font-size: 0.8em; letter-spacing: 1px\">\n",
       "        <textPath xlink:href=\"#arrow-1a6793327cfa43619dae9865ac098f5c-0-2\" class=\"displacy-label\" startOffset=\"50%\" side=\"left\" fill=\"currentColor\" text-anchor=\"middle\">nmod</textPath>\n",
       "    </text>\n",
       "    <path class=\"displacy-arrowhead\" d=\"M220,304.0 L212,292.0 228,292.0\" fill=\"currentColor\"/>\n",
       "</g>\n",
       "\n",
       "<g class=\"displacy-arrow\">\n",
       "    <path class=\"displacy-arc\" id=\"arrow-1a6793327cfa43619dae9865ac098f5c-0-3\" stroke-width=\"2px\" d=\"M220,302.0 C220,264.5 240.0,264.5 240.0,302.0\" fill=\"none\" stroke=\"currentColor\"/>\n",
       "    <text dy=\"1.25em\" style=\"font-size: 0.8em; letter-spacing: 1px\">\n",
       "        <textPath xlink:href=\"#arrow-1a6793327cfa43619dae9865ac098f5c-0-3\" class=\"displacy-label\" startOffset=\"50%\" side=\"left\" fill=\"currentColor\" text-anchor=\"middle\">appos</textPath>\n",
       "    </text>\n",
       "    <path class=\"displacy-arrowhead\" d=\"M240.0,304.0 L248.0,292.0 232.0,292.0\" fill=\"currentColor\"/>\n",
       "</g>\n",
       "\n",
       "<g class=\"displacy-arrow\">\n",
       "    <path class=\"displacy-arc\" id=\"arrow-1a6793327cfa43619dae9865ac098f5c-0-4\" stroke-width=\"2px\" d=\"M220,302.0 C220,227.0 320.0,227.0 320.0,302.0\" fill=\"none\" stroke=\"currentColor\"/>\n",
       "    <text dy=\"1.25em\" style=\"font-size: 0.8em; letter-spacing: 1px\">\n",
       "        <textPath xlink:href=\"#arrow-1a6793327cfa43619dae9865ac098f5c-0-4\" class=\"displacy-label\" startOffset=\"50%\" side=\"left\" fill=\"currentColor\" text-anchor=\"middle\">appos</textPath>\n",
       "    </text>\n",
       "    <path class=\"displacy-arrowhead\" d=\"M320.0,304.0 L328.0,292.0 312.0,292.0\" fill=\"currentColor\"/>\n",
       "</g>\n",
       "\n",
       "<g class=\"displacy-arrow\">\n",
       "    <path class=\"displacy-arc\" id=\"arrow-1a6793327cfa43619dae9865ac098f5c-0-5\" stroke-width=\"2px\" d=\"M445,302.0 C445,264.5 465.0,264.5 465.0,302.0\" fill=\"none\" stroke=\"currentColor\"/>\n",
       "    <text dy=\"1.25em\" style=\"font-size: 0.8em; letter-spacing: 1px\">\n",
       "        <textPath xlink:href=\"#arrow-1a6793327cfa43619dae9865ac098f5c-0-5\" class=\"displacy-label\" startOffset=\"50%\" side=\"left\" fill=\"currentColor\" text-anchor=\"middle\">amod</textPath>\n",
       "    </text>\n",
       "    <path class=\"displacy-arrowhead\" d=\"M445,304.0 L437,292.0 453,292.0\" fill=\"currentColor\"/>\n",
       "</g>\n",
       "\n",
       "<g class=\"displacy-arrow\">\n",
       "    <path class=\"displacy-arc\" id=\"arrow-1a6793327cfa43619dae9865ac098f5c-0-6\" stroke-width=\"2px\" d=\"M220,302.0 C220,152.0 480.0,152.0 480.0,302.0\" fill=\"none\" stroke=\"currentColor\"/>\n",
       "    <text dy=\"1.25em\" style=\"font-size: 0.8em; letter-spacing: 1px\">\n",
       "        <textPath xlink:href=\"#arrow-1a6793327cfa43619dae9865ac098f5c-0-6\" class=\"displacy-label\" startOffset=\"50%\" side=\"left\" fill=\"currentColor\" text-anchor=\"middle\">appos</textPath>\n",
       "    </text>\n",
       "    <path class=\"displacy-arrowhead\" d=\"M480.0,304.0 L488.0,292.0 472.0,292.0\" fill=\"currentColor\"/>\n",
       "</g>\n",
       "\n",
       "<g class=\"displacy-arrow\">\n",
       "    <path class=\"displacy-arc\" id=\"arrow-1a6793327cfa43619dae9865ac098f5c-0-7\" stroke-width=\"2px\" d=\"M595,302.0 C595,264.5 615.0,264.5 615.0,302.0\" fill=\"none\" stroke=\"currentColor\"/>\n",
       "    <text dy=\"1.25em\" style=\"font-size: 0.8em; letter-spacing: 1px\">\n",
       "        <textPath xlink:href=\"#arrow-1a6793327cfa43619dae9865ac098f5c-0-7\" class=\"displacy-label\" startOffset=\"50%\" side=\"left\" fill=\"currentColor\" text-anchor=\"middle\">case</textPath>\n",
       "    </text>\n",
       "    <path class=\"displacy-arrowhead\" d=\"M595,304.0 L587,292.0 603,292.0\" fill=\"currentColor\"/>\n",
       "</g>\n",
       "\n",
       "<g class=\"displacy-arrow\">\n",
       "    <path class=\"displacy-arc\" id=\"arrow-1a6793327cfa43619dae9865ac098f5c-0-8\" stroke-width=\"2px\" d=\"M670,302.0 C670,264.5 690.0,264.5 690.0,302.0\" fill=\"none\" stroke=\"currentColor\"/>\n",
       "    <text dy=\"1.25em\" style=\"font-size: 0.8em; letter-spacing: 1px\">\n",
       "        <textPath xlink:href=\"#arrow-1a6793327cfa43619dae9865ac098f5c-0-8\" class=\"displacy-label\" startOffset=\"50%\" side=\"left\" fill=\"currentColor\" text-anchor=\"middle\">compound</textPath>\n",
       "    </text>\n",
       "    <path class=\"displacy-arrowhead\" d=\"M670,304.0 L662,292.0 678,292.0\" fill=\"currentColor\"/>\n",
       "</g>\n",
       "\n",
       "<g class=\"displacy-arrow\">\n",
       "    <path class=\"displacy-arc\" id=\"arrow-1a6793327cfa43619dae9865ac098f5c-0-9\" stroke-width=\"2px\" d=\"M220,302.0 C220,39.5 720.0,39.5 720.0,302.0\" fill=\"none\" stroke=\"currentColor\"/>\n",
       "    <text dy=\"1.25em\" style=\"font-size: 0.8em; letter-spacing: 1px\">\n",
       "        <textPath xlink:href=\"#arrow-1a6793327cfa43619dae9865ac098f5c-0-9\" class=\"displacy-label\" startOffset=\"50%\" side=\"left\" fill=\"currentColor\" text-anchor=\"middle\">conj</textPath>\n",
       "    </text>\n",
       "    <path class=\"displacy-arrowhead\" d=\"M720.0,304.0 L728.0,292.0 712.0,292.0\" fill=\"currentColor\"/>\n",
       "</g>\n",
       "\n",
       "<g class=\"displacy-arrow\">\n",
       "    <path class=\"displacy-arc\" id=\"arrow-1a6793327cfa43619dae9865ac098f5c-0-10\" stroke-width=\"2px\" d=\"M895,302.0 C895,227.0 995.0,227.0 995.0,302.0\" fill=\"none\" stroke=\"currentColor\"/>\n",
       "    <text dy=\"1.25em\" style=\"font-size: 0.8em; letter-spacing: 1px\">\n",
       "        <textPath xlink:href=\"#arrow-1a6793327cfa43619dae9865ac098f5c-0-10\" class=\"displacy-label\" startOffset=\"50%\" side=\"left\" fill=\"currentColor\" text-anchor=\"middle\">case</textPath>\n",
       "    </text>\n",
       "    <path class=\"displacy-arrowhead\" d=\"M895,304.0 L887,292.0 903,292.0\" fill=\"currentColor\"/>\n",
       "</g>\n",
       "\n",
       "<g class=\"displacy-arrow\">\n",
       "    <path class=\"displacy-arc\" id=\"arrow-1a6793327cfa43619dae9865ac098f5c-0-11\" stroke-width=\"2px\" d=\"M970,302.0 C970,264.5 990.0,264.5 990.0,302.0\" fill=\"none\" stroke=\"currentColor\"/>\n",
       "    <text dy=\"1.25em\" style=\"font-size: 0.8em; letter-spacing: 1px\">\n",
       "        <textPath xlink:href=\"#arrow-1a6793327cfa43619dae9865ac098f5c-0-11\" class=\"displacy-label\" startOffset=\"50%\" side=\"left\" fill=\"currentColor\" text-anchor=\"middle\">amod</textPath>\n",
       "    </text>\n",
       "    <path class=\"displacy-arrowhead\" d=\"M970,304.0 L962,292.0 978,292.0\" fill=\"currentColor\"/>\n",
       "</g>\n",
       "\n",
       "<g class=\"displacy-arrow\">\n",
       "    <path class=\"displacy-arc\" id=\"arrow-1a6793327cfa43619dae9865ac098f5c-0-12\" stroke-width=\"2px\" d=\"M820,302.0 C820,189.5 1000.0,189.5 1000.0,302.0\" fill=\"none\" stroke=\"currentColor\"/>\n",
       "    <text dy=\"1.25em\" style=\"font-size: 0.8em; letter-spacing: 1px\">\n",
       "        <textPath xlink:href=\"#arrow-1a6793327cfa43619dae9865ac098f5c-0-12\" class=\"displacy-label\" startOffset=\"50%\" side=\"left\" fill=\"currentColor\" text-anchor=\"middle\">nmod</textPath>\n",
       "    </text>\n",
       "    <path class=\"displacy-arrowhead\" d=\"M1000.0,304.0 L1008.0,292.0 992.0,292.0\" fill=\"currentColor\"/>\n",
       "</g>\n",
       "\n",
       "<g class=\"displacy-arrow\">\n",
       "    <path class=\"displacy-arc\" id=\"arrow-1a6793327cfa43619dae9865ac098f5c-0-13\" stroke-width=\"2px\" d=\"M1120,302.0 C1120,77.0 1540.0,77.0 1540.0,302.0\" fill=\"none\" stroke=\"currentColor\"/>\n",
       "    <text dy=\"1.25em\" style=\"font-size: 0.8em; letter-spacing: 1px\">\n",
       "        <textPath xlink:href=\"#arrow-1a6793327cfa43619dae9865ac098f5c-0-13\" class=\"displacy-label\" startOffset=\"50%\" side=\"left\" fill=\"currentColor\" text-anchor=\"middle\">case</textPath>\n",
       "    </text>\n",
       "    <path class=\"displacy-arrowhead\" d=\"M1120,304.0 L1112,292.0 1128,292.0\" fill=\"currentColor\"/>\n",
       "</g>\n",
       "\n",
       "<g class=\"displacy-arrow\">\n",
       "    <path class=\"displacy-arc\" id=\"arrow-1a6793327cfa43619dae9865ac098f5c-0-14\" stroke-width=\"2px\" d=\"M1195,302.0 C1195,114.5 1535.0,114.5 1535.0,302.0\" fill=\"none\" stroke=\"currentColor\"/>\n",
       "    <text dy=\"1.25em\" style=\"font-size: 0.8em; letter-spacing: 1px\">\n",
       "        <textPath xlink:href=\"#arrow-1a6793327cfa43619dae9865ac098f5c-0-14\" class=\"displacy-label\" startOffset=\"50%\" side=\"left\" fill=\"currentColor\" text-anchor=\"middle\">compound</textPath>\n",
       "    </text>\n",
       "    <path class=\"displacy-arrowhead\" d=\"M1195,304.0 L1187,292.0 1203,292.0\" fill=\"currentColor\"/>\n",
       "</g>\n",
       "\n",
       "<g class=\"displacy-arrow\">\n",
       "    <path class=\"displacy-arc\" id=\"arrow-1a6793327cfa43619dae9865ac098f5c-0-15\" stroke-width=\"2px\" d=\"M1270,302.0 C1270,152.0 1530.0,152.0 1530.0,302.0\" fill=\"none\" stroke=\"currentColor\"/>\n",
       "    <text dy=\"1.25em\" style=\"font-size: 0.8em; letter-spacing: 1px\">\n",
       "        <textPath xlink:href=\"#arrow-1a6793327cfa43619dae9865ac098f5c-0-15\" class=\"displacy-label\" startOffset=\"50%\" side=\"left\" fill=\"currentColor\" text-anchor=\"middle\">amod</textPath>\n",
       "    </text>\n",
       "    <path class=\"displacy-arrowhead\" d=\"M1270,304.0 L1262,292.0 1278,292.0\" fill=\"currentColor\"/>\n",
       "</g>\n",
       "\n",
       "<g class=\"displacy-arrow\">\n",
       "    <path class=\"displacy-arc\" id=\"arrow-1a6793327cfa43619dae9865ac098f5c-0-16\" stroke-width=\"2px\" d=\"M1345,302.0 C1345,264.5 1365.0,264.5 1365.0,302.0\" fill=\"none\" stroke=\"currentColor\"/>\n",
       "    <text dy=\"1.25em\" style=\"font-size: 0.8em; letter-spacing: 1px\">\n",
       "        <textPath xlink:href=\"#arrow-1a6793327cfa43619dae9865ac098f5c-0-16\" class=\"displacy-label\" startOffset=\"50%\" side=\"left\" fill=\"currentColor\" text-anchor=\"middle\">compound</textPath>\n",
       "    </text>\n",
       "    <path class=\"displacy-arrowhead\" d=\"M1345,304.0 L1337,292.0 1353,292.0\" fill=\"currentColor\"/>\n",
       "</g>\n",
       "\n",
       "<g class=\"displacy-arrow\">\n",
       "    <path class=\"displacy-arc\" id=\"arrow-1a6793327cfa43619dae9865ac098f5c-0-17\" stroke-width=\"2px\" d=\"M1420,302.0 C1420,227.0 1520.0,227.0 1520.0,302.0\" fill=\"none\" stroke=\"currentColor\"/>\n",
       "    <text dy=\"1.25em\" style=\"font-size: 0.8em; letter-spacing: 1px\">\n",
       "        <textPath xlink:href=\"#arrow-1a6793327cfa43619dae9865ac098f5c-0-17\" class=\"displacy-label\" startOffset=\"50%\" side=\"left\" fill=\"currentColor\" text-anchor=\"middle\">compound</textPath>\n",
       "    </text>\n",
       "    <path class=\"displacy-arrowhead\" d=\"M1420,304.0 L1412,292.0 1428,292.0\" fill=\"currentColor\"/>\n",
       "</g>\n",
       "\n",
       "<g class=\"displacy-arrow\">\n",
       "    <path class=\"displacy-arc\" id=\"arrow-1a6793327cfa43619dae9865ac098f5c-0-18\" stroke-width=\"2px\" d=\"M1495,302.0 C1495,264.5 1515.0,264.5 1515.0,302.0\" fill=\"none\" stroke=\"currentColor\"/>\n",
       "    <text dy=\"1.25em\" style=\"font-size: 0.8em; letter-spacing: 1px\">\n",
       "        <textPath xlink:href=\"#arrow-1a6793327cfa43619dae9865ac098f5c-0-18\" class=\"displacy-label\" startOffset=\"50%\" side=\"left\" fill=\"currentColor\" text-anchor=\"middle\">compound</textPath>\n",
       "    </text>\n",
       "    <path class=\"displacy-arrowhead\" d=\"M1495,304.0 L1487,292.0 1503,292.0\" fill=\"currentColor\"/>\n",
       "</g>\n",
       "\n",
       "<g class=\"displacy-arrow\">\n",
       "    <path class=\"displacy-arc\" id=\"arrow-1a6793327cfa43619dae9865ac098f5c-0-19\" stroke-width=\"2px\" d=\"M1045,302.0 C1045,39.5 1545.0,39.5 1545.0,302.0\" fill=\"none\" stroke=\"currentColor\"/>\n",
       "    <text dy=\"1.25em\" style=\"font-size: 0.8em; letter-spacing: 1px\">\n",
       "        <textPath xlink:href=\"#arrow-1a6793327cfa43619dae9865ac098f5c-0-19\" class=\"displacy-label\" startOffset=\"50%\" side=\"left\" fill=\"currentColor\" text-anchor=\"middle\">nmod</textPath>\n",
       "    </text>\n",
       "    <path class=\"displacy-arrowhead\" d=\"M1545.0,304.0 L1553.0,292.0 1537.0,292.0\" fill=\"currentColor\"/>\n",
       "</g>\n",
       "</svg></span>"
      ],
      "text/plain": [
       "<IPython.core.display.HTML object>"
      ]
     },
     "metadata": {},
     "output_type": "display_data"
    }
   ],
   "source": [
    "displacy.render(nlp(\" \".join(vals)), style=\"dep\", jupyter=True, options={\n",
    "    # \"collapse_phrases\":True, \n",
    "    \"distance\":75\n",
    "})\n"
   ]
  },
  {
   "cell_type": "code",
   "execution_count": 102,
   "id": "6d15a2dd-0f8c-438d-875c-1c6d25e42a5a",
   "metadata": {},
   "outputs": [],
   "source": [
    "# for chunk in doc.noun_chunks:\n",
    "#     print(chunk.text, chunk.root.text, chunk.root.dep_,\n",
    "#                 chunk.root.head.text)    "
   ]
  },
  {
   "cell_type": "code",
   "execution_count": 30,
   "id": "22a00710-0207-42b3-9dac-177f935a89b2",
   "metadata": {},
   "outputs": [],
   "source": [
    "for token in processed_docs[1]:\n",
    "    if token.text == \"presenting\":\n",
    "        for descendant in token.subtree:\n",
    "            print(descendant)\n",
    "    #     assert subject is descendant or subject.is_ancestor(descendant)\n",
    "    #     print(descendant.text, descendant.dep_, descendant.n_lefts,\n",
    "    #             descendant.n_rights,)\n"
   ]
  },
  {
   "cell_type": "code",
   "execution_count": 31,
   "id": "08518d8a-d72e-4279-88c0-f33710914978",
   "metadata": {},
   "outputs": [
    {
     "ename": "NameError",
     "evalue": "name 'docs' is not defined",
     "output_type": "error",
     "traceback": [
      "\u001b[0;31m---------------------------------------------------------------------------\u001b[0m",
      "\u001b[0;31mNameError\u001b[0m                                 Traceback (most recent call last)",
      "Input \u001b[0;32mIn [31]\u001b[0m, in \u001b[0;36m<cell line: 1>\u001b[0;34m()\u001b[0m\n\u001b[0;32m----> 1\u001b[0m \u001b[38;5;28;01mfor\u001b[39;00m doc_string \u001b[38;5;129;01min\u001b[39;00m \u001b[43mdocs\u001b[49m:\n\u001b[1;32m      2\u001b[0m     doc \u001b[38;5;241m=\u001b[39m nlp(doc_string)\n\u001b[1;32m      3\u001b[0m     processed_docs\u001b[38;5;241m.\u001b[39mappend(doc)\n",
      "\u001b[0;31mNameError\u001b[0m: name 'docs' is not defined"
     ]
    }
   ],
   "source": [
    "for doc_string in docs:\n",
    "    doc = nlp(doc_string)\n",
    "    processed_docs.append(doc)\n",
    "    # print(\"Abbreviations:\", doc._.abbreviations)\n",
    "    # for abrv in doc._.abbreviations:\n",
    "    #     print(f\"{abrv} \\t ({abrv.start}, {abrv.end}) {abrv._.long_form}\")    \n",
    "    for token in doc:\n",
    "        if token.text in [\"presents\",\"presenting\",\"presented\", \"admitted\"]:\n",
    "            print([subtoken.text for subtoken in token.lefts])  # ['bright', 'red']\n",
    "            print([subtoken.text for subtoken in token.rights])  # ['on']\n",
    "\n"
   ]
  },
  {
   "cell_type": "code",
   "execution_count": 9,
   "id": "e7ca12eb-29c2-4ccb-a985-ad3fe8772b74",
   "metadata": {
    "scrolled": true,
    "tags": []
   },
   "outputs": [],
   "source": [
    "bio_clinicalbert_tokenizer = AutoTokenizer.from_pretrained(\"emilyalsentzer/Bio_ClinicalBERT\")"
   ]
  },
  {
   "cell_type": "code",
   "execution_count": 10,
   "id": "563c1b93-0e63-4369-bfe6-9325d0e24777",
   "metadata": {
    "tags": []
   },
   "outputs": [
    {
     "name": "stderr",
     "output_type": "stream",
     "text": [
      "Some weights of the model checkpoint at emilyalsentzer/Bio_ClinicalBERT were not used when initializing BertForSequenceClassification: ['cls.predictions.transform.dense.weight', 'cls.predictions.bias', 'cls.predictions.decoder.weight', 'cls.seq_relationship.bias', 'cls.predictions.transform.dense.bias', 'cls.seq_relationship.weight', 'cls.predictions.transform.LayerNorm.bias', 'cls.predictions.transform.LayerNorm.weight']\n",
      "- This IS expected if you are initializing BertForSequenceClassification from the checkpoint of a model trained on another task or with another architecture (e.g. initializing a BertForSequenceClassification model from a BertForPreTraining model).\n",
      "- This IS NOT expected if you are initializing BertForSequenceClassification from the checkpoint of a model that you expect to be exactly identical (initializing a BertForSequenceClassification model from a BertForSequenceClassification model).\n",
      "Some weights of BertForSequenceClassification were not initialized from the model checkpoint at emilyalsentzer/Bio_ClinicalBERT and are newly initialized: ['classifier.bias', 'classifier.weight']\n",
      "You should probably TRAIN this model on a down-stream task to be able to use it for predictions and inference.\n"
     ]
    }
   ],
   "source": [
    "bio_clinicalbert_model = AutoModelForSequenceClassification.from_pretrained(\"emilyalsentzer/Bio_ClinicalBERT\", num_labels=4)"
   ]
  },
  {
   "cell_type": "code",
   "execution_count": 11,
   "id": "85879177-02d1-46a2-bcce-3520a2f1c085",
   "metadata": {},
   "outputs": [],
   "source": [
    "training_args = TrainingArguments(output_dir=\"test_trainer\", \n",
    "                                  evaluation_strategy=\"epoch\",\n",
    "                                  \n",
    ")"
   ]
  },
  {
   "cell_type": "code",
   "execution_count": 12,
   "id": "69ccff92-9054-43ec-ad3f-5a5d8dc885c2",
   "metadata": {},
   "outputs": [],
   "source": [
    "import numpy as np\n",
    "from datasets import load_metric\n",
    "\n",
    "acc = load_metric(\"accuracy\")\n",
    "macrof1 = load_metric(\"f1\")"
   ]
  },
  {
   "cell_type": "code",
   "execution_count": 13,
   "id": "c6ed1610-ebd2-4090-90b8-e5a4c572f5a6",
   "metadata": {},
   "outputs": [],
   "source": [
    "def compute_metrics(eval_pred):\n",
    "    logits, labels = eval_pred\n",
    "    predictions = np.argmax(logits, axis=-1)\n",
    "    return {\"accuracy\":acc.compute(predictions=predictions, references=labels),\n",
    "            \"f1-macro\":macrof1.compute(predictions=predictions, references=labels, \n",
    "                                       average=\"macro\")}"
   ]
  },
  {
   "cell_type": "code",
   "execution_count": 14,
   "id": "0eb9607b-dbdb-4644-aa30-588cc74e3cf2",
   "metadata": {},
   "outputs": [],
   "source": [
    "def tokenize_function(examples):\n",
    "    return bio_clinicalbert_tokenizer(examples['Assessment'], examples['Plan Subsection'],\n",
    "                                      truncation=\"longest_first\",\n",
    "                                      max_length=512,\n",
    "                                      verbose=True)\n",
    "                    \n"
   ]
  },
  {
   "cell_type": "code",
   "execution_count": 15,
   "id": "6839c03e-6eee-4047-a5c8-db0d711a719d",
   "metadata": {},
   "outputs": [
    {
     "name": "stderr",
     "output_type": "stream",
     "text": [
      "Loading cached processed dataset at /home/vs428/.cache/huggingface/datasets/csv/default-b1948d86214b7517/0.0.0/433e0ccc46f9880962cc2b12065189766fbb2bee57a221866138fb9203c83519/cache-3942956ec260f7ce.arrow\n",
      "Loading cached processed dataset at /home/vs428/.cache/huggingface/datasets/csv/default-b1948d86214b7517/0.0.0/433e0ccc46f9880962cc2b12065189766fbb2bee57a221866138fb9203c83519/cache-951b17d1e7bb78b3.arrow\n"
     ]
    }
   ],
   "source": [
    "dataset = dataset.map(tokenize_function, batched=True)"
   ]
  },
  {
   "cell_type": "code",
   "execution_count": null,
   "id": "aab72838-2956-42b6-9757-8aa5b1b4ab11",
   "metadata": {},
   "outputs": [],
   "source": []
  },
  {
   "cell_type": "code",
   "execution_count": 16,
   "id": "e13b326e-f053-49ac-af07-430731ba92cd",
   "metadata": {
    "tags": []
   },
   "outputs": [
    {
     "data": {
      "text/plain": [
       "'[CLS] alteration in nutrition, arousal, attention, and cognition, impaired, balance, impaired, gait, impaired, knowledge, impaired, muscle performace, impaired, transfers, impaired, cholecystitis, acalculous, renal failure, end stage ( end stage renal disease, esrd ), [ * * last name 121 * * ] problem - enter description in comments, altered mental status ( not delirium ) assessment and plan : 78yo m with esrd w / acute cholecystitis s / p perc ccy now w / mdr e. coli infected biliary fluid, now new subacute stroke [SEP] neurologic : poor ms d / t cva on coumadin / afib vs. infection. rect in few days. improving. no narcotics / bzds. b carotid stenosis < 40 %. tte w / o thrombus. [SEP]'"
      ]
     },
     "execution_count": 16,
     "metadata": {},
     "output_type": "execute_result"
    }
   ],
   "source": [
    "bio_clinicalbert_tokenizer.decode(dataset['valid'][52]['input_ids'])"
   ]
  },
  {
   "cell_type": "code",
   "execution_count": 17,
   "id": "7112cb7e-ea07-45ea-bafd-a449c2f0d6f1",
   "metadata": {},
   "outputs": [],
   "source": [
    "dataset['train'].set_format(type='torch', columns=['input_ids', 'token_type_ids', 'attention_mask', 'label'])\n",
    "dataset['valid'].set_format(type='torch', columns=['input_ids', 'token_type_ids', 'attention_mask', 'label'])"
   ]
  },
  {
   "cell_type": "code",
   "execution_count": null,
   "id": "cc56a9b2-2952-40e0-abca-3053634a3b0f",
   "metadata": {},
   "outputs": [],
   "source": []
  },
  {
   "cell_type": "code",
   "execution_count": null,
   "id": "3d2ade4c-0c45-4e44-ab3b-b8fde4d355ea",
   "metadata": {},
   "outputs": [],
   "source": []
  },
  {
   "cell_type": "code",
   "execution_count": null,
   "id": "9a23ec32-f185-4b65-b592-a1a71628c8e8",
   "metadata": {},
   "outputs": [],
   "source": []
  },
  {
   "cell_type": "code",
   "execution_count": 18,
   "id": "088ad767-bf58-4c10-a6a8-6c1f896fefd0",
   "metadata": {},
   "outputs": [],
   "source": [
    "data_collator = DataCollatorWithPadding(bio_clinicalbert_tokenizer,\n",
    "                                        max_length=512, \n",
    "                                        padding=\"max_length\",\n",
    "                                        return_tensors=\"pt\" )"
   ]
  },
  {
   "cell_type": "code",
   "execution_count": null,
   "id": "500ea644",
   "metadata": {},
   "outputs": [],
   "source": []
  },
  {
   "cell_type": "code",
   "execution_count": 19,
   "id": "4bb5d832-22f1-4e47-a490-7d47e0b8f86d",
   "metadata": {},
   "outputs": [],
   "source": [
    "trainer = Trainer(\n",
    "    model=bio_clinicalbert_model,\n",
    "    args=training_args,\n",
    "    train_dataset=dataset['train'],\n",
    "    eval_dataset=dataset['valid'],\n",
    "    compute_metrics=compute_metrics,\n",
    "    data_collator=data_collator,\n",
    ")"
   ]
  },
  {
   "cell_type": "code",
   "execution_count": 20,
   "id": "4dee866e-8a8e-4080-b979-5e507517d7f1",
   "metadata": {},
   "outputs": [
    {
     "name": "stderr",
     "output_type": "stream",
     "text": [
      "The following columns in the training set  don't have a corresponding argument in `BertForSequenceClassification.forward` and have been ignored: Assessment, ROW ID, HADM ID, Plan Subsection.\n",
      "/gpfs/ysm/project/rtaylor/vs428/conda_envs/myenv/lib/python3.10/site-packages/transformers/optimization.py:306: FutureWarning: This implementation of AdamW is deprecated and will be removed in a future version. Use thePyTorch implementation torch.optim.AdamW instead, or set `no_deprecation_warning=True` to disable this warning\n",
      "  warnings.warn(\n",
      "***** Running training *****\n",
      "  Num examples = 4633\n",
      "  Num Epochs = 3\n",
      "  Instantaneous batch size per device = 8\n",
      "  Total train batch size (w. parallel, distributed & accumulation) = 8\n",
      "  Gradient Accumulation steps = 1\n",
      "  Total optimization steps = 1740\n"
     ]
    },
    {
     "data": {
      "text/html": [
       "\n",
       "    <div>\n",
       "      \n",
       "      <progress value='1740' max='1740' style='width:300px; height:20px; vertical-align: middle;'></progress>\n",
       "      [1740/1740 13:40, Epoch 3/3]\n",
       "    </div>\n",
       "    <table border=\"1\" class=\"dataframe\">\n",
       "  <thead>\n",
       " <tr style=\"text-align: left;\">\n",
       "      <th>Epoch</th>\n",
       "      <th>Training Loss</th>\n",
       "      <th>Validation Loss</th>\n",
       "      <th>Accuracy</th>\n",
       "      <th>F1-macro</th>\n",
       "    </tr>\n",
       "  </thead>\n",
       "  <tbody>\n",
       "    <tr>\n",
       "      <td>1</td>\n",
       "      <td>0.715300</td>\n",
       "      <td>0.597065</td>\n",
       "      <td>{'accuracy': 0.7487437185929648}</td>\n",
       "      <td>{'f1': 0.766732642338792}</td>\n",
       "    </tr>\n",
       "    <tr>\n",
       "      <td>2</td>\n",
       "      <td>0.457600</td>\n",
       "      <td>0.672382</td>\n",
       "      <td>{'accuracy': 0.7805695142378559}</td>\n",
       "      <td>{'f1': 0.7940059075142675}</td>\n",
       "    </tr>\n",
       "    <tr>\n",
       "      <td>3</td>\n",
       "      <td>0.301700</td>\n",
       "      <td>0.918875</td>\n",
       "      <td>{'accuracy': 0.7671691792294807}</td>\n",
       "      <td>{'f1': 0.7860078751767712}</td>\n",
       "    </tr>\n",
       "  </tbody>\n",
       "</table><p>"
      ],
      "text/plain": [
       "<IPython.core.display.HTML object>"
      ]
     },
     "metadata": {},
     "output_type": "display_data"
    },
    {
     "name": "stderr",
     "output_type": "stream",
     "text": [
      "Saving model checkpoint to test_trainer/checkpoint-500\n",
      "Configuration saved in test_trainer/checkpoint-500/config.json\n",
      "Model weights saved in test_trainer/checkpoint-500/pytorch_model.bin\n",
      "The following columns in the evaluation set  don't have a corresponding argument in `BertForSequenceClassification.forward` and have been ignored: Assessment, ROW ID, HADM ID, Plan Subsection.\n",
      "***** Running Evaluation *****\n",
      "  Num examples = 597\n",
      "  Batch size = 8\n",
      "Saving model checkpoint to test_trainer/checkpoint-1000\n",
      "Configuration saved in test_trainer/checkpoint-1000/config.json\n",
      "Model weights saved in test_trainer/checkpoint-1000/pytorch_model.bin\n",
      "The following columns in the evaluation set  don't have a corresponding argument in `BertForSequenceClassification.forward` and have been ignored: Assessment, ROW ID, HADM ID, Plan Subsection.\n",
      "***** Running Evaluation *****\n",
      "  Num examples = 597\n",
      "  Batch size = 8\n",
      "Saving model checkpoint to test_trainer/checkpoint-1500\n",
      "Configuration saved in test_trainer/checkpoint-1500/config.json\n",
      "Model weights saved in test_trainer/checkpoint-1500/pytorch_model.bin\n",
      "The following columns in the evaluation set  don't have a corresponding argument in `BertForSequenceClassification.forward` and have been ignored: Assessment, ROW ID, HADM ID, Plan Subsection.\n",
      "***** Running Evaluation *****\n",
      "  Num examples = 597\n",
      "  Batch size = 8\n",
      "\n",
      "\n",
      "Training completed. Do not forget to share your model on huggingface.co/models =)\n",
      "\n",
      "\n"
     ]
    },
    {
     "data": {
      "text/plain": [
       "TrainOutput(global_step=1740, training_loss=0.45485844447694973, metrics={'train_runtime': 821.007, 'train_samples_per_second': 16.929, 'train_steps_per_second': 2.119, 'total_flos': 3657046227554304.0, 'train_loss': 0.45485844447694973, 'epoch': 3.0})"
      ]
     },
     "execution_count": 20,
     "metadata": {},
     "output_type": "execute_result"
    }
   ],
   "source": [
    "trainer.train()"
   ]
  },
  {
   "cell_type": "code",
   "execution_count": null,
   "id": "8eeed054-c6f7-4f8f-bdff-5221ab02fb5f",
   "metadata": {},
   "outputs": [],
   "source": []
  },
  {
   "cell_type": "code",
   "execution_count": null,
   "id": "3ecbb1da-bf41-4bbf-9ab6-929508d23734",
   "metadata": {},
   "outputs": [],
   "source": []
  },
  {
   "cell_type": "code",
   "execution_count": null,
   "id": "3b1bd5fe-4f36-40c1-9489-e090d13459f0",
   "metadata": {},
   "outputs": [],
   "source": []
  },
  {
   "cell_type": "code",
   "execution_count": null,
   "id": "b1db028a-d720-4d6a-90f7-68496e30fc5e",
   "metadata": {},
   "outputs": [],
   "source": []
  },
  {
   "cell_type": "code",
   "execution_count": null,
   "id": "185d3c60-7baa-4ad1-99f7-5ba932659495",
   "metadata": {},
   "outputs": [],
   "source": []
  },
  {
   "cell_type": "code",
   "execution_count": null,
   "id": "fad57318-b1ef-4572-867c-ef124cdce434",
   "metadata": {},
   "outputs": [],
   "source": []
  },
  {
   "cell_type": "code",
   "execution_count": null,
   "id": "3eee59e8",
   "metadata": {},
   "outputs": [],
   "source": []
  },
  {
   "cell_type": "code",
   "execution_count": null,
   "id": "1e99c012",
   "metadata": {},
   "outputs": [],
   "source": []
  },
  {
   "cell_type": "code",
   "execution_count": null,
   "id": "69710366",
   "metadata": {},
   "outputs": [],
   "source": []
  }
 ],
 "metadata": {
  "kernelspec": {
   "display_name": "Python 3 (ipykernel)",
   "language": "python",
   "name": "python3"
  },
  "language_info": {
   "codemirror_mode": {
    "name": "ipython",
    "version": 3
   },
   "file_extension": ".py",
   "mimetype": "text/x-python",
   "name": "python",
   "nbconvert_exporter": "python",
   "pygments_lexer": "ipython3",
   "version": "3.10.4"
  },
  "latex_envs": {
   "LaTeX_envs_menu_present": true,
   "autoclose": false,
   "autocomplete": true,
   "bibliofile": "biblio.bib",
   "cite_by": "apalike",
   "current_citInitial": 1,
   "eqLabelWithNumbers": true,
   "eqNumInitial": 1,
   "hotkeys": {
    "equation": "Ctrl-E",
    "itemize": "Ctrl-I"
   },
   "labels_anchors": false,
   "latex_user_defs": false,
   "report_style_numbering": false,
   "user_envs_cfg": false
  },
  "toc": {
   "base_numbering": 1,
   "nav_menu": {},
   "number_sections": true,
   "sideBar": true,
   "skip_h1_title": false,
   "title_cell": "Table of Contents",
   "title_sidebar": "Contents",
   "toc_cell": false,
   "toc_position": {},
   "toc_section_display": true,
   "toc_window_display": false
  }
 },
 "nbformat": 4,
 "nbformat_minor": 5
}
