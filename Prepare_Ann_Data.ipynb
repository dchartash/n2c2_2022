{
 "cells": [
  {
   "cell_type": "code",
   "execution_count": 1,
   "id": "df586c17-0fea-4df2-8dd0-3886b5ddf90c",
   "metadata": {},
   "outputs": [],
   "source": [
    "import jsonlines \n",
    "import pandas as pd\n",
    "from collections import Counter, defaultdict"
   ]
  },
  {
   "cell_type": "code",
   "execution_count": 2,
   "id": "634e1907-8512-4d63-99b5-05ddba43176e",
   "metadata": {},
   "outputs": [],
   "source": [
    "d_anns = []\n",
    "with jsonlines.open(\"/home/vs428/Downloads/n2c2_SO_annotation-dc2249.jsonl\") as reader:\n",
    "    d_anns = [line for line in reader]\n",
    "    \n",
    "a_anns = []\n",
    "with jsonlines.open(\"/home/vs428/Downloads/n2c2_SO_annotation-asg64.jsonl\") as reader:\n",
    "    a_anns = [line for line in reader]    \n",
    "    \n",
    "gold_anns = []\n",
    "with jsonlines.open(\"/home/vs428/Downloads/n2c2_SO_annotation_GOLD.jsonl\") as reader:\n",
    "    gold_anns = [line for line in reader]        "
   ]
  },
  {
   "cell_type": "code",
   "execution_count": 3,
   "id": "f84128ab-d382-4ff3-b6b5-08ffdf1161b4",
   "metadata": {},
   "outputs": [
    {
     "data": {
      "text/plain": [
       "(192, 142, 126)"
      ]
     },
     "execution_count": 3,
     "metadata": {},
     "output_type": "execute_result"
    }
   ],
   "source": [
    "len(d_anns), len(a_anns), len(gold_anns)"
   ]
  },
  {
   "cell_type": "code",
   "execution_count": 4,
   "id": "7fbddddb-7883-4df4-8ece-faad75fae6db",
   "metadata": {},
   "outputs": [],
   "source": [
    "d_hashes = set([ann['_input_hash'] for ann in d_anns])\n",
    "a_hashes = set([ann['_input_hash'] for ann in a_anns])\n",
    "gold_hashes = set([ann['_input_hash'] for ann in gold_anns])"
   ]
  },
  {
   "cell_type": "code",
   "execution_count": 5,
   "id": "be213924-ea0c-4a28-9165-3b7f5bdd67e5",
   "metadata": {},
   "outputs": [
    {
     "data": {
      "text/plain": [
       "(192, 142, 126)"
      ]
     },
     "execution_count": 5,
     "metadata": {},
     "output_type": "execute_result"
    }
   ],
   "source": [
    "len(d_hashes), len(a_hashes), len(gold_hashes)"
   ]
  },
  {
   "cell_type": "code",
   "execution_count": 6,
   "id": "ba9197cb-91be-4345-bedd-6378ec41895c",
   "metadata": {},
   "outputs": [],
   "source": [
    "non_gold_hashes = d_hashes.intersection(a_hashes) - gold_hashes"
   ]
  },
  {
   "cell_type": "code",
   "execution_count": 7,
   "id": "ded52d35-e7c6-4749-9dc9-688e0ec28911",
   "metadata": {},
   "outputs": [
    {
     "data": {
      "text/plain": [
       "16"
      ]
     },
     "execution_count": 7,
     "metadata": {},
     "output_type": "execute_result"
    }
   ],
   "source": [
    "len(non_gold_hashes)"
   ]
  },
  {
   "cell_type": "code",
   "execution_count": 8,
   "id": "90de4402-9a49-44f6-8bac-158790a1283e",
   "metadata": {},
   "outputs": [],
   "source": [
    "non_gold_anns_by_hash = defaultdict(list)\n",
    "for ann in a_anns:\n",
    "    if ann['_input_hash'] in non_gold_hashes:\n",
    "        non_gold_anns_by_hash[ann['_input_hash']].append(ann)\n",
    "for ann in d_anns:\n",
    "    if ann['_input_hash'] in non_gold_hashes:    \n",
    "        non_gold_anns_by_hash[ann['_input_hash']].append(ann)    "
   ]
  },
  {
   "cell_type": "code",
   "execution_count": 9,
   "id": "e57524bf-b15a-4bb6-8240-f3721e9db99e",
   "metadata": {},
   "outputs": [],
   "source": [
    "non_gold_anns = {hash_term:anns for hash_term, anns in non_gold_anns_by_hash.items() if len(anns) == 2}"
   ]
  },
  {
   "cell_type": "code",
   "execution_count": null,
   "id": "a240ea34-0861-45d5-b9a8-b2795423d7a6",
   "metadata": {},
   "outputs": [],
   "source": [
    "agreed_non_gold_anns = []"
   ]
  },
  {
   "cell_type": "code",
   "execution_count": null,
   "id": "62491ba9-4629-4005-b797-e786d7774b30",
   "metadata": {},
   "outputs": [],
   "source": [
    "counts = Counter()\n",
    "\n",
    "for hash_val, anns in non_gold_anns.items():\n",
    "    if anns[0]['spans'] == anns[1]['spans']:\n",
    "        counts['overlap'] += 1\n",
    "        agreed_non_gold_anns.append(anns[0])\n",
    "    else:\n",
    "        # print(anns[0]['spans'])\n",
    "        # print(anns[1]['spans'])  \n",
    "        # print(\"\\n\\n-------\\n\\n\")\n",
    "        counts['no_overlap'] += 1"
   ]
  },
  {
   "cell_type": "code",
   "execution_count": null,
   "id": "7b797091-83bd-45ff-b07a-d91de269c3b7",
   "metadata": {},
   "outputs": [],
   "source": [
    "final_training_anns = gold_anns + agreed_non_gold_anns"
   ]
  },
  {
   "cell_type": "code",
   "execution_count": null,
   "id": "453e67bd-d985-493e-a576-f9dfad30720e",
   "metadata": {},
   "outputs": [],
   "source": [
    "f\"total number of anns: {len(final_training_anns)}\""
   ]
  },
  {
   "cell_type": "code",
   "execution_count": null,
   "id": "cbef4c17-a2d5-489c-983f-6503cfd95bef",
   "metadata": {},
   "outputs": [],
   "source": [
    "with jsonlines.open(\"/home/vs428/Downloads/n2c2_SO_annotation_GOLD_MERGED.jsonl\", \"w\") as writer:\n",
    "    writer.write_all(final_training_anns)\n"
   ]
  },
  {
   "cell_type": "code",
   "execution_count": null,
   "id": "07623022-eb0e-475d-a5fb-c384a567e5c1",
   "metadata": {},
   "outputs": [],
   "source": [
    "from transformers import trainer_utils"
   ]
  },
  {
   "cell_type": "code",
   "execution_count": null,
   "id": "21ddab2f-c605-4db2-8228-ebb114bb90d1",
   "metadata": {},
   "outputs": [],
   "source": []
  },
  {
   "cell_type": "code",
   "execution_count": null,
   "id": "c0ac42e2-2605-4f8a-b624-ae2145dc43c7",
   "metadata": {},
   "outputs": [],
   "source": []
  }
 ],
 "metadata": {
  "kernelspec": {
   "display_name": "Python 3 (ipykernel)",
   "language": "python",
   "name": "python3"
  },
  "language_info": {
   "codemirror_mode": {
    "name": "ipython",
    "version": 3
   },
   "file_extension": ".py",
   "mimetype": "text/x-python",
   "name": "python",
   "nbconvert_exporter": "python",
   "pygments_lexer": "ipython3",
   "version": "3.9.13"
  }
 },
 "nbformat": 4,
 "nbformat_minor": 5
}
