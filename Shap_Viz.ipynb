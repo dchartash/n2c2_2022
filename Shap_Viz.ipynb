{
 "cells": [
  {
   "cell_type": "code",
   "execution_count": 1,
   "id": "e411994c-978c-4458-bd02-0c6e557c76cc",
   "metadata": {},
   "outputs": [],
   "source": [
    "from functools import partial"
   ]
  },
  {
   "cell_type": "code",
   "execution_count": 2,
   "id": "877c1eca-561c-476f-b2eb-02a823106693",
   "metadata": {},
   "outputs": [
    {
     "name": "stderr",
     "output_type": "stream",
     "text": [
      "2023-01-06 05:53:34.541243: I tensorflow/core/platform/cpu_feature_guard.cc:193] This TensorFlow binary is optimized with oneAPI Deep Neural Network Library (oneDNN) to use the following CPU instructions in performance-critical operations:  AVX2 FMA\n",
      "To enable them in other operations, rebuild TensorFlow with the appropriate compiler flags.\n",
      "2023-01-06 05:53:52.587561: W tensorflow/compiler/xla/stream_executor/platform/default/dso_loader.cc:64] Could not load dynamic library 'libnvinfer.so.7'; dlerror: libnvinfer.so.7: cannot open shared object file: No such file or directory\n",
      "2023-01-06 05:53:52.587727: W tensorflow/compiler/xla/stream_executor/platform/default/dso_loader.cc:64] Could not load dynamic library 'libnvinfer_plugin.so.7'; dlerror: libnvinfer_plugin.so.7: cannot open shared object file: No such file or directory\n",
      "2023-01-06 05:53:52.587740: W tensorflow/compiler/tf2tensorrt/utils/py_utils.cc:38] TF-TRT Warning: Cannot dlopen some TensorRT libraries. If you would like to use Nvidia GPU with TensorRT, please make sure the missing libraries mentioned above are installed properly.\n"
     ]
    }
   ],
   "source": [
    "\n",
    "import pandas as pd\n",
    "import numpy as np\n",
    "import spacy\n",
    "\n",
    "import shap"
   ]
  },
  {
   "cell_type": "code",
   "execution_count": 3,
   "id": "efdf4532-c3d5-4527-bb5e-4b7641da3b1a",
   "metadata": {},
   "outputs": [],
   "source": [
    "import pyarrow"
   ]
  },
  {
   "cell_type": "code",
   "execution_count": 4,
   "id": "4cc2d31e-c191-491f-9b67-2243663693a3",
   "metadata": {},
   "outputs": [
    {
     "data": {
      "text/plain": [
       "'7.0.0'"
      ]
     },
     "execution_count": 4,
     "metadata": {},
     "output_type": "execute_result"
    }
   ],
   "source": [
    "pyarrow.__version__"
   ]
  },
  {
   "cell_type": "code",
   "execution_count": 5,
   "id": "18845392-0826-456b-ad38-6937a62798c8",
   "metadata": {},
   "outputs": [],
   "source": [
    "\n",
    "import transformers\n",
    "from transformers import AutoTokenizer, AutoModel, AutoModelForMaskedLM, AutoModelForSequenceClassification\n",
    "from transformers import GPT2Tokenizer, GPTNeoForSequenceClassification\n",
    "from transformers import DataCollatorWithPadding\n",
    "from transformers import logging\n",
    "from transformers import TrainingArguments, Trainer\n",
    "\n",
    "from transformers import RobertaForSequenceClassification, BertForSequenceClassification\n"
   ]
  },
  {
   "cell_type": "code",
   "execution_count": 6,
   "id": "eaa1ef2f-df59-46ac-bd70-0a9055b66ad3",
   "metadata": {},
   "outputs": [],
   "source": [
    "from datasets import load_dataset\n",
    "from datasets import Value, ClassLabel, Features, DatasetDict\n",
    "from datasets import load_metric\n",
    "import evaluate"
   ]
  },
  {
   "cell_type": "code",
   "execution_count": 7,
   "id": "d53ceaa3-ceb7-4245-aa0e-1abdee4e9e7a",
   "metadata": {},
   "outputs": [],
   "source": [
    "from omegaconf import DictConfig, OmegaConf\n",
    "import hydra"
   ]
  },
  {
   "cell_type": "code",
   "execution_count": 8,
   "id": "755929b7-c318-436f-8925-fee85c90b266",
   "metadata": {},
   "outputs": [],
   "source": [
    "from preprocessing.cleaning_utils import *\n",
    "from train_utils.metrics import *\n",
    "from train_utils.plot_utils import *\n",
    "from train_utils.custom_trainer import *"
   ]
  },
  {
   "cell_type": "markdown",
   "id": "ec596ae9-3f08-4bba-aa82-9c4345d8e8cc",
   "metadata": {},
   "source": [
    "\n",
    "# Load in Models"
   ]
  },
  {
   "cell_type": "code",
   "execution_count": 9,
   "id": "af514721-06d2-461e-b67f-a38a14f9b9b5",
   "metadata": {},
   "outputs": [],
   "source": [
    "base_model_path = \"/home/vs428/project/models/RoBERTa-large-PM-M3-Voc/RoBERTa-large-PM-M3-Voc-hf\"\n",
    "model_path = \"/home/vs428/project/n2c2_models/roberta_large_ner_so/roberta_large_ner_so/outputs/roberta_large/checkpoint-384/\"\n",
    "# model_path = \"/home/vs428/project/n2c2_models/roberta_large_raw/outputs/roberta_large/checkpoint-867\""
   ]
  },
  {
   "cell_type": "code",
   "execution_count": 10,
   "id": "8f53d862-16fe-4625-854d-c0b9553118bc",
   "metadata": {},
   "outputs": [
    {
     "name": "stderr",
     "output_type": "stream",
     "text": [
      "Special tokens have been added in the vocabulary, make sure the associated word embeddings are fine-tuned or trained.\n",
      "Special tokens have been added in the vocabulary, make sure the associated word embeddings are fine-tuned or trained.\n"
     ]
    }
   ],
   "source": [
    "tokenizer = transformers.AutoTokenizer.from_pretrained(base_model_path,)"
   ]
  },
  {
   "cell_type": "code",
   "execution_count": 11,
   "id": "dddcecaa-4f48-4efc-b0f2-3b0a0a389be2",
   "metadata": {},
   "outputs": [
    {
     "data": {
      "text/plain": [
       "PreTrainedTokenizerFast(name_or_path='/home/vs428/project/models/RoBERTa-large-PM-M3-Voc/RoBERTa-large-PM-M3-Voc-hf', vocab_size=50000, model_max_len=1000000000000000019884624838656, is_fast=True, padding_side='right', truncation_side='right', special_tokens={'bos_token': AddedToken(\"<s>\", rstrip=False, lstrip=False, single_word=False, normalized=True), 'eos_token': AddedToken(\"</s>\", rstrip=False, lstrip=False, single_word=False, normalized=True), 'unk_token': AddedToken(\"<unk>\", rstrip=False, lstrip=False, single_word=False, normalized=True), 'sep_token': AddedToken(\"</s>\", rstrip=False, lstrip=False, single_word=False, normalized=True), 'pad_token': AddedToken(\"<pad>\", rstrip=False, lstrip=False, single_word=False, normalized=True), 'cls_token': AddedToken(\"<s>\", rstrip=False, lstrip=False, single_word=False, normalized=True), 'mask_token': AddedToken(\"<mask>\", rstrip=False, lstrip=True, single_word=False, normalized=True)})"
      ]
     },
     "execution_count": 11,
     "metadata": {},
     "output_type": "execute_result"
    }
   ],
   "source": [
    "tokenizer"
   ]
  },
  {
   "cell_type": "code",
   "execution_count": 12,
   "id": "5c86fe29-5688-4caa-9931-bb92946a6480",
   "metadata": {},
   "outputs": [],
   "source": [
    "model = transformers.AutoModelForSequenceClassification.from_pretrained(model_path, num_labels=4).cuda()"
   ]
  },
  {
   "cell_type": "markdown",
   "id": "32e40493-4ac1-4a4e-af48-3574a6e733e5",
   "metadata": {},
   "source": [
    "# Read in Dev Data"
   ]
  },
  {
   "cell_type": "code",
   "execution_count": 13,
   "id": "ea01476e-031e-4e38-8af8-c82234a6dcf5",
   "metadata": {},
   "outputs": [],
   "source": [
    "data_path = \"/home/vs428/project/n2c2/2022/Data/dev_so.csv\"\n",
    "spacy_assessment = \"/home/vs428/project/n2c2_spacy_models/assessment_model_v2/model-best\"\n",
    "spacy_plan = \"/home/vs428/project/n2c2_spacy_models/plan_subsection_model_v3/model-best\"\n",
    "spacy_so = \"/home/vs428/project/n2c2_spacy_models/so_model/model-best\"\n"
   ]
  },
  {
   "cell_type": "code",
   "execution_count": 14,
   "id": "524c33e1-71f8-426c-a798-5e52cb486be9",
   "metadata": {},
   "outputs": [],
   "source": [
    "dev = pd.read_csv(data_path)"
   ]
  },
  {
   "cell_type": "code",
   "execution_count": 15,
   "id": "3f1cba90-f585-42cd-84f7-29f550ec823b",
   "metadata": {},
   "outputs": [
    {
     "data": {
      "text/html": [
       "<div>\n",
       "<style scoped>\n",
       "    .dataframe tbody tr th:only-of-type {\n",
       "        vertical-align: middle;\n",
       "    }\n",
       "\n",
       "    .dataframe tbody tr th {\n",
       "        vertical-align: top;\n",
       "    }\n",
       "\n",
       "    .dataframe thead th {\n",
       "        text-align: right;\n",
       "    }\n",
       "</style>\n",
       "<table border=\"1\" class=\"dataframe\">\n",
       "  <thead>\n",
       "    <tr style=\"text-align: right;\">\n",
       "      <th></th>\n",
       "      <th>ROW ID</th>\n",
       "      <th>HADM ID</th>\n",
       "      <th>Assessment</th>\n",
       "      <th>Plan Subsection</th>\n",
       "      <th>Relation</th>\n",
       "      <th>HADM_ID</th>\n",
       "      <th>S</th>\n",
       "      <th>O</th>\n",
       "    </tr>\n",
       "  </thead>\n",
       "  <tbody>\n",
       "    <tr>\n",
       "      <th>0</th>\n",
       "      <td>576487</td>\n",
       "      <td>112508</td>\n",
       "      <td>A 60 year old woman with recurrent ALL with CN...</td>\n",
       "      <td>CNS VRE:  S/P Omaya removal, on linezolid for ...</td>\n",
       "      <td>Direct</td>\n",
       "      <td>112508</td>\n",
       "      <td>NGT placed/TF started  Femoral line changed o...</td>\n",
       "      <td>Last dose of Antibiotics:  Meropenem - [**2176...</td>\n",
       "    </tr>\n",
       "    <tr>\n",
       "      <th>1</th>\n",
       "      <td>576487</td>\n",
       "      <td>112508</td>\n",
       "      <td>A 60 year old woman with recurrent ALL with CN...</td>\n",
       "      <td>LEUKOCYTOSIS:   GCSF vs culture negative bacte...</td>\n",
       "      <td>Direct</td>\n",
       "      <td>112508</td>\n",
       "      <td>NGT placed/TF started  Femoral line changed o...</td>\n",
       "      <td>Last dose of Antibiotics:  Meropenem - [**2176...</td>\n",
       "    </tr>\n",
       "    <tr>\n",
       "      <th>2</th>\n",
       "      <td>576487</td>\n",
       "      <td>112508</td>\n",
       "      <td>A 60 year old woman with recurrent ALL with CN...</td>\n",
       "      <td>ALL:  Currently day +43 s/p hyper-CVAD.  She i...</td>\n",
       "      <td>Indirect</td>\n",
       "      <td>112508</td>\n",
       "      <td>NGT placed/TF started  Femoral line changed o...</td>\n",
       "      <td>Last dose of Antibiotics:  Meropenem - [**2176...</td>\n",
       "    </tr>\n",
       "    <tr>\n",
       "      <th>3</th>\n",
       "      <td>576487</td>\n",
       "      <td>112508</td>\n",
       "      <td>A 60 year old woman with recurrent ALL with CN...</td>\n",
       "      <td>DRUG RASH:  Appears improved today.  Evidence ...</td>\n",
       "      <td>Indirect</td>\n",
       "      <td>112508</td>\n",
       "      <td>NGT placed/TF started  Femoral line changed o...</td>\n",
       "      <td>Last dose of Antibiotics:  Meropenem - [**2176...</td>\n",
       "    </tr>\n",
       "    <tr>\n",
       "      <th>4</th>\n",
       "      <td>576487</td>\n",
       "      <td>112508</td>\n",
       "      <td>A 60 year old woman with recurrent ALL with CN...</td>\n",
       "      <td>ELEVATED LIVER ENZYMES:  Consistent with shock...</td>\n",
       "      <td>Neither</td>\n",
       "      <td>112508</td>\n",
       "      <td>NGT placed/TF started  Femoral line changed o...</td>\n",
       "      <td>Last dose of Antibiotics:  Meropenem - [**2176...</td>\n",
       "    </tr>\n",
       "    <tr>\n",
       "      <th>...</th>\n",
       "      <td>...</td>\n",
       "      <td>...</td>\n",
       "      <td>...</td>\n",
       "      <td>...</td>\n",
       "      <td>...</td>\n",
       "      <td>...</td>\n",
       "      <td>...</td>\n",
       "      <td>...</td>\n",
       "    </tr>\n",
       "    <tr>\n",
       "      <th>592</th>\n",
       "      <td>679058</td>\n",
       "      <td>187377</td>\n",
       "      <td>This is a 67 year old male h/o HTN, systolic H...</td>\n",
       "      <td># Hct Drop: Likely represents GI bleed though ...</td>\n",
       "      <td>Neither</td>\n",
       "      <td>187377</td>\n",
       "      <td>Chest Pain/Multivessel CAD [**4-4**] CP at [*...</td>\n",
       "      <td>Last dose of Antibiotics:  Infusions:  Nitrogl...</td>\n",
       "    </tr>\n",
       "    <tr>\n",
       "      <th>593</th>\n",
       "      <td>679058</td>\n",
       "      <td>187377</td>\n",
       "      <td>This is a 67 year old male h/o HTN, systolic H...</td>\n",
       "      <td># HTN: BP well controlled at this time. Trying...</td>\n",
       "      <td>Indirect</td>\n",
       "      <td>187377</td>\n",
       "      <td>Chest Pain/Multivessel CAD [**4-4**] CP at [*...</td>\n",
       "      <td>Last dose of Antibiotics:  Infusions:  Nitrogl...</td>\n",
       "    </tr>\n",
       "    <tr>\n",
       "      <th>594</th>\n",
       "      <td>679058</td>\n",
       "      <td>187377</td>\n",
       "      <td>This is a 67 year old male h/o HTN, systolic H...</td>\n",
       "      <td># Hyperlipdemia: cont statin</td>\n",
       "      <td>Neither</td>\n",
       "      <td>187377</td>\n",
       "      <td>Chest Pain/Multivessel CAD [**4-4**] CP at [*...</td>\n",
       "      <td>Last dose of Antibiotics:  Infusions:  Nitrogl...</td>\n",
       "    </tr>\n",
       "    <tr>\n",
       "      <th>595</th>\n",
       "      <td>679058</td>\n",
       "      <td>187377</td>\n",
       "      <td>This is a 67 year old male h/o HTN, systolic H...</td>\n",
       "      <td># Tobacco Abuse: Deferrred nicotine patch at t...</td>\n",
       "      <td>Neither</td>\n",
       "      <td>187377</td>\n",
       "      <td>Chest Pain/Multivessel CAD [**4-4**] CP at [*...</td>\n",
       "      <td>Last dose of Antibiotics:  Infusions:  Nitrogl...</td>\n",
       "    </tr>\n",
       "    <tr>\n",
       "      <th>596</th>\n",
       "      <td>679058</td>\n",
       "      <td>187377</td>\n",
       "      <td>This is a 67 year old male h/o HTN, systolic H...</td>\n",
       "      <td>ICU Care\\n   Nutrition:\\n   Glycemic Control:\\...</td>\n",
       "      <td>Not Relevant</td>\n",
       "      <td>187377</td>\n",
       "      <td>Chest Pain/Multivessel CAD [**4-4**] CP at [*...</td>\n",
       "      <td>Last dose of Antibiotics:  Infusions:  Nitrogl...</td>\n",
       "    </tr>\n",
       "  </tbody>\n",
       "</table>\n",
       "<p>597 rows × 8 columns</p>\n",
       "</div>"
      ],
      "text/plain": [
       "     ROW ID  HADM ID                                         Assessment  \\\n",
       "0    576487   112508  A 60 year old woman with recurrent ALL with CN...   \n",
       "1    576487   112508  A 60 year old woman with recurrent ALL with CN...   \n",
       "2    576487   112508  A 60 year old woman with recurrent ALL with CN...   \n",
       "3    576487   112508  A 60 year old woman with recurrent ALL with CN...   \n",
       "4    576487   112508  A 60 year old woman with recurrent ALL with CN...   \n",
       "..      ...      ...                                                ...   \n",
       "592  679058   187377  This is a 67 year old male h/o HTN, systolic H...   \n",
       "593  679058   187377  This is a 67 year old male h/o HTN, systolic H...   \n",
       "594  679058   187377  This is a 67 year old male h/o HTN, systolic H...   \n",
       "595  679058   187377  This is a 67 year old male h/o HTN, systolic H...   \n",
       "596  679058   187377  This is a 67 year old male h/o HTN, systolic H...   \n",
       "\n",
       "                                       Plan Subsection      Relation  HADM_ID  \\\n",
       "0    CNS VRE:  S/P Omaya removal, on linezolid for ...        Direct   112508   \n",
       "1    LEUKOCYTOSIS:   GCSF vs culture negative bacte...        Direct   112508   \n",
       "2    ALL:  Currently day +43 s/p hyper-CVAD.  She i...      Indirect   112508   \n",
       "3    DRUG RASH:  Appears improved today.  Evidence ...      Indirect   112508   \n",
       "4    ELEVATED LIVER ENZYMES:  Consistent with shock...       Neither   112508   \n",
       "..                                                 ...           ...      ...   \n",
       "592  # Hct Drop: Likely represents GI bleed though ...       Neither   187377   \n",
       "593  # HTN: BP well controlled at this time. Trying...      Indirect   187377   \n",
       "594                       # Hyperlipdemia: cont statin       Neither   187377   \n",
       "595  # Tobacco Abuse: Deferrred nicotine patch at t...       Neither   187377   \n",
       "596  ICU Care\\n   Nutrition:\\n   Glycemic Control:\\...  Not Relevant   187377   \n",
       "\n",
       "                                                     S  \\\n",
       "0     NGT placed/TF started  Femoral line changed o...   \n",
       "1     NGT placed/TF started  Femoral line changed o...   \n",
       "2     NGT placed/TF started  Femoral line changed o...   \n",
       "3     NGT placed/TF started  Femoral line changed o...   \n",
       "4     NGT placed/TF started  Femoral line changed o...   \n",
       "..                                                 ...   \n",
       "592   Chest Pain/Multivessel CAD [**4-4**] CP at [*...   \n",
       "593   Chest Pain/Multivessel CAD [**4-4**] CP at [*...   \n",
       "594   Chest Pain/Multivessel CAD [**4-4**] CP at [*...   \n",
       "595   Chest Pain/Multivessel CAD [**4-4**] CP at [*...   \n",
       "596   Chest Pain/Multivessel CAD [**4-4**] CP at [*...   \n",
       "\n",
       "                                                     O  \n",
       "0    Last dose of Antibiotics:  Meropenem - [**2176...  \n",
       "1    Last dose of Antibiotics:  Meropenem - [**2176...  \n",
       "2    Last dose of Antibiotics:  Meropenem - [**2176...  \n",
       "3    Last dose of Antibiotics:  Meropenem - [**2176...  \n",
       "4    Last dose of Antibiotics:  Meropenem - [**2176...  \n",
       "..                                                 ...  \n",
       "592  Last dose of Antibiotics:  Infusions:  Nitrogl...  \n",
       "593  Last dose of Antibiotics:  Infusions:  Nitrogl...  \n",
       "594  Last dose of Antibiotics:  Infusions:  Nitrogl...  \n",
       "595  Last dose of Antibiotics:  Infusions:  Nitrogl...  \n",
       "596  Last dose of Antibiotics:  Infusions:  Nitrogl...  \n",
       "\n",
       "[597 rows x 8 columns]"
      ]
     },
     "execution_count": 15,
     "metadata": {},
     "output_type": "execute_result"
    }
   ],
   "source": [
    "dev"
   ]
  },
  {
   "cell_type": "code",
   "execution_count": 16,
   "id": "c84b5f9c-8b54-43c2-bddf-a716b223fbad",
   "metadata": {
    "scrolled": true,
    "tags": []
   },
   "outputs": [
    {
     "name": "stderr",
     "output_type": "stream",
     "text": [
      "Using custom data configuration default-86e8ba7bd129054c\n",
      "Found cached dataset csv (/home/vs428/.cache/huggingface/datasets/csv/default-86e8ba7bd129054c/0.0.0/6b34fb8fcf56f7c8ba51dc895bfa2bfbe43546f190a60fcf74bb5e8afdcc2317)\n"
     ]
    },
    {
     "data": {
      "application/vnd.jupyter.widget-view+json": {
       "model_id": "c1cb3a3a6f7047728b8809e123795860",
       "version_major": 2,
       "version_minor": 0
      },
      "text/plain": [
       "  0%|          | 0/1 [00:00<?, ?it/s]"
      ]
     },
     "metadata": {},
     "output_type": "display_data"
    },
    {
     "name": "stderr",
     "output_type": "stream",
     "text": [
      "Loading cached processed dataset at /home/vs428/.cache/huggingface/datasets/csv/default-86e8ba7bd129054c/0.0.0/6b34fb8fcf56f7c8ba51dc895bfa2bfbe43546f190a60fcf74bb5e8afdcc2317/cache-e3d1802179efc530.arrow\n",
      "Loading cached processed dataset at /home/vs428/.cache/huggingface/datasets/csv/default-86e8ba7bd129054c/0.0.0/6b34fb8fcf56f7c8ba51dc895bfa2bfbe43546f190a60fcf74bb5e8afdcc2317/cache-0c3ea877a77644f2.arrow\n",
      "Loading cached processed dataset at /home/vs428/.cache/huggingface/datasets/csv/default-86e8ba7bd129054c/0.0.0/6b34fb8fcf56f7c8ba51dc895bfa2bfbe43546f190a60fcf74bb5e8afdcc2317/cache-6854e1c5b4b0ed73.arrow\n",
      "[W095] Model 'en_pipeline' (0.0.0) was trained with spaCy v3.3 and may not be 100% compatible with the current version (3.4.2). If you see errors or degraded performance, download a newer compatible model or retrain your custom model with the current spaCy version. For more details and available updates, run: python -m spacy validate\n"
     ]
    },
    {
     "name": "stdout",
     "output_type": "stream",
     "text": [
      "AFTER TRAIN _SO sections\n",
      "{'ROW ID': 576487, 'HADM ID': 112508, 'Assessment': 'A 60 year old woman with recurrent ALL with CNS involvement s/p Omaya\\n   removal due to VRE contamination & SDH evacuation.  She is now doing\\n   well and awake s/p extubation, afebrile and her WBC count is trending\\n   downward.', 'Plan Subsection': 'CNS VRE:  S/P Omaya removal, on linezolid for greater CNS penetration\\n   despite risk of CNS penetration. No TEE performed.\\n   - continue linezolid (D1=[**4-16**]), course to be determined by TEE (4 vs 8\\n   weeks) gentamicin D/C\\nd per ID\\n   - f/u culture data and sensitivities\\n   - TEE deferred at this time.\\n   - f/u tigacycline sensitivities for long-term therapy</s>NGT placed/TF started  Femoral line changed over wire by IR  c diff x 2 negative, 3rd pending  d/c\\'ed gentamicin per ID Sulfa (Sulfonamides)  Rash;  Penicillins  Rash;  Latex  Hives; Wheezing  Red Dye  Headache; \"thra  Darvon (Oral) (Propoxyphene Hcl)  Nausea/Vomiting  Percodan (Oral) (Oxycodone Hcl/Oxycodon Ter/Asa)  Nausea/Vomiting  Aspirin  Nausea/Vomiting  Aspartame  Unknown;  Fentanyl  Arrhythmia/PalpfReview of systems is unchanged from admission except as noted below  Review of systems:Last dose of Antibiotics:  Meropenem - [**2176-4-18**] 07:42 AM  Gentamicin - [**2176-4-20**] 08:00 AM  Micafungin - [**2176-4-20**] 07:35 PM  Linezolid - [**2176-4-21**] 02:30 AM  Acyclovir - [**2176-4-21**] 06:22 AM  Infusions:  Other ICU medications:  Pantoprazole (Protonix) - [**2176-4-20**] 08:00 AM  Heparin Sodium (Prophylaxis) - [**2176-4-20**] 01:16 PM  Other medications:Flowsheet Data as of [**2176-4-21**] 07:16 AM  Vital signs  Hemodynamic monitoring  Fluid balance  24 hours  Since 12 AM  Tmax: 36 C (96.8  Tcurrent: 36 C (96.8  HR: 98 (82 - 105) bpm  BP: 128/83(101) {95/60(74) - 128/83(101)} mmHg  RR: 18 (15 - 28) insp/min  SpO2: 95%  Heart rhythm: SR (Sinus Rhythm)  Height: 63 Inch  Total In:  1,500 mL  532 mL  PO:  TF:  86 mL  IVF:  1,500 mL  447 mL  Blood products:  Total out:  2,044 mL  335 mL  Urine:  2,044 mL  335 mL  NG:  Stool:  Drains:  Balance:  -544 mL  197 mL  Respiratory support  O2 Delivery Device: None  SpO2: 95%ABG: ///18/ Eyes / Conjunctiva: pupils equal and reactive, alert, appropriate,  following commands  Head, Ears, Nose, Throat: PERRL  Cardiovascular: normal S1/S2  Peripheral Vascular: DP pulses intact  Respiratory / Chest: lungs clear anteriorly  Abdominal: Soft, Bowel sounds present, ostomy bag in place with brown  liquid stool, no apparent abdominal tenderness  Extremities: warm  Skin: diffuse maculopapular erythematous, blanching rash on back,  appears less erythematous than yesterday  Neurologic: following commands and answering appropriately but slowly73 K/uL  11.0 g/dL  111 mg/dL  0.9 mg/dL  18 mEq/L  3.6 mEq/L  28 mg/dL  109 mEq/L  137 mEq/L  32.2 %  23.7 K/uLCa++:7.6 mg/dL, Mg++:1.6 mg/dL, PO4:3.2 mg/dL  Differential-Neuts:87.0 %, Band:5.0 %, Lymph:3.0 %, Mono:1.0 %, Eos:0.0  %,WBC  30.3  27.0  32.1  23.7  Hct  36.0  29.9  29.8  31.3  32.2  Plt  90  75  73  73  Cr  0.9  0.9  0.9  0.9  TCO2  17  16  18  18  21  Glucose  157  157  137  117  111  ALT: 161 AP: 455 Tbili: 1.1  AST: 52 LDH: 721  PT: 15.2 PTT: 34.3 INR: 1.3  Fibrinogen: 484Imaging: NoneMicrobiology: [**4-21**]: Cath tip culture P  [**Date range (1) 6157**] BCx pending', 'label': 0, 'S': ' NGT placed/TF started  Femoral line changed over wire by IR  c diff x 2 negative, 3rd pending  d/c\\'ed gentamicin per ID Sulfa (Sulfonamides)  Rash;  Penicillins  Rash;  Latex  Hives; Wheezing  Red Dye  Headache; \"thra  Darvon (Oral) (Propoxyphene Hcl)  Nausea/Vomiting  Percodan (Oral) (Oxycodone Hcl/Oxycodon Ter/Asa)  Nausea/Vomiting  Aspirin  Nausea/Vomiting  Aspartame  Unknown;  Fentanyl  Arrhythmia/PalpfReview of systems is unchanged from admission except as noted below  Review of systems:', 'O': 'Last dose of Antibiotics:  Meropenem - [**2176-4-18**] 07:42 AM  Gentamicin - [**2176-4-20**] 08:00 AM  Micafungin - [**2176-4-20**] 07:35 PM  Linezolid - [**2176-4-21**] 02:30 AM  Acyclovir - [**2176-4-21**] 06:22 AM  Infusions:  Other ICU medications:  Pantoprazole (Protonix) - [**2176-4-20**] 08:00 AM  Heparin Sodium (Prophylaxis) - [**2176-4-20**] 01:16 PM  Other medications:Flowsheet Data as of [**2176-4-21**] 07:16 AM  Vital signs  Hemodynamic monitoring  Fluid balance  24 hours  Since 12 AM  Tmax: 36 C (96.8  Tcurrent: 36 C (96.8  HR: 98 (82 - 105) bpm  BP: 128/83(101) {95/60(74) - 128/83(101)} mmHg  RR: 18 (15 - 28) insp/min  SpO2: 95%  Heart rhythm: SR (Sinus Rhythm)  Height: 63 Inch  Total In:  1,500 mL  532 mL  PO:  TF:  86 mL  IVF:  1,500 mL  447 mL  Blood products:  Total out:  2,044 mL  335 mL  Urine:  2,044 mL  335 mL  NG:  Stool:  Drains:  Balance:  -544 mL  197 mL  Respiratory support  O2 Delivery Device: None  SpO2: 95%ABG: ///18/ Eyes / Conjunctiva: pupils equal and reactive, alert, appropriate,  following commands  Head, Ears, Nose, Throat: PERRL  Cardiovascular: normal S1/S2  Peripheral Vascular: DP pulses intact  Respiratory / Chest: lungs clear anteriorly  Abdominal: Soft, Bowel sounds present, ostomy bag in place with brown  liquid stool, no apparent abdominal tenderness  Extremities: warm  Skin: diffuse maculopapular erythematous, blanching rash on back,  appears less erythematous than yesterday  Neurologic: following commands and answering appropriately but slowly73 K/uL  11.0 g/dL  111 mg/dL  0.9 mg/dL  18 mEq/L  3.6 mEq/L  28 mg/dL  109 mEq/L  137 mEq/L  32.2 %  23.7 K/uLCa++:7.6 mg/dL, Mg++:1.6 mg/dL, PO4:3.2 mg/dL  Differential-Neuts:87.0 %, Band:5.0 %, Lymph:3.0 %, Mono:1.0 %, Eos:0.0  %,WBC  30.3  27.0  32.1  23.7  Hct  36.0  29.9  29.8  31.3  32.2  Plt  90  75  73  73  Cr  0.9  0.9  0.9  0.9  TCO2  17  16  18  18  21  Glucose  157  157  137  117  111  ALT: 161 AP: 455 Tbili: 1.1  AST: 52 LDH: 721  PT: 15.2 PTT: 34.3 INR: 1.3  Fibrinogen: 484Imaging: NoneMicrobiology: [**4-21**]: Cath tip culture P  [**Date range (1) 6157**] BCx pending'}\n"
     ]
    },
    {
     "data": {
      "application/vnd.jupyter.widget-view+json": {
       "model_id": "a1c5de2ba4974c41aa6554710f3fe0da",
       "version_major": 2,
       "version_minor": 0
      },
      "text/plain": [
       "  0%|          | 0/597 [00:00<?, ?ex/s]"
      ]
     },
     "metadata": {},
     "output_type": "display_data"
    },
    {
     "data": {
      "application/vnd.jupyter.widget-view+json": {
       "model_id": "19d04af31100472384629920892a5aee",
       "version_major": 2,
       "version_minor": 0
      },
      "text/plain": [
       "  0%|          | 0/597 [00:00<?, ?ex/s]"
      ]
     },
     "metadata": {},
     "output_type": "display_data"
    }
   ],
   "source": [
    "\n",
    "# create hf Dataset\n",
    "classes = ['Not Relevant', 'Neither', 'Indirect', 'Direct']\n",
    "\n",
    "# instead we will use the raw text for now\n",
    "features = Features({\n",
    "    'ROW ID':Value(\"int64\"),\n",
    "    'HADM ID':Value(\"int64\"),\n",
    "    'Assessment':Value(\"string\"),\n",
    "    'Plan Subsection':Value(\"string\"),\n",
    "    \"Relation\":Value(\"string\"),\n",
    "    \"S\":Value(\"string\"),\n",
    "    \"O\":Value(\"string\")        \n",
    "\n",
    "}) \n",
    "\n",
    "dataset = load_dataset(\"csv\", data_files={\n",
    "                            # \"train\":cfg.data.n2c2_data_dir + \"train_so.csv\",\n",
    "                            \"valid\":data_path,\n",
    "                            # \"train\":cfg.data.n2c2_data_dir + \"train.csv\",\n",
    "                            # \"valid\":cfg.data.n2c2_data_dir + \"dev.csv\",\n",
    "\n",
    "                        },\n",
    "                       features=features)\n",
    "\n",
    "# create encoded class labels and rename\n",
    "label2id = {'Not Relevant':3, 'Neither':2, 'Indirect':1, 'Direct':0}\n",
    "id2label = {v:k for k,v in label2id.items()}\n",
    "\n",
    "dataset = dataset.class_encode_column(\"Relation\")\n",
    "dataset = dataset.align_labels_with_mapping(label2id, \"Relation\")\n",
    "dataset = dataset.rename_column(\"Relation\", \"label\")\n",
    "\n",
    "# dataset['valid'] = dataset['valid'].shard(num_shards=20, index=0)\n",
    "\n",
    "dataset = dataset.map(partial(add_SO_sections))\n",
    "print(\"AFTER TRAIN _SO sections\")\n",
    "print(dataset['valid'][0])\n",
    "\n",
    "spacy.require_gpu()\n",
    "nlp_assessment = spacy.load(spacy_assessment, exclude=\"parser\")\n",
    "nlp_plan = spacy.load(spacy_plan, exclude=\"parser\")\n",
    "\n",
    "dataset['valid'] = dataset['valid'].map(partial(add_ner_assessment, nlp=nlp_assessment))\n",
    "dataset['valid'] = dataset['valid'].map(partial(add_ner_plan, nlp=nlp_plan))        \n",
    "\n",
    "# we ASSUME that the ner labels we want are lowercase, UNLIKE the standard ones in the model\n",
    "spans = [x for x in nlp_plan.get_pipe(\"ner\").labels if x.islower()] + [x for x in nlp_assessment.get_pipe(\"ner\").labels if x.islower()]\n",
    "\n",
    "tokens = []\n",
    "for span in spans:\n",
    "    tokens.append(\"<\" + span + \">\")\n",
    "    tokens.append(\"</\" + span + \">\")            \n",
    "\n",
    "# add the span tags to the vocab\n",
    "_ = tokenizer.add_tokens(tokens)"
   ]
  },
  {
   "cell_type": "code",
   "execution_count": 17,
   "id": "36810b17-3954-40da-a9c1-e5ef99325d22",
   "metadata": {},
   "outputs": [],
   "source": [
    "# tokked = [str(tokenizer.decode(tok_func(x,y)['input_ids']))  for x,y in zip(dataset['valid']['Assessment'], dataset['valid']['Plan Subsection'])]\n",
    "tokked = [x + \"\\n\\n<\\s><\\s>\" + y  for x,y in zip(dataset['valid']['Assessment'], dataset['valid']['Plan Subsection'])]"
   ]
  },
  {
   "cell_type": "code",
   "execution_count": 18,
   "id": "d7596fa7-0fa6-4924-b8fd-424b5777b884",
   "metadata": {},
   "outputs": [],
   "source": [
    "from transformers import TextClassificationPipeline\n",
    "\n",
    "class MyPipeline(TextClassificationPipeline):\n",
    "    def preprocess(self, inputs, truncation=\"only_second\",max_length=512, **tokenizer_kwargs):\n",
    "        '''inputs here is only one example!!\n",
    "        '''\n",
    "        return_tensors = self.framework\n",
    "        return self.tokenizer(inputs, return_tensors=return_tensors,\n",
    "                              truncation=True,\n",
    "                              max_length=512,\n",
    "                              **tokenizer_kwargs)\n"
   ]
  },
  {
   "cell_type": "code",
   "execution_count": 27,
   "id": "63aa2750-1976-41f7-ac86-6c0866f952f3",
   "metadata": {},
   "outputs": [],
   "source": [
    "pred = MyPipeline(model=model, tokenizer=tokenizer, device=0, \n",
    "                             top_k=None,\n",
    "                 # return_all_scores=True\n",
    "                 )\n",
    "# pred = transformers.pipeline(\"text-classification\", model=model, tokenizer=tokenizer, device=0, \n",
    "#                              return_all_scores=True)"
   ]
  },
  {
   "cell_type": "code",
   "execution_count": 28,
   "id": "f4d897f1-0d5e-45e0-9dc4-c34111ab8991",
   "metadata": {},
   "outputs": [],
   "source": [
    "pmodel = shap.models.TransformersPipeline(pred, rescale_to_logits=False)"
   ]
  },
  {
   "cell_type": "code",
   "execution_count": 29,
   "id": "60f29c13-68a7-4e10-b862-7ecedab7b3ab",
   "metadata": {},
   "outputs": [],
   "source": [
    "labels = sorted(model.config.label2id, key=model.config.label2id.get)"
   ]
  },
  {
   "cell_type": "code",
   "execution_count": 30,
   "id": "6154941f-4d8c-425a-8b91-54a2eb0b6b3d",
   "metadata": {},
   "outputs": [],
   "source": [
    "masker = shap.maskers.Text(pred.tokenizer)"
   ]
  },
  {
   "cell_type": "code",
   "execution_count": 31,
   "id": "199873d6-0192-4fc5-855c-eed3dd9ae38a",
   "metadata": {},
   "outputs": [],
   "source": [
    "explainer = shap.Explainer(pmodel, masker, output_names=labels)"
   ]
  },
  {
   "cell_type": "code",
   "execution_count": 32,
   "id": "8ecfbd8a-d1a3-425a-a026-d4e4646e5b7a",
   "metadata": {
    "tags": []
   },
   "outputs": [
    {
     "name": "stdout",
     "output_type": "stream",
     "text": [
      "{'Not Relevant': 3, 'Neither': 2, 'Indirect': 1, 'Direct': 0}\n",
      "{'LABEL_0': 0, 'LABEL_1': 1, 'LABEL_2': 2, 'LABEL_3': 3}\n"
     ]
    },
    {
     "data": {
      "text/plain": [
       "(None, None)"
      ]
     },
     "execution_count": 32,
     "metadata": {},
     "output_type": "execute_result"
    }
   ],
   "source": [
    "print(label2id), print(model.config.label2id)"
   ]
  },
  {
   "cell_type": "code",
   "execution_count": null,
   "id": "fd243018-7136-47a4-9c67-43133340ad65",
   "metadata": {},
   "outputs": [],
   "source": []
  },
  {
   "cell_type": "code",
   "execution_count": 33,
   "id": "07b8fbee-f27b-441b-8192-bd48a1f01dcd",
   "metadata": {
    "tags": []
   },
   "outputs": [],
   "source": [
    "preds = pred(tokked)"
   ]
  },
  {
   "cell_type": "code",
   "execution_count": 34,
   "id": "ebd420bf-c69c-4e14-b742-ea8fc84da166",
   "metadata": {},
   "outputs": [],
   "source": [
    "y_preds = [int(max(pred, key=lambda x: x['score'])['label'][-1]) for pred in preds]"
   ]
  },
  {
   "cell_type": "code",
   "execution_count": 35,
   "id": "30d105fc-c8f3-4ce5-86d6-d1cc606e3d29",
   "metadata": {},
   "outputs": [],
   "source": [
    "pred_df = pd.DataFrame(dataset['valid']['label'], columns=[\"y_true\"])\n",
    "pred_df['y_pred'] = y_preds\n",
    "pred_df['text'] = tokked"
   ]
  },
  {
   "cell_type": "code",
   "execution_count": 36,
   "id": "56932ff6-9215-4325-b01a-6408b0535736",
   "metadata": {},
   "outputs": [],
   "source": [
    "scores_lst = []\n",
    "for pred in preds:\n",
    "    scores = {}\n",
    "    for score in pred:\n",
    "        scores[id2label[model.config.label2id[score['label']]]] = score['score']\n",
    "    scores_lst.append(scores)"
   ]
  },
  {
   "cell_type": "code",
   "execution_count": 37,
   "id": "d7c64906-29a7-465b-83af-9c0ba5633508",
   "metadata": {},
   "outputs": [],
   "source": [
    "pred_df = pd.concat([pred_df, pd.DataFrame.from_records(scores_lst)], axis=1)\n"
   ]
  },
  {
   "cell_type": "code",
   "execution_count": 38,
   "id": "afa61738-aaae-4e7c-8858-cb59632d66cb",
   "metadata": {},
   "outputs": [
    {
     "data": {
      "text/html": [
       "<div>\n",
       "<style scoped>\n",
       "    .dataframe tbody tr th:only-of-type {\n",
       "        vertical-align: middle;\n",
       "    }\n",
       "\n",
       "    .dataframe tbody tr th {\n",
       "        vertical-align: top;\n",
       "    }\n",
       "\n",
       "    .dataframe thead th {\n",
       "        text-align: right;\n",
       "    }\n",
       "</style>\n",
       "<table border=\"1\" class=\"dataframe\">\n",
       "  <thead>\n",
       "    <tr style=\"text-align: right;\">\n",
       "      <th></th>\n",
       "      <th>y_true</th>\n",
       "      <th>y_pred</th>\n",
       "      <th>text</th>\n",
       "      <th>Direct</th>\n",
       "      <th>Indirect</th>\n",
       "      <th>Not Relevant</th>\n",
       "      <th>Neither</th>\n",
       "    </tr>\n",
       "  </thead>\n",
       "  <tbody>\n",
       "    <tr>\n",
       "      <th>0</th>\n",
       "      <td>0</td>\n",
       "      <td>0</td>\n",
       "      <td>A 60 year old woman with recurrent ALL with &lt;s...</td>\n",
       "      <td>0.982564</td>\n",
       "      <td>0.014371</td>\n",
       "      <td>0.002143</td>\n",
       "      <td>0.000923</td>\n",
       "    </tr>\n",
       "    <tr>\n",
       "      <th>1</th>\n",
       "      <td>0</td>\n",
       "      <td>0</td>\n",
       "      <td>A 60 year old woman with recurrent ALL with &lt;s...</td>\n",
       "      <td>0.976340</td>\n",
       "      <td>0.013856</td>\n",
       "      <td>0.008552</td>\n",
       "      <td>0.001253</td>\n",
       "    </tr>\n",
       "    <tr>\n",
       "      <th>2</th>\n",
       "      <td>1</td>\n",
       "      <td>0</td>\n",
       "      <td>A 60 year old woman with recurrent ALL with &lt;s...</td>\n",
       "      <td>0.653663</td>\n",
       "      <td>0.335680</td>\n",
       "      <td>0.004568</td>\n",
       "      <td>0.006089</td>\n",
       "    </tr>\n",
       "    <tr>\n",
       "      <th>3</th>\n",
       "      <td>1</td>\n",
       "      <td>2</td>\n",
       "      <td>A 60 year old woman with recurrent ALL with &lt;s...</td>\n",
       "      <td>0.075570</td>\n",
       "      <td>0.240338</td>\n",
       "      <td>0.148639</td>\n",
       "      <td>0.535453</td>\n",
       "    </tr>\n",
       "    <tr>\n",
       "      <th>4</th>\n",
       "      <td>2</td>\n",
       "      <td>1</td>\n",
       "      <td>A 60 year old woman with recurrent ALL with &lt;s...</td>\n",
       "      <td>0.082462</td>\n",
       "      <td>0.398804</td>\n",
       "      <td>0.141702</td>\n",
       "      <td>0.377033</td>\n",
       "    </tr>\n",
       "    <tr>\n",
       "      <th>...</th>\n",
       "      <td>...</td>\n",
       "      <td>...</td>\n",
       "      <td>...</td>\n",
       "      <td>...</td>\n",
       "      <td>...</td>\n",
       "      <td>...</td>\n",
       "      <td>...</td>\n",
       "    </tr>\n",
       "    <tr>\n",
       "      <th>592</th>\n",
       "      <td>2</td>\n",
       "      <td>0</td>\n",
       "      <td>This is a 67 year old male h/o &lt;secondary_prob...</td>\n",
       "      <td>0.798788</td>\n",
       "      <td>0.182734</td>\n",
       "      <td>0.009134</td>\n",
       "      <td>0.009343</td>\n",
       "    </tr>\n",
       "    <tr>\n",
       "      <th>593</th>\n",
       "      <td>1</td>\n",
       "      <td>1</td>\n",
       "      <td>This is a 67 year old male h/o &lt;secondary_prob...</td>\n",
       "      <td>0.020029</td>\n",
       "      <td>0.967869</td>\n",
       "      <td>0.001652</td>\n",
       "      <td>0.010450</td>\n",
       "    </tr>\n",
       "    <tr>\n",
       "      <th>594</th>\n",
       "      <td>2</td>\n",
       "      <td>1</td>\n",
       "      <td>This is a 67 year old male h/o &lt;secondary_prob...</td>\n",
       "      <td>0.018098</td>\n",
       "      <td>0.667590</td>\n",
       "      <td>0.016836</td>\n",
       "      <td>0.297476</td>\n",
       "    </tr>\n",
       "    <tr>\n",
       "      <th>595</th>\n",
       "      <td>2</td>\n",
       "      <td>3</td>\n",
       "      <td>This is a 67 year old male h/o &lt;secondary_prob...</td>\n",
       "      <td>0.059408</td>\n",
       "      <td>0.234747</td>\n",
       "      <td>0.618742</td>\n",
       "      <td>0.087103</td>\n",
       "    </tr>\n",
       "    <tr>\n",
       "      <th>596</th>\n",
       "      <td>3</td>\n",
       "      <td>3</td>\n",
       "      <td>This is a 67 year old male h/o &lt;secondary_prob...</td>\n",
       "      <td>0.000663</td>\n",
       "      <td>0.000193</td>\n",
       "      <td>0.998827</td>\n",
       "      <td>0.000317</td>\n",
       "    </tr>\n",
       "  </tbody>\n",
       "</table>\n",
       "<p>597 rows × 7 columns</p>\n",
       "</div>"
      ],
      "text/plain": [
       "     y_true  y_pred                                               text  \\\n",
       "0         0       0  A 60 year old woman with recurrent ALL with <s...   \n",
       "1         0       0  A 60 year old woman with recurrent ALL with <s...   \n",
       "2         1       0  A 60 year old woman with recurrent ALL with <s...   \n",
       "3         1       2  A 60 year old woman with recurrent ALL with <s...   \n",
       "4         2       1  A 60 year old woman with recurrent ALL with <s...   \n",
       "..      ...     ...                                                ...   \n",
       "592       2       0  This is a 67 year old male h/o <secondary_prob...   \n",
       "593       1       1  This is a 67 year old male h/o <secondary_prob...   \n",
       "594       2       1  This is a 67 year old male h/o <secondary_prob...   \n",
       "595       2       3  This is a 67 year old male h/o <secondary_prob...   \n",
       "596       3       3  This is a 67 year old male h/o <secondary_prob...   \n",
       "\n",
       "       Direct  Indirect  Not Relevant   Neither  \n",
       "0    0.982564  0.014371      0.002143  0.000923  \n",
       "1    0.976340  0.013856      0.008552  0.001253  \n",
       "2    0.653663  0.335680      0.004568  0.006089  \n",
       "3    0.075570  0.240338      0.148639  0.535453  \n",
       "4    0.082462  0.398804      0.141702  0.377033  \n",
       "..        ...       ...           ...       ...  \n",
       "592  0.798788  0.182734      0.009134  0.009343  \n",
       "593  0.020029  0.967869      0.001652  0.010450  \n",
       "594  0.018098  0.667590      0.016836  0.297476  \n",
       "595  0.059408  0.234747      0.618742  0.087103  \n",
       "596  0.000663  0.000193      0.998827  0.000317  \n",
       "\n",
       "[597 rows x 7 columns]"
      ]
     },
     "execution_count": 38,
     "metadata": {},
     "output_type": "execute_result"
    }
   ],
   "source": [
    "pred_df"
   ]
  },
  {
   "cell_type": "code",
   "execution_count": null,
   "id": "83589960-27e0-4c58-aae6-eeeef56ce586",
   "metadata": {},
   "outputs": [],
   "source": []
  },
  {
   "cell_type": "code",
   "execution_count": null,
   "id": "7f14be2a-0add-4925-b327-1b434865a313",
   "metadata": {},
   "outputs": [],
   "source": [
    "# x = pred_df[(pred_df['y_true'] != pred_df['y_pred']) & (pred_df['y_true'] == 0)].sample(10, random_state=8474)\n",
    "# x = pred_df[(pred_df['y_true'] != pred_df['y_pred'])].sample(15, random_state=1538)\n",
    "# x = pred_df[(pred_df['y_true'] != pred_df['y_pred']) & (pred_df['y_true'] == 1)].sample(10, random_state=8573)\n",
    "# pred_df[(pred_df['y_true'] != pred_df['y_pred']) & (pred_df['y_true'] == 2)]\n",
    "# pred_df[(pred_df['y_true'] != pred_df['y_pred']) & (pred_df['y_true'] == 3)]\n",
    "\n",
    "nontagged_wrong = pred_df.iloc[[3, 19, 20, 28, 41, 47, 49, 54, 59, 62, 67, 72, 83, 90, 93, 96, 97, 104, \n",
    "         107, 109, 112, 114, 126, 130, 134, 138, 139, 143, 145, 149, 152, 153, 157, 161, 179, 182, 183, 184, \n",
    "         187, 192, 197, 200, 212, 225, 228, 230, 240, 241, 242, 255, 256, 257, 258, 259, 260, 267, 268, 269, 273,\n",
    "         274, 275, 294, 303, 305, 313, 314, 323, 325, 327, 332, 345, 346, 356, 357, 359, 361, 362, 365, 366, 367, 371,\n",
    "         372, 378, 379, 382, 385, 388, 390, 393, 396, 397, 405, 422, 423, 424, 425, 426, 429, 432, 434, 436, \n",
    "         437, 443, 444, 455, 458, 470, 478, 480, 483, 488, 495, 503, 505, 506, 507, 511, 512, 513, 516, 521, 523, 524, \n",
    "         536, 539, 540, 546, 550, 552, 558, 560, 565, 566, 567, 573, 574, 575, 580, 581, 583, 592, 595]]\n",
    "\n",
    "x = nontagged_wrong[nontagged_wrong['y_pred'] == nontagged_wrong['y_true']]"
   ]
  },
  {
   "cell_type": "code",
   "execution_count": null,
   "id": "90453eef-6f8b-40c8-bb7a-9cfba49631df",
   "metadata": {},
   "outputs": [],
   "source": [
    "pred_df.loc[pred_df['text'].str.startswith(\"The patinet\"), \"text\"].tolist()[2]"
   ]
  },
  {
   "cell_type": "code",
   "execution_count": null,
   "id": "9934c1d1-1333-406d-ba3e-6c21979ad00b",
   "metadata": {},
   "outputs": [],
   "source": [
    "x.index"
   ]
  },
  {
   "cell_type": "code",
   "execution_count": null,
   "id": "4181f357-3959-4883-9661-465a41ab8213",
   "metadata": {
    "tags": []
   },
   "outputs": [],
   "source": [
    "shap_values = explainer(x['text'])"
   ]
  },
  {
   "cell_type": "code",
   "execution_count": null,
   "id": "a11b8630-59f3-4989-933d-f62c137d052b",
   "metadata": {},
   "outputs": [],
   "source": [
    "x\n",
    "# 3,6,7,10,12,13"
   ]
  },
  {
   "cell_type": "code",
   "execution_count": null,
   "id": "8f134bc9-188e-4f8c-9446-6bddf0fb5483",
   "metadata": {},
   "outputs": [],
   "source": [
    "x.iloc[0]['text']"
   ]
  },
  {
   "cell_type": "code",
   "execution_count": null,
   "id": "b8b55c6f-aff5-4140-9390-8e019bd72f5e",
   "metadata": {},
   "outputs": [],
   "source": [
    "# with open(\"right_with_tags.html\", \"w\") as f:\n",
    "#     f.write(shap.plots.text(shap_values[21, :,:], display=False))\n",
    "shap.plots.text(shap_values[21, :,:], display=True)"
   ]
  },
  {
   "cell_type": "markdown",
   "id": "f5ce1546-3925-446f-89d4-6877bad05026",
   "metadata": {},
   "source": [
    "# Plot Curves"
   ]
  },
  {
   "cell_type": "code",
   "execution_count": 19,
   "id": "120d2c8f-e7f2-462c-87fb-227c7c123d33",
   "metadata": {},
   "outputs": [],
   "source": [
    "%load_ext autoreload\n",
    "%autoreload 2"
   ]
  },
  {
   "cell_type": "code",
   "execution_count": 39,
   "id": "9df5d600-1c16-40ab-9ec2-26db008d1b38",
   "metadata": {},
   "outputs": [],
   "source": [
    "import sklearn\n",
    "# import seaborn as sns; sns.set_style(\"ticks\")\n",
    "from sklearn.metrics import roc_curve, auc, precision_recall_curve, average_precision_score, brier_score_loss\n",
    "from sklearn.calibration import calibration_curve, CalibrationDisplay\n",
    "\n",
    "from plot_utils import plot_multiclass_roc_from_preds,plot_multiclass_pr_from_preds"
   ]
  },
  {
   "cell_type": "code",
   "execution_count": 40,
   "id": "9a33e4f4-c263-4452-9b1d-26f7d2658271",
   "metadata": {},
   "outputs": [
    {
     "data": {
      "text/html": [
       "<div>\n",
       "<style scoped>\n",
       "    .dataframe tbody tr th:only-of-type {\n",
       "        vertical-align: middle;\n",
       "    }\n",
       "\n",
       "    .dataframe tbody tr th {\n",
       "        vertical-align: top;\n",
       "    }\n",
       "\n",
       "    .dataframe thead th {\n",
       "        text-align: right;\n",
       "    }\n",
       "</style>\n",
       "<table border=\"1\" class=\"dataframe\">\n",
       "  <thead>\n",
       "    <tr style=\"text-align: right;\">\n",
       "      <th></th>\n",
       "      <th>y_true</th>\n",
       "      <th>y_pred</th>\n",
       "      <th>text</th>\n",
       "      <th>Direct</th>\n",
       "      <th>Indirect</th>\n",
       "      <th>Not Relevant</th>\n",
       "      <th>Neither</th>\n",
       "    </tr>\n",
       "  </thead>\n",
       "  <tbody>\n",
       "    <tr>\n",
       "      <th>0</th>\n",
       "      <td>0</td>\n",
       "      <td>0</td>\n",
       "      <td>A 60 year old woman with recurrent ALL with &lt;s...</td>\n",
       "      <td>0.982564</td>\n",
       "      <td>0.014371</td>\n",
       "      <td>0.002143</td>\n",
       "      <td>0.000923</td>\n",
       "    </tr>\n",
       "    <tr>\n",
       "      <th>1</th>\n",
       "      <td>0</td>\n",
       "      <td>0</td>\n",
       "      <td>A 60 year old woman with recurrent ALL with &lt;s...</td>\n",
       "      <td>0.976340</td>\n",
       "      <td>0.013856</td>\n",
       "      <td>0.008552</td>\n",
       "      <td>0.001253</td>\n",
       "    </tr>\n",
       "    <tr>\n",
       "      <th>2</th>\n",
       "      <td>1</td>\n",
       "      <td>0</td>\n",
       "      <td>A 60 year old woman with recurrent ALL with &lt;s...</td>\n",
       "      <td>0.653663</td>\n",
       "      <td>0.335680</td>\n",
       "      <td>0.004568</td>\n",
       "      <td>0.006089</td>\n",
       "    </tr>\n",
       "    <tr>\n",
       "      <th>3</th>\n",
       "      <td>1</td>\n",
       "      <td>2</td>\n",
       "      <td>A 60 year old woman with recurrent ALL with &lt;s...</td>\n",
       "      <td>0.075570</td>\n",
       "      <td>0.240338</td>\n",
       "      <td>0.148639</td>\n",
       "      <td>0.535453</td>\n",
       "    </tr>\n",
       "    <tr>\n",
       "      <th>4</th>\n",
       "      <td>2</td>\n",
       "      <td>1</td>\n",
       "      <td>A 60 year old woman with recurrent ALL with &lt;s...</td>\n",
       "      <td>0.082462</td>\n",
       "      <td>0.398804</td>\n",
       "      <td>0.141702</td>\n",
       "      <td>0.377033</td>\n",
       "    </tr>\n",
       "    <tr>\n",
       "      <th>...</th>\n",
       "      <td>...</td>\n",
       "      <td>...</td>\n",
       "      <td>...</td>\n",
       "      <td>...</td>\n",
       "      <td>...</td>\n",
       "      <td>...</td>\n",
       "      <td>...</td>\n",
       "    </tr>\n",
       "    <tr>\n",
       "      <th>592</th>\n",
       "      <td>2</td>\n",
       "      <td>0</td>\n",
       "      <td>This is a 67 year old male h/o &lt;secondary_prob...</td>\n",
       "      <td>0.798788</td>\n",
       "      <td>0.182734</td>\n",
       "      <td>0.009134</td>\n",
       "      <td>0.009343</td>\n",
       "    </tr>\n",
       "    <tr>\n",
       "      <th>593</th>\n",
       "      <td>1</td>\n",
       "      <td>1</td>\n",
       "      <td>This is a 67 year old male h/o &lt;secondary_prob...</td>\n",
       "      <td>0.020029</td>\n",
       "      <td>0.967869</td>\n",
       "      <td>0.001652</td>\n",
       "      <td>0.010450</td>\n",
       "    </tr>\n",
       "    <tr>\n",
       "      <th>594</th>\n",
       "      <td>2</td>\n",
       "      <td>1</td>\n",
       "      <td>This is a 67 year old male h/o &lt;secondary_prob...</td>\n",
       "      <td>0.018098</td>\n",
       "      <td>0.667590</td>\n",
       "      <td>0.016836</td>\n",
       "      <td>0.297476</td>\n",
       "    </tr>\n",
       "    <tr>\n",
       "      <th>595</th>\n",
       "      <td>2</td>\n",
       "      <td>3</td>\n",
       "      <td>This is a 67 year old male h/o &lt;secondary_prob...</td>\n",
       "      <td>0.059408</td>\n",
       "      <td>0.234747</td>\n",
       "      <td>0.618742</td>\n",
       "      <td>0.087103</td>\n",
       "    </tr>\n",
       "    <tr>\n",
       "      <th>596</th>\n",
       "      <td>3</td>\n",
       "      <td>3</td>\n",
       "      <td>This is a 67 year old male h/o &lt;secondary_prob...</td>\n",
       "      <td>0.000663</td>\n",
       "      <td>0.000193</td>\n",
       "      <td>0.998827</td>\n",
       "      <td>0.000317</td>\n",
       "    </tr>\n",
       "  </tbody>\n",
       "</table>\n",
       "<p>597 rows × 7 columns</p>\n",
       "</div>"
      ],
      "text/plain": [
       "     y_true  y_pred                                               text  \\\n",
       "0         0       0  A 60 year old woman with recurrent ALL with <s...   \n",
       "1         0       0  A 60 year old woman with recurrent ALL with <s...   \n",
       "2         1       0  A 60 year old woman with recurrent ALL with <s...   \n",
       "3         1       2  A 60 year old woman with recurrent ALL with <s...   \n",
       "4         2       1  A 60 year old woman with recurrent ALL with <s...   \n",
       "..      ...     ...                                                ...   \n",
       "592       2       0  This is a 67 year old male h/o <secondary_prob...   \n",
       "593       1       1  This is a 67 year old male h/o <secondary_prob...   \n",
       "594       2       1  This is a 67 year old male h/o <secondary_prob...   \n",
       "595       2       3  This is a 67 year old male h/o <secondary_prob...   \n",
       "596       3       3  This is a 67 year old male h/o <secondary_prob...   \n",
       "\n",
       "       Direct  Indirect  Not Relevant   Neither  \n",
       "0    0.982564  0.014371      0.002143  0.000923  \n",
       "1    0.976340  0.013856      0.008552  0.001253  \n",
       "2    0.653663  0.335680      0.004568  0.006089  \n",
       "3    0.075570  0.240338      0.148639  0.535453  \n",
       "4    0.082462  0.398804      0.141702  0.377033  \n",
       "..        ...       ...           ...       ...  \n",
       "592  0.798788  0.182734      0.009134  0.009343  \n",
       "593  0.020029  0.967869      0.001652  0.010450  \n",
       "594  0.018098  0.667590      0.016836  0.297476  \n",
       "595  0.059408  0.234747      0.618742  0.087103  \n",
       "596  0.000663  0.000193      0.998827  0.000317  \n",
       "\n",
       "[597 rows x 7 columns]"
      ]
     },
     "execution_count": 40,
     "metadata": {},
     "output_type": "execute_result"
    }
   ],
   "source": [
    "pred_df"
   ]
  },
  {
   "cell_type": "code",
   "execution_count": 58,
   "id": "496e7c7e-7295-417c-97a4-ac3d3c1b0b72",
   "metadata": {},
   "outputs": [],
   "source": [
    "pred_df['hmmm'] = np.where(pred_df['y_true'] == 2, 1, 0)"
   ]
  },
  {
   "cell_type": "code",
   "execution_count": null,
   "id": "46e23f90-ff46-4a55-a7b4-f0ed48f28cec",
   "metadata": {},
   "outputs": [],
   "source": []
  },
  {
   "cell_type": "code",
   "execution_count": 69,
   "id": "1bf047c8-41e8-4458-a68c-17f7c977f554",
   "metadata": {},
   "outputs": [
    {
     "data": {
      "image/png": "[encoded data removed]",
      "text/plain": [
       "<Figure size 2650x600 with 4 Axes>"
      ]
     },
     "metadata": {},
     "output_type": "display_data"
    }
   ],
   "source": [
    "import matplotlib.pyplot as plt\n",
    "import pandas as pd\n",
    "from sklearn.metrics import DetCurveDisplay, RocCurveDisplay, PrecisionRecallDisplay, ConfusionMatrixDisplay\n",
    "import seaborn as sns; sns.set_style(\"ticks\")\n",
    "\n",
    "fig, [ax_roc, ax_pr, conf] = plt.subplots(1, 3, figsize=(26.5, 6))\n",
    "# fig.tight_layout()\n",
    "\n",
    "\n",
    "plot_multiclass_roc_from_preds(pred_df['y_true'], pred_df[['Direct', \"Indirect\", \"Neither\", \"Not Relevant\"]].values, \n",
    "                               ax=ax_roc,\n",
    "                               labels=['Direct', \"Indirect\", \"Neither\", \"Not Relevant\"])\n",
    "\n",
    "for item in (ax_roc.get_xticklabels() + ax_roc.get_yticklabels()):\n",
    "    item.set_fontsize(12)\n",
    "\n",
    "ax_roc.title.set_fontsize(20)\n",
    "ax_roc.title.set_fontweight(\"bold\")\n",
    "ax_roc.xaxis.label.set_fontsize(15)\n",
    "ax_roc.yaxis.label.set_fontsize(15)\n",
    "\n",
    "plot_multiclass_pr_from_preds(pred_df['y_true'], pred_df[['Direct', \"Indirect\", \"Neither\", \"Not Relevant\"]].values, \n",
    "                               ax=ax_pr,\n",
    "                               labels=['Direct', \"Indirect\", \"Neither\", \"Not Relevant\"])\n",
    "\n",
    "for item in (ax_pr.get_xticklabels() + ax_pr.get_yticklabels()):\n",
    "    item.set_fontsize(12)\n",
    "\n",
    "ax_pr.title.set_fontsize(20)\n",
    "ax_pr.title.set_fontweight(\"bold\")\n",
    "ax_pr.xaxis.label.set_fontsize(15)\n",
    "ax_pr.yaxis.label.set_fontsize(15)\n",
    "\n",
    "\n",
    "    \n",
    "ConfusionMatrixDisplay.from_predictions(pred_df['y_true'],  pred_df['y_pred'], \n",
    "                                        ax=conf, \n",
    "                                        display_labels=['Direct', \"Indirect\", \"Neither\", \"Not Relevant\"])\n",
    "\n",
    "for item in (conf.get_xticklabels() + conf.get_yticklabels()):\n",
    "    item.set_fontsize(12)\n",
    "\n",
    "conf.set_title(\"Confusion Matrix\", fontsize=20, fontweight=\"bold\")\n",
    "# conf.title.set_fontsize(20)\n",
    "# conf.title.set_fontweight(\"bold\")\n",
    "conf.xaxis.label.set_fontsize(15)\n",
    "conf.yaxis.label.set_fontsize(15)\n",
    "\n",
    "\n",
    "plt.savefig(\"n2c2_curves_final.png\", dpi=600)\n",
    "# RocCurveDisplay.from_predictions(nlp_df['y_true'], nlp_df['y_prob'], ax=ax_roc,)# name=name)\n",
    "# DetCurveDisplay.from_predictions(nlp_df['y_true'], nlp_df['y_prob'], ax=ax_det)#, name=name)\n",
    "# PrecisionRecallDisplay.from_predictions(nlp_df['y_true'], nlp_df['y_prob'], ax=ax_pr)\n"
   ]
  },
  {
   "cell_type": "code",
   "execution_count": null,
   "id": "20dffe7e-a215-4c44-b43a-c13c294bd19c",
   "metadata": {},
   "outputs": [],
   "source": []
  },
  {
   "cell_type": "code",
   "execution_count": null,
   "id": "a191ee5c-2086-4ea8-8baf-f03ff866e413",
   "metadata": {},
   "outputs": [],
   "source": [
    "import sklearn\n",
    "# import seaborn as sns; sns.set_style(\"ticks\")\n",
    "from sklearn.metrics import roc_curve, auc, precision_recall_curve, average_precision_score, brier_score_loss\n",
    "from sklearn.calibration import calibration_curve, CalibrationDisplay\n"
   ]
  },
  {
   "cell_type": "code",
   "execution_count": null,
   "id": "fdfa3c4e-3ece-4910-9717-69cbd49eb462",
   "metadata": {},
   "outputs": [],
   "source": [
    "plot_multiclass_roc_from_preds(nlp_df['y_true'], nlp_df[['COND','HARD' ,'NO']].values, labels=[\"CONDITIONAL\", \"HARD\", \"NO\"])\n",
    "\n"
   ]
  },
  {
   "cell_type": "markdown",
   "id": "2f673b78-c69b-4197-9ac1-b6c47014e7b3",
   "metadata": {},
   "source": [
    "# Extras"
   ]
  },
  {
   "cell_type": "code",
   "execution_count": null,
   "id": "5c7dd2f4-99af-43ce-bfec-5ad7e29b54fc",
   "metadata": {},
   "outputs": [],
   "source": [
    "# import ast\n",
    "# def custom_tokenizer(s, return_offsets_mapping=True):\n",
    "#     # dic = ast.literal_eval(s)\n",
    "#     print(\"----\")\n",
    "#     print(s)\n",
    "#     print(\"----\")\n",
    "#     if s.strip() > 1:\n",
    "#         return tokenizer(s.split(\"</s>\"), \n",
    "#                          return_offsets_mapping=return_offsets_mapping,\n",
    "#                                           # truncation=\"only_second\",\n",
    "#                                           truncation=True,\n",
    "#                                           max_length=512)\n",
    "#     else:\n",
    "#         return tokenizer(s, \n",
    "#                                  return_offsets_mapping=return_offsets_mapping,\n",
    "#                                                   # truncation=\"only_second\",\n",
    "#                                                   truncation=True,\n",
    "#                                                   max_length=512)        "
   ]
  },
  {
   "cell_type": "code",
   "execution_count": null,
   "id": "1d6f0736-dc73-46e2-be12-312983316a2c",
   "metadata": {},
   "outputs": [],
   "source": [
    "# from transformers import TextClassificationPipeline\n",
    "\n",
    "# class MyPipeline(TextClassificationPipeline):\n",
    "#     def preprocess(self, inputs, truncation=\"only_second\",max_length=512, **tokenizer_kwargs):\n",
    "#         '''inputs here is only one example!!\n",
    "#         '''\n",
    "#         return_tensors = self.framework\n",
    "#         # print(inputs)\n",
    "#         # print(\"\\n------------------\\n\")\n",
    "#         # if isinstance(inputs, dict):\n",
    "#         #     return self.tokenizer(**inputs, return_tensors=return_tensors, \n",
    "#         #                           # truncation=\"only_second\",\n",
    "#         #                           truncation=True,\n",
    "#         #                           max_length=512, \n",
    "#         #                           **tokenizer_kwargs)\n",
    "#         # elif isinstance(inputs, list) and len(inputs) == 1 and isinstance(inputs[0], list) and len(inputs[0]) == 2:\n",
    "#         #     # It used to be valid to use a list of list of list for text pairs, keeping this path for BC\n",
    "#         #     return self.tokenizer(\n",
    "#         #         text=inputs[0][0], text_pair=inputs[0][1], return_tensors=return_tensors,truncation=True,max_length=512,\n",
    "#         #         **tokenizer_kwargs\n",
    "#         #     )\n",
    "#         # elif isinstance(inputs, list):\n",
    "#         #     # This is likely an invalid usage of the pipeline attempting to pass text pairs.\n",
    "#         #     raise ValueError(\n",
    "#         #         \"The pipeline received invalid inputs, if you are trying to send text pairs, you can try to send a\"\n",
    "#         #         ' dictionnary `{\"text\": \"My text\", \"text_pair\": \"My pair\"}` in order to send a text pair.'\n",
    "#         #     )\n",
    "#         return self.tokenizer(inputs, return_tensors=return_tensors,\n",
    "#                               truncation=True,\n",
    "#                               max_length=512,\n",
    "#                               **tokenizer_kwargs)\n"
   ]
  },
  {
   "cell_type": "code",
   "execution_count": null,
   "id": "a95c4294-e8df-49ef-a2a8-ede5a14f6b58",
   "metadata": {},
   "outputs": [],
   "source": [
    "# pred = transformers.pipeline(\"text-classification\", model=model, tokenizer=tokenizer, device=0, top_k=None)"
   ]
  }
 ],
 "metadata": {
  "kernelspec": {
   "display_name": "Python 3 (ipykernel)",
   "language": "python",
   "name": "python3"
  },
  "language_info": {
   "codemirror_mode": {
    "name": "ipython",
    "version": 3
   },
   "file_extension": ".py",
   "mimetype": "text/x-python",
   "name": "python",
   "nbconvert_exporter": "python",
   "pygments_lexer": "ipython3",
   "version": "3.9.13"
  }
 },
 "nbformat": 4,
 "nbformat_minor": 5
}
