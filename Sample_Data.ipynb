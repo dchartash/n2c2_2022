{
 "cells": [
  {
   "cell_type": "code",
   "execution_count": 1,
   "id": "a99ae24d-a494-4001-baf4-8d00bd91fa6c",
   "metadata": {},
   "outputs": [],
   "source": [
    "%load_ext autoreload\n",
    "%autoreload 2"
   ]
  },
  {
   "cell_type": "code",
   "execution_count": 2,
   "id": "6ca9073a",
   "metadata": {},
   "outputs": [],
   "source": [
    "import pandas as pd \n",
    "import numpy as np\n",
    "from preprocessing.cleaning_utils import *\n",
    "from functools import partial\n",
    "import torch \n",
    "\n",
    "from datasets import load_dataset\n",
    "from datasets import Value, ClassLabel, Features, DatasetDict\n",
    "import transformers\n",
    "from transformers import AutoTokenizer, AutoModel, AutoModelForMaskedLM, AutoModelForSequenceClassification\n",
    "from transformers import DataCollatorWithPadding\n",
    "from transformers import logging\n",
    "from transformers import TrainingArguments, Trainer\n",
    "\n",
    "logging.set_verbosity_warning()"
   ]
  },
  {
   "cell_type": "code",
   "execution_count": null,
   "id": "11c4f12b-0788-4c85-ba74-4c8e5d06fbf5",
   "metadata": {},
   "outputs": [],
   "source": []
  },
  {
   "cell_type": "code",
   "execution_count": 3,
   "id": "02011b8f-4e31-403b-9d3b-3bc02c779929",
   "metadata": {
    "scrolled": true
   },
   "outputs": [],
   "source": [
    "# !python -m torch.utils.collect_env"
   ]
  },
  {
   "cell_type": "code",
   "execution_count": 4,
   "id": "7367c7f6-5b97-4b22-964a-bce4eee7e5d8",
   "metadata": {},
   "outputs": [
    {
     "data": {
      "text/plain": [
       "device(type='cuda')"
      ]
     },
     "execution_count": 4,
     "metadata": {},
     "output_type": "execute_result"
    }
   ],
   "source": [
    "device = torch.device(\"cuda\") if torch.cuda.is_available() else torch.device(\"cpu\")\n",
    "device"
   ]
  },
  {
   "cell_type": "code",
   "execution_count": null,
   "id": "e3e4894f-bd82-40cf-8ea5-e6e34750d070",
   "metadata": {},
   "outputs": [],
   "source": []
  },
  {
   "cell_type": "code",
   "execution_count": 5,
   "id": "82b75e6e",
   "metadata": {},
   "outputs": [],
   "source": [
    "mimic_dir = \"/home/vs428/project/MIMIC/files/mimiciii/1.4/\"\n",
    "n2c2_dir = \"/home/vs428/project/n2c2/2022/N2C2-AP-Reasoning/\"\n",
    "n2c2_data_dir =  \"/home/vs428/project/n2c2/2022/Data/\"\n"
   ]
  },
  {
   "cell_type": "code",
   "execution_count": null,
   "id": "dbfd91c0",
   "metadata": {},
   "outputs": [],
   "source": [
    "samples = pd.read_csv(n2c2_dir + \"n2c2_sample.csv\")\n",
    "samples_raw = pd.read_csv(n2c2_dir + \"n2c2_sample_raw.csv\")"
   ]
  },
  {
   "cell_type": "code",
   "execution_count": null,
   "id": "29d1f30f-f949-4674-9e7a-b3f72df35aa8",
   "metadata": {},
   "outputs": [],
   "source": [
    "\n",
    "# classes = ['Not Relevant', 'Neither', 'Indirect', 'Direct']\n",
    "# features = Features({\n",
    "#     'ROW ID':Value(\"int64\"),\n",
    "#     'HADM ID':Value(\"int64\"),\n",
    "#     'Assessment':Value(\"string\"),\n",
    "#     'PlanSubsection':Value(\"string\"),\n",
    "#     \"Relation\":Value(\"string\")\n",
    "# }) \n",
    "# dataset = load_dataset(\"csv\", data_files=n2c2_dir + \"n2c2_sample_raw.csv\", \n",
    "#                        features=features)\n",
    "# dataset = dataset.class_encode_column(\"Relation\")\n",
    "# dataset = dataset.rename_column(\"Relation\", \"label\")"
   ]
  },
  {
   "cell_type": "code",
   "execution_count": null,
   "id": "8eccde34-98c5-405c-a6ca-2e837e08d031",
   "metadata": {},
   "outputs": [],
   "source": []
  },
  {
   "cell_type": "code",
   "execution_count": null,
   "id": "ce76fc2b-aee6-4084-bfbe-e08b1cf06b48",
   "metadata": {},
   "outputs": [],
   "source": []
  },
  {
   "cell_type": "code",
   "execution_count": null,
   "id": "063c05f7-cf1a-4727-b3e8-5d21aa09f32c",
   "metadata": {},
   "outputs": [],
   "source": []
  },
  {
   "cell_type": "code",
   "execution_count": null,
   "id": "e72d98fd",
   "metadata": {},
   "outputs": [],
   "source": []
  },
  {
   "cell_type": "code",
   "execution_count": 6,
   "id": "4acd8952-99d2-4215-8ceb-4490325d9bb7",
   "metadata": {},
   "outputs": [
    {
     "name": "stderr",
     "output_type": "stream",
     "text": [
      "Using custom data configuration default-b1948d86214b7517\n",
      "Reusing dataset csv (/home/vs428/.cache/huggingface/datasets/csv/default-b1948d86214b7517/0.0.0/433e0ccc46f9880962cc2b12065189766fbb2bee57a221866138fb9203c83519)\n"
     ]
    },
    {
     "data": {
      "application/vnd.jupyter.widget-view+json": {
       "model_id": "1586d77edc3d463590a2ff484bbab1dc",
       "version_major": 2,
       "version_minor": 0
      },
      "text/plain": [
       "  0%|          | 0/2 [00:00<?, ?it/s]"
      ]
     },
     "metadata": {},
     "output_type": "display_data"
    },
    {
     "name": "stderr",
     "output_type": "stream",
     "text": [
      "Loading cached processed dataset at /home/vs428/.cache/huggingface/datasets/csv/default-b1948d86214b7517/0.0.0/433e0ccc46f9880962cc2b12065189766fbb2bee57a221866138fb9203c83519/cache-61f06d309abebffe.arrow\n",
      "Loading cached processed dataset at /home/vs428/.cache/huggingface/datasets/csv/default-b1948d86214b7517/0.0.0/433e0ccc46f9880962cc2b12065189766fbb2bee57a221866138fb9203c83519/cache-db00bc55293d3377.arrow\n",
      "Loading cached processed dataset at /home/vs428/.cache/huggingface/datasets/csv/default-b1948d86214b7517/0.0.0/433e0ccc46f9880962cc2b12065189766fbb2bee57a221866138fb9203c83519/cache-9019b65120396e78.arrow\n",
      "Loading cached processed dataset at /home/vs428/.cache/huggingface/datasets/csv/default-b1948d86214b7517/0.0.0/433e0ccc46f9880962cc2b12065189766fbb2bee57a221866138fb9203c83519/cache-cadbd3a7f24393c8.arrow\n"
     ]
    }
   ],
   "source": [
    "classes = ['Not Relevant', 'Neither', 'Indirect', 'Direct']\n",
    "features = Features({\n",
    "    'ROW ID':Value(\"int64\"),\n",
    "    'HADM ID':Value(\"int64\"),\n",
    "    'Assessment':Value(\"string\"),\n",
    "    'Plan Subsection':Value(\"string\"),\n",
    "    \"Relation\":Value(\"string\")\n",
    "}) \n",
    "\n",
    "dataset = load_dataset(\"csv\", data_files={\n",
    "                            \"train\":n2c2_data_dir + \"train.csv\",\n",
    "                            \"valid\":n2c2_data_dir + \"dev.csv\",\n",
    "                        },\n",
    "\n",
    "                       features=features)\n",
    "dataset = dataset.class_encode_column(\"Relation\")\n",
    "dataset = dataset.rename_column(\"Relation\", \"label\")"
   ]
  },
  {
   "cell_type": "code",
   "execution_count": 7,
   "id": "9cd9f7ed-d488-493f-8163-73e295a286a8",
   "metadata": {},
   "outputs": [
    {
     "data": {
      "text/plain": [
       "{'ROW ID': 711150,\n",
       " 'HADM ID': 183333,\n",
       " 'Assessment': '75 yo M with h/o cardiomyopahy (EF 15%), atrial fibrillation, pulmonary\\n   embolism (on coumadin), adrenal insufficiency, and s/p several recent\\n   admissions following episode of Klebsilella pneumonia complicated by\\n   respiratory failure and septic shock. Presents to hospital with\\n   syncope, hypoxia, hypotension and altered mental status.',\n",
       " 'Plan Subsection': '# Adrenal insufficiency:\\n   Patient on 10 mg hydrocortisone at home.\\n   - Increase to 50 mg hydrocortisone given stress of acute illness (day 2\\n   today)',\n",
       " 'label': 1}"
      ]
     },
     "execution_count": 7,
     "metadata": {},
     "output_type": "execute_result"
    }
   ],
   "source": [
    "dataset['train'][23]"
   ]
  },
  {
   "cell_type": "code",
   "execution_count": 8,
   "id": "7f5268aa-f043-42f4-871e-d462c00a25f7",
   "metadata": {},
   "outputs": [],
   "source": [
    "# # split dataset: 80% train, 10% validation, 10% test \n",
    "# train_testvalid = dataset['train'].train_test_split(test_size=0.2)\n",
    "# # test_valid = train_testvalid['test'].train_test_split(test_size=0.5)\n",
    "# split_dataset = DatasetDict({\n",
    "#     'train': train_testvalid['train'],\n",
    "#     'valid': test_valid['train'],\n",
    "#     # 'test': test_valid['test'],\n",
    "# })\n",
    "\n"
   ]
  },
  {
   "cell_type": "code",
   "execution_count": null,
   "id": "65d9151f-01ba-4d04-92af-7ebf06d92dea",
   "metadata": {},
   "outputs": [],
   "source": []
  },
  {
   "cell_type": "code",
   "execution_count": null,
   "id": "a34f2db0-8e1c-4790-93b0-1e9661a6cac4",
   "metadata": {},
   "outputs": [],
   "source": []
  },
  {
   "cell_type": "code",
   "execution_count": 9,
   "id": "e7ca12eb-29c2-4ccb-a985-ad3fe8772b74",
   "metadata": {
    "scrolled": true,
    "tags": []
   },
   "outputs": [],
   "source": [
    "bio_clinicalbert_tokenizer = AutoTokenizer.from_pretrained(\"emilyalsentzer/Bio_ClinicalBERT\")"
   ]
  },
  {
   "cell_type": "code",
   "execution_count": null,
   "id": "895383a0-5b3c-45fc-8e2e-435400402777",
   "metadata": {},
   "outputs": [],
   "source": []
  },
  {
   "cell_type": "code",
   "execution_count": null,
   "id": "69c9cf86-6e09-4ce7-aa6b-ad74d30bb9ca",
   "metadata": {},
   "outputs": [],
   "source": []
  },
  {
   "cell_type": "markdown",
   "id": "386f6daa-baf9-4f7e-b817-0349a6a81788",
   "metadata": {},
   "source": [
    "# Train Model"
   ]
  },
  {
   "cell_type": "code",
   "execution_count": 10,
   "id": "563c1b93-0e63-4369-bfe6-9325d0e24777",
   "metadata": {
    "tags": []
   },
   "outputs": [
    {
     "name": "stderr",
     "output_type": "stream",
     "text": [
      "Some weights of the model checkpoint at emilyalsentzer/Bio_ClinicalBERT were not used when initializing BertForSequenceClassification: ['cls.predictions.transform.dense.weight', 'cls.predictions.bias', 'cls.predictions.decoder.weight', 'cls.seq_relationship.bias', 'cls.predictions.transform.dense.bias', 'cls.seq_relationship.weight', 'cls.predictions.transform.LayerNorm.bias', 'cls.predictions.transform.LayerNorm.weight']\n",
      "- This IS expected if you are initializing BertForSequenceClassification from the checkpoint of a model trained on another task or with another architecture (e.g. initializing a BertForSequenceClassification model from a BertForPreTraining model).\n",
      "- This IS NOT expected if you are initializing BertForSequenceClassification from the checkpoint of a model that you expect to be exactly identical (initializing a BertForSequenceClassification model from a BertForSequenceClassification model).\n",
      "Some weights of BertForSequenceClassification were not initialized from the model checkpoint at emilyalsentzer/Bio_ClinicalBERT and are newly initialized: ['classifier.bias', 'classifier.weight']\n",
      "You should probably TRAIN this model on a down-stream task to be able to use it for predictions and inference.\n"
     ]
    }
   ],
   "source": [
    "bio_clinicalbert_model = AutoModelForSequenceClassification.from_pretrained(\"emilyalsentzer/Bio_ClinicalBERT\", num_labels=4)"
   ]
  },
  {
   "cell_type": "code",
   "execution_count": 11,
   "id": "85879177-02d1-46a2-bcce-3520a2f1c085",
   "metadata": {},
   "outputs": [],
   "source": [
    "training_args = TrainingArguments(output_dir=\"test_trainer\", \n",
    "                                  evaluation_strategy=\"epoch\",\n",
    "                                  \n",
    ")"
   ]
  },
  {
   "cell_type": "code",
   "execution_count": 12,
   "id": "69ccff92-9054-43ec-ad3f-5a5d8dc885c2",
   "metadata": {},
   "outputs": [],
   "source": [
    "import numpy as np\n",
    "from datasets import load_metric\n",
    "\n",
    "acc = load_metric(\"accuracy\")\n",
    "macrof1 = load_metric(\"f1\")"
   ]
  },
  {
   "cell_type": "code",
   "execution_count": 13,
   "id": "c6ed1610-ebd2-4090-90b8-e5a4c572f5a6",
   "metadata": {},
   "outputs": [],
   "source": [
    "def compute_metrics(eval_pred):\n",
    "    logits, labels = eval_pred\n",
    "    predictions = np.argmax(logits, axis=-1)\n",
    "    return {\"accuracy\":acc.compute(predictions=predictions, references=labels),\n",
    "            \"f1-macro\":macrof1.compute(predictions=predictions, references=labels, \n",
    "                                       average=\"macro\")}"
   ]
  },
  {
   "cell_type": "code",
   "execution_count": 14,
   "id": "0eb9607b-dbdb-4644-aa30-588cc74e3cf2",
   "metadata": {},
   "outputs": [],
   "source": [
    "def tokenize_function(examples):\n",
    "    return bio_clinicalbert_tokenizer(examples['Assessment'], examples['Plan Subsection'],\n",
    "                                      truncation=\"longest_first\",\n",
    "                                      max_length=512,\n",
    "                                      verbose=True)\n",
    "                    \n"
   ]
  },
  {
   "cell_type": "code",
   "execution_count": 15,
   "id": "6839c03e-6eee-4047-a5c8-db0d711a719d",
   "metadata": {},
   "outputs": [
    {
     "name": "stderr",
     "output_type": "stream",
     "text": [
      "Loading cached processed dataset at /home/vs428/.cache/huggingface/datasets/csv/default-b1948d86214b7517/0.0.0/433e0ccc46f9880962cc2b12065189766fbb2bee57a221866138fb9203c83519/cache-3942956ec260f7ce.arrow\n",
      "Loading cached processed dataset at /home/vs428/.cache/huggingface/datasets/csv/default-b1948d86214b7517/0.0.0/433e0ccc46f9880962cc2b12065189766fbb2bee57a221866138fb9203c83519/cache-951b17d1e7bb78b3.arrow\n"
     ]
    }
   ],
   "source": [
    "dataset = dataset.map(tokenize_function, batched=True)"
   ]
  },
  {
   "cell_type": "code",
   "execution_count": null,
   "id": "aab72838-2956-42b6-9757-8aa5b1b4ab11",
   "metadata": {},
   "outputs": [],
   "source": []
  },
  {
   "cell_type": "code",
   "execution_count": 16,
   "id": "e13b326e-f053-49ac-af07-430731ba92cd",
   "metadata": {
    "tags": []
   },
   "outputs": [
    {
     "data": {
      "text/plain": [
       "'[CLS] alteration in nutrition, arousal, attention, and cognition, impaired, balance, impaired, gait, impaired, knowledge, impaired, muscle performace, impaired, transfers, impaired, cholecystitis, acalculous, renal failure, end stage ( end stage renal disease, esrd ), [ * * last name 121 * * ] problem - enter description in comments, altered mental status ( not delirium ) assessment and plan : 78yo m with esrd w / acute cholecystitis s / p perc ccy now w / mdr e. coli infected biliary fluid, now new subacute stroke [SEP] neurologic : poor ms d / t cva on coumadin / afib vs. infection. rect in few days. improving. no narcotics / bzds. b carotid stenosis < 40 %. tte w / o thrombus. [SEP]'"
      ]
     },
     "execution_count": 16,
     "metadata": {},
     "output_type": "execute_result"
    }
   ],
   "source": [
    "bio_clinicalbert_tokenizer.decode(dataset['valid'][52]['input_ids'])"
   ]
  },
  {
   "cell_type": "code",
   "execution_count": 17,
   "id": "7112cb7e-ea07-45ea-bafd-a449c2f0d6f1",
   "metadata": {},
   "outputs": [],
   "source": [
    "dataset['train'].set_format(type='torch', columns=['input_ids', 'token_type_ids', 'attention_mask', 'label'])\n",
    "dataset['valid'].set_format(type='torch', columns=['input_ids', 'token_type_ids', 'attention_mask', 'label'])"
   ]
  },
  {
   "cell_type": "code",
   "execution_count": null,
   "id": "cc56a9b2-2952-40e0-abca-3053634a3b0f",
   "metadata": {},
   "outputs": [],
   "source": []
  },
  {
   "cell_type": "code",
   "execution_count": null,
   "id": "3d2ade4c-0c45-4e44-ab3b-b8fde4d355ea",
   "metadata": {},
   "outputs": [],
   "source": []
  },
  {
   "cell_type": "code",
   "execution_count": null,
   "id": "9a23ec32-f185-4b65-b592-a1a71628c8e8",
   "metadata": {},
   "outputs": [],
   "source": []
  },
  {
   "cell_type": "code",
   "execution_count": 18,
   "id": "088ad767-bf58-4c10-a6a8-6c1f896fefd0",
   "metadata": {},
   "outputs": [],
   "source": [
    "data_collator = DataCollatorWithPadding(bio_clinicalbert_tokenizer,\n",
    "                                        max_length=512, \n",
    "                                        padding=\"max_length\",\n",
    "                                        return_tensors=\"pt\" )"
   ]
  },
  {
   "cell_type": "code",
   "execution_count": null,
   "id": "500ea644",
   "metadata": {},
   "outputs": [],
   "source": []
  },
  {
   "cell_type": "code",
   "execution_count": 19,
   "id": "4bb5d832-22f1-4e47-a490-7d47e0b8f86d",
   "metadata": {},
   "outputs": [],
   "source": [
    "trainer = Trainer(\n",
    "    model=bio_clinicalbert_model,\n",
    "    args=training_args,\n",
    "    train_dataset=dataset['train'],\n",
    "    eval_dataset=dataset['valid'],\n",
    "    compute_metrics=compute_metrics,\n",
    "    data_collator=data_collator,\n",
    ")"
   ]
  },
  {
   "cell_type": "code",
   "execution_count": 20,
   "id": "4dee866e-8a8e-4080-b979-5e507517d7f1",
   "metadata": {},
   "outputs": [
    {
     "name": "stderr",
     "output_type": "stream",
     "text": [
      "The following columns in the training set  don't have a corresponding argument in `BertForSequenceClassification.forward` and have been ignored: Assessment, ROW ID, HADM ID, Plan Subsection.\n",
      "/gpfs/ysm/project/rtaylor/vs428/conda_envs/myenv/lib/python3.10/site-packages/transformers/optimization.py:306: FutureWarning: This implementation of AdamW is deprecated and will be removed in a future version. Use thePyTorch implementation torch.optim.AdamW instead, or set `no_deprecation_warning=True` to disable this warning\n",
      "  warnings.warn(\n",
      "***** Running training *****\n",
      "  Num examples = 4633\n",
      "  Num Epochs = 3\n",
      "  Instantaneous batch size per device = 8\n",
      "  Total train batch size (w. parallel, distributed & accumulation) = 8\n",
      "  Gradient Accumulation steps = 1\n",
      "  Total optimization steps = 1740\n"
     ]
    },
    {
     "data": {
      "text/html": [
       "\n",
       "    <div>\n",
       "      \n",
       "      <progress value='1740' max='1740' style='width:300px; height:20px; vertical-align: middle;'></progress>\n",
       "      [1740/1740 13:40, Epoch 3/3]\n",
       "    </div>\n",
       "    <table border=\"1\" class=\"dataframe\">\n",
       "  <thead>\n",
       " <tr style=\"text-align: left;\">\n",
       "      <th>Epoch</th>\n",
       "      <th>Training Loss</th>\n",
       "      <th>Validation Loss</th>\n",
       "      <th>Accuracy</th>\n",
       "      <th>F1-macro</th>\n",
       "    </tr>\n",
       "  </thead>\n",
       "  <tbody>\n",
       "    <tr>\n",
       "      <td>1</td>\n",
       "      <td>0.715300</td>\n",
       "      <td>0.597065</td>\n",
       "      <td>{'accuracy': 0.7487437185929648}</td>\n",
       "      <td>{'f1': 0.766732642338792}</td>\n",
       "    </tr>\n",
       "    <tr>\n",
       "      <td>2</td>\n",
       "      <td>0.457600</td>\n",
       "      <td>0.672382</td>\n",
       "      <td>{'accuracy': 0.7805695142378559}</td>\n",
       "      <td>{'f1': 0.7940059075142675}</td>\n",
       "    </tr>\n",
       "    <tr>\n",
       "      <td>3</td>\n",
       "      <td>0.301700</td>\n",
       "      <td>0.918875</td>\n",
       "      <td>{'accuracy': 0.7671691792294807}</td>\n",
       "      <td>{'f1': 0.7860078751767712}</td>\n",
       "    </tr>\n",
       "  </tbody>\n",
       "</table><p>"
      ],
      "text/plain": [
       "<IPython.core.display.HTML object>"
      ]
     },
     "metadata": {},
     "output_type": "display_data"
    },
    {
     "name": "stderr",
     "output_type": "stream",
     "text": [
      "Saving model checkpoint to test_trainer/checkpoint-500\n",
      "Configuration saved in test_trainer/checkpoint-500/config.json\n",
      "Model weights saved in test_trainer/checkpoint-500/pytorch_model.bin\n",
      "The following columns in the evaluation set  don't have a corresponding argument in `BertForSequenceClassification.forward` and have been ignored: Assessment, ROW ID, HADM ID, Plan Subsection.\n",
      "***** Running Evaluation *****\n",
      "  Num examples = 597\n",
      "  Batch size = 8\n",
      "Saving model checkpoint to test_trainer/checkpoint-1000\n",
      "Configuration saved in test_trainer/checkpoint-1000/config.json\n",
      "Model weights saved in test_trainer/checkpoint-1000/pytorch_model.bin\n",
      "The following columns in the evaluation set  don't have a corresponding argument in `BertForSequenceClassification.forward` and have been ignored: Assessment, ROW ID, HADM ID, Plan Subsection.\n",
      "***** Running Evaluation *****\n",
      "  Num examples = 597\n",
      "  Batch size = 8\n",
      "Saving model checkpoint to test_trainer/checkpoint-1500\n",
      "Configuration saved in test_trainer/checkpoint-1500/config.json\n",
      "Model weights saved in test_trainer/checkpoint-1500/pytorch_model.bin\n",
      "The following columns in the evaluation set  don't have a corresponding argument in `BertForSequenceClassification.forward` and have been ignored: Assessment, ROW ID, HADM ID, Plan Subsection.\n",
      "***** Running Evaluation *****\n",
      "  Num examples = 597\n",
      "  Batch size = 8\n",
      "\n",
      "\n",
      "Training completed. Do not forget to share your model on huggingface.co/models =)\n",
      "\n",
      "\n"
     ]
    },
    {
     "data": {
      "text/plain": [
       "TrainOutput(global_step=1740, training_loss=0.45485844447694973, metrics={'train_runtime': 821.007, 'train_samples_per_second': 16.929, 'train_steps_per_second': 2.119, 'total_flos': 3657046227554304.0, 'train_loss': 0.45485844447694973, 'epoch': 3.0})"
      ]
     },
     "execution_count": 20,
     "metadata": {},
     "output_type": "execute_result"
    }
   ],
   "source": [
    "trainer.train()"
   ]
  },
  {
   "cell_type": "code",
   "execution_count": null,
   "id": "8eeed054-c6f7-4f8f-bdff-5221ab02fb5f",
   "metadata": {},
   "outputs": [],
   "source": []
  },
  {
   "cell_type": "code",
   "execution_count": null,
   "id": "3ecbb1da-bf41-4bbf-9ab6-929508d23734",
   "metadata": {},
   "outputs": [],
   "source": []
  },
  {
   "cell_type": "code",
   "execution_count": null,
   "id": "3b1bd5fe-4f36-40c1-9489-e090d13459f0",
   "metadata": {},
   "outputs": [],
   "source": []
  },
  {
   "cell_type": "code",
   "execution_count": null,
   "id": "b1db028a-d720-4d6a-90f7-68496e30fc5e",
   "metadata": {},
   "outputs": [],
   "source": []
  },
  {
   "cell_type": "code",
   "execution_count": null,
   "id": "185d3c60-7baa-4ad1-99f7-5ba932659495",
   "metadata": {},
   "outputs": [],
   "source": []
  },
  {
   "cell_type": "code",
   "execution_count": null,
   "id": "fad57318-b1ef-4572-867c-ef124cdce434",
   "metadata": {},
   "outputs": [],
   "source": []
  },
  {
   "cell_type": "code",
   "execution_count": null,
   "id": "3eee59e8",
   "metadata": {},
   "outputs": [],
   "source": []
  },
  {
   "cell_type": "code",
   "execution_count": null,
   "id": "1e99c012",
   "metadata": {},
   "outputs": [],
   "source": []
  },
  {
   "cell_type": "code",
   "execution_count": null,
   "id": "69710366",
   "metadata": {},
   "outputs": [],
   "source": []
  }
 ],
 "metadata": {
  "kernelspec": {
   "display_name": "Python 3 (ipykernel)",
   "language": "python",
   "name": "python3"
  },
  "language_info": {
   "codemirror_mode": {
    "name": "ipython",
    "version": 3
   },
   "file_extension": ".py",
   "mimetype": "text/x-python",
   "name": "python",
   "nbconvert_exporter": "python",
   "pygments_lexer": "ipython3",
   "version": "3.10.4"
  },
  "latex_envs": {
   "LaTeX_envs_menu_present": true,
   "autoclose": false,
   "autocomplete": true,
   "bibliofile": "biblio.bib",
   "cite_by": "apalike",
   "current_citInitial": 1,
   "eqLabelWithNumbers": true,
   "eqNumInitial": 1,
   "hotkeys": {
    "equation": "Ctrl-E",
    "itemize": "Ctrl-I"
   },
   "labels_anchors": false,
   "latex_user_defs": false,
   "report_style_numbering": false,
   "user_envs_cfg": false
  },
  "toc": {
   "base_numbering": 1,
   "nav_menu": {},
   "number_sections": true,
   "sideBar": true,
   "skip_h1_title": false,
   "title_cell": "Table of Contents",
   "title_sidebar": "Contents",
   "toc_cell": false,
   "toc_position": {},
   "toc_section_display": true,
   "toc_window_display": false
  }
 },
 "nbformat": 4,
 "nbformat_minor": 5
}
